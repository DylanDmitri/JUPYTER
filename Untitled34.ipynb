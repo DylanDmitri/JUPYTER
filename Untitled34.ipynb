{
 "cells": [
  {
   "cell_type": "code",
   "execution_count": 1,
   "metadata": {},
   "outputs": [],
   "source": [
    "import numpy as np"
   ]
  },
  {
   "cell_type": "code",
   "execution_count": 20,
   "metadata": {},
   "outputs": [
    {
     "name": "stdout",
     "output_type": "stream",
     "text": [
      "+{A} blink\n",
      "     3dmg\n",
      "     2x2dmg\n",
      "     1dmg\n",
      "+{A} 1dmg\n"
     ]
    }
   ],
   "source": [
    "deck = [\n",
    "    '+{A} blink', '+{A} blink', '+{A} blink',\n",
    "    '+(C) counterspell', '+(C)  counterspell',\n",
    "    '     trigger cascade',\n",
    "    '     refresh',\n",
    "    '     3dmg',\n",
    "    '     2x2dmg',\n",
    "    '+[H] clunky',\n",
    "    '     1dmg', '     1dmg',\n",
    "    '     1dmg',\n",
    "    '     snack', '     snack',\n",
    "    '+[HA}', '+(CA}', '+{A} 1dmg'\n",
    "]\n",
    "\n",
    "hand = np.random.choice(deck, size=5, replace=False)\n",
    "\n",
    "for _ in hand:\n",
    "    print(_)"
   ]
  },
  {
   "cell_type": "code",
   "execution_count": 41,
   "metadata": {},
   "outputs": [
    {
     "name": "stdout",
     "output_type": "stream",
     "text": [
      "0.06587\n"
     ]
    }
   ],
   "source": [
    "deck = [*['no']*16, *['yes']*2]\n",
    "\n",
    "def check():\n",
    "    hand = np.random.choice(deck, size=5, replace=False)\n",
    "    return tuple(hand).count('yes') >= 2\n",
    "\n",
    "trials = 100_000\n",
    "\n",
    "outcomes = sum(check() for _ in range(trials))\n",
    "print(outcomes / trials)\n"
   ]
  },
  {
   "cell_type": "code",
   "execution_count": 22,
   "metadata": {},
   "outputs": [
    {
     "data": {
      "text/plain": [
       "['no',\n",
       " 'no',\n",
       " 'no',\n",
       " 'no',\n",
       " 'no',\n",
       " 'no',\n",
       " 'no',\n",
       " 'no',\n",
       " 'no',\n",
       " 'no',\n",
       " 'no',\n",
       " 'no',\n",
       " 'no',\n",
       " 'no',\n",
       " 'no',\n",
       " 'no',\n",
       " 'yes',\n",
       " 'yes']"
      ]
     },
     "execution_count": 22,
     "metadata": {},
     "output_type": "execute_result"
    }
   ],
   "source": [
    "deck"
   ]
  }
 ],
 "metadata": {
  "kernelspec": {
   "display_name": "Python 3",
   "language": "python",
   "name": "python3"
  },
  "language_info": {
   "codemirror_mode": {
    "name": "ipython",
    "version": 3
   },
   "file_extension": ".py",
   "mimetype": "text/x-python",
   "name": "python",
   "nbconvert_exporter": "python",
   "pygments_lexer": "ipython3",
   "version": "3.7.3"
  }
 },
 "nbformat": 4,
 "nbformat_minor": 2
}
