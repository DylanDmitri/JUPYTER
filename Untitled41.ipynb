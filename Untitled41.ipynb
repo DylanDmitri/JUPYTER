{
 "cells": [
  {
   "cell_type": "code",
   "execution_count": 1,
   "metadata": {},
   "outputs": [],
   "source": [
    "import random"
   ]
  },
  {
   "cell_type": "code",
   "execution_count": 2,
   "metadata": {},
   "outputs": [],
   "source": [
    "builtin = [\n",
    "    'GMS CORE       :: +CHA',\n",
    "    'FUEL INJECTORS :: +A. Play your next card, then draw two.',\n",
    "    'SPARE PARTS    :: +H. When you would scrap another card, scrap me instead'\n",
    "    # reaction(action.scrap, zone.any, replacement(action.scrap(target=me)))\n",
    "]\n",
    "\n",
    "gms_armor = [  #!!!!\n",
    "    'ABLATIVE ARMOR :: +H, reaction -- when you would take damage, reduce that damage by 2, then scrap me',\n",
    "    'STEEL ARMOR    :: +HH',\n",
    "    'HEAVY ARMOR    :: +HHH, -A',\n",
    "]\n",
    "\n",
    "gms_boost_boots = [\n",
    "    'JET BBOOSTER   :: +AA, whenever you dodge an attack take 1 heat',\n",
    "    'SIDESTEP       :: +A'\n",
    "    'SIDESTEP       :: +A'\n",
    "]\n",
    "\n",
    "gms_targetting_computer = [\n",
    "    'IDENTIFY WEAKNESS :: +C, CPU v CPU to increase your next instance of damage against target by 1',\n",
    "    'TARGET LOCK       :: +C, CPU v CPU for +2 accuracy on your next attempt to hit target',\n",
    "    'BIT SCRAMBLE      :: +C, CPU v CPU for target to discard a random card',\n",
    "]\n",
    "\n",
    "gms_pistol = [\n",
    "    'SHOOT          :: Melee/Close range. +2 vs AGI, 2 damage.',\n",
    "    'SHOOT          :: Melee/Close range. +2 vs AGI, 2 damage.',\n",
    "    'RELOAD         :: Unplayable. Starts at the bottom of your deck.',   \n",
    "]\n",
    "\n",
    "gms_tac_knife = [\n",
    "    'STAB           :: Melee range. AGI vs AGI, 1 armor-piercing damage',\n",
    "    'STAB           :: Melee range. AGI vs AGI, 2 armor-piercing damage',\n",
    "    'SIDESTEP       :: +A',\n",
    "]\n",
    "\n",
    "gms_assault_rifle = [\n",
    "    'SNIPE          :: +C, Mid/Long range. CPU vs AGI, 2 damage',\n",
    "    'SNIPE          :: +C, Mid/Long range. CPU vs AGI, 2 damage',\n",
    "    'BURST FIRE     ::     Close/Mid range, +2 vs AGI for 2 damage, +3 vs AGI for 1 damage',\n",
    "    'BURST FIRE     ::     Close/Mid range, +2 vs AGI for 2 damage, +3 vs AGI for 1 damage',\n",
    "    'BURST FIRE     ::     Close/Mid range, +2 vs AGI for 2 damage, +3 vs AGI for 1 damage',\n",
    "    'RELOAD         :: Unplayable. Starts at the bottom of your deck.',\n",
    "]\n",
    "\n",
    "gms_clobbering_hammer = [\n",
    "    '?'\n",
    "]"
   ]
  },
  {
   "cell_type": "code",
   "execution_count": 3,
   "metadata": {},
   "outputs": [],
   "source": [
    "class StatBlock:\n",
    "    def __init__(self, cpu=0, hull=0, agi=0):\n",
    "        self.cpu = cpu\n",
    "        self.hull = hull\n",
    "        self.agi = agi\n",
    "    \n",
    "    def __add__(self, other):\n",
    "        return StatBlock(self.cpu+other.cpu, self.hull+other.hull, self.agi+other.agi)\n",
    "    \n",
    "class Zone:\n",
    "    Deck = 0\n",
    "    Hand = 1\n",
    "    Discard = 2\n",
    "    \n",
    "class Card:\n",
    "    def __init__(self, stats, action=None, reaction=None):\n",
    "        self.stats = stats\n",
    "        self.reaction = reaction\n",
    "        "
   ]
  },
  {
   "cell_type": "code",
   "execution_count": 4,
   "metadata": {},
   "outputs": [
    {
     "ename": "SyntaxError",
     "evalue": "invalid syntax (<ipython-input-4-27c93bb64b56>, line 20)",
     "output_type": "error",
     "traceback": [
      "\u001b[1;36m  File \u001b[1;32m\"<ipython-input-4-27c93bb64b56>\"\u001b[1;36m, line \u001b[1;32m20\u001b[0m\n\u001b[1;33m    Card(Statblock(hull=2))\u001b[0m\n\u001b[1;37m       ^\u001b[0m\n\u001b[1;31mSyntaxError\u001b[0m\u001b[1;31m:\u001b[0m invalid syntax\n"
     ]
    }
   ],
   "source": [
    "# gms_armor = \n",
    "#     'ABLATIVE ARMOR :: +H, reaction -- when you would take damage, reduce that damage by 2, then scrap me',\n",
    "#     'STEEL ARMOR    :: +HH',\n",
    "#     'HEAVY ARMOR    :: +HHH, -A',\n",
    "\n",
    "class AblativeArmor(Reaction):\n",
    "    from_zones = Zone.Hand\n",
    "    \n",
    "    def will_activate(self, gamestate):\n",
    "        return all((\n",
    "            type(gamestate.upnext) is TakeDamageEffect,\n",
    "            gamestate.upnext.target is self.player,\n",
    "            gamestate.upnext.damage >= 1))\n",
    "    \n",
    "    def trigger(self, gamestate):\n",
    "        gamestate.upnext.damage = max(gamestate.upnext.damage - 2, 0)\n",
    "        gamestate.push_action(scrapAction(target=self.card))\n",
    "        \n",
    "    \n",
    "gms_armor = [\n",
    "    Card(Statblock(hull=1), action=AblativeArmor)\n",
    "    Card(Statblock(hull=2))\n",
    "    Card(Statblock(hull=3, agi=-1))\n",
    "]\n",
    "\n",
    "\n",
    "class FuelInjectors(Action):\n",
    "    def act(self, gamestate):\n",
    "        self.player.cards[1].act()\n",
    "        \n",
    "        \n",
    "builtin = [\n",
    "    'GMS CORE       :: +CHA',\n",
    "    'FUEL INJECTORS :: +A. Play your next card, then draw two.',\n",
    "    'SPARE PARTS    :: +H. When you would scrap another card, scrap me instead'\n",
    "    # reaction(action.scrap, zone.any, replacement(action.scrap(target=me)))\n",
    "]"
   ]
  }
 ],
 "metadata": {
  "kernelspec": {
   "display_name": "Python 3",
   "language": "python",
   "name": "python3"
  },
  "language_info": {
   "codemirror_mode": {
    "name": "ipython",
    "version": 3
   },
   "file_extension": ".py",
   "mimetype": "text/x-python",
   "name": "python",
   "nbconvert_exporter": "python",
   "pygments_lexer": "ipython3",
   "version": "3.7.3"
  }
 },
 "nbformat": 4,
 "nbformat_minor": 2
}
