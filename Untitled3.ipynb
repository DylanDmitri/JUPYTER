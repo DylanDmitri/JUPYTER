{
 "cells": [
  {
   "cell_type": "code",
   "execution_count": 188,
   "metadata": {},
   "outputs": [],
   "source": [
    "import numpy as np\n",
    "from random import randint, choice"
   ]
  },
  {
   "cell_type": "code",
   "execution_count": 185,
   "metadata": {},
   "outputs": [
    {
     "data": {
      "text/plain": [
       "2.8000000000000003"
      ]
     },
     "execution_count": 185,
     "metadata": {},
     "output_type": "execute_result"
    }
   ],
   "source": [
    "8.4/3"
   ]
  },
  {
   "cell_type": "code",
   "execution_count": 195,
   "metadata": {},
   "outputs": [
    {
     "data": {
      "text/plain": [
       "4.2875"
      ]
     },
     "execution_count": 195,
     "metadata": {},
     "output_type": "execute_result"
    }
   ],
   "source": [
    "np.mean((1, 1, 1, 2, 3))\n",
    "\n",
    "6.86/1.6"
   ]
  },
  {
   "cell_type": "code",
   "execution_count": 199,
   "metadata": {},
   "outputs": [
    {
     "data": {
      "text/plain": [
       "1.4628"
      ]
     },
     "execution_count": 199,
     "metadata": {},
     "output_type": "execute_result"
    }
   ],
   "source": [
    "def test():\n",
    "    p = print\n",
    "    p = lambda x, **kwargs: None\n",
    "    \n",
    "    broken = 0\n",
    "    \n",
    "    damage = 0\n",
    "    while True:\n",
    "        damage += choice((1, 1, 1, 2, 3))\n",
    "        p(damage, end=' ')\n",
    "        \n",
    "        rolls = np.random.randint(1, 6, damage)\n",
    "        \n",
    "        if list(rolls).count(1) > 1:\n",
    "            p('destroyed')\n",
    "            return broken\n",
    "        \n",
    "        worst = min(rolls)\n",
    "        \n",
    "        if worst in (3,4,5,6):\n",
    "            p('impaired')\n",
    "        elif worst in (2,):\n",
    "#             broken += 1\n",
    "            p('system breaks')\n",
    "        else:\n",
    "            broken += 1\n",
    "            p('stunned')\n",
    "\n",
    "np.mean([test() for _ in range(10000)])"
   ]
  }
 ],
 "metadata": {
  "kernelspec": {
   "display_name": "Python 3",
   "language": "python",
   "name": "python3"
  },
  "language_info": {
   "codemirror_mode": {
    "name": "ipython",
    "version": 3
   },
   "file_extension": ".py",
   "mimetype": "text/x-python",
   "name": "python",
   "nbconvert_exporter": "python",
   "pygments_lexer": "ipython3",
   "version": "3.7.3"
  }
 },
 "nbformat": 4,
 "nbformat_minor": 2
}
