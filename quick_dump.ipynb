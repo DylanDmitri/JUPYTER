{
 "cells": [
  {
   "cell_type": "code",
   "execution_count": 12,
   "metadata": {},
   "outputs": [],
   "source": [
    "from timeit import timeit\n",
    "import matplotlib.pyplot as plt\n",
    "\n",
    "import numpy as np\n",
    "from numpy import mean"
   ]
  },
  {
   "cell_type": "code",
   "execution_count": 66,
   "metadata": {},
   "outputs": [
    {
     "name": "stdout",
     "output_type": "stream",
     "text": [
      "0.0742 for 1000000 trials\n"
     ]
    }
   ],
   "source": [
    "\n",
    "def time(f, trials):\n",
    "    return timeit(f, number=trials)\n",
    "\n",
    "def times_for(f, scale):\n",
    "    xs = [i for i in range(1,5)]\n",
    "    ys = [time(f, x*scale) for x in xs]\n",
    "    return np.array(xs), np.array(ys) \n",
    "\n",
    "def best_fit_slope(xs,ys):\n",
    "    m = (((mean(xs)*mean(ys)) - mean(xs*ys)) /\n",
    "         ((mean(xs)*mean(xs)) - mean(xs*xs)))\n",
    "    return m\n",
    "\n",
    "def show(f, scale):\n",
    "    xs, ys = times_for(f, scale)\n",
    "\n",
    "#     plt.scatter(xs, ys)\n",
    "#     plt.xlim(0, 5)\n",
    "#     plt.ylim(0, 0.5)\n",
    "#     plt.show()\n",
    "    slope = best_fit_slope(xs, ys)\n",
    "    \n",
    "    print('{:.4f}'.format(slope), 'for', scale, 'trials')\n",
    "    \n",
    "show(lambda: 1+1, 1000000)\n",
    "\n"
   ]
  },
  {
   "cell_type": "code",
   "execution_count": 68,
   "metadata": {},
   "outputs": [
    {
     "data": {
      "text/plain": [
       "(0.0,\n",
       " None,\n",
       " 0,\n",
       " 'xpuzmyhk',\n",
       " True,\n",
       " 'w',\n",
       " True,\n",
       " 'i',\n",
       " False,\n",
       " 0,\n",
       " 0,\n",
       " 'kyzcjmou',\n",
       " 0,\n",
       " None,\n",
       " 0,\n",
       " False,\n",
       " 'r',\n",
       " 0,\n",
       " True,\n",
       " 'tv',\n",
       " 0,\n",
       " 'ddbtwszm',\n",
       " False,\n",
       " 0,\n",
       " 0,\n",
       " 0,\n",
       " None,\n",
       " True)"
      ]
     },
     "execution_count": 68,
     "metadata": {},
     "output_type": "execute_result"
    }
   ],
   "source": [
    "data[0]"
   ]
  },
  {
   "cell_type": "code",
   "execution_count": 43,
   "metadata": {},
   "outputs": [],
   "source": [
    "import random\n",
    "from string import ascii_lowercase\n",
    "\n",
    "def rand_v():\n",
    "    if random.random() < 0.30:\n",
    "        return ''.join(random.choice(ascii_lowercase) for _ in range(random.choice((1, 1, 1, 2, 3, 5, 8, 13))))\n",
    "    else:\n",
    "        return random.choice((0, 0, 0, 0.0, 0.0, None, True, False))\n",
    "\n",
    "def sample():\n",
    "    return tuple(rand_v() for _ in range(28))\n",
    "\n",
    "s = sample()\n",
    "data = tuple(s for _ in range(15000))"
   ]
  },
  {
   "cell_type": "code",
   "execution_count": 70,
   "metadata": {},
   "outputs": [
    {
     "name": "stdout",
     "output_type": "stream",
     "text": [
      "dump_each_row: 0.3485 for 5 trials\n",
      "single_plop: 0.7815 for 5 trials\n"
     ]
    }
   ],
   "source": [
    "def run(f):\n",
    "    print(f.__name__, end=': ')\n",
    "    show(f, 5)\n",
    "    return f\n",
    "\n",
    "def format_dumpfile_row(values):\n",
    "    def iterv(values):\n",
    "        for v in values:\n",
    "            if v is None:\n",
    "                yield '\\\\N'\n",
    "            elif v is True:\n",
    "                yield 't'\n",
    "            elif v is False:\n",
    "                yield 'f'\n",
    "            else:\n",
    "                yield str(v)\n",
    "                \n",
    "    return bytes('\\t'.join(iterv(values)) + '\\n', encoding='utf8')\n",
    "    \n",
    "\n",
    "@run\n",
    "def dump_each_row():\n",
    "    f = open('test.dump', 'wb')\n",
    "    for row in data:\n",
    "        f.write(format_dumpfile_row(row))\n",
    "    f.close()\n",
    "    \n",
    "@run\n",
    "def single_plop():\n",
    "    def ps(v):\n",
    "        if v is None:\n",
    "            return '\\\\N'\n",
    "        elif v is True:\n",
    "            return 't'\n",
    "        elif v is False:\n",
    "            return 'f'\n",
    "        else:\n",
    "            return str(v)\n",
    "        \n",
    "    f = open('test3.dump', 'w')\n",
    "    for row in data:\n",
    "        f.write('\\t'.join(ps(v) for v in row) + '\\n')\n",
    "    f.close()\n",
    "    \n",
    "def write_each_bit():\n",
    "    f = open('test2.dump', 'wb')\n",
    "    for row in data:\n",
    "        for v in row:\n",
    "            if v is None:\n",
    "                f.write(b'\\\\N')\n",
    "            elif v is True:\n",
    "                f.write(b't')\n",
    "            elif v is False:\n",
    "                f.write(b'f')\n",
    "            else:\n",
    "                f.write(bytes(str(v), encoding='utf8'))\n",
    "            f.write(b'\\t')\n",
    "        f.write(b'\\n')\n",
    "    f.close()"
   ]
  },
  {
   "cell_type": "code",
   "execution_count": 63,
   "metadata": {},
   "outputs": [
    {
     "data": {
      "text/plain": [
       "'<\\n'"
      ]
     },
     "execution_count": 63,
     "metadata": {},
     "output_type": "execute_result"
    }
   ],
   "source": [
    "a = open('test3.dump')\n",
    "next(a)"
   ]
  },
  {
   "cell_type": "code",
   "execution_count": 64,
   "metadata": {},
   "outputs": [
    {
     "data": {
      "text/plain": [
       "'0.0\\t\\\\N\\t0\\txpuzmyhk\\tt\\tw\\tt\\ti\\tf\\t0\\t0\\tkyzcjmou\\t0\\t\\\\N\\t0\\tf\\tr\\t0\\tt\\ttv\\t0\\tddbtwszm\\tf\\t0\\t0\\t0\\t\\\\N\\tt\\t\\n'"
      ]
     },
     "execution_count": 64,
     "metadata": {},
     "output_type": "execute_result"
    }
   ],
   "source": [
    "b = open('test2.dump')\n",
    "next(b)"
   ]
  },
  {
   "cell_type": "code",
   "execution_count": 45,
   "metadata": {},
   "outputs": [
    {
     "name": "stdout",
     "output_type": "stream",
     "text": [
      "         510009 function calls in 0.167 seconds\n",
      "\n",
      "   Ordered by: standard name\n",
      "\n",
      "   ncalls  tottime  percall  cumtime  percall filename:lineno(function)\n",
      "        1    0.005    0.005    0.167    0.167 <ipython-input-44-09f5568ff85e>:19(dump_all)\n",
      "    15000    0.006    0.000    0.131    0.000 <ipython-input-44-09f5568ff85e>:5(format_dumpfile_row)\n",
      "   435000    0.082    0.000    0.082    0.000 <ipython-input-44-09f5568ff85e>:6(iterv)\n",
      "        1    0.000    0.000    0.167    0.167 <string>:1(<module>)\n",
      "        1    0.000    0.000    0.000    0.000 _bootlocale.py:11(getpreferredencoding)\n",
      "        1    0.000    0.000    0.000    0.000 codecs.py:186(__init__)\n",
      "    15000    0.004    0.000    0.015    0.000 cp1252.py:18(encode)\n",
      "    15000    0.011    0.000    0.011    0.000 {built-in method _codecs.charmap_encode}\n",
      "        1    0.000    0.000    0.000    0.000 {built-in method _locale._getdefaultlocale}\n",
      "        1    0.000    0.000    0.167    0.167 {built-in method builtins.exec}\n",
      "        1    0.001    0.001    0.001    0.001 {built-in method io.open}\n",
      "        1    0.000    0.000    0.000    0.000 {method 'close' of '_io.TextIOWrapper' objects}\n",
      "        1    0.000    0.000    0.000    0.000 {method 'disable' of '_lsprof.Profiler' objects}\n",
      "    15000    0.044    0.000    0.125    0.000 {method 'join' of 'str' objects}\n",
      "    15000    0.016    0.000    0.031    0.000 {method 'write' of '_io.TextIOWrapper' objects}\n",
      "\n",
      "\n"
     ]
    }
   ],
   "source": [
    "import cProfile\n",
    "# dump_each_row0.4999 for 5 trials\n",
    "# write_each_bit2.5417 for 5 trials\n",
    "cProfile.run('dump_all()')"
   ]
  },
  {
   "cell_type": "code",
   "execution_count": 34,
   "metadata": {},
   "outputs": [
    {
     "name": "stdout",
     "output_type": "stream",
     "text": [
      "t\t0\tcfipd\t0\txmw\tz\tevc\t0\tk\t0\th\tp\t0\t0\tw\t0\t0\t0\tt\t\\N\t0\tf\tf\t\\N\t0\tiplngqyqpxdpf\t0\tf\n",
      "\n"
     ]
    }
   ],
   "source": []
  },
  {
   "cell_type": "code",
   "execution_count": 87,
   "metadata": {},
   "outputs": [
    {
     "name": "stdout",
     "output_type": "stream",
     "text": [
      "0.1826 for 50000 trials\n",
      "0.2445 for 50000 trials\n"
     ]
    }
   ],
   "source": [
    "replacements = {\n",
    "    None: '\\\\N',\n",
    "    True: 'TRUE',\n",
    "    False: 'FALSE',\n",
    "}\n",
    "\n",
    "\n",
    "\n",
    "def blep(f):\n",
    "    show(lambda:f(('asdq', 'asdq', True, None, None, 'asdq', False, 'asdq', 0, 0, True, None, False, True, 'eiois', True, 'eiois', 0, 'eiois', False)), \n",
    "         50000)\n",
    "@blep\n",
    "def row5(values):\n",
    "    local r\n",
    "    \n",
    "    return '\\t'.join(r[v] if v in r else str(v) for v in values)\n",
    "\n",
    "r = replacements\n",
    "@blep\n",
    "def row5(values):\n",
    "    return '\\t'.join(r[v] if v in r else str(v) for v in values)\n",
    "\n",
    "\n",
    "\n",
    "def row5(values):\n",
    "    def iterv():\n",
    "        for v in values:\n",
    "            if v is None:\n",
    "                yield '\\\\N'\n",
    "            elif v is True:\n",
    "                yield 'TRUE'\n",
    "            elif v is False:\n",
    "                yield 'FALSE'\n",
    "            else:\n",
    "                yield str(v)\n",
    "    \n",
    "    return '\\t'.join(iterv())\n",
    "            \n",
    "\n",
    "    \n",
    "def iterv(values):\n",
    "    for v in values:\n",
    "        if v is None:\n",
    "            yield '\\\\N'\n",
    "        elif v is True:\n",
    "            yield 'TRUE'\n",
    "        elif v is False:\n",
    "            yield 'FALSE'\n",
    "        else:\n",
    "            yield str(v)\n",
    "\n",
    "\n",
    "def row5(values):\n",
    "    return '\\t'.join(iterv(values))\n"
   ]
  },
  {
   "cell_type": "code",
   "execution_count": 76,
   "metadata": {},
   "outputs": [
    {
     "ename": "SyntaxError",
     "evalue": "EOL while scanning string literal (<ipython-input-76-a8ea53bd1bc0>, line 2)",
     "output_type": "error",
     "traceback": [
      "\u001b[1;36m  File \u001b[1;32m\"<ipython-input-76-a8ea53bd1bc0>\"\u001b[1;36m, line \u001b[1;32m2\u001b[0m\n\u001b[1;33m    d.setdefault('p)\u001b[0m\n\u001b[1;37m                    ^\u001b[0m\n\u001b[1;31mSyntaxError\u001b[0m\u001b[1;31m:\u001b[0m EOL while scanning string literal\n"
     ]
    }
   ],
   "source": [
    "d = {}\n",
    "d.setdefault('p)"
   ]
  },
  {
   "cell_type": "code",
   "execution_count": 95,
   "metadata": {},
   "outputs": [
    {
     "ename": "KeyError",
     "evalue": "1.2",
     "output_type": "error",
     "traceback": [
      "\u001b[1;31m---------------------------------------------------------------------------\u001b[0m",
      "\u001b[1;31mKeyError\u001b[0m                                  Traceback (most recent call last)",
      "\u001b[1;32m<ipython-input-95-61a49a70b583>\u001b[0m in \u001b[0;36m<module>\u001b[1;34m\u001b[0m\n\u001b[0;32m      1\u001b[0m \u001b[0md\u001b[0m \u001b[1;33m=\u001b[0m \u001b[1;33m{\u001b[0m\u001b[1;32mFalse\u001b[0m\u001b[1;33m:\u001b[0m \u001b[1;36m3\u001b[0m\u001b[1;33m,\u001b[0m \u001b[1;32mTrue\u001b[0m\u001b[1;33m:\u001b[0m \u001b[1;36m5\u001b[0m\u001b[1;33m}\u001b[0m\u001b[1;33m\u001b[0m\u001b[1;33m\u001b[0m\u001b[0m\n\u001b[0;32m      2\u001b[0m \u001b[1;33m\u001b[0m\u001b[0m\n\u001b[1;32m----> 3\u001b[1;33m \u001b[0md\u001b[0m\u001b[1;33m[\u001b[0m\u001b[1;36m1.2\u001b[0m\u001b[1;33m]\u001b[0m\u001b[1;33m\u001b[0m\u001b[1;33m\u001b[0m\u001b[0m\n\u001b[0m",
      "\u001b[1;31mKeyError\u001b[0m: 1.2"
     ]
    }
   ],
   "source": [
    "d = {False: 3, True: 5}\n",
    "\n",
    "d[1.2]"
   ]
  }
 ],
 "metadata": {
  "kernelspec": {
   "display_name": "Python 3",
   "language": "python",
   "name": "python3"
  },
  "language_info": {
   "codemirror_mode": {
    "name": "ipython",
    "version": 3
   },
   "file_extension": ".py",
   "mimetype": "text/x-python",
   "name": "python",
   "nbconvert_exporter": "python",
   "pygments_lexer": "ipython3",
   "version": "3.7.3"
  }
 },
 "nbformat": 4,
 "nbformat_minor": 2
}
