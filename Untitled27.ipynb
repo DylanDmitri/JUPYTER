{
 "cells": [
  {
   "cell_type": "code",
   "execution_count": 55,
   "metadata": {},
   "outputs": [
    {
     "name": "stdout",
     "output_type": "stream",
     "text": [
      "time:   17.55\n",
      "logs:    1.25\n",
      "iron:    1.20\n"
     ]
    }
   ],
   "source": [
    "from copy import deepcopy\n",
    "from collections import defaultdict\n",
    "\n",
    "class Item:\n",
    "    def __init__(self, time, inputs=[], raw=False):\n",
    "        time = time - 1\n",
    "        self.time = time + sum(t.time for t in inputs)\n",
    "        \n",
    "        self.raw = defaultdict(lambda: 0)\n",
    "        if raw:\n",
    "            self.raw[raw] = 1\n",
    "        else:\n",
    "            for t in inputs:\n",
    "                for name, amount in t.raw.items():\n",
    "                    self.raw[name] += amount\n",
    "        \n",
    "    def __mul__(self, scalar):\n",
    "        copy = deepcopy(self) \n",
    "        copy.time *= scalar\n",
    "        copy.raw = {name: amount*scalar\n",
    "                   for name, amount in self.raw.items()}\n",
    "        return copy\n",
    "    \n",
    "    def __rmul__(self, scalar):\n",
    "        return self * scalar\n",
    "\n",
    "    def __truediv__(self, scalar):\n",
    "        return self * (1/scalar)\n",
    "    \n",
    "    def __str__(self):\n",
    "        r = [f'time: {self.time:>7.2f}']\n",
    "        for key, val in self.raw.items():\n",
    "            r.append(f'{key}: {val:>7.2f}')\n",
    "        return '\\n'.join(r)\n",
    "    \n",
    "\n",
    "WoodLog = Item(4, raw='logs')\n",
    "WoodPlank = Item(2, [WoodLog/4])\n",
    "\n",
    "IronPlate = Item(0, raw='iron')\n",
    "IronScraps = Item(1, [IronPlate/5])\n",
    "IronRivet = Item(2, [IronScraps])\n",
    "\n",
    "WoodFrame = Item(5, [WoodPlank*5, IronRivet*6])\n",
    "CraftTable = Item(5, [2*WoodFrame, WoodPlank, IronScraps*5])\n",
    "\n",
    "# CraftTable.time, CraftTable.raw\n",
    "\n",
    "print(WoodFrame)"
   ]
  }
 ],
 "metadata": {
  "kernelspec": {
   "display_name": "Python 3",
   "language": "python",
   "name": "python3"
  },
  "language_info": {
   "codemirror_mode": {
    "name": "ipython",
    "version": 3
   },
   "file_extension": ".py",
   "mimetype": "text/x-python",
   "name": "python",
   "nbconvert_exporter": "python",
   "pygments_lexer": "ipython3",
   "version": "3.7.3"
  }
 },
 "nbformat": 4,
 "nbformat_minor": 2
}
