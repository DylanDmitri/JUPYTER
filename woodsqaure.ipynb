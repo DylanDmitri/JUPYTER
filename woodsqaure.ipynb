{
 "cells": [
  {
   "cell_type": "code",
   "execution_count": 2,
   "metadata": {},
   "outputs": [
    {
     "data": {
      "text/plain": [
       "466550"
      ]
     },
     "execution_count": 2,
     "metadata": {},
     "output_type": "execute_result"
    }
   ],
   "source": [
    "\n",
    "words = tuple(open('words.txt').read().strip().split('\\n'))\n",
    "len(words)"
   ]
  },
  {
   "cell_type": "code",
   "execution_count": 10,
   "metadata": {},
   "outputs": [
    {
     "data": {
      "text/plain": [
       "{'l': 0,\n",
       " 'c': 0,\n",
       " 't': 0,\n",
       " 'a': 1,\n",
       " 'x': 1,\n",
       " 'y': 1,\n",
       " 'b': 2,\n",
       " 's': 2,\n",
       " 'i': 2,\n",
       " 'm': 3,\n",
       " 'e': 3,\n",
       " 'o': 3}"
      ]
     },
     "execution_count": 10,
     "metadata": {},
     "output_type": "execute_result"
    }
   ],
   "source": [
    "sides = 'lct', 'axy', 'bsi', 'meo'\n",
    "lookup = {}\n",
    "\n",
    "for i, s in enumerate(sides):\n",
    "    for c in s:\n",
    "        lookup[c] = i \n",
    "    \n",
    "lookup"
   ]
  },
  {
   "cell_type": "code",
   "execution_count": 11,
   "metadata": {},
   "outputs": [
    {
     "data": {
      "text/plain": [
       "True"
      ]
     },
     "execution_count": 11,
     "metadata": {},
     "output_type": "execute_result"
    }
   ],
   "source": [
    "def canbuild(word):\n",
    "    current = lookup.get(word[0])\n",
    "    if current is None:\n",
    "        return False\n",
    "    \n",
    "    for c in word[1:]:\n",
    "        idx = lookup.get(c)\n",
    "        if idx is None:\n",
    "            return False\n",
    "        if idx == current:\n",
    "            return False\n",
    "        current = idx\n",
    "    return True\n",
    "\n",
    "canbuild('exile')\n",
    "    "
   ]
  },
  {
   "cell_type": "code",
   "execution_count": 12,
   "metadata": {},
   "outputs": [
    {
     "data": {
      "text/plain": [
       "2295"
      ]
     },
     "execution_count": 12,
     "metadata": {},
     "output_type": "execute_result"
    }
   ],
   "source": [
    "ok = [w for w in words if canbuild(w)]\n",
    "len(ok)"
   ]
  },
  {
   "cell_type": "code",
   "execution_count": 15,
   "metadata": {},
   "outputs": [
    {
     "name": "stderr",
     "output_type": "stream",
     "text": [
      "C:\\Users\\ddyla\\Anaconda3\\lib\\site-packages\\ipykernel_launcher.py:6: DeprecationWarning: time.clock has been deprecated in Python 3.3 and will be removed from Python 3.8: use time.perf_counter or time.process_time instead\n",
      "  \n"
     ]
    },
    {
     "name": "stdout",
     "output_type": "stream",
     "text": [
      "acetoxim myeloblast\n",
      "acetoxim myeloblastic\n",
      "acetoxim myoblast\n",
      "acetoxim myoblastic\n",
      "acetoxim myoblasts\n",
      "amylolytic casebox\n",
      "amylolytic coalboxes\n",
      "amylose excitable\n",
      "amylose excitably\n",
      "asymbolia acetoxim\n",
      "asymbolic catalexes\n",
      "asymbolic coxiest\n",
      "asymbolic coxite\n",
      "asymbolical latex\n",
      "asymbolical latexes\n",
      "asymbolical lexicality\n",
      "asymtote excitable\n",
      "asymtote excitably\n",
      "asymtotic coalboxes\n",
      "balmiest toxicity\n",
      "blastocyte exosmic\n",
      "blastocyte extima\n",
      "blastostyle exosmic\n",
      "catacylsmic casebox\n",
      "catacylsmic coalboxes\n",
      "catalexes symbolic\n",
      "catalexes symbolical\n",
      "catalexes symbolics\n",
      "cymbalo ototoxicities\n",
      "coalboxes steamily\n",
      "coalboxes stimy\n",
      "coalboxes stymie\n",
      "coalboxes stymies\n",
      "coamiable excyst\n",
      "coxiest tamably\n",
      "coxiest tymbal\n",
      "coxiest tymbals\n",
      "coxite estimably\n",
      "estimable exoticity\n",
      "etymic coalboxes\n",
      "excamb baitylos\n",
      "excites symbolical\n",
      "exits symbolical\n",
      "exosmic cytoblast\n",
      "exostoses symbolical\n",
      "exostotic cymbal\n",
      "exostotic cymbalo\n",
      "exostotic cymbals\n",
      "exotic cymbals\n",
      "exotica abysmal\n",
      "exotica asymbolia\n",
      "exotica asymbolic\n",
      "exotica asymbolical\n",
      "exotics symbolical\n",
      "exotoxic cymbals\n",
      "exta asymbolic\n",
      "exta asymbolical\n",
      "extima asymbolic\n",
      "extima asymbolical\n",
      "extols symbolical\n",
      "iceboxes steamily\n",
      "lambaste exoticity\n",
      "lamboys sextic\n",
      "latexes symbolic\n",
      "latexes symbolical\n",
      "latexes symbolics\n",
      "loxocosm myeloblastic\n",
      "mailboxes salacity\n",
      "mailboxes salicylate\n",
      "mailboxes scalytail\n",
      "mailboxes scialytic\n",
      "mailboxes scyelite\n",
      "mailboxes scyt\n",
      "mailboxes scytale\n",
      "mailboxes sybotic\n",
      "mailboxes sycite\n",
      "mailboxes systatic\n",
      "mailboxes systolic\n",
      "mailboxes sociality\n",
      "mailboxes society\n",
      "mailboxes societyese\n",
      "mailboxes statocyst\n",
      "mailboxes steatolytic\n",
      "mailboxes styca\n",
      "mailboxes stylitic\n",
      "mailboxes stylolitic\n",
      "masticable exoticity\n",
      "mastixes symbolic\n",
      "mastixes symbolical\n",
      "mastixes symbolics\n",
      "mastixes sociably\n",
      "mycose excitable\n",
      "mycose excitably\n",
      "mycostatic coalboxes\n",
      "mycotic coalboxes\n",
      "mycotoxic cablecast\n",
      "mycotoxic cables\n",
      "mycotoxic cablese\n",
      "mycotoxic cablets\n",
      "mycotoxic cascabel\n",
      "mycotoxic cascabels\n",
      "mycotoxic cascable\n",
      "mycotoxic cascables\n",
      "mycotoxic castable\n",
      "mycotoxic coalboxes\n",
      "myelitic casebox\n",
      "myelitic coalboxes\n",
      "myeloblast toxic\n",
      "myeloblast toxical\n",
      "myeloblast toxicate\n",
      "myeloblast toxicity\n",
      "myeloblast toxicities\n",
      "myeloblast toxicol\n",
      "myeloblast toxicoses\n",
      "myeloblastic calix\n",
      "myeloblastic calx\n",
      "myeloblastic calxes\n",
      "myeloblastic casebox\n",
      "myeloblastic catalexes\n",
      "myeloblastic cylix\n",
      "myeloblastic cytotoxic\n",
      "myeloblastic cytotoxicity\n",
      "myeloblastic coalbox\n",
      "myeloblastic coalboxes\n",
      "myeloblastic coxes\n",
      "myeloblastic coxiest\n",
      "myeloblastic coxite\n",
      "myelocystic casebox\n",
      "myelocystic coalbox\n",
      "myelocystic coalboxes\n",
      "myelocystocele excitable\n",
      "myelocystocele excitably\n",
      "myelocystocele exilable\n",
      "myelocytic casebox\n",
      "myelocytic coalboxes\n",
      "myoblast toxicate\n",
      "myoblast toxicities\n",
      "myoblast toxicoses\n",
      "myoblastic calxes\n",
      "myoblastic casebox\n",
      "myoblastic catalexes\n",
      "myoblastic coalboxes\n",
      "myoblastic coxes\n",
      "myoblastic coxiest\n",
      "myoblastic coxite\n",
      "myoblasts sextic\n",
      "myosote excitable\n",
      "myosote excitably\n",
      "myotic coalboxes\n",
      "osmate excitably\n",
      "osmite excitably\n",
      "ototoxicities symbolical\n",
      "oxim myeloblastic\n",
      "scamble exoticity\n",
      "scybala acetoxim\n",
      "sextets symbolical\n",
      "sextic cymbalo\n",
      "sextiles symbolical\n",
      "sextos symbolical\n",
      "sexts symbolical\n",
      "symbol lexicality\n",
      "symbolic catalexes\n",
      "symbolical latex\n",
      "symbolical latexes\n",
      "symbolical lexicality\n",
      "smileable exoticity\n",
      "smitable exoticity\n",
      "stylobata acetoxim\n",
      "stylobate exosmic\n",
      "stylolite excamb\n",
      "teaboxes symbolic\n",
      "teaboxes symbolical\n",
      "teaboxes symbolics\n",
      "telexes symbolical\n",
      "textiles symbolical\n",
      "texts symbolical\n",
      "tylotoxea asymbolic\n",
      "tylotoxea asymbolical\n",
      "toxicate estimably\n",
      "toxicities symbolical\n",
      "toxicoses symbolical\n",
      "xebec cosmicality\n"
     ]
    }
   ],
   "source": [
    "from time import clock\n",
    "\n",
    "target = set()\n",
    "for s in sides:\n",
    "    for c in s:\n",
    "        target.add(c)\n",
    "\n",
    "start = clock() \n",
    "        \n",
    "done = set()\n",
    "for word1 in ok:\n",
    "    for word2 in ok:\n",
    "        if word1[-1] != word2[0]:\n",
    "            continue\n",
    "        combo = word1+word2\n",
    "        if set(combo) != target:\n",
    "            continue\n",
    "        else:\n",
    "            print(word1, word2)\n"
   ]
  }
 ],
 "metadata": {
  "kernelspec": {
   "display_name": "Python 3",
   "language": "python",
   "name": "python3"
  },
  "language_info": {
   "codemirror_mode": {
    "name": "ipython",
    "version": 3
   },
   "file_extension": ".py",
   "mimetype": "text/x-python",
   "name": "python",
   "nbconvert_exporter": "python",
   "pygments_lexer": "ipython3",
   "version": "3.7.3"
  }
 },
 "nbformat": 4,
 "nbformat_minor": 2
}
