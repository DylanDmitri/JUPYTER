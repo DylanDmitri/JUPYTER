{
 "cells": [
  {
   "cell_type": "code",
   "execution_count": 1,
   "metadata": {},
   "outputs": [],
   "source": [
    "from itertools import *\n",
    "from random import shuffle\n",
    "import re"
   ]
  },
  {
   "cell_type": "code",
   "execution_count": 7,
   "metadata": {},
   "outputs": [],
   "source": [
    "re.match('mi..i..t', 'miooiot')"
   ]
  },
  {
   "cell_type": "code",
   "execution_count": 2,
   "metadata": {},
   "outputs": [],
   "source": [
    "words = set([w.strip().lower() for w in open('words.txt')])\n",
    "words.add('samus')\n",
    "words.add('metroid')\n",
    "\n",
    "def valid(w):\n",
    "    return w in words"
   ]
  },
  {
   "cell_type": "code",
   "execution_count": 5,
   "metadata": {},
   "outputs": [
    {
     "name": "stdout",
     "output_type": "stream",
     "text": [
      "geophila\n",
      "graphics\n"
     ]
    }
   ],
   "source": [
    "banned = 'mdnt'\n",
    "\n",
    "for word in words:\n",
    "    if re.match('g...hi..$', word):\n",
    "        for letter in banned:\n",
    "            if letter in word:\n",
    "                break\n",
    "        else:\n",
    "            print(word)"
   ]
  },
  {
   "cell_type": "code",
   "execution_count": 8,
   "metadata": {},
   "outputs": [
    {
     "name": "stdout",
     "output_type": "stream",
     "text": [
      "geophila\n",
      "graphics\n"
     ]
    }
   ],
   "source": [
    "banned = '[^mdnt]'\n",
    "regex = 'g...hi..$'.replace('.', banned)\n",
    "\n",
    "print(*filter(re.compile(regex).match, words), sep='\\n')\n"
   ]
  },
  {
   "cell_type": "code",
   "execution_count": 133,
   "metadata": {},
   "outputs": [
    {
     "data": {
      "text/plain": [
       "['risomeda',\n",
       " 'risomeda',\n",
       " 'mevanu??risomeda',\n",
       " 'vanelifudoreve',\n",
       " 'mevanulirusomeda',\n",
       " 'mevanulifudoreve',\n",
       " 'nonelirutakira',\n",
       " 'menonulirutakira',\n",
       " 'menonulirufa',\n",
       " 'mevanulifudoreve',\n",
       " 'mevanulirusomeda',\n",
       " 'nonelirufosaku',\n",
       " 'nonelirutisavu',\n",
       " 'mevanulirufosaku',\n",
       " 'mevanulirutisavu',\n",
       " 'mevanulirutakira',\n",
       " 'mevanulirufa',\n",
       " 'mevanulifudoreve',\n",
       " 'mevanulirusomeda',\n",
       " 'nonelarufosama',\n",
       " 'nonelarutisaka',\n",
       " 'nufosama',\n",
       " 'nutisaka',\n",
       " 'nufosaku',\n",
       " 'nutisavu',\n",
       " 'menonularutakira',\n",
       " 'menonularufa',\n",
       " 'menonulafudoreve',\n",
       " 'mevanulirusomeda',\n",
       " 'none',\n",
       " 'lone',\n",
       " 'fosadu',\n",
       " 'laru',\n",
       " 'laru',\n",
       " 'tako??',\n",
       " 'menonulonufosadu',\n",
       " 'nesi??ru',\n",
       " 'nemuna',\n",
       " 'nesilirufosade',\n",
       " 'menonulonufosade',\n",
       " 'nufosadu',\n",
       " 'netovimi',\n",
       " 'mevanulirufosama',\n",
       " 'mevanulirutisaka',\n",
       " 'mevanulirufosaku',\n",
       " 'mevanulirutisavu',\n",
       " 'mevanulirutakira',\n",
       " 'mevanulirufa',\n",
       " 'mevanulifudoreve',\n",
       " 'mevanulirusomeda',\n",
       " 'sani',\n",
       " 'sani',\n",
       " 'sani',\n",
       " 'sani',\n",
       " 'lonenonedisani',\n",
       " 'nudisani',\n",
       " 'nufosade',\n",
       " 'nufosadu',\n",
       " 'so',\n",
       " 'tovimi',\n",
       " 'menonulonufosama',\n",
       " 'melonunonutisaka',\n",
       " 'memunularutisavu',\n",
       " 'memunularufosaku',\n",
       " 'memunularutakira',\n",
       " 'memunularufa',\n",
       " 'mevanulafudoreve',\n",
       " 'mevanulirusomeda',\n",
       " '??',\n",
       " 'fosetu',\n",
       " 'tafosetu',\n",
       " 'nonelonefosetu',\n",
       " 'menonulonufosetu',\n",
       " 'nonelonefosefi',\n",
       " 'menonulonufosefi',\n",
       " 'nufosetu',\n",
       " 'nudisani',\n",
       " 'nufosadu',\n",
       " 'nufosade',\n",
       " 'mevanulirusone??',\n",
       " 'nufosaku',\n",
       " 'nufosama',\n",
       " 'nutisavu',\n",
       " 'nutisaka',\n",
       " 'memunularutakira',\n",
       " 'mevanulirufa',\n",
       " 'nevanulifudoreve',\n",
       " 'mevanulirusomeda',\n",
       " 'lonenonetisate',\n",
       " 'menonulonutisate',\n",
       " 'nonelonedisale',\n",
       " 'melonunonudisale',\n",
       " 'memunumunutisate',\n",
       " 'memunularufosefi',\n",
       " 'memunularudisani',\n",
       " 'nufose??',\n",
       " 'nufosade',\n",
       " 'nufosadu',\n",
       " 'netovimi',\n",
       " 'mevanulirufosama',\n",
       " 'mevanulirutisaka',\n",
       " 'memunularufosaku',\n",
       " 'mevanulirutisavu',\n",
       " 'mevanulirutakira',\n",
       " 'mevanulirufa',\n",
       " 'mevanulifudoreve',\n",
       " 'mevanulirusomeda',\n",
       " 'nevanuliru',\n",
       " 'luneke',\n",
       " 'voru',\n",
       " 'voru',\n",
       " 'renesi',\n",
       " 'vorurenesimeke',\n",
       " 'so',\n",
       " 'sunemutovimimemuvoru',\n",
       " 'nemuna',\n",
       " '',\n",
       " 'ke',\n",
       " 'melifudoreve',\n",
       " 'meva',\n",
       " 'melirusomeda',\n",
       " 'remenolarufosale',\n",
       " 'remenolarutisate',\n",
       " 'rememularufosefi',\n",
       " 'refosetu',\n",
       " 'redisani',\n",
       " 'refosadu',\n",
       " 'refosade',\n",
       " 'kofelumolumonena',\n",
       " 'lumemularufosama',\n",
       " 'rememularutisaka',\n",
       " 'rememularufosaku',\n",
       " 'rememularutisavu',\n",
       " 'rememularuta??ra',\n",
       " 'ke',\n",
       " 'memularufa',\n",
       " 'mevalulifudoreve',\n",
       " 'rone',\n",
       " 'ronesomeda']"
      ]
     },
     "execution_count": 133,
     "metadata": {},
     "output_type": "execute_result"
    }
   ],
   "source": [
    "words"
   ]
  },
  {
   "cell_type": "code",
   "execution_count": 32,
   "metadata": {},
   "outputs": [
    {
     "data": {
      "text/plain": [
       "('asebaell', 'baseball', 'beasebal', 'belaseba')"
      ]
     },
     "execution_count": 32,
     "metadata": {},
     "output_type": "execute_result"
    }
   ],
   "source": [
    "def replace_all(word, sub):\n",
    "    for i in range(len(word)):\n",
    "        yield word[:i] + sub + word[i+1:]\n",
    "        \n",
    "tuple(replace_all('bell', 'aseba'))"
   ]
  },
  {
   "cell_type": "code",
   "execution_count": 43,
   "metadata": {},
   "outputs": [],
   "source": [
    "letters = 'ARASCATUHCPT'.lower() # + ?\n",
    "\n",
    "letters = sorted(letters)"
   ]
  },
  {
   "cell_type": "code",
   "execution_count": 90,
   "metadata": {},
   "outputs": [
    {
     "name": "stdout",
     "output_type": "stream",
     "text": [
      "utpsccahaart\n"
     ]
    }
   ],
   "source": [
    "shuffle(letters)\n",
    "print(''.join(letters))"
   ]
  },
  {
   "cell_type": "code",
   "execution_count": 92,
   "metadata": {},
   "outputs": [
    {
     "data": {
      "text/plain": [
       "{'p', 's', 't', 'u'}"
      ]
     },
     "execution_count": 92,
     "metadata": {},
     "output_type": "execute_result"
    }
   ],
   "source": [
    "set(letters) - set('arach')"
   ]
  },
  {
   "cell_type": "code",
   "execution_count": 103,
   "metadata": {},
   "outputs": [],
   "source": [
    "from itertools import permutations\n",
    "\n",
    "letters = 'NUPTRALAGE'.lower()\n",
    "for w in permutations(letters):\n",
    "    if valid(''.join(letters)):\n",
    "        print(w)\n",
    "    "
   ]
  },
  {
   "cell_type": "code",
   "execution_count": 30,
   "metadata": {},
   "outputs": [],
   "source": [
    "input_words = '''\n",
    "//shrew\n",
    "rotor\n",
    "bust\n",
    "ride\n",
    "house\n",
    "crate\n",
    "saw\n",
    "tush\n",
    "legs\n",
    "//bell\n",
    "//shy\n",
    "thong\n",
    "bling\n",
    "grill\n",
    "dude\n",
    "wave\n",
    "sell\n",
    "fish\n",
    "corn\n",
    "masa\n",
    "'''.strip().split('\\n')\n",
    "\n",
    "subs = '''\n",
    "adia\n",
    "//alar\n",
    "//aseba\n",
    "ath\n",
    "//c\n",
    "dge\n",
    "dl\n",
    "inki\n",
    "ku\n",
    "n\n",
    "nc\n",
    "no\n",
    "onski\n",
    "'''.strip().split('\\n')\n",
    "\n",
    "input_words = [w for w in input_words if not w.startswith('//')]\n",
    "subs = [w for w in subs if not w.startswith('//')]"
   ]
  },
  {
   "cell_type": "code",
   "execution_count": 93,
   "metadata": {},
   "outputs": [
    {
     "name": "stdout",
     "output_type": "stream",
     "text": [
      "('rotor', 'adia')    radiator\n",
      "('bust', 'dge')      budget\n",
      "('bust', 'n')        bunt\n",
      "('ride', 'n')        nide\n",
      "('ride', 'n')        rine\n",
      "('house', 'nc')      hounce\n",
      "('crate', 'dl')      cradle\n",
      "('crate', 'n')       crane\n",
      "('crate', 'nc')      crance\n",
      "('crate', 'no')      norate\n",
      "('saw', 'n')         naw\n",
      "('saw', 'n')         san\n",
      "('saw', 'no')        snow\n",
      "('legs', 'dge')      ledges\n",
      "('legs', 'n')        lens\n",
      "('legs', 'no')       lenos\n",
      "('thong', 'inki')    thinking\n",
      "('thong', 'n')       thong\n",
      "('bling', 'ath')     bathing\n",
      "('bling', 'inki')    blinking\n",
      "('bling', 'n')       blinn\n",
      "('grill', 'ath')     athrill\n",
      "('dude', 'n')        nude\n",
      "('dude', 'n')        dune\n",
      "('dude', 'nc')       dunce\n",
      "('wave', 'n')        nave\n",
      "('wave', 'n')        wane\n",
      "('sell', 'ku')       skull\n",
      "('sell', 'n')        nell\n",
      "('sell', 'no')       noell\n",
      "('fish', 'n')        nish\n",
      "('fish', 'nc')       finch\n",
      "('corn', 'n')        norn\n",
      "('corn', 'n')        conn\n",
      "('corn', 'n')        corn\n",
      "('corn', 'nc')       concn\n",
      "('corn', 'no')       conon\n",
      "('corn', 'no')       corno\n",
      "('corn', 'onski')    coonskin\n",
      "('masa', 'ku')       makua\n",
      "('masa', 'n')        nasa\n",
      "('masa', 'n')        mana\n"
     ]
    }
   ],
   "source": [
    "from itertools import product\n",
    "\n",
    "for params in product(input_words, subs):\n",
    "    for candidate in replace_all(*params):\n",
    "        if valid(candidate):\n",
    "            print(str(params).ljust(20), candidate)\n",
    "    "
   ]
  },
  {
   "cell_type": "code",
   "execution_count": null,
   "metadata": {},
   "outputs": [],
   "source": []
  },
  {
   "cell_type": "code",
   "execution_count": null,
   "metadata": {},
   "outputs": [],
   "source": []
  },
  {
   "cell_type": "code",
   "execution_count": 108,
   "metadata": {},
   "outputs": [],
   "source": [
    "a = '''\n",
    "Risomeda! Risomeda! Mevanu??risomeda! \n",
    "Vanelifudoreve? \n",
    "Mevanulirusomeda. Mevanulifudoreve. \n",
    "Nonelirutakira? \n",
    "Menonulirutakira. Menonulirufa. Mevanulifudoreve. Mevanulirusomeda. \n",
    "Nonelirufosaku? Nonelirutisavu? \n",
    "Mevanulirufosaku. Mevanulirutisavu. Mevanulirutakira. Mevanulirufa. Mevanulifudoreve. \n",
    "Mevanulirusomeda. \n",
    "Nonelarufosama? Nonelarutisaka? \n",
    "Nufosama. Nutisaka. Nufosaku. Nutisavu. Menonularutakira. Menonularufa. \n",
    "Menonulafudoreve. Mevanulirusomeda. \n",
    "None? Lone? Fosadu? Laru! Laru! Tako??. \n",
    "Menonulonufosadu. \n",
    "Nesi??ru. Nemuna. Nesilirufosade! \n",
    "Menonulonufosade. Nufosadu! Netovimi. Mevanulirufosama. Mevanulirutisaka. \n",
    "Mevanulirufosaku. Mevanulirutisavu. Mevanulirutakira. Mevanulirufa. Mevanulifudoreve. \n",
    "Mevanulirusomeda. \n",
    "Sani! Sani! Sani! Sani! Lonenonedisani? \n",
    "Nudisani! Nufosade! Nufosadu! So! Tovimi! Menonulonufosama. Melonunonutisaka. \n",
    "Memunularutisavu. Memunularufosaku. Memunularutakira. Memunularufa. \n",
    "Mevanulafudoreve. Mevanulirusomeda. \n",
    "??! Fosetu? Tafosetu! Nonelonefosetu? \n",
    "Menonulonufosetu. \n",
    "Nonelonefosefi? \n",
    "Menonulonufosefi. Nufosetu. Nudisani. Nufosadu. Nufosade. Mevanulirusone??. Nufosaku. \n",
    "Nufosama. Nutisavu. Nutisaka. Memunularutakira. Mevanulirufa! \n",
    "Nevanulifudoreve? \n",
    "Mevanulirusomeda. \n",
    "Lonenonetisate? \n",
    "Menonulonutisate! \n",
    "Nonelonedisale? \n",
    "Melonunonudisale. Memunumunutisate. Memunularufosefi. Memunularudisani. Nufose??! \n",
    "Nufosade! Nufosadu! Netovimi! Mevanulirufosama. Mevanulirutisaka. Memunularufosaku. \n",
    "Mevanulirutisavu. Mevanulirutakira. Mevanulirufa! Mevanulifudoreve! Mevanulirusomeda. \n",
    "Nevanuliru. Luneke. Voru! Voru! Renesi. Vorurenesimeke. \n",
    "So! Sunemutovimimemuvoru. Nemuna. \n",
    "[…] \n",
    "Ke! Melifudoreve! Meva! Melirusomeda! Remenolarufosale. Remenolarutisate. \n",
    "Rememularufosefi. Refosetu. Redisani. Refosadu. Refosade. Kofelumolumonena! \n",
    "Lumemularufosama. Rememularutisaka. Rememularufosaku. Rememularutisavu. \n",
    "Rememularuta??ra. Ke! Memularufa! Mevalulifudoreve! Rone! Ronesomeda. \n",
    "'''.strip()"
   ]
  },
  {
   "cell_type": "code",
   "execution_count": 116,
   "metadata": {},
   "outputs": [
    {
     "data": {
      "text/plain": [
       "['a', 'd', 'e', 'f', 'i', 'k', 'l', 'm', 'n', 'o', 'r', 's', 't', 'u', 'v']"
      ]
     },
     "execution_count": 116,
     "metadata": {},
     "output_type": "execute_result"
    }
   ],
   "source": [
    "from collections import Counter\n",
    "from string import ascii_lowercase\n",
    "\n",
    "c = [c for c in a.lower() if c in ascii_lowercase]\n",
    "\n",
    "sorted(Counter(c))"
   ]
  },
  {
   "cell_type": "code",
   "execution_count": 117,
   "metadata": {},
   "outputs": [],
   "source": [
    "vowels = 'aeiou'           # 5 total\n",
    "consonants = 'dfklmnrstv'  # 10 total"
   ]
  },
  {
   "cell_type": "code",
   "execution_count": 125,
   "metadata": {},
   "outputs": [
    {
     "data": {
      "text/plain": [
       "['',\n",
       " '??',\n",
       " 'fosadu',\n",
       " 'fosetu',\n",
       " 'ke',\n",
       " 'ke',\n",
       " 'kofelumolumonena',\n",
       " 'laru',\n",
       " 'laru',\n",
       " 'lone',\n",
       " 'lonenonedisani',\n",
       " 'lonenonetisate',\n",
       " 'lumemularufosama',\n",
       " 'luneke',\n",
       " 'melifudoreve',\n",
       " 'melirusomeda',\n",
       " 'melonunonudisale',\n",
       " 'melonunonutisaka',\n",
       " 'memularufa',\n",
       " 'memunularudisani',\n",
       " 'memunularufa',\n",
       " 'memunularufosaku',\n",
       " 'memunularufosaku',\n",
       " 'memunularufosefi',\n",
       " 'memunularutakira',\n",
       " 'memunularutakira',\n",
       " 'memunularutisavu',\n",
       " 'memunumunutisate',\n",
       " 'menonulafudoreve',\n",
       " 'menonularufa',\n",
       " 'menonularutakira',\n",
       " 'menonulirufa',\n",
       " 'menonulirutakira',\n",
       " 'menonulonufosade',\n",
       " 'menonulonufosadu',\n",
       " 'menonulonufosama',\n",
       " 'menonulonufosefi',\n",
       " 'menonulonufosetu',\n",
       " 'menonulonutisate',\n",
       " 'meva',\n",
       " 'mevalulifudoreve',\n",
       " 'mevanu??risomeda',\n",
       " 'mevanulafudoreve',\n",
       " 'mevanulifudoreve',\n",
       " 'mevanulifudoreve',\n",
       " 'mevanulifudoreve',\n",
       " 'mevanulifudoreve',\n",
       " 'mevanulifudoreve',\n",
       " 'mevanulirufa',\n",
       " 'mevanulirufa',\n",
       " 'mevanulirufa',\n",
       " 'mevanulirufa',\n",
       " 'mevanulirufosaku',\n",
       " 'mevanulirufosaku',\n",
       " 'mevanulirufosama',\n",
       " 'mevanulirufosama',\n",
       " 'mevanulirusomeda',\n",
       " 'mevanulirusomeda',\n",
       " 'mevanulirusomeda',\n",
       " 'mevanulirusomeda',\n",
       " 'mevanulirusomeda',\n",
       " 'mevanulirusomeda',\n",
       " 'mevanulirusomeda',\n",
       " 'mevanulirusomeda',\n",
       " 'mevanulirusone??',\n",
       " 'mevanulirutakira',\n",
       " 'mevanulirutakira',\n",
       " 'mevanulirutakira',\n",
       " 'mevanulirutisaka',\n",
       " 'mevanulirutisaka',\n",
       " 'mevanulirutisavu',\n",
       " 'mevanulirutisavu',\n",
       " 'mevanulirutisavu',\n",
       " 'nemuna',\n",
       " 'nemuna',\n",
       " 'nesi??ru',\n",
       " 'nesilirufosade',\n",
       " 'netovimi',\n",
       " 'netovimi',\n",
       " 'nevanulifudoreve',\n",
       " 'nevanuliru',\n",
       " 'none',\n",
       " 'nonelarufosama',\n",
       " 'nonelarutisaka',\n",
       " 'nonelirufosaku',\n",
       " 'nonelirutakira',\n",
       " 'nonelirutisavu',\n",
       " 'nonelonedisale',\n",
       " 'nonelonefosefi',\n",
       " 'nonelonefosetu',\n",
       " 'nudisani',\n",
       " 'nudisani',\n",
       " 'nufosade',\n",
       " 'nufosade',\n",
       " 'nufosade',\n",
       " 'nufosadu',\n",
       " 'nufosadu',\n",
       " 'nufosadu',\n",
       " 'nufosadu',\n",
       " 'nufosaku',\n",
       " 'nufosaku',\n",
       " 'nufosama',\n",
       " 'nufosama',\n",
       " 'nufose??',\n",
       " 'nufosetu',\n",
       " 'nutisaka',\n",
       " 'nutisaka',\n",
       " 'nutisavu',\n",
       " 'nutisavu',\n",
       " 'redisani',\n",
       " 'refosade',\n",
       " 'refosadu',\n",
       " 'refosetu',\n",
       " 'rememularufosaku',\n",
       " 'rememularufosefi',\n",
       " 'rememularuta??ra',\n",
       " 'rememularutisaka',\n",
       " 'rememularutisavu',\n",
       " 'remenolarufosale',\n",
       " 'remenolarutisate',\n",
       " 'renesi',\n",
       " 'risomeda',\n",
       " 'risomeda',\n",
       " 'rone',\n",
       " 'ronesomeda',\n",
       " 'sani',\n",
       " 'sani',\n",
       " 'sani',\n",
       " 'sani',\n",
       " 'so',\n",
       " 'so',\n",
       " 'sunemutovimimemuvoru',\n",
       " 'tafosetu',\n",
       " 'tako??',\n",
       " 'tovimi',\n",
       " 'vanelifudoreve',\n",
       " 'voru',\n",
       " 'voru',\n",
       " 'vorurenesimeke']"
      ]
     },
     "execution_count": 125,
     "metadata": {},
     "output_type": "execute_result"
    }
   ],
   "source": [
    "words = ''.join(c for c in a.lower() if c in ascii_lowercase+'? ').split(' ')\n",
    "\n",
    "def bad(w):\n",
    "    return w.endswith('?') and not w.endswith('??')\n",
    "\n",
    "words = [w[:-1] if bad(w) else w for w in words]\n",
    "sorted(words)"
   ]
  },
  {
   "cell_type": "code",
   "execution_count": 129,
   "metadata": {},
   "outputs": [
    {
     "data": {
      "text/plain": [
       "Counter({'m': 13, 'r': 15, 'n': 42, 's': 40, '?': 1, 'v': 4, 'l': 3, 'f': 1})"
      ]
     },
     "execution_count": 129,
     "metadata": {},
     "output_type": "execute_result"
    }
   ],
   "source": [
    "after_o = []\n",
    "\n",
    "for w in words:\n",
    "    for i in range(len(w)-1):\n",
    "        if w[i] == 'o':\n",
    "            after_o.append(w[i+1])\n",
    "\n",
    "Counter(after_o)"
   ]
  },
  {
   "cell_type": "code",
   "execution_count": 132,
   "metadata": {},
   "outputs": [
    {
     "data": {
      "text/plain": [
       "[0, 2, 4, 6, 8, 10, 12, 14, 16, 20]"
      ]
     },
     "execution_count": 132,
     "metadata": {},
     "output_type": "execute_result"
    }
   ],
   "source": [
    "sorted(Counter(len(w) for w in words))"
   ]
  },
  {
   "cell_type": "code",
   "execution_count": null,
   "metadata": {},
   "outputs": [],
   "source": [
    "??????? ??????"
   ]
  },
  {
   "cell_type": "code",
   "execution_count": 107,
   "metadata": {},
   "outputs": [
    {
     "data": {
      "text/plain": [
       "['Risomeda! Risomeda! Mevanu??risomeda! ',\n",
       " 'Vanelifudoreve? ',\n",
       " 'Mevanulirusomeda. Mevanulifudoreve. ',\n",
       " 'Nonelirutakira? ',\n",
       " 'Menonulirutakira. Menonulirufa. Mevanulifudoreve. Mevanulirusomeda. ',\n",
       " 'Nonelirufosaku? Nonelirutisavu? ',\n",
       " 'Mevanulirufosaku. Mevanulirutisavu. Mevanulirutakira. Mevanulirufa. Mevanulifudoreve. ',\n",
       " 'Mevanulirusomeda. ',\n",
       " 'Nonelarufosama? Nonelarutisaka? ',\n",
       " 'Nufosama. Nutisaka. Nufosaku. Nutisavu. Menonularutakira. Menonularufa. ',\n",
       " 'Menonulafudoreve. Mevanulirusomeda. ',\n",
       " 'None? Lone? Fosadu? Laru! Laru! Tako??. ',\n",
       " 'Menonulonufosadu. ',\n",
       " 'Nesi??ru. Nemuna. Nesilirufosade! ',\n",
       " 'Menonulonufosade. Nufosadu! Netovimi. Mevanulirufosama. Mevanulirutisaka. ',\n",
       " 'Mevanulirufosaku. Mevanulirutisavu. Mevanulirutakira. Mevanulirufa. Mevanulifudoreve. ',\n",
       " 'Mevanulirusomeda. ',\n",
       " 'Sani! Sani! Sani! Sani! Lonenonedisani? ',\n",
       " 'Nudisani! Nufosade! Nufosadu! So! Tovimi! Menonulonufosama. Melonunonutisaka. ',\n",
       " 'Memunularutisavu. Memunularufosaku. Memunularutakira. Memunularufa. ',\n",
       " 'Mevanulafudoreve. Mevanulirusomeda. ',\n",
       " '??! Fosetu? Tafosetu! Nonelonefosetu? ',\n",
       " 'Menonulonufosetu. ',\n",
       " 'Nonelonefosefi? ',\n",
       " 'Menonulonufosefi. Nufosetu. Nudisani. Nufosadu. Nufosade. Mevanulirusone??. Nufosaku. ',\n",
       " 'Nufosama. Nutisavu. Nutisaka. Memunularutakira. Mevanulirufa! ',\n",
       " 'Nevanulifudoreve? ',\n",
       " 'Mevanulirusomeda. ',\n",
       " 'Lonenonetisate? ',\n",
       " 'Menonulonutisate! ',\n",
       " 'Nonelonedisale? ',\n",
       " 'Melonunonudisale. Memunumunutisate. Memunularufosefi. Memunularudisani. Nufose??! ',\n",
       " 'Nufosade! Nufosadu! Netovimi! Mevanulirufosama. Mevanulirutisaka. Memunularufosaku. ',\n",
       " 'Mevanulirutisavu. Mevanulirutakira. Mevanulirufa! Mevanulifudoreve! Mevanulirusomeda. ',\n",
       " 'Nevanuliru. Luneke. Voru! Voru! Renesi. Vorurenesimeke. ',\n",
       " 'So! Sunemutovimimemuvoru. Nemuna. ',\n",
       " '[…] ',\n",
       " 'Ke! Melifudoreve! Meva! Melirusomeda! Remenolarufosale. Remenolarutisate. ',\n",
       " 'Rememularufosefi. Refosetu. Redisani. Refosadu. Refosade. Kofelumolumonena! ',\n",
       " 'Lumemularufosama. Rememularutisaka. Rememularufosaku. Rememularutisavu. ',\n",
       " 'Rememularuta??ra. Ke! Memularufa! Mevalulifudoreve! Rone! Ronesomeda.']"
      ]
     },
     "execution_count": 107,
     "metadata": {},
     "output_type": "execute_result"
    }
   ],
   "source": [
    "a.split('\\n')"
   ]
  }
 ],
 "metadata": {
  "kernelspec": {
   "display_name": "Python 3",
   "language": "python",
   "name": "python3"
  },
  "language_info": {
   "codemirror_mode": {
    "name": "ipython",
    "version": 3
   },
   "file_extension": ".py",
   "mimetype": "text/x-python",
   "name": "python",
   "nbconvert_exporter": "python",
   "pygments_lexer": "ipython3",
   "version": "3.7.3"
  }
 },
 "nbformat": 4,
 "nbformat_minor": 2
}
