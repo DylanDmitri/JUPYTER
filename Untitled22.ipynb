{
 "cells": [
  {
   "cell_type": "code",
   "execution_count": 12,
   "metadata": {},
   "outputs": [],
   "source": [
    "inputs = [\n",
    "   62259,\n",
    "   75368,\n",
    "   93740,\n",
    "   119724,\n",
    "   112546,\n",
    "   137714,\n",
    "   96999,\n",
    "   130673,\n",
    "   102398,\n",
    "   73819,\n",
    "   100734,\n",
    "   85337,\n",
    "   62764,\n",
    "   82115,\n",
    "   127696,\n",
    "   54391,\n",
    "   103213,\n",
    "   77954,\n",
    "   112513,\n",
    "   112392,\n",
    "   138404,\n",
    "   92989,\n",
    "   108521,\n",
    "   83163,\n",
    "   109720,\n",
    "   91918,\n",
    "   114443,\n",
    "   54306,\n",
    "   90623,\n",
    "   66833,\n",
    "   58505,\n",
    "   85919,\n",
    "   77539,\n",
    "   149419,\n",
    "   128385,\n",
    "   66452,\n",
    "   94677,\n",
    "   109179,\n",
    "   62072,\n",
    "   137245,\n",
    "   136226,\n",
    "   145783,\n",
    "   60689,\n",
    "   103320,\n",
    "   145931,\n",
    "   101286,\n",
    "   63458,\n",
    "   122468,\n",
    "   87858,\n",
    "   105675,\n",
    "   146185,\n",
    "   57417,\n",
    "   96883,\n",
    "   70739,\n",
    "   97494,\n",
    "   140951,\n",
    "   149416,\n",
    "   83137,\n",
    "   66122,\n",
    "   134319,\n",
    "   58511,\n",
    "   139600,\n",
    "   102929,\n",
    "   112240,\n",
    "   149634,\n",
    "   64142,\n",
    "   83332,\n",
    "   129526,\n",
    "   99058,\n",
    "   148889,\n",
    "   50087,\n",
    "   74961,\n",
    "   133606,\n",
    "   143518,\n",
    "   68849,\n",
    "   97045,\n",
    "   73920,\n",
    "   61357,\n",
    "   115941,\n",
    "   56740,\n",
    "   111773,\n",
    "   77880,\n",
    "   90792,\n",
    "   77103,\n",
    "   111355,\n",
    "   125898,\n",
    "   56547,\n",
    "   84918,\n",
    "   113822,\n",
    "   74113,\n",
    "   98557,\n",
    "   80928,\n",
    "   60519,\n",
    "   146379,\n",
    "   59354,\n",
    "   102490,\n",
    "   72584,\n",
    "   59000,\n",
    "   63151,\n",
    "   114253,\n",
    "]"
   ]
  },
  {
   "cell_type": "code",
   "execution_count": 14,
   "metadata": {},
   "outputs": [
    {
     "data": {
      "text/plain": [
       "4849444"
      ]
     },
     "execution_count": 14,
     "metadata": {},
     "output_type": "execute_result"
    }
   ],
   "source": [
    "def fuel(stage):\n",
    "    new = stage//3 - 2\n",
    "    if new <= 0:\n",
    "        return 0\n",
    "    else:\n",
    "        return new + fuel(new)\n",
    "    \n",
    "sum(fuel(i) for i in inputs)"
   ]
  },
  {
   "cell_type": "code",
   "execution_count": 9,
   "metadata": {},
   "outputs": [
    {
     "data": {
      "text/plain": [
       "966"
      ]
     },
     "execution_count": 9,
     "metadata": {},
     "output_type": "execute_result"
    }
   ],
   "source": [
    "def total_fuel(mass):\n",
    "    fuel = 0\n",
    "    stage = mass\n",
    "    while True:\n",
    "        stage = stage//3 - 2\n",
    "        if stage <= 0:\n",
    "            break\n",
    "        fuel += stage\n",
    "    return fuel\n",
    "\n",
    "total_fuel(1969)"
   ]
  },
  {
   "cell_type": "code",
   "execution_count": 11,
   "metadata": {},
   "outputs": [
    {
     "data": {
      "text/plain": [
       "4849444"
      ]
     },
     "execution_count": 11,
     "metadata": {},
     "output_type": "execute_result"
    }
   ],
   "source": [
    "tots = sum(total_fuel(i) for i in inputs)\n",
    "tots"
   ]
  },
  {
   "cell_type": "code",
   "execution_count": 5,
   "metadata": {},
   "outputs": [
    {
     "data": {
      "text/plain": [
       "965"
      ]
     },
     "execution_count": 5,
     "metadata": {},
     "output_type": "execute_result"
    }
   ],
   "source": [
    "tots = 0\n",
    "extra = 1969\n",
    "while extra >= 0:\n",
    "    extra = extra//3 - 2\n",
    "    tots += extra\n",
    "    \n",
    "tots"
   ]
  }
 ],
 "metadata": {
  "kernelspec": {
   "display_name": "Python 3",
   "language": "python",
   "name": "python3"
  },
  "language_info": {
   "codemirror_mode": {
    "name": "ipython",
    "version": 3
   },
   "file_extension": ".py",
   "mimetype": "text/x-python",
   "name": "python",
   "nbconvert_exporter": "python",
   "pygments_lexer": "ipython3",
   "version": "3.7.3"
  }
 },
 "nbformat": 4,
 "nbformat_minor": 2
}
