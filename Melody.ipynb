{
 "cells": [
  {
   "cell_type": "code",
   "execution_count": 19,
   "metadata": {},
   "outputs": [
    {
     "name": "stdout",
     "output_type": "stream",
     "text": [
      "need a list.number for summ\n",
      "  list.number from parameters\n",
      "\n",
      "need a list.number for length\n",
      "  list.number from parameters\n",
      "\n",
      "need a number for divide\n",
      "  number from summ\n",
      "  number from length\n",
      "\n",
      "need a number for divide\n",
      "  number from summ\n",
      "  number from length\n",
      "\n",
      "need a number for ret\n",
      "  number from summ\n",
      "  number from length\n",
      "  number from divide\n",
      "\n"
     ]
    },
    {
     "data": {
      "text/plain": [
       "<__main__.Ribosome at 0x179312d2080>"
      ]
     },
     "execution_count": 19,
     "metadata": {},
     "output_type": "execute_result"
    }
   ],
   "source": [
    "class BondOut:\n",
    "    def __init__(self, kind, source):\n",
    "        self.kind = kind      # what am I?\n",
    "        self.source = source  # who produced me?\n",
    "        \n",
    "    def __str__(self):\n",
    "        return f'{self.kind} from {self.source.name}'\n",
    "    \n",
    "class BondIn:\n",
    "    def __init__(self, kind, receiver):\n",
    "        self.kind = kind\n",
    "        self.recip = receiver\n",
    "        \n",
    "    \n",
    "    def getListApplicableSources(self, outputs):\n",
    "        self.maybe = []\n",
    "        for b in outputs:\n",
    "            if b.source is self.recip:\n",
    "                continue  # no taking own output\n",
    "            \n",
    "            if b.kind == self.kind:\n",
    "                self.maybe.append(b)\n",
    "                    \n",
    "        return self.maybe\n",
    "                    \n",
    "    \n",
    "    def __str__(self):\n",
    "        return f'need a {self.kind} for {self.recip.name}'\n",
    "\n",
    "class Token:\n",
    "    def __init__(self, name, incoming, outgoing):\n",
    "        globals()[name] = self\n",
    "        self.name = name\n",
    "        self.incoming = [BondIn(i, self) for i in incoming]\n",
    "        self.outgoing = [BondOut(o, self) for o in outgoing]\n",
    "\n",
    "        \n",
    "\n",
    "Token('parameters', [], ['list.number'])\n",
    "Token('summ', ['list.number'], ['number'])\n",
    "Token('length', ['list.number'], ['number'])\n",
    "Token('divide', ['number', 'number'], ['number'])\n",
    "Token('ret', ['number'], [])\n",
    "\n",
    "\n",
    "class Ribosome:\n",
    "    def __init__(self, tokens):\n",
    "        self.tokens = tokens\n",
    "        \n",
    "        self.inputs = [i for t in self.tokens for i in t.incoming]\n",
    "        self.outputs = [i for t in self.tokens for i in t.outgoing]\n",
    "        \n",
    "        for b in self.inputs:\n",
    "            b.getListApplicableSources(self.outputs)\n",
    "            print(b)\n",
    "            for m in b.maybe:\n",
    "                print(' ', m)\n",
    "            print()\n",
    "            \n",
    "        for b in self.inputs:\n",
    "            \n",
    "            \n",
    "        \n",
    "        \n",
    "        \n",
    "        \n",
    "Ribosome([parameters, summ, length, divide, ret])"
   ]
  },
  {
   "cell_type": "markdown",
   "metadata": {},
   "source": [
    "for each possible input\n",
    "get list of applicable outputs"
   ]
  },
  {
   "cell_type": "code",
   "execution_count": 20,
   "metadata": {},
   "outputs": [
    {
     "ename": "AttributeError",
     "evalue": "'Bond' object has no attribute 'show'",
     "output_type": "error",
     "traceback": [
      "\u001b[1;31m---------------------------------------------------------------------------\u001b[0m",
      "\u001b[1;31mAttributeError\u001b[0m                            Traceback (most recent call last)",
      "\u001b[1;32m<ipython-input-20-c080604b462d>\u001b[0m in \u001b[0;36m<module>\u001b[1;34m\u001b[0m\n\u001b[0;32m      1\u001b[0m \u001b[0mb\u001b[0m \u001b[1;33m=\u001b[0m \u001b[0mBond\u001b[0m\u001b[1;33m(\u001b[0m\u001b[1;34m'foo'\u001b[0m\u001b[1;33m,\u001b[0m \u001b[1;36m3\u001b[0m\u001b[1;33m)\u001b[0m\u001b[1;33m\u001b[0m\u001b[1;33m\u001b[0m\u001b[0m\n\u001b[1;32m----> 2\u001b[1;33m \u001b[0mb\u001b[0m\u001b[1;33m.\u001b[0m\u001b[0mshow\u001b[0m\u001b[1;33m(\u001b[0m\u001b[1;33m)\u001b[0m\u001b[1;33m\u001b[0m\u001b[1;33m\u001b[0m\u001b[0m\n\u001b[0m",
      "\u001b[1;31mAttributeError\u001b[0m: 'Bond' object has no attribute 'show'"
     ]
    }
   ],
   "source": [
    "b = Bond('foo', 3)\n",
    "b.show()"
   ]
  },
  {
   "cell_type": "code",
   "execution_count": null,
   "metadata": {},
   "outputs": [],
   "source": []
  },
  {
   "cell_type": "code",
   "execution_count": null,
   "metadata": {},
   "outputs": [],
   "source": []
  },
  {
   "cell_type": "code",
   "execution_count": null,
   "metadata": {},
   "outputs": [],
   "source": []
  },
  {
   "cell_type": "code",
   "execution_count": null,
   "metadata": {},
   "outputs": [],
   "source": []
  },
  {
   "cell_type": "code",
   "execution_count": null,
   "metadata": {},
   "outputs": [],
   "source": []
  },
  {
   "cell_type": "code",
   "execution_count": null,
   "metadata": {},
   "outputs": [],
   "source": []
  },
  {
   "cell_type": "markdown",
   "metadata": {},
   "source": [
    "bond - type and requirements\n",
    "\n",
    "eg. gives list.number \"used 1+ times\"\n",
    "    \"any number of inputs may take my resultant list\"\n",
    "    \n",
    "eg. needs number \"used 1 time\"\n",
    "    \"I need exactly one numeric output\" \n",
    "    \n",
    "eg. needs bool \"used 0-1 times\"\n",
    "    \"I can have a bool provided, otherwise I default to <False>\"\n",
    "    \n"
   ]
  },
  {
   "cell_type": "code",
   "execution_count": 46,
   "metadata": {},
   "outputs": [
    {
     "name": "stdout",
     "output_type": "stream",
     "text": [
      "   div, len, sum\n",
      "div [-1.  0.  0.]\n",
      "div [-1.  0.  0.]\n",
      "func [0. 0. 0.]\n"
     ]
    },
    {
     "data": {
      "text/plain": [
       "<__main__.SolvingMatrix at 0x17931287940>"
      ]
     },
     "execution_count": 46,
     "metadata": {},
     "output_type": "execute_result"
    }
   ],
   "source": [
    "import numpy as np\n",
    "from itertools import product\n",
    "\n",
    "class Bond:\n",
    "    def __init__(self, atom, direction, kind):\n",
    "        self.kind = kind\n",
    "        self.atom = atom\n",
    "        \n",
    "        assert direction in ('gives', 'takes')\n",
    "        self.gives = direction == 'gives'\n",
    "        self.takes = direction == 'takes'\n",
    "        \n",
    "bonds = [\n",
    "    Bond('div', 'takes', 'number'),  # dividend\n",
    "    Bond('div', 'takes', 'number'), # divisor\n",
    "    Bond('div', 'gives', 'number'), # quotient\n",
    "    \n",
    "    Bond('len', 'takes', 'array'),\n",
    "    Bond('len', 'gives', 'number'),\n",
    "    \n",
    "    Bond('sum', 'takes', 'array'),\n",
    "    Bond('sum', 'gives', 'number'),\n",
    "    \n",
    "    Bond('func', 'gives', 'array'),  # param\n",
    "    Bond('func', 'takes', 'number'), # output\n",
    "]\n",
    "\n",
    "inputs = [b for b in bonds if b.takes and b.kind=='number']\n",
    "outputs = [b for b in bonds if b.gives and b.kind=='number']\n",
    "\n",
    "class SolvingMatrix:\n",
    "    def __init__(self, inputs, outputs):\n",
    "        # cell status, either \n",
    "        #  -- -1 / no match\n",
    "        #  --  1 / match\n",
    "        #  --  0 / ???\n",
    "        \n",
    "        self.inputs = inputs\n",
    "        self.outputs = outputs\n",
    "        self.matrix = np.zeros((len(inputs), len(outputs)))\n",
    "        \n",
    "        for (i_idx, i), (o_idx, o) in product(\n",
    "            enumerate(inputs), enumerate(outputs)):\n",
    "            \n",
    "            if o.atom == i.atom:\n",
    "                self.matrix[i_idx][o_idx] = -1\n",
    "                \n",
    "        self.show()\n",
    "        \n",
    "    def show(self):\n",
    "        print('  ', ', '.join(o.atom for o in self.outputs))\n",
    "        for i, line in zip(self.inputs, self.matrix):\n",
    "            print(i.atom, line)\n",
    "\n",
    "SolvingMatrix(inputs, outputs)\n"
   ]
  },
  {
   "cell_type": "code",
   "execution_count": 23,
   "metadata": {},
   "outputs": [
    {
     "data": {
      "text/plain": [
       "True"
      ]
     },
     "execution_count": 23,
     "metadata": {},
     "output_type": "execute_result"
    }
   ],
   "source": [
    "1 in range(1,2)"
   ]
  },
  {
   "cell_type": "code",
   "execution_count": null,
   "metadata": {},
   "outputs": [],
   "source": [
    "class Bond:\n",
    "    def __init__(self, kind, param=False, result=False, \n",
    "                 optional=False):\n",
    "        \n",
    "        self.kind = kind   # int / str / etc\n",
    "        \n",
    "        assert param ^ result\n",
    "        self.param = param   # an incoming bond / parameter\n",
    "        self.result = result   # an outgoing bond / return value\n",
    "        \n",
    "        self.min_uses = 1\n",
    "        if optional:\n",
    "            self.min_uses = 0\n",
    "            \n",
    "        self.max_uses = 1\n",
    "        if self.result:\n",
    "            self.max_uses = 999\n",
    "            # can be consumed by many other funcs\n",
    "        \n"
   ]
  },
  {
   "cell_type": "code",
   "execution_count": 49,
   "metadata": {},
   "outputs": [
    {
     "data": {
      "text/plain": [
       "False"
      ]
     },
     "execution_count": 49,
     "metadata": {},
     "output_type": "execute_result"
    }
   ],
   "source": []
  },
  {
   "cell_type": "code",
   "execution_count": null,
   "metadata": {},
   "outputs": [],
   "source": []
  },
  {
   "cell_type": "code",
   "execution_count": null,
   "metadata": {},
   "outputs": [],
   "source": []
  },
  {
   "cell_type": "code",
   "execution_count": null,
   "metadata": {},
   "outputs": [],
   "source": []
  },
  {
   "cell_type": "code",
   "execution_count": null,
   "metadata": {},
   "outputs": [],
   "source": []
  },
  {
   "cell_type": "code",
   "execution_count": null,
   "metadata": {},
   "outputs": [],
   "source": []
  },
  {
   "cell_type": "code",
   "execution_count": null,
   "metadata": {},
   "outputs": [],
   "source": []
  },
  {
   "cell_type": "code",
   "execution_count": null,
   "metadata": {},
   "outputs": [],
   "source": []
  },
  {
   "cell_type": "code",
   "execution_count": null,
   "metadata": {},
   "outputs": [],
   "source": []
  },
  {
   "cell_type": "code",
   "execution_count": 63,
   "metadata": {},
   "outputs": [
    {
     "data": {
      "text/plain": [
       "'\\naverage = sum / length\\neg. average [1, 2, 3] -> 2\\n    average [4, 5] -> 4.5\\n\\n'"
      ]
     },
     "execution_count": 63,
     "metadata": {},
     "output_type": "execute_result"
    }
   ],
   "source": [
    "'''\n",
    "ok = mod 3 or 5 equals 0\n",
    "eg. 1..10 where ok -> [3, 5, 6, 9, 10]\n",
    "\n",
    "sum 1..1000 where ok\n",
    "'''\n",
    "\n",
    "'''\n",
    "stringSplosion = concat slices to 1..\n",
    "eg. stringSplosion \"Code\" -> \"CCoCodCode\"\n",
    "'''\n",
    "\n",
    "'''\n",
    "average = sum / length\n",
    "eg. average [1, 2, 3] -> 2\n",
    "    average [4, 5] -> 4.5\n",
    "\n",
    "'''\n"
   ]
  },
  {
   "cell_type": "code",
   "execution_count": 65,
   "metadata": {},
   "outputs": [],
   "source": [
    "    \n",
    "class Bond:\n",
    "    def __init__(self, kind, param=False, result=False, \n",
    "                 optional=False):\n",
    "        \n",
    "        self.kind = kind   # int / str / etc\n",
    "        \n",
    "        assert param ^ result\n",
    "        self.param = param   # an incoming bond / parameter\n",
    "        self.result = result   # an outgoing bond / return value\n",
    "        \n",
    "        self.min_uses = 1\n",
    "        if optional:\n",
    "            self.min_uses = 0\n",
    "            \n",
    "        self.max_uses = 1\n",
    "        if self.result:\n",
    "            self.max_uses = 999\n",
    "            # can be consumed by many other funcs\n",
    "            \n",
    "    def satisfied(self, rowcol):\n",
    "        return self.min_uses <= rowcol <= self.max_uses"
   ]
  },
  {
   "cell_type": "code",
   "execution_count": 71,
   "metadata": {},
   "outputs": [],
   "source": [
    "class Store:\n",
    "    pass\n",
    "atom = Store()\n",
    "\n",
    "class Atom:\n",
    "    def __init__(self, name, bonds, py):\n",
    "        self.name = name\n",
    "        setattr(atom, name, self)\n",
    "        \n",
    "        self.bonds = bonds\n",
    "        for b in self.bonds:\n",
    "            b.atom = self\n",
    "            \n",
    "        self.py = py\n",
    "        \n",
    "    def __str__(self):\n",
    "        return '@.'+self.name\n",
    "    \n",
    "\n",
    "Atom(\n",
    "    name = 'text',\n",
    "    bonds = [Bond('string', result=True)],\n",
    "    py = lambda : 'hello world!'\n",
    ")\n",
    "\n",
    "Atom(\n",
    "    name='print',\n",
    "    bonds = [Bond('string', param=True)],\n",
    "    py = print\n",
    ")\n",
    "\n",
    "class Composer:\n",
    "    def __init__(self, atoms):\n",
    "        self.atoms = atoms\n",
    "    \n",
    "    def buildMaybeMasks(self):\n",
    "        pass\n",
    "    \n",
    "        \n",
    "\n"
   ]
  },
  {
   "cell_type": "code",
   "execution_count": null,
   "metadata": {},
   "outputs": [],
   "source": [
    "map bond type to matrix as \"solution\"\n",
    "eval solution\n",
    "tweak repeat\n"
   ]
  },
  {
   "cell_type": "code",
   "execution_count": null,
   "metadata": {},
   "outputs": [],
   "source": [
    "okay build the maybe arrays\n",
    "then brute force from maybe arrays"
   ]
  },
  {
   "cell_type": "code",
   "execution_count": null,
   "metadata": {},
   "outputs": [],
   "source": [
    "build vertical and horizontal maybe masks\n",
    "so row says I want one [not here, here, or here]\n",
    "[0, 1, 1]\n",
    "\n",
    "then see which direction has fewest possibilities\n",
    "permute across that direction\n",
    "each permutation\n",
    "    check the other direction fail fast\n",
    "    check the unit tests\n",
    "    "
   ]
  },
  {
   "cell_type": "code",
   "execution_count": null,
   "metadata": {},
   "outputs": [],
   "source": []
  }
 ],
 "metadata": {
  "kernelspec": {
   "display_name": "Python 3",
   "language": "python",
   "name": "python3"
  },
  "language_info": {
   "codemirror_mode": {
    "name": "ipython",
    "version": 3
   },
   "file_extension": ".py",
   "mimetype": "text/x-python",
   "name": "python",
   "nbconvert_exporter": "python",
   "pygments_lexer": "ipython3",
   "version": "3.7.3"
  }
 },
 "nbformat": 4,
 "nbformat_minor": 2
}
