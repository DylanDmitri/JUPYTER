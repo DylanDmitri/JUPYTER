{
 "cells": [
  {
   "cell_type": "code",
   "execution_count": 1,
   "metadata": {},
   "outputs": [
    {
     "data": {
      "text/plain": [
       "array([0., 0., 0., 0., 0., 0., 0.])"
      ]
     },
     "execution_count": 1,
     "metadata": {},
     "output_type": "execute_result"
    }
   ],
   "source": [
    "import numpy as np\n",
    "\n",
    "\"\"\"\n",
    "in\n",
    "    resource grids\n",
    "    item cost\n",
    "    \n",
    "limits\n",
    "    item cost\n",
    "        no more than 7 total\n",
    "        no more than \"3\" of one\n",
    "\n",
    "city \n",
    "    resources\n",
    "        no more than ~1000 permutations\n",
    "    \n",
    "\n",
    "for each resource\n",
    "until it's accounted for\n",
    "    \n",
    "\n",
    "\"\"\"\n",
    "\n",
    "def construction_costs(costs, resource_grids):\n",
    "    # remove all the \"for sures\"\n",
    "    \n",
    "    def search(costs):\n",
    "        \n",
    "    \n",
    "    \n",
    "    \n",
    "    \n",
    "\n",
    "np.zeros(7)\n"
   ]
  }
 ],
 "metadata": {
  "kernelspec": {
   "display_name": "Python 3",
   "language": "python",
   "name": "python3"
  },
  "language_info": {
   "codemirror_mode": {
    "name": "ipython",
    "version": 3
   },
   "file_extension": ".py",
   "mimetype": "text/x-python",
   "name": "python",
   "nbconvert_exporter": "python",
   "pygments_lexer": "ipython3",
   "version": "3.7.3"
  }
 },
 "nbformat": 4,
 "nbformat_minor": 2
}
