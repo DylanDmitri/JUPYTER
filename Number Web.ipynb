{
 "cells": [
  {
   "cell_type": "code",
   "execution_count": 217,
   "metadata": {},
   "outputs": [
    {
     "data": {
      "text/plain": [
       "[4, 6, 8]"
      ]
     },
     "execution_count": 217,
     "metadata": {},
     "output_type": "execute_result"
    }
   ],
   "source": [
    "class Game:\n",
    "    def __init__(self, space):\n",
    "        self.space = set(space)\n",
    "        self.previous = None\n",
    "        self.makemove(1)\n",
    "\n",
    "    def makemove(self, i):\n",
    "        self.space.remove(i)\n",
    "        self.previous = i\n",
    "        self.ok = self.possible(i)\n",
    "    \n",
    "    def possible(self, val):\n",
    "        return [n for n in self.space if\n",
    "                   (n<=val) != (val%n==0 or n%val==0)]\n",
    "    \n",
    "g = Game(range(1,9))\n",
    "g.possible(2)"
   ]
  },
  {
   "cell_type": "code",
   "execution_count": 223,
   "metadata": {},
   "outputs": [
    {
     "name": "stdout",
     "output_type": "stream",
     "text": [
      "True\n",
      "True\n",
      "True\n",
      "False\n",
      "True\n",
      "True\n",
      "False\n"
     ]
    }
   ],
   "source": [
    "# ======== \n",
    "# GREEDY PAGERANK\n",
    "def greedy(game): \n",
    "    if len(game.ok) == 1:\n",
    "        return game.ok[0]\n",
    "    \n",
    "    # logic\n",
    "    links = {i:game.possible(i) for i in game.space}    \n",
    "    scores = {i:100 for i in links}\n",
    "\n",
    "    for _ in range(50):\n",
    "        new = {i:0 for i in links}\n",
    "        for i, amount in scores.items():\n",
    "            amount /= len(links[i])+1\n",
    "            for child in links[i]:\n",
    "                new[child] += amount\n",
    "            new[i] += amount\n",
    "        scores = new\n",
    "    \n",
    "    # ignore the highest score\n",
    "    best = max(scores.keys(), key=scores.__getitem__)\n",
    "    def effective_score(i):\n",
    "#         if i == best:\n",
    "#             return 0\n",
    "        return scores[i]\n",
    "        \n",
    "#     print(links)\n",
    "#     print(scores)\n",
    "    return max(game.ok, key=effective_score)\n",
    "\n",
    "\n",
    "\n",
    "def test(nums, seq, result):\n",
    "    g = Game(nums)\n",
    "    for i in seq:\n",
    "        g.makemove(i)\n",
    "    print(greedy(g) == result)\n",
    "\n",
    "test(range(1,9), [3,2], 4)\n",
    "test(range(1,9), [3,6], 4)\n",
    "\n",
    "test(range(1,9), [4,3], 2)\n",
    "test(range(1,9), [4,8], 5)\n",
    "\n",
    "test(range(1,9), [6], 4)\n",
    "test(range(1,9), [6, 4, 3], 2)\n",
    "test(range(1,9), [6, 4, 8], 5)\n",
    "\n",
    "# greedy(Game(range(1,9)))\n",
    "# wild(Game(range(1,9)))"
   ]
  },
  {
   "cell_type": "markdown",
   "metadata": {},
   "source": [
    "3 (2 -> 6)\n",
    "4 (8 -> 3)\n",
    "6 (5 -> 4)\n",
    "\n",
    "In a 2-8 game,\n",
    "lose by picking either: 2, 8, 5\n",
    "\n",
    "p1 PICKS\n",
    "starting moves: 3, 4, 6, 7\n",
    "\n",
    "STARTING \"3\", win\n",
    "3>2  \"p1 wins\" 3>2>4>8>5\n",
    "3>6  \"p1 wins\" 3>6>4>8>2\n",
    "\n",
    "STARTING \"4\", win\n",
    "4>3  \"p1 wins\" 4>3>2>68>5\n",
    "4>8  \"p1 wins\" 4>8>5>23>6\n",
    "\n",
    "starting \"6\", lose\n",
    "6>4  ???\n",
    "    6>4>3>2>8>5  lose by following with 3\n",
    "    6>4>8        lose\n",
    "6>5  \"p1 wins\" 6>5>2>48>3\n",
    "\n",
    "starting \"7\", lose\n",
    "7>3  \"p2 wins\" via forcing the 3 pattern\n",
    "\n",
    "\n",
    "6>4>8"
   ]
  }
 ],
 "metadata": {
  "kernelspec": {
   "display_name": "Python 3",
   "language": "python",
   "name": "python3"
  },
  "language_info": {
   "codemirror_mode": {
    "name": "ipython",
    "version": 3
   },
   "file_extension": ".py",
   "mimetype": "text/x-python",
   "name": "python",
   "nbconvert_exporter": "python",
   "pygments_lexer": "ipython3",
   "version": "3.7.3"
  }
 },
 "nbformat": 4,
 "nbformat_minor": 2
}
