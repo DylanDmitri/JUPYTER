{
 "cells": [
  {
   "cell_type": "code",
   "execution_count": 2,
   "metadata": {},
   "outputs": [],
   "source": [
    "import itertools as it\n",
    "import numpy as np\n",
    "import random\n",
    "# import cobra\n",
    "import re"
   ]
  },
  {
   "cell_type": "code",
   "execution_count": 3,
   "metadata": {},
   "outputs": [],
   "source": [
    "class CreateNetwork():\n",
    "    # given a set of monomers and a max polymer length, generate a network\n",
    "    def __init__(self, monos, max_len):\n",
    "        self.met_list = self.make_met_list(monos, max_len)\n",
    "        (self.rxn_list, self.rxn_dict) = self.make_rxns(self.met_list)\n",
    "        self.edgelist = self.make_edgelist(self.rxn_list, self.rxn_dict)\n",
    "        self.S = self.make_stoich_mat(self.rxn_list, self.met_list)\n",
    "\n",
    "    # given a list of monomers and a maximum polymer length, make a list of all\n",
    "    # possible metabolites\n",
    "    def make_met_list(self, monos, max_len):\n",
    "        all_mets = []\n",
    "        for i in range(1, max_len+1):\n",
    "            # will return tuples of monomers\n",
    "            some_mets_tuple = it.product(monos, repeat = i)\n",
    "            # make it a list of lists because tuples are annoying\n",
    "            some_mets_list = [list(t) for t in some_mets_tuple]\n",
    "            # collapse each list of monomers into a string\n",
    "            some_mets = [''.join(mono_list) for mono_list in some_mets_list]\n",
    "            all_mets.extend(some_mets)\n",
    "        return(all_mets)\n",
    "\n",
    "    # find all decomposition reactions for all metabolites\n",
    "    # only considering mono/bimolecular breakdowns because irl we know higher\n",
    "    # molecularity reactions tend not to happen\n",
    "    def make_rxns(self, met_list):\n",
    "        rxn_list = [] # will hold a list of the reactions\n",
    "        rxn_dict = {} # will hold key-value pairs connecting reactions to the\n",
    "                       # chemical species involved in them\n",
    "        for met in met_list:\n",
    "            if len(met) > 1:\n",
    "                for i in range(1, len(met)):\n",
    "                    start = met[0:i]\n",
    "                    end = met[i:]\n",
    "                    rxn = [met, '->', start, '+', end]\n",
    "                    # make sure the same reaction with products in the opposite\n",
    "                    # order isn't already in the reactions list\n",
    "                    rev_rxn = [met, '->', end, '+', start]\n",
    "                    if rev_rxn in rxn_list:\n",
    "                        pass\n",
    "                    else:\n",
    "                        rxn_string = ' '.join(rxn)\n",
    "                        rxn_list.append(rxn_string)\n",
    "                        rxn_dict[rxn_string] = [met, start, end]\n",
    "        return(rxn_list, rxn_dict)\n",
    "\n",
    "    def make_stoich_mat(self, rxn_list, met_list):\n",
    "        # one column per metabolite and one row per reaction\n",
    "        S = np.zeros((len(rxn_list), len(met_list)))\n",
    "        # for each reaction, change all the appropriate zeros to actual numbers\n",
    "        for i in range(0, len(rxn_list)):\n",
    "            # technically we don't need to make all these variables but giving\n",
    "            # things names makes this significantly more legible imo\n",
    "            ref_rxn = rxn_list[i]\n",
    "            bits = ref_rxn.split(' -> ')\n",
    "            reacs = bits[0].split(' + ')\n",
    "            prods = bits[1].split(' + ')\n",
    "            # find the indices for each of these substances in met_list so we\n",
    "            # edit the appropriate column in S\n",
    "            for met in reacs:\n",
    "                S[i,met_list.index(met)] = -1\n",
    "            for met in prods:\n",
    "                # add 1 instead of assigning 1 in case two products are\n",
    "                # the same, e.g. 'adad -> ad + ad'\n",
    "                S[i,met_list.index(met)] += 1.0\n",
    "        return(S)\n",
    "\n",
    "    # make an edgelist so this network can be easily imported into Cytoscape or\n",
    "    # somthing for visualization\n",
    "    def make_edgelist(self, rxn_list, rxn_dict):\n",
    "        edgelist = []\n",
    "        for rxn in rxn_list:\n",
    "            # could use less code but this is easier to interpret for humans\n",
    "            reac = rxn_dict[rxn][0]\n",
    "            prod1 = rxn_dict[rxn][1]\n",
    "            prod2 = rxn_dict[rxn][2]\n",
    "            edgelist.append([rxn, reac])\n",
    "            edgelist.append([rxn, prod1])\n",
    "            edgelist.append([rxn, prod2])\n",
    "        return(edgelist)"
   ]
  },
  {
   "cell_type": "code",
   "execution_count": 5,
   "metadata": {},
   "outputs": [],
   "source": [
    "# randomly choose reactions to remove given a removal probability\n",
    "# removing edges is in-place, so we have to make a copy of the original graph so\n",
    "# we don't modify it as well\n",
    "def remove_random_rxns(more_rxns, S, prob):\n",
    "    # randomly pick reactions to remove\n",
    "    to_remove = []\n",
    "    for rxn in more_rxns:\n",
    "        if random.random() < prob:\n",
    "            to_remove.append(rxn)\n",
    "        else:\n",
    "            pass\n",
    "    # remove those reactions from the reaction list and stoichiometric matrix\n",
    "    less_rxns = [x for x in more_rxns if x not in to_remove]\n",
    "    # indices in more_rxns are the row indices of S\n",
    "    indices = [more_rxns.index(x) for x in less_rxns]\n",
    "    smaller_S = S[indices,]\n",
    "    return(less_rxns, smaller_S)"
   ]
  },
  {
   "cell_type": "code",
   "execution_count": 1,
   "metadata": {},
   "outputs": [
    {
     "ename": "NameError",
     "evalue": "name 'CreateNetwork' is not defined",
     "output_type": "error",
     "traceback": [
      "\u001b[1;31m---------------------------------------------------------------------------\u001b[0m",
      "\u001b[1;31mNameError\u001b[0m                                 Traceback (most recent call last)",
      "\u001b[1;32m<ipython-input-1-7daa4bfd6450>\u001b[0m in \u001b[0;36m<module>\u001b[1;34m\u001b[0m\n\u001b[1;32m----> 1\u001b[1;33m \u001b[0mCreateNetwork\u001b[0m\u001b[1;33m(\u001b[0m\u001b[1;34m'ab'\u001b[0m\u001b[1;33m,\u001b[0m \u001b[1;36m3\u001b[0m\u001b[1;33m)\u001b[0m\u001b[1;33m.\u001b[0m\u001b[0medgelist\u001b[0m\u001b[1;33m\u001b[0m\u001b[1;33m\u001b[0m\u001b[0m\n\u001b[0m",
      "\u001b[1;31mNameError\u001b[0m: name 'CreateNetwork' is not defined"
     ]
    }
   ],
   "source": [
    "CreateNetwork('ab', 3).edgelist"
   ]
  },
  {
   "cell_type": "code",
   "execution_count": 1,
   "metadata": {},
   "outputs": [
    {
     "name": "stdout",
     "output_type": "stream",
     "text": [
      "blaster 0.135\n",
      "heavy 0.14833333333333334\n",
      "bolter 0.16666666666666666\n",
      "beam 0.125\n",
      "point 0.5\n"
     ]
    }
   ],
   "source": [
    "print('blaster', .27/2)\n",
    "print('heavy',   .89/6)\n",
    "print('bolter',  .50/3)\n",
    "print('beam',   1.25/10)\n",
    "print('point',   .50/1)"
   ]
  },
  {
   "cell_type": "code",
   "execution_count": 2,
   "metadata": {},
   "outputs": [
    {
     "name": "stdout",
     "output_type": "stream",
     "text": [
      "yaciucxwuxynqnhmcvyy\n"
     ]
    }
   ],
   "source": [
    "from string import ascii_lowercase\n",
    "from random import choice\n",
    "\n",
    "print(''.join(choice(ascii_lowercase) for _ in range(20)))"
   ]
  }
 ],
 "metadata": {
  "kernelspec": {
   "display_name": "Python 3",
   "language": "python",
   "name": "python3"
  },
  "language_info": {
   "codemirror_mode": {
    "name": "ipython",
    "version": 3
   },
   "file_extension": ".py",
   "mimetype": "text/x-python",
   "name": "python",
   "nbconvert_exporter": "python",
   "pygments_lexer": "ipython3",
   "version": "3.7.3"
  }
 },
 "nbformat": 4,
 "nbformat_minor": 2
}
