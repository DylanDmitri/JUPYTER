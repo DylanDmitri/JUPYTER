{
 "cells": [
  {
   "cell_type": "code",
   "execution_count": 6,
   "metadata": {},
   "outputs": [],
   "source": [
    "SPLIT_YELLOW_BELT_THROUGHPUT = 3_000"
   ]
  },
  {
   "cell_type": "code",
   "execution_count": 44,
   "metadata": {},
   "outputs": [
    {
     "name": "stdout",
     "output_type": "stream",
     "text": [
      "383.94 raw wood\n",
      "375.00 wood burnt\n",
      "372.97 charcoal produced\n",
      "need 4.14 engines \n"
     ]
    }
   ],
   "source": [
    "farm = 48\n",
    "furnace = 3\n",
    "\n",
    "wood_insertion = 0.01\n",
    "charcoal_insertion = 0.005\n",
    "\n",
    "wood_produced = 2*( 4*farm - 3*wood_insertion )  \n",
    "print(f'{wood_produced:.2f} raw wood')\n",
    "\n",
    "max_wood_consumption = 5*( 25*furnace)\n",
    "wood_consumed = min(max_wood_consumption, wood_produced, SPLIT_YELLOW_BELT_THROUGHPUT)\n",
    "print(f'{wood_consumed:.2f} wood burnt')\n",
    "\n",
    "charcoal_efficiency = (25 - 9*wood_insertion - 9*charcoal_insertion) / 25\n",
    "charcoal_produced = wood_consumed * charcoal_efficiency\n",
    "\n",
    "print(f'{charcoal_produced:.2f} charcoal produced')\n",
    "\n",
    "engines_needed = charcoal_produced / 90\n",
    "\n",
    "print(f'need {engines_needed:.2f} engines ')"
   ]
  },
  {
   "cell_type": "code",
   "execution_count": 31,
   "metadata": {},
   "outputs": [
    {
     "data": {
      "text/plain": [
       "1.8108651911468814"
      ]
     },
     "execution_count": 31,
     "metadata": {},
     "output_type": "execute_result"
    }
   ],
   "source": [
    "area = 28 * 71\n",
    "\n",
    "3600 / area"
   ]
  },
  {
   "cell_type": "code",
   "execution_count": 32,
   "metadata": {},
   "outputs": [
    {
     "data": {
      "text/plain": [
       "8.333333333333334"
      ]
     },
     "execution_count": 32,
     "metadata": {},
     "output_type": "execute_result"
    }
   ],
   "source": [
    "75/9"
   ]
  },
  {
   "cell_type": "markdown",
   "metadata": {},
   "source": [
    "1.810 kW per tile"
   ]
  }
 ],
 "metadata": {
  "kernelspec": {
   "display_name": "Python 3",
   "language": "python",
   "name": "python3"
  },
  "language_info": {
   "codemirror_mode": {
    "name": "ipython",
    "version": 3
   },
   "file_extension": ".py",
   "mimetype": "text/x-python",
   "name": "python",
   "nbconvert_exporter": "python",
   "pygments_lexer": "ipython3",
   "version": "3.7.3"
  }
 },
 "nbformat": 4,
 "nbformat_minor": 2
}
