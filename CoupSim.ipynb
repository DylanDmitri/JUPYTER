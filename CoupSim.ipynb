{
 "cells": [
  {
   "cell_type": "markdown",
   "metadata": {},
   "source": [
    "### 2 player coup game\n",
    "\n",
    "on your turn\n",
    " - income\n",
    " - foreign aid -> (block duke)\n",
    " - coup (+7)\n",
    " - claim duke\n",
    " - claim ambassador\n",
    " - claim assassin (+3) -> (block contessa)\n",
    " - claim captain -> (block ambassador/captain)\n",
    "\n",
    " \n",
    "action of \"I claim role ___ \"\n",
    "\n",
    "Choose one of seven actions\n",
    "    Enemy can challenge\n",
    "    Enemy can counteraction\n",
    "        Player can challenge\n",
    "        "
   ]
  },
  {
   "cell_type": "code",
   "execution_count": null,
   "metadata": {},
   "outputs": [],
   "source": [
    "\n",
    "class Role:\n",
    "    Empty = None\n",
    "    Duke = 'duke'\n",
    "    Ambassador = 'ambassador'\n",
    "    Assassin = 'assassin'\n",
    "    Captain = 'captain'\n",
    "    Contessa = 'contessa'\n",
    "    \n",
    "\n",
    "# class gamestate\n",
    "# gamestate.get_valid_moves\n",
    "\n",
    "\n",
    "class Player:\n",
    "    def __init__(self):\n",
    "        self.coins = 2\n",
    "        self.role1 = Role.Empty\n",
    "        self.role2 = Role.Empty\n",
    "\n",
    "class GameState:\n",
    "    def __init__(self):\n",
    "        self.players = []\n",
    "\n",
    "    \n",
    "\n",
    "\n",
    "\n"
   ]
  },
  {
   "cell_type": "code",
   "execution_count": 6,
   "metadata": {},
   "outputs": [
    {
     "data": {
      "text/plain": [
       "[1, 5, 2, 6, 3]"
      ]
     },
     "execution_count": 6,
     "metadata": {},
     "output_type": "execute_result"
    }
   ],
   "source": [
    "import numpy as np\n",
    "\n",
    "a = [1, 5, 3, 2, 6]\n",
    "np.random.shuffle(a)\n",
    "a"
   ]
  },
  {
   "cell_type": "code",
   "execution_count": 10,
   "metadata": {},
   "outputs": [
    {
     "data": {
      "text/plain": [
       "[]"
      ]
     },
     "execution_count": 10,
     "metadata": {},
     "output_type": "execute_result"
    }
   ],
   "source": [
    "\n",
    "    \n",
    "\n",
    "class Player:\n",
    "    def __init__(self, coin=2):\n",
    "        self.coin = 0\n",
    "        self.roles = []\n",
    "    \n",
    "Player().roles    "
   ]
  },
  {
   "cell_type": "code",
   "execution_count": 53,
   "metadata": {},
   "outputs": [
    {
     "name": "stdout",
     "output_type": "stream",
     "text": [
      "$2, ['ambassador', 'captain']\n",
      "$2, ['captain', 'contessa']\n",
      "$2, ['assassin', 'assassin']\n",
      "turn of player 0\n"
     ]
    }
   ],
   "source": [
    "class Gamestate:\n",
    "    \n",
    "    def __init__(self):\n",
    "        self.deck = list(np.array([\n",
    "            [Role.Duke]*3,\n",
    "            [Role.Ambassador]*3,\n",
    "            [Role.Assassin]*3,\n",
    "            [Role.Captain]*3,\n",
    "            [Role.Contessa]*3,\n",
    "        ]).flatten())\n",
    "        \n",
    "        self.exile = []\n",
    "    \n",
    "    def shuffle(self):\n",
    "        np.random.shuffle(self.deck)\n",
    "        \n",
    "    def deal_to(self, player):\n",
    "        player.roles.append(self.deck.pop())\n",
    "        \n",
    "    def display(self):\n",
    "        for p in self.players:\n",
    "            print(f\"${p.coin}, {p.roles}\") \n",
    "        \n",
    "    @classmethod\n",
    "    def new_base_game(cls, num_players):\n",
    "        self = cls()\n",
    "        self.shuffle()\n",
    "        \n",
    "        self.players = []\n",
    "        for _ in range(num_players):\n",
    "            p = Player()\n",
    "            p.coin = 2\n",
    "            self.deal_to(p)\n",
    "            self.deal_to(p)\n",
    "            self.players.append(p)\n",
    "            \n",
    "        self.active = 0\n",
    "        \n",
    "        return self\n",
    "  \n",
    "    def base_game(self):\n",
    "        self.shuffle()\n",
    "        for p in self.players:\n",
    "            p.coin = 2\n",
    "            self.deal_to(p)\n",
    "            self.deal_to(p)\n",
    "            \n",
    "    def take_turn(self):\n",
    "        print(f'turn of player {self.active}')\n",
    "        \n",
    "\n",
    "        \n",
    "        \n",
    "game = Gamestate.new_base_game(3)\n",
    "\n",
    "game.display()\n",
    "game.take_turn()"
   ]
  }
 ],
 "metadata": {
  "kernelspec": {
   "display_name": "Python 3",
   "language": "python",
   "name": "python3"
  },
  "language_info": {
   "codemirror_mode": {
    "name": "ipython",
    "version": 3
   },
   "file_extension": ".py",
   "mimetype": "text/x-python",
   "name": "python",
   "nbconvert_exporter": "python",
   "pygments_lexer": "ipython3",
   "version": "3.7.3"
  }
 },
 "nbformat": 4,
 "nbformat_minor": 2
}
