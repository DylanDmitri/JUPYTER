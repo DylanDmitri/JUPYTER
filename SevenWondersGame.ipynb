{
 "cells": [
  {
   "cell_type": "markdown",
   "metadata": {},
   "source": [
    "\n",
    "cost:\n",
    " - materials\n",
    " - prereq\n",
    "    \n",
    "gives:\n",
    " - material,\n",
    " - coins on play,\n",
    " - trade discounts,\n",
    " - vp (at scoring),\n",
    " - military,\n",
    " - science\n",
    "\n",
    "conditional:\n",
    " - per color(s) of card \n",
    " - per wonder stage completed\n",
    " - per defeat token\n",
    " - among (me / neighbors / me & neighbors) \n",
    "\n"
   ]
  },
  {
   "cell_type": "markdown",
   "metadata": {},
   "source": [
    "```\n",
    "Worker Guild ::\n",
    "    cost: 2metal 1brick 1stone 1trees\n",
    "    gives: [vp] per [brown card] among [neighbors]\n",
    "\n",
    "Crafts Guild ::\n",
    "    cost: 2metal 2stone\n",
    "    gives: [vp] per [grey card] among [neighbors]\n",
    "    gives: [vp] per [grey card] among [neighbors]\n",
    "    \n",
    "Shippers Guild ::\n",
    "    cost: 3wood 1paper 1glass\n",
    "    gives: [vp] per [grey card] among [me]\n",
    "    gives: [vp] per [brown card] among [me]\n",
    "    gives: [vp] per [purple card] among [me]\n",
    "    \n",
    "Arena ::\n",
    "    cost: 1metal 2stone\n",
    "    cost: Dispensary\n",
    "    gives: [vp] per [wonder stage] among [me]\n",
    "    gives: [3coin] per [wonder stage] among [me]\n",
    "```"
   ]
  },
  {
   "cell_type": "markdown",
   "metadata": {},
   "source": [
    "```\n",
    "card: (frequency, cost, effects, color)\n",
    "\n",
    "cost: (?resources, ?card)\n",
    "effects: [](effect, condition, (me?, neighbors?))\n",
    "    effect: resources | coins | discounts | vp | military | science\n",
    "    condition: always | color | stages | defeats\n",
    "color: wonder | brown | grey | blue | red | green | purple | gold\n",
    "\n",
    "\n",
    "resources: [trees brick stone metal cloth glass paper]\n",
    "science: [a, b, c, choice]\n",
    "\n",
    "discounts: (base left?, base right?, crafts?]\n",
    "\n",
    "additional wonder effects - reclaim, free construction, double play \n",
    "\n",
    "```"
   ]
  },
  {
   "cell_type": "code",
   "execution_count": 9,
   "metadata": {},
   "outputs": [
    {
     "data": {
      "text/plain": [
       "Resources(Trees=1, Brick=0, Stone=0, Metal=0, Cloth=0, Paper=0, Glass=0)"
      ]
     },
     "execution_count": 9,
     "metadata": {},
     "output_type": "execute_result"
    }
   ],
   "source": [
    "from dataclasses import dataclass\n",
    "\n",
    "class Color:\n",
    "    Wonder = 0\n",
    "    Brown = 1\n",
    "    Grey = 2\n",
    "    Blue = 3\n",
    "    Red = 4\n",
    "    Green = 5\n",
    "    Purple = 6\n",
    "    Gold = 7\n",
    "    \n",
    "@dataclass\n",
    "class Resources:\n",
    "    Coins: int = 0\n",
    "    Trees: int = 0\n",
    "    Brick: int = 0\n",
    "    Stone: int = 0\n",
    "    Metal: int = 0\n",
    "    Cloth: int = 0\n",
    "    Paper: int = 0\n",
    "    Glass: int = 0\n",
    "    Either: bool = False\n",
    "\n",
    "class Effect:\n",
    "    def __init__(self, benefit, per=None, \n",
    "                 countSelf=None, countNeighbors=None):\n",
    "\n",
    "        # resources | discounts | vp | coins | military | science\n",
    "        # reclaim | free construction | double play\n",
    "        self.benefit = benefit\n",
    "        \n",
    "        # None=Always | Per Color | Per Defeat\n",
    "        self.per = per\n",
    "        \n",
    "        if self.per:\n",
    "            assert type(self.CountSelf) is bool\n",
    "            assert type(self.CountNeighbors) is bool\n",
    "        self.CountSelf = None\n",
    "        self.CountNeighbors = None\n",
    "        "
   ]
  },
  {
   "cell_type": "code",
   "execution_count": 10,
   "metadata": {},
   "outputs": [
    {
     "ename": "NameError",
     "evalue": "name 'Effect' is not defined",
     "output_type": "error",
     "traceback": [
      "\u001b[1;31m---------------------------------------------------------------------------\u001b[0m",
      "\u001b[1;31mNameError\u001b[0m                                 Traceback (most recent call last)",
      "\u001b[1;32m<ipython-input-10-a8dde5ef643d>\u001b[0m in \u001b[0;36m<module>\u001b[1;34m\u001b[0m\n\u001b[0;32m     20\u001b[0m      \u001b[0mcost\u001b[0m\u001b[1;33m=\u001b[0m\u001b[1;32mNone\u001b[0m\u001b[1;33m,\u001b[0m\u001b[1;33m\u001b[0m\u001b[1;33m\u001b[0m\u001b[0m\n\u001b[0;32m     21\u001b[0m      effects=[\n\u001b[1;32m---> 22\u001b[1;33m          \u001b[0mEffect\u001b[0m\u001b[1;33m(\u001b[0m\u001b[0mResources\u001b[0m\u001b[1;33m(\u001b[0m\u001b[0mTrees\u001b[0m\u001b[1;33m=\u001b[0m\u001b[1;36m1\u001b[0m\u001b[1;33m)\u001b[0m\u001b[1;33m)\u001b[0m\u001b[1;33m\u001b[0m\u001b[1;33m\u001b[0m\u001b[0m\n\u001b[0m\u001b[0;32m     23\u001b[0m      ]\n\u001b[0;32m     24\u001b[0m )\n",
      "\u001b[1;31mNameError\u001b[0m: name 'Effect' is not defined"
     ]
    }
   ],
   "source": [
    "cards = []\n",
    "\n",
    "class Card:\n",
    "    def __init__(self, name, color, \n",
    "                 cost=None, buildsFrom=None,\n",
    "                 effects=[]):\n",
    "        \n",
    "        self.name = name\n",
    "        self.color = color\n",
    "        \n",
    "        self.cost = cost\n",
    "        self.buildsFrom = buildsFrom\n",
    "        \n",
    "        cards.append(self)\n",
    "        \n",
    "    def count(self, num_players):\n",
    "        return sum(i >= num_players for i in self.player_cutoffs)\n",
    "        \n",
    "Card(\"Lumber Yard\", Color.Brown,\n",
    "     cost=None,\n",
    "     effects=[\n",
    "         Effect(Resources(Trees=1))\n",
    "     ]\n",
    ")\n",
    "\n",
    "Card(\"Mine\", Color.Brown,\n",
    "    cost=Resources(Coins=1),\n",
    "    effects=[\n",
    "        Effect(Resources(Stone=1, Metal=1, Either=True))\n",
    "    ]\n",
    ")\n",
    "\n",
    "Card(\"East Trading\", Color.Gold,\n",
    "    cost=None,\n",
    "    effects=[\n",
    "        Effect(Resources())\n",
    "        \n",
    "    ])"
   ]
  },
  {
   "cell_type": "code",
   "execution_count": 13,
   "metadata": {},
   "outputs": [],
   "source": [
    "import sys"
   ]
  },
  {
   "cell_type": "code",
   "execution_count": 14,
   "metadata": {},
   "outputs": [
    {
     "data": {
      "text/plain": [
       "'3.7.3 (default, Apr 24 2019, 15:29:51) [MSC v.1915 64 bit (AMD64)]'"
      ]
     },
     "execution_count": 14,
     "metadata": {},
     "output_type": "execute_result"
    }
   ],
   "source": [
    "sys.version"
   ]
  }
 ],
 "metadata": {
  "kernelspec": {
   "display_name": "Python 3",
   "language": "python",
   "name": "python3"
  },
  "language_info": {
   "codemirror_mode": {
    "name": "ipython",
    "version": 3
   },
   "file_extension": ".py",
   "mimetype": "text/x-python",
   "name": "python",
   "nbconvert_exporter": "python",
   "pygments_lexer": "ipython3",
   "version": "3.7.3"
  }
 },
 "nbformat": 4,
 "nbformat_minor": 2
}
