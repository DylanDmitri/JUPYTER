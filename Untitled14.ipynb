{
 "cells": [
  {
   "cell_type": "code",
   "execution_count": 3,
   "metadata": {},
   "outputs": [],
   "source": [
    "import pyarrow as pa"
   ]
  },
  {
   "cell_type": "code",
   "execution_count": 15,
   "metadata": {},
   "outputs": [
    {
     "ename": "ValueError",
     "evalue": "Non-fixed width type",
     "output_type": "error",
     "traceback": [
      "\u001b[1;31m---------------------------------------------------------------------------\u001b[0m",
      "\u001b[1;31mValueError\u001b[0m                                Traceback (most recent call last)",
      "\u001b[1;32m<ipython-input-15-64b83c2a3a9e>\u001b[0m in \u001b[0;36m<module>\u001b[1;34m\u001b[0m\n\u001b[0;32m      7\u001b[0m \u001b[0mdir\u001b[0m\u001b[1;33m(\u001b[0m\u001b[0mscience\u001b[0m\u001b[1;33m)\u001b[0m\u001b[1;33m\u001b[0m\u001b[1;33m\u001b[0m\u001b[0m\n\u001b[0;32m      8\u001b[0m \u001b[1;33m\u001b[0m\u001b[0m\n\u001b[1;32m----> 9\u001b[1;33m \u001b[0mscience\u001b[0m\u001b[1;33m.\u001b[0m\u001b[0mbit_width\u001b[0m\u001b[1;33m\u001b[0m\u001b[1;33m\u001b[0m\u001b[0m\n\u001b[0m",
      "\u001b[1;32m~\\Anaconda3\\lib\\site-packages\\pyarrow\\types.pxi\u001b[0m in \u001b[0;36mpyarrow.lib.DataType.bit_width.__get__\u001b[1;34m()\u001b[0m\n",
      "\u001b[1;31mValueError\u001b[0m: Non-fixed width type"
     ]
    }
   ],
   "source": [
    "color = {\n",
    "    'red': boolean,\n",
    "    'green': boolean,\n",
    "}\n",
    "\n",
    "card = {\n",
    "    'color': color,\n",
    "    'cost': resource,\n",
    "    \n",
    "    'coin': number,\n",
    "}\n",
    "\n",
    "city = {\n",
    "    'wonders': array(4, card),\n",
    "    'built': array(22, card),\n",
    "}\n",
    "\n",
    "science = pa.struct([\n",
    "    ('compass', pa.bool_()),\n",
    "    ('tablet', pa.bool_()),\n",
    "    ('gear', pa.bool_())\n",
    "])\n",
    "\n",
    "\n",
    "science.bit_width"
   ]
  }
 ],
 "metadata": {
  "kernelspec": {
   "display_name": "Python 3",
   "language": "python",
   "name": "python3"
  },
  "language_info": {
   "codemirror_mode": {
    "name": "ipython",
    "version": 3
   },
   "file_extension": ".py",
   "mimetype": "text/x-python",
   "name": "python",
   "nbconvert_exporter": "python",
   "pygments_lexer": "ipython3",
   "version": "3.7.3"
  }
 },
 "nbformat": 4,
 "nbformat_minor": 2
}
