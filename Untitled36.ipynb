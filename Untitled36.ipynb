{
 "cells": [
  {
   "cell_type": "code",
   "execution_count": null,
   "metadata": {},
   "outputs": [],
   "source": [
    "steps = [line[0], int(line[1:])\n",
    "   for line in open('data.txt')]"
   ]
  },
  {
   "cell_type": "code",
   "execution_count": 1,
   "metadata": {},
   "outputs": [],
   "source": [
    "steps = [\n",
    "    'F10',\n",
    "    'N3',\n",
    "    'F7',\n",
    "    'R90',\n",
    "    'F11',\n",
    "]\n",
    "\n",
    "steps = [(line[0], int(line[1:])) for line in steps]"
   ]
  },
  {
   "cell_type": "code",
   "execution_count": 12,
   "metadata": {},
   "outputs": [
    {
     "name": "stdout",
     "output_type": "stream",
     "text": [
      "F10   1 (10+0j)\n",
      "N3    1 (10+3j)\n",
      "F7    1 (17+3j)\n",
      "R90 -1j (17+3j)\n",
      "F11 -1j (17-8j)\n",
      "25.0\n"
     ]
    }
   ],
   "source": [
    "\n",
    "Direction = dict(N=1j, E=1, S=-1j, W=-1)\n",
    "Rotation = dict(L=1j, R=-1j)\n",
    "\n",
    "Position = 0+0j\n",
    "Direction['F'] = Direction['E']  # initial heading\n",
    "\n",
    "for command, amount in steps:\n",
    "#     print(locals().keys())\n",
    "#     print(_i2)\n",
    "#     break\n",
    "    # command, amount, Direction['F'], \n",
    "    \n",
    "    if command in Rotation:\n",
    "        for _ in range(amount//90):\n",
    "            Direction['F'] *= Rotation[command]\n",
    "            \n",
    "    elif command in Direction:\n",
    "        Position += Direction[command] * amount\n",
    "\n",
    "    else:\n",
    "        raise Exception('Invalid Command')\n",
    "        \n",
    "        \n",
    "    print(f'{command+str(amount):<3} {Direction[\"F\"]:>3} {Position}')\n",
    "\n",
    "# get results\n",
    "print(abs(Position.real) + abs(Position.imag))\n"
   ]
  }
 ],
 "metadata": {
  "kernelspec": {
   "display_name": "Python 3",
   "language": "python",
   "name": "python3"
  },
  "language_info": {
   "codemirror_mode": {
    "name": "ipython",
    "version": 3
   },
   "file_extension": ".py",
   "mimetype": "text/x-python",
   "name": "python",
   "nbconvert_exporter": "python",
   "pygments_lexer": "ipython3",
   "version": "3.7.3"
  }
 },
 "nbformat": 4,
 "nbformat_minor": 2
}
