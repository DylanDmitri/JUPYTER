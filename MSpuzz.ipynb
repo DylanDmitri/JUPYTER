{
 "cells": [
  {
   "cell_type": "code",
   "execution_count": 89,
   "metadata": {},
   "outputs": [],
   "source": [
    "import numpy as np\n",
    "\n",
    "f = '''\n",
    "A\tA\t \tG\tU\tD\tA\tK\t \tK\tU\tZ\tE\tN\tI\tT\n",
    "E\tS\tR\tV\tS\tE\tN\tH\tW\tA\tF\tO\tI\tR\tP\tO\n",
    "T\tA\tI\tT\t \tP\tA\tI\tH\tS\tC\tL\tU\tG\tC\tP\n",
    "Z\tC\tE\tY\tA\tM\tE\tR\tO\tS\tD\tO\tK\tT\tA\tH\n",
    "E\tG\tK\tL\tN\tU\tM\tR\tC\tO\tM\tI\tT\tL\tY\t \n",
    " \tU\tG\tO\tS\tD\tL\tI\tA\tZ\tz\tI\tI\tJ\tI\tE\n",
    "L\tE\tN\tF\tH\tA\tP\tF\tS\tI\tR\tA\tS\tO\tM\tI\n",
    "Y\tS\tR\tE\tI\tM\tT\tR\tN\t \tD\tX\tT\tI\tA\tF\n",
    "T\tU\tI\tA\tT\tU\tH\tA\tK\tO\t \tA\tL\tR\tT\tO\n",
    "O\tT\tC\tN\tO\tD\tU\tH\tA\tJ\tI\tM\tA\tN\tW\tN\n",
    "Q\tA\tP\tA\tN\tA\tI\tX\tT\tA\t \tK\tK\tO\tS\tG\n",
    "U\tN\tY\tT\tG\tU\tR\tE\tR\tI\tS\tH\tE\tR\tO\tU\n",
    "M\tJ\tN\tA\tB\tV\tO\t \tN\tQ\tE\tB\tI\tR\tY\tD\n",
    "A\tI\tQ\tW\tA\tI\tS\tK\tL\tU\tV\tI\tA\tN\tG\tO\n",
    "N\tR\tC\tX\tE\tR\tD\tU\tR\tI\tN\tW\tO\tJ\tE\tN\n",
    "T\tO\tH\tS\tA\tK\tA\tS\tL\tA\tK\tA\tT\tA\t \tA\n",
    "'''.strip()\n",
    "\n",
    "\n",
    "rows = f.split('\\n')\n",
    "m = [r.split('\\t') for r in rows]\n",
    "\n",
    "\n",
    "m = np.array(m)"
   ]
  },
  {
   "cell_type": "code",
   "execution_count": 121,
   "metadata": {},
   "outputs": [
    {
     "name": "stdout",
     "output_type": "stream",
     "text": [
      "IRPO\n",
      "[ 1 12] right\n",
      "IR \n",
      "[2 2] up\n",
      "IRRAFRAHXE KUS\n",
      "[2 7] down\n",
      "IRD I SEVNK\n",
      "[ 5 10] down\n",
      "IRZAILDSOGU\n",
      "[ 5 10] left\n",
      "IRASOMI\n",
      "[6 9] right\n",
      "IROSSAK\n",
      "[6 9] up\n",
      "IRNORRNJA\n",
      "[ 7 13] down\n",
      "IRNOKEIR \n",
      "[8 2] up\n",
      "IROSDA\n",
      "[10  6] down\n",
      "IRERUGTYNU\n",
      "[11  9] left\n",
      "IRYD\n",
      "[12 12] right\n",
      "IRO\n",
      "[13  1] down\n",
      "IRK\n",
      "[13  5] down\n",
      "IRUDREXCRN\n",
      "[14  9] left\n"
     ]
    }
   ],
   "source": [
    "from itertools import product\n",
    "from copy import copy\n",
    "\n",
    "dirs = {\n",
    "    'down': np.array([1, 0]),   # down\n",
    "    'right': np.array([0, 1]),   # right\n",
    "    'up': np.array([-1, 0]),  # up\n",
    "    'left': np.array([0, -1])   # left\n",
    "}\n",
    "\n",
    "ok = tuple(range(16))\n",
    "\n",
    "def pull(start, direction):\n",
    "    start = copy(start)\n",
    "    word = []\n",
    "    while True:\n",
    "        if (start[0] not in ok) or (start[1] not in ok):\n",
    "            break\n",
    "        word.append(m[tuple(start)])\n",
    "        start += direction\n",
    "\n",
    "    return ''.join(word)\n",
    "\n",
    "def blep(target):\n",
    "    target = target.upper()\n",
    "    for start in product(range(16), range(16)):\n",
    "        start = np.array(start)\n",
    "        for name, direc in dirs.items():\n",
    "            p = pull(start, direc)\n",
    "            if p.startswith(target):\n",
    "                print(p)\n",
    "                print(start, name)\n",
    "\n",
    "for target in (\n",
    "    'ir',\n",
    "):\n",
    "    blep(target)"
   ]
  },
  {
   "cell_type": "code",
   "execution_count": 124,
   "metadata": {},
   "outputs": [
    {
     "name": "stdout",
     "output_type": "stream",
     "text": [
      "handler\n"
     ]
    }
   ],
   "source": [
    "from string import ascii_lowercase\n",
    "\n",
    "def trans(*nums):\n",
    "    print(''.join(ascii_lowercase[n-1] for n in nums))\n",
    "    \n",
    "trans(8, 1, 14, 4, 12, 5, 18)"
   ]
  },
  {
   "cell_type": "code",
   "execution_count": 84,
   "metadata": {},
   "outputs": [
    {
     "name": "stdout",
     "output_type": "stream",
     "text": [
      "[0 0]\n",
      "[0 1]\n",
      "[0 2]\n",
      "[1 0]\n",
      "[1 1]\n",
      "[1 2]\n",
      "[2 0]\n",
      "[2 1]\n",
      "[2 2]\n"
     ]
    }
   ],
   "source": [
    "for a in product(range(3), range(3)):\n",
    "    print(np.array(a))"
   ]
  },
  {
   "cell_type": "code",
   "execution_count": 145,
   "metadata": {},
   "outputs": [
    {
     "name": "stdout",
     "output_type": "stream",
     "text": [
      "repititions are not inevitable\n"
     ]
    }
   ],
   "source": [
    "m = \"\"\"\n",
    "hello my name is Jojo and this is my friend Fifi\n",
    "you seem to have gotten yourself stuck in a loop\n",
    "do not worry there is most assuredly a way out\n",
    "repititions are not inevitable\n",
    "almost anything might help you break free\n",
    "listen carefully to what I say:\n",
    "always pay close attention\n",
    "consider begginings as paramount\n",
    "knowing the origin of things is essential\n",
    "only in this way will you find what you seek\n",
    "recounting how things start will help set you free \n",
    "an attribute you don't have is preventing your escape\n",
    "\"\"\".strip().split('\\n')\n",
    "\n",
    "def dub(s):\n",
    "    return any([t[0]==t[1] for t in zip(s,s[1:])])\n",
    "\n",
    "for s in m:\n",
    "    if not dub(s):\n",
    "        print(s)"
   ]
  },
  {
   "cell_type": "code",
   "execution_count": 144,
   "metadata": {},
   "outputs": [
    {
     "data": {
      "text/plain": [
       "30"
      ]
     },
     "execution_count": 144,
     "metadata": {},
     "output_type": "execute_result"
    }
   ],
   "source": []
  },
  {
   "cell_type": "code",
   "execution_count": 160,
   "metadata": {},
   "outputs": [
    {
     "ename": "ValueError",
     "evalue": "substring not found",
     "output_type": "error",
     "traceback": [
      "\u001b[1;31m---------------------------------------------------------------------------\u001b[0m",
      "\u001b[1;31mValueError\u001b[0m                                Traceback (most recent call last)",
      "\u001b[1;32m<ipython-input-160-def1ee7811b0>\u001b[0m in \u001b[0;36m<module>\u001b[1;34m\u001b[0m\n\u001b[0;32m      1\u001b[0m \u001b[1;32mfor\u001b[0m \u001b[0mline\u001b[0m \u001b[1;32min\u001b[0m \u001b[0mm\u001b[0m\u001b[1;33m:\u001b[0m\u001b[1;33m\u001b[0m\u001b[1;33m\u001b[0m\u001b[0m\n\u001b[1;32m----> 2\u001b[1;33m     \u001b[1;32mif\u001b[0m \u001b[0mline\u001b[0m\u001b[1;33m.\u001b[0m\u001b[0mindex\u001b[0m\u001b[1;33m(\u001b[0m\u001b[1;34m'i'\u001b[0m\u001b[1;33m)\u001b[0m \u001b[1;33m<\u001b[0m \u001b[0mline\u001b[0m\u001b[1;33m.\u001b[0m\u001b[0mindex\u001b[0m\u001b[1;33m(\u001b[0m\u001b[1;34m'o'\u001b[0m\u001b[1;33m)\u001b[0m\u001b[1;33m:\u001b[0m\u001b[1;33m\u001b[0m\u001b[1;33m\u001b[0m\u001b[0m\n\u001b[0m\u001b[0;32m      3\u001b[0m         \u001b[0mc\u001b[0m \u001b[1;33m=\u001b[0m \u001b[1;34m'<'\u001b[0m\u001b[1;33m\u001b[0m\u001b[1;33m\u001b[0m\u001b[0m\n\u001b[0;32m      4\u001b[0m     \u001b[1;32melse\u001b[0m\u001b[1;33m:\u001b[0m\u001b[1;33m\u001b[0m\u001b[1;33m\u001b[0m\u001b[0m\n\u001b[0;32m      5\u001b[0m         \u001b[0mc\u001b[0m \u001b[1;33m=\u001b[0m \u001b[1;34m'#'\u001b[0m\u001b[1;33m\u001b[0m\u001b[1;33m\u001b[0m\u001b[0m\n",
      "\u001b[1;31mValueError\u001b[0m: substring not found"
     ]
    }
   ],
   "source": [
    "for line in m:\n",
    "    if line.index('i') < line.index('o'):\n",
    "        c = '<'\n",
    "    else:\n",
    "        c = '#'\n",
    "    print(c, line)"
   ]
  },
  {
   "cell_type": "code",
   "execution_count": null,
   "metadata": {},
   "outputs": [],
   "source": []
  },
  {
   "cell_type": "code",
   "execution_count": 171,
   "metadata": {},
   "outputs": [
    {
     "name": "stdout",
     "output_type": "stream",
     "text": [
      "word\n",
      "is\n",
      "blue\n",
      "as\n",
      "o\n",
      "purple\n",
      "make\n",
      "line\n"
     ]
    }
   ],
   "source": [
    "m = [\n",
    "    '''\n",
    "buffalo Buffalo buffalo Buffalo buffalo buffalo Buffalo\n",
    "buffalo. buffalo Buffalo buffalo buffalo Buffalo Buffalo Buffalo Buffalo. buffalo Buffalo buffalo Buffalo buffalo Buffalo buffalo buffalo. buffalo Buffalo buffalo buffalo buffalo buffalo buffalo Buffalo.\n",
    "buffalo Buffalo\n",
    "buffalo Buffalo buffalo Buffalo buffalo buffalo. buffalo Buffalo buffalo buffalo buffalo Buffalo buffalo Buffalo.\n",
    "    ''',\n",
    "    '''\n",
    "    buffalo Buffalo buffalo Buffalo buffalo buffalo Buffalo buffalo. buffalo Buffalo buffalo buffalo Buffalo Buffalo Buffalo Buffalo. buffalo Buffalo buffalo Buffalo\n",
    "buffalo Buffalo Buffalo Buffalo.\n",
    "    ''',\n",
    "    '''\n",
    "buffalo Buffalo buffalo buffalo buffalo buffalo\n",
    "Buffalo buffalo. buffalo Buffalo buffalo Buffalo buffalo Buffalo buffalo Buffalo. buffalo Buffalo buffalo buffalo buffalo Buffalo\n",
    "Buffalo buffalo. buffalo Buffalo buffalo buffalo buffalo Buffalo Buffalo buffalo. buffalo Buffalo buffalo buffalo buffalo buffalo buffalo Buffalo. buffalo Buffalo buffalo buffalo Buffalo Buffalo buffalo\n",
    "buffalo. buffalo Buffalo buffalo buffalo Buffalo Buffalo Buffalo Buffalo.\n",
    "    ''',\n",
    "    '''\n",
    "    buffalo Buffalo buffalo buffalo buffalo buffalo Buffalo Buffalo. buffalo Buffalo buffalo buffalo Buffalo Buffalo Buffalo Buffalo. buffalo Buffalo buffalo Buffalo buffalo Buffalo buffalo Buffalo.\n",
    "buffalo Buffalo buffalo buffalo Buffalo Buffalo Buffalo buffalo. buffalo Buffalo buffalo Buffalo buffalo Buffalo buffalo buffalo.\n",
    "    ''',\n",
    "    '''\n",
    "    buffalo Buffalo buffalo buffalo buffalo buffalo Buffalo buffalo. buffalo Buffalo buffalo Buffalo Buffalo buffalo buffalo Buffalo.\n",
    "    ''',\n",
    "    '''\n",
    "    buffalo Buffalo buffalo Buffalo buffalo buffalo buffalo buffalo. buffalo\n",
    "Buffalo buffalo buffalo buffalo buffalo buffalo Buffalo. buffalo Buffalo buffalo Buffalo buffalo buffalo Buffalo\n",
    "buffalo. buffalo Buffalo buffalo buffalo buffalo buffalo buffalo Buffalo. buffalo Buffalo\n",
    "buffalo buffalo buffalo Buffalo Buffalo Buffalo. buffalo Buffalo buffalo\n",
    "Buffalo buffalo buffalo Buffalo buffalo.\n",
    "buffalo Buffalo buffalo buffalo buffalo buffalo buffalo Buffalo. buffalo Buffalo buffalo Buffalo buffalo buffalo buffalo buffalo. buffalo Buffalo buffalo buffalo Buffalo buffalo buffalo buffalo.\n",
    "    ''',\n",
    "    '''\n",
    "    buffalo Buffalo buffalo Buffalo Buffalo buffalo buffalo Buffalo. buffalo Buffalo buffalo\n",
    "buffalo buffalo Buffalo buffalo Buffalo. buffalo Buffalo buffalo buffalo Buffalo Buffalo buffalo buffalo. buffalo Buffalo buffalo buffalo Buffalo Buffalo buffalo buffalo. buffalo Buffalo buffalo buffalo\n",
    "Buffalo Buffalo Buffalo Buffalo. buffalo Buffalo buffalo Buffalo buffalo\n",
    "Buffalo Buffalo Buffalo.\n",
    "    ''',\n",
    "    '''\n",
    "    buffalo Buffalo buffalo buffalo buffalo buffalo buffalo Buffalo. buffalo Buffalo buffalo buffalo Buffalo Buffalo\n",
    "buffalo Buffalo. buffalo Buffalo buffalo buffalo Buffalo Buffalo Buffalo Buffalo. buffalo\n",
    "Buffalo buffalo Buffalo buffalo Buffalo buffalo Buffalo. buffalo Buffalo buffalo buffalo Buffalo Buffalo Buffalo buffalo. buffalo\n",
    "Buffalo buffalo Buffalo buffalo Buffalo buffalo buffalo.\n",
    "    ''' \n",
    "]\n",
    "\n",
    "# rotate row buffalo count by para yellow amount\n",
    "yellow = [10, 11, 4, 23, 1, 19, 24, 2]\n",
    "\n",
    "from string import ascii_lowercase\n",
    "def aschar(i):\n",
    "    return ascii_lowercase[i%26-1]\n",
    "\n",
    "def nums(index):\n",
    "    para = m[index]\n",
    "    shift = yellow[index]\n",
    "    para = para.strip().lower()\n",
    "    for row in para.split('\\n'):\n",
    "        c = row.count('buffalo')\n",
    "        l = aschar(c-shift)\n",
    "        print(l, end='')\n",
    "\n",
    "for i in range(8):\n",
    "    nums(i)\n",
    "    print()"
   ]
  },
  {
   "cell_type": "code",
   "execution_count": 173,
   "metadata": {},
   "outputs": [
    {
     "name": "stdout",
     "output_type": "stream",
     "text": [
      "010000010100110001010011010011110100001101000001010011000100110001000101010001000100010001001111010101010100001001001100010001010101001001001000010110010100110101000101"
     ]
    }
   ],
   "source": [
    "m = '''\n",
    "<div class=\"puzzle\">\n",
    "\t\t\t\t<div class=\"puzzlecontent\">\n",
    "\t\t\t\t\t<span class=\"yellow\">buffalo </span><span class=\"green\">Buffalo </span><span class=\"blue\">buffalo </span><span class=\"purple\">Buffalo </span><span class=\"yellow\">buffalo </span><span class=\"blue\">buffalo </span><span class=\"blue\">Buffalo </span>\n",
    "\t\t\t\t</div>\n",
    "\t\t\t\t<div class=\"puzzlecontent\">\n",
    "\t\t\t\t\t<span class=\"blue\">buffalo</span><span class=\"bolder\">. </span><span class=\"yellow\">buffalo </span><span class=\"blue\">Buffalo </span><span class=\"blue\">buffalo </span><span class=\"green\">buffalo </span><span class=\"purple\">Buffalo </span><span class=\"yellow\">Buffalo </span><span class=\"blue\">Buffalo </span><span class=\"purple\">Buffalo</span><span class=\"bolder\">. </span><span class=\"blue\">buffalo </span><span class=\"blue\">Buffalo </span><span class=\"yellow\">buffalo </span><span class=\"purple\">Buffalo </span><span class=\"yellow\">buffalo </span><span class=\"purple\">Buffalo </span><span class=\"blue\">buffalo </span><span class=\"green\">buffalo</span><span class=\"bolder\">. </span><span class=\"blue\">buffalo </span><span class=\"blue\">Buffalo </span><span class=\"purple\">buffalo </span><span class=\"yellow\">buffalo </span><span class=\"blue\">buffalo </span><span class=\"purple\">buffalo </span><span class=\"blue\">buffalo </span><span class=\"blue\">Buffalo</span><span class=\"bolder\">. </span>\n",
    "\t\t\t\t</div>\n",
    "\t\t\t\t<div class=\"puzzlecontent\">\n",
    "\t\t\t\t\t<span class=\"purple\">buffalo </span><span class=\"green\">Buffalo </span>\n",
    "\t\t\t\t</div>\n",
    "\t\t\t\t<div class=\"puzzlecontent\">\n",
    "\t\t\t\t\t<span class=\"purple\">buffalo </span><span class=\"blue\">Buffalo </span><span class=\"green\">buffalo </span><span class=\"yellow\">Buffalo </span><span class=\"purple\">buffalo </span><span class=\"blue\">buffalo</span><span class=\"bolder\">. </span><span class=\"green\">buffalo </span><span class=\"blue\">Buffalo </span><span class=\"yellow\">buffalo </span><span class=\"purple\">buffalo </span><span class=\"purple\">buffalo </span><span class=\"yellow\">Buffalo </span><span class=\"purple\">buffalo </span><span class=\"purple\">Buffalo</span><span class=\"bolder\">. </span>\n",
    "\t\t\t\t</div>\n",
    "\t\t\t\t<div class=\"puzzlecontent\"></div>\n",
    "\t\t\t\t<div class=\"puzzlecontent\">\n",
    "\t\t\t\t\t<span class=\"green\">buffalo </span><span class=\"green\">Buffalo </span><span class=\"yellow\">buffalo </span><span class=\"yellow\">Buffalo </span><span class=\"green\">buffalo </span><span class=\"green\">buffalo </span><span class=\"green\">Buffalo </span><span class=\"yellow\">buffalo</span><span class=\"bolder\">. </span><span class=\"green\">buffalo </span><span class=\"green\">Buffalo </span><span class=\"green\">buffalo </span><span class=\"yellow\">buffalo </span><span class=\"green\">Buffalo </span><span class=\"yellow\">Buffalo </span><span class=\"green\">Buffalo </span><span class=\"yellow\">Buffalo</span><span class=\"bolder\">. </span><span class=\"green\">buffalo </span><span class=\"yellow\">Buffalo </span><span class=\"yellow\">buffalo </span><span class=\"green\">Buffalo </span>\n",
    "\t\t\t\t</div>\n",
    "\t\t\t\t<div class=\"puzzlecontent\">\n",
    "\t\t\t\t\t<span class=\"yellow\">buffalo </span><span class=\"yellow\">Buffalo </span><span class=\"green\">Buffalo </span><span class=\"yellow\">Buffalo</span><span class=\"bolder\">. </span>\n",
    "\t\t\t\t</div>\n",
    "\t\t\t\t<div class=\"puzzlecontent\"></div>\n",
    "\t\t\t\t<div class=\"puzzlecontent\">\n",
    "\t\t\t\t\t<span class=\"blue\">buffalo </span><span class=\"green\">Buffalo </span><span class=\"purple\">buffalo </span><span class=\"blue\">buffalo </span><span class=\"blue\">buffalo </span><span class=\"blue\">buffalo </span>\n",
    "\t\t\t\t</div>\n",
    "\t\t\t\t<div class=\"puzzlecontent\">\n",
    "\t\t\t\t\t<span class=\"blue\">Buffalo </span><span class=\"purple\">buffalo</span><span class=\"bolder\">. </span><span class=\"purple\">buffalo </span><span class=\"yellow\">Buffalo </span><span class=\"blue\">buffalo </span><span class=\"purple\">Buffalo </span><span class=\"blue\">buffalo </span><span class=\"green\">Buffalo </span><span class=\"blue\">buffalo </span><span class=\"blue\">Buffalo</span><span class=\"bolder\">. </span><span class=\"blue\">buffalo </span><span class=\"blue\">Buffalo </span><span class=\"yellow\">buffalo </span><span class=\"purple\">buffalo </span><span class=\"blue\">buffalo </span><span class=\"purple\">Buffalo </span>\n",
    "\t\t\t\t</div>\n",
    "\t\t\t\t<div class=\"puzzlecontent\">\n",
    "\t\t\t\t\t<span class=\"blue\">Buffalo </span><span class=\"blue\">buffalo</span><span class=\"bolder\">. </span><span class=\"purple\">buffalo </span><span class=\"purple\">Buffalo </span><span class=\"blue\">buffalo </span><span class=\"blue\">buffalo </span><span class=\"blue\">buffalo </span><span class=\"purple\">Buffalo </span><span class=\"blue\">Buffalo </span><span class=\"blue\">buffalo</span><span class=\"bolder\">. </span><span class=\"purple\">buffalo </span><span class=\"purple\">Buffalo </span><span class=\"blue\">buffalo </span><span class=\"green\">buffalo </span><span class=\"blue\">buffalo </span><span class=\"blue\">buffalo </span><span class=\"purple\">buffalo </span><span class=\"blue\">Buffalo</span><span class=\"bolder\">. </span><span class=\"yellow\">buffalo </span><span class=\"blue\">Buffalo </span><span class=\"blue\">buffalo </span><span class=\"yellow\">buffalo </span><span class=\"purple\">Buffalo </span><span class=\"blue\">Buffalo </span><span class=\"purple\">buffalo </span>\n",
    "\t\t\t\t</div>\n",
    "\t\t\t\t<div class=\"puzzlecontent\">\n",
    "\t\t\t\t\t<span class=\"blue\">buffalo</span><span class=\"bolder\">. </span><span class=\"purple\">buffalo </span><span class=\"blue\">Buffalo </span><span class=\"blue\">buffalo </span><span class=\"blue\">buffalo </span><span class=\"purple\">Buffalo </span><span class=\"green\">Buffalo </span><span class=\"blue\">Buffalo </span><span class=\"blue\">Buffalo</span><span class=\"bolder\">. </span>\n",
    "\t\t\t\t</div>\n",
    "\t\t\t\t<div class=\"puzzlecontent\"></div>\n",
    "\t\t\t\t<div class=\"puzzlecontent\">\n",
    "\t\t\t\t\t<span class=\"green\">buffalo </span><span class=\"yellow\">Buffalo </span><span class=\"green\">buffalo </span><span class=\"yellow\">buffalo </span><span class=\"green\">buffalo </span><span class=\"yellow\">buffalo </span><span class=\"green\">Buffalo </span><span class=\"yellow\">Buffalo</span><span class=\"bolder\">. </span><span class=\"yellow\">buffalo </span><span class=\"green\">Buffalo </span><span class=\"yellow\">buffalo </span><span class=\"yellow\">buffalo </span><span class=\"yellow\">Buffalo </span><span class=\"yellow\">Buffalo </span><span class=\"green\">Buffalo </span><span class=\"yellow\">Buffalo</span><span class=\"bolder\">. </span><span class=\"green\">buffalo </span><span class=\"yellow\">Buffalo </span><span class=\"green\">buffalo </span><span class=\"yellow\">Buffalo </span><span class=\"yellow\">buffalo </span><span class=\"green\">Buffalo </span><span class=\"yellow\">buffalo </span><span class=\"yellow\">Buffalo</span><span class=\"bolder\">. </span>\n",
    "\t\t\t\t</div>\n",
    "\t\t\t\t<div class=\"puzzlecontent\">\n",
    "\t\t\t\t\t<span class=\"yellow\">buffalo </span><span class=\"green\">Buffalo </span><span class=\"yellow\">buffalo </span><span class=\"yellow\">buffalo </span><span class=\"green\">Buffalo </span><span class=\"green\">Buffalo </span><span class=\"green\">Buffalo </span><span class=\"yellow\">buffalo</span><span class=\"bolder\">. </span><span class=\"green\">buffalo </span><span class=\"yellow\">Buffalo </span><span class=\"green\">buffalo </span><span class=\"yellow\">Buffalo </span><span class=\"green\">buffalo </span><span class=\"green\">Buffalo </span><span class=\"yellow\">buffalo </span><span class=\"yellow\">buffalo</span><span class=\"bolder\">. </span>\n",
    "\t\t\t\t</div>\n",
    "\t\t\t\t<div class=\"puzzlecontent\"></div>\n",
    "\t\t\t\t<div class=\"puzzlecontent\">\n",
    "\t\t\t\t\t<span class=\"green\">buffalo </span><span class=\"green\">Buffalo </span><span class=\"green\">buffalo </span><span class=\"green\">buffalo </span><span class=\"green\">buffalo </span><span class=\"green\">buffalo </span><span class=\"green\">Buffalo </span><span class=\"green\">buffalo</span><span class=\"bolder\">. </span><span class=\"green\">buffalo </span><span class=\"green\">Buffalo </span><span class=\"green\">buffalo </span><span class=\"green\">Buffalo </span><span class=\"green\">Buffalo </span><span class=\"yellow\">buffalo </span><span class=\"green\">buffalo </span><span class=\"green\">Buffalo</span><span class=\"bolder\">. </span>\n",
    "\t\t\t\t</div>\n",
    "\t\t\t\t<div class=\"puzzlecontent\"></div>\n",
    "\t\t\t\t<div class=\"puzzlecontent\">\n",
    "\t\t\t\t\t<span class=\"yellow\">buffalo </span><span class=\"blue\">Buffalo </span><span class=\"purple\">buffalo </span><span class=\"blue\">Buffalo </span><span class=\"blue\">buffalo </span><span class=\"yellow\">buffalo </span><span class=\"blue\">buffalo </span><span class=\"green\">buffalo</span><span class=\"bolder\">. </span><span class=\"purple\">buffalo </span>\n",
    "\t\t\t\t</div>\n",
    "\t\t\t\t<div class=\"puzzlecontent\">\n",
    "\t\t\t\t\t<span class=\"blue\">Buffalo </span><span class=\"yellow\">buffalo </span><span class=\"green\">buffalo </span><span class=\"blue\">buffalo </span><span class=\"blue\">buffalo </span><span class=\"yellow\">buffalo </span><span class=\"yellow\">Buffalo</span><span class=\"bolder\">. </span><span class=\"purple\">buffalo </span><span class=\"blue\">Buffalo </span><span class=\"blue\">buffalo </span><span class=\"purple\">Buffalo </span><span class=\"yellow\">buffalo </span><span class=\"purple\">buffalo </span><span class=\"purple\">Buffalo </span>\n",
    "\t\t\t\t</div>\n",
    "\t\t\t\t<div class=\"puzzlecontent\">\n",
    "\t\t\t\t\t<span class=\"yellow\">buffalo</span><span class=\"bolder\">. </span><span class=\"yellow\">buffalo </span><span class=\"purple\">Buffalo </span><span class=\"blue\">buffalo </span><span class=\"purple\">buffalo </span><span class=\"yellow\">buffalo </span><span class=\"blue\">buffalo </span><span class=\"green\">buffalo </span><span class=\"yellow\">Buffalo</span><span class=\"bolder\">. </span><span class=\"purple\">buffalo </span><span class=\"yellow\">Buffalo </span>\n",
    "\t\t\t\t</div>\n",
    "\t\t\t\t<div class=\"puzzlecontent\">\n",
    "\t\t\t\t\t<span class=\"blue\">buffalo </span><span class=\"yellow\">buffalo </span><span class=\"purple\">buffalo </span><span class=\"blue\">Buffalo </span><span class=\"yellow\">Buffalo </span><span class=\"purple\">Buffalo</span><span class=\"bolder\">. </span><span class=\"blue\">buffalo </span><span class=\"purple\">Buffalo </span><span class=\"blue\">buffalo </span>\n",
    "\t\t\t\t</div>\n",
    "\t\t\t\t<div class=\"puzzlecontent\">\n",
    "\t\t\t\t\t<span class=\"blue\">Buffalo </span><span class=\"blue\">buffalo </span><span class=\"yellow\">buffalo </span><span class=\"blue\">Buffalo </span><span class=\"green\">buffalo</span><span class=\"bolder\">. </span>\n",
    "\t\t\t\t</div>\n",
    "\t\t\t\t<div class=\"puzzlecontent\">\n",
    "\t\t\t\t\t<span class=\"purple\">buffalo </span><span class=\"yellow\">Buffalo </span><span class=\"blue\">buffalo </span><span class=\"blue\">buffalo </span><span class=\"yellow\">buffalo </span><span class=\"green\">buffalo </span><span class=\"purple\">buffalo </span><span class=\"blue\">Buffalo</span><span class=\"bolder\">. </span><span class=\"blue\">buffalo </span><span class=\"purple\">Buffalo </span><span class=\"purple\">buffalo </span><span class=\"yellow\">Buffalo </span><span class=\"blue\">buffalo </span><span class=\"blue\">buffalo </span><span class=\"blue\">buffalo </span><span class=\"purple\">buffalo</span><span class=\"bolder\">. </span><span class=\"blue\">buffalo </span><span class=\"blue\">Buffalo </span><span class=\"yellow\">buffalo </span><span class=\"blue\">buffalo </span><span class=\"yellow\">Buffalo </span><span class=\"purple\">buffalo </span><span class=\"blue\">buffalo </span><span class=\"purple\">buffalo</span><span class=\"bolder\">. </span>\n",
    "\t\t\t\t</div>\n",
    "\t\t\t\t<div class=\"puzzlecontent\"></div>\n",
    "\t\t\t\t<div class=\"puzzlecontent\">\n",
    "\t\t\t\t\t<span class=\"green\">buffalo </span><span class=\"green\">Buffalo </span><span class=\"yellow\">buffalo </span><span class=\"yellow\">Buffalo </span><span class=\"green\">Buffalo </span><span class=\"green\">buffalo </span><span class=\"yellow\">buffalo </span><span class=\"green\">Buffalo</span><span class=\"bolder\">. </span><span class=\"green\">buffalo </span><span class=\"yellow\">Buffalo </span><span class=\"green\">buffalo </span>\n",
    "\t\t\t\t</div>\n",
    "\t\t\t\t<div class=\"puzzlecontent\">\n",
    "\t\t\t\t\t<span class=\"yellow\">buffalo </span><span class=\"green\">buffalo </span><span class=\"yellow\">Buffalo </span><span class=\"green\">buffalo </span><span class=\"green\">Buffalo</span><span class=\"bolder\">. </span><span class=\"green\">buffalo </span><span class=\"yellow\">Buffalo </span><span class=\"yellow\">buffalo </span><span class=\"yellow\">buffalo </span><span class=\"green\">Buffalo </span><span class=\"yellow\">Buffalo </span><span class=\"green\">buffalo </span><span class=\"green\">buffalo</span><span class=\"bolder\">. </span><span class=\"green\">buffalo </span><span class=\"yellow\">Buffalo </span><span class=\"green\">buffalo </span><span class=\"green\">buffalo </span><span class=\"yellow\">Buffalo </span><span class=\"yellow\">Buffalo </span><span class=\"green\">buffalo </span><span class=\"yellow\">buffalo</span><span class=\"bolder\">. </span><span class=\"yellow\">buffalo </span><span class=\"green\">Buffalo </span><span class=\"yellow\">buffalo </span><span class=\"green\">buffalo </span>\n",
    "\t\t\t\t</div>\n",
    "\t\t\t\t<div class=\"puzzlecontent\">\n",
    "\t\t\t\t\t<span class=\"green\">Buffalo </span><span class=\"yellow\">Buffalo </span><span class=\"green\">Buffalo </span><span class=\"green\">Buffalo</span><span class=\"bolder\">. </span><span class=\"yellow\">buffalo </span><span class=\"yellow\">Buffalo </span><span class=\"yellow\">buffalo </span><span class=\"green\">Buffalo </span><span class=\"yellow\">buffalo </span>\n",
    "\t\t\t\t</div>\n",
    "\t\t\t\t<div class=\"puzzlecontent\">\n",
    "\t\t\t\t\t<span class=\"yellow\">Buffalo </span><span class=\"yellow\">Buffalo </span><span class=\"yellow\">Buffalo</span><span class=\"bolder\">. </span>\n",
    "\t\t\t\t</div>\n",
    "\t\t\t\t<div class=\"puzzlecontent\"></div>\n",
    "\t\t\t\t<div class=\"puzzlecontent\">\n",
    "\t\t\t\t\t<span class=\"blue\">buffalo </span><span class=\"purple\">Buffalo </span><span class=\"green\">buffalo </span><span class=\"blue\">buffalo </span><span class=\"purple\">buffalo </span><span class=\"blue\">buffalo </span><span class=\"blue\">buffalo </span><span class=\"purple\">Buffalo</span><span class=\"bolder\">. </span><span class=\"blue\">buffalo </span><span class=\"green\">Buffalo </span><span class=\"blue\">buffalo </span><span class=\"purple\">buffalo </span><span class=\"blue\">Buffalo </span><span class=\"blue\">Buffalo </span>\n",
    "\t\t\t\t</div>\n",
    "\t\t\t\t<div class=\"puzzlecontent\">\n",
    "\t\t\t\t\t<span class=\"purple\">buffalo </span><span class=\"blue\">Buffalo</span><span class=\"bolder\">. </span><span class=\"yellow\">buffalo </span><span class=\"blue\">Buffalo </span><span class=\"blue\">buffalo </span><span class=\"blue\">buffalo </span><span class=\"purple\">Buffalo </span><span class=\"green\">Buffalo </span><span class=\"blue\">Buffalo </span><span class=\"purple\">Buffalo</span><span class=\"bolder\">. </span><span class=\"purple\">buffalo </span>\n",
    "\t\t\t\t</div>\n",
    "\t\t\t\t<div class=\"puzzlecontent\">\n",
    "\t\t\t\t\t<span class=\"blue\">Buffalo </span><span class=\"blue\">buffalo </span><span class=\"purple\">Buffalo </span><span class=\"blue\">buffalo </span><span class=\"purple\">Buffalo </span><span class=\"blue\">buffalo </span><span class=\"blue\">Buffalo</span><span class=\"bolder\">. </span><span class=\"purple\">buffalo </span><span class=\"yellow\">Buffalo </span><span class=\"purple\">buffalo </span><span class=\"green\">buffalo </span><span class=\"blue\">Buffalo </span><span class=\"purple\">Buffalo </span><span class=\"blue\">Buffalo </span><span class=\"purple\">buffalo</span><span class=\"bolder\">. </span><span class=\"blue\">buffalo </span>\n",
    "\t\t\t\t</div>\n",
    "\t\t\t\t<div class=\"puzzlecontent\">\n",
    "\t\t\t\t\t<span class=\"green\">Buffalo </span><span class=\"blue\">buffalo </span><span class=\"blue\">Buffalo </span><span class=\"purple\">buffalo </span><span class=\"green\">Buffalo </span><span class=\"blue\">buffalo </span><span class=\"purple\">buffalo</span><span class=\"bolder\">. </span>\n",
    "\t\t\t\t</div>\n",
    "\t\t\t</div>\n",
    "'''\n",
    "\n",
    "for i in range(len(m)):\n",
    "    p = m[i:i+10]\n",
    "    if p.startswith('blue'):\n",
    "        print('0', end='')\n",
    "    elif p.startswith('purple'):\n",
    "        print('1', end='')\n",
    "        "
   ]
  },
  {
   "cell_type": "code",
   "execution_count": null,
   "metadata": {},
   "outputs": [],
   "source": [
    "m = '010000010100110001010011010011110100001101000001010011000100110001000101010001000100010001001111010101010100001001001100010001010101001001001000010110010100110101000101'\n",
    "\n",
    "i = 0\n",
    "while True:\n",
    "    print(m[i*8:i*8+8])\n",
    "    i+=1\n"
   ]
  },
  {
   "cell_type": "code",
   "execution_count": 180,
   "metadata": {},
   "outputs": [
    {
     "name": "stdout",
     "output_type": "stream",
     "text": [
      "deeeloprsv\n",
      " deeelloprsv\n",
      " deeeiloprsv\n",
      " deeelopprsv\n",
      "deeeloprsv\n",
      " deeeeloprsv\n",
      " deeeloprrsv\n",
      " deeeloprssv\n"
     ]
    }
   ],
   "source": [
    "m = '''\n",
    "developers\n",
    "poll deserve\n",
    "ever spoiled\n",
    "sleep proved\n",
    "developers\n",
    "peeves older\n",
    "preserve old\n",
    "peers solved\n",
    "'''\n",
    "\n",
    "ok = set('developers')\n",
    "\n",
    "for line in m.strip().split('\\n'):\n",
    "    print(''.join(sorted(list(line))))"
   ]
  },
  {
   "cell_type": "code",
   "execution_count": null,
   "metadata": {},
   "outputs": [],
   "source": [
    "?\n",
    "l\n",
    "i\n",
    "p\n",
    "?\n",
    "e\n",
    "r\n",
    "s\n"
   ]
  }
 ],
 "metadata": {
  "kernelspec": {
   "display_name": "Python 3",
   "language": "python",
   "name": "python3"
  },
  "language_info": {
   "codemirror_mode": {
    "name": "ipython",
    "version": 3
   },
   "file_extension": ".py",
   "mimetype": "text/x-python",
   "name": "python",
   "nbconvert_exporter": "python",
   "pygments_lexer": "ipython3",
   "version": "3.7.3"
  }
 },
 "nbformat": 4,
 "nbformat_minor": 2
}
