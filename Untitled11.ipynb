{
 "cells": [
  {
   "cell_type": "code",
   "execution_count": 37,
   "metadata": {},
   "outputs": [],
   "source": [
    "from random import random, randint\n",
    "import numpy as np"
   ]
  },
  {
   "cell_type": "code",
   "execution_count": 49,
   "metadata": {},
   "outputs": [
    {
     "data": {
      "text/plain": [
       "array([ 0., 11., 11., 11., 11.,  0.])"
      ]
     },
     "execution_count": 49,
     "metadata": {},
     "output_type": "execute_result"
    }
   ],
   "source": [
    "turns = 6\n",
    "def trial():\n",
    "    total = 0\n",
    "    strength = 0\n",
    "    dmg = randint(5,8)\n",
    "    moves = []\n",
    "    dmg_hist = np.zeros(turns)\n",
    "\n",
    "    def last_two(key):\n",
    "        return len(moves)>=2 and moves[-2]==key and moves[-1]==key\n",
    "\n",
    "    def bite():\n",
    "        dmg_hist[turn] = dmg + strength\n",
    "        moves.append('bite')\n",
    "\n",
    "    def grow():\n",
    "        nonlocal strength\n",
    "        strength += 4\n",
    "        moves.append('grow')\n",
    "\n",
    "    for turn in range(turns):\n",
    "        roll = random()\n",
    "        if roll < 0.25:\n",
    "            if last_two(grow):\n",
    "                bite()\n",
    "            else:\n",
    "                grow()\n",
    "        else:\n",
    "            if last_two(bite):\n",
    "                grow()\n",
    "            else:\n",
    "                bite()\n",
    "                \n",
    "    return dmg_hist\n",
    "\n",
    "trial()"
   ]
  },
  {
   "cell_type": "code",
   "execution_count": 58,
   "metadata": {},
   "outputs": [
    {
     "data": {
      "text/plain": [
       "array([4.8899, 5.5688, 6.3945, 7.1497, 7.8494, 8.5857])"
      ]
     },
     "execution_count": 58,
     "metadata": {},
     "output_type": "execute_result"
    }
   ],
   "source": [
    "trials = 10000\n",
    "spread = np.zeros((trials, turns))\n",
    "for _ in range(trials):\n",
    "     spread[_] = trial()\n",
    "spread\n",
    "\n",
    "spread.mean(axis=0)"
   ]
  },
  {
   "cell_type": "code",
   "execution_count": 54,
   "metadata": {},
   "outputs": [
    {
     "data": {
      "text/plain": [
       "array([5.073, 5.523, 6.435, 6.895, 8.201, 8.528])"
      ]
     },
     "execution_count": 54,
     "metadata": {},
     "output_type": "execute_result"
    }
   ],
   "source": []
  },
  {
   "cell_type": "code",
   "execution_count": 33,
   "metadata": {},
   "outputs": [
    {
     "data": {
      "image/png": "[encoded data removed]",
      "text/plain": [
       "<Figure size 432x288 with 1 Axes>"
      ]
     },
     "metadata": {
      "needs_background": "light"
     },
     "output_type": "display_data"
    }
   ],
   "source": [
    "import matplotlib.pyplot as plt\n",
    "from seaborn import distplot\n",
    "\n",
    "distplot([trial() for _ in range(100)])\n",
    "plt.show()"
   ]
  }
 ],
 "metadata": {
  "kernelspec": {
   "display_name": "Python 3",
   "language": "python",
   "name": "python3"
  },
  "language_info": {
   "codemirror_mode": {
    "name": "ipython",
    "version": 3
   },
   "file_extension": ".py",
   "mimetype": "text/x-python",
   "name": "python",
   "nbconvert_exporter": "python",
   "pygments_lexer": "ipython3",
   "version": "3.7.3"
  }
 },
 "nbformat": 4,
 "nbformat_minor": 2
}
