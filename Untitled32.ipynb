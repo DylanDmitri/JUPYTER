{
 "cells": [
  {
   "cell_type": "code",
   "execution_count": 4,
   "metadata": {},
   "outputs": [
    {
     "data": {
      "text/plain": [
       "5.8541726999999995"
      ]
     },
     "execution_count": 4,
     "metadata": {},
     "output_type": "execute_result"
    }
   ],
   "source": [
    "from string import ascii_lowercase\n",
    "from itertools import product\n",
    "import numba\n",
    "\n",
    "ascii_lowercase = string.printable\n",
    "\n",
    "def validate(start: str):\n",
    "    assert set(start) <= set(ascii_lowercase)\n",
    "\n",
    "def iter_steps(string):\n",
    "    # deletion\n",
    "    for i in range(len(string)):\n",
    "        yield string[:i] + string[i+1:]\n",
    "        \n",
    "    # insertion\n",
    "    for i,c in product(range(len(string)+1), ascii_lowercase):\n",
    "        yield string[:i] + c + string[i:]\n",
    "        \n",
    "    # replacement\n",
    "    for i,c in product(range(len(string)), ascii_lowercase):\n",
    "        yield string[:i] + c + string[i+1:]\n",
    "\n",
    "def view_all(string):\n",
    "    validate(string)\n",
    "    for d1 in iter_steps(string):\n",
    "        yield from iter_steps(d1)\n",
    "\n",
    "from timeit import timeit\n",
    "timeit(lambda: set(view_all('aaaaaaaaaa')), number=1)"
   ]
  },
  {
   "cell_type": "code",
   "execution_count": 3,
   "metadata": {},
   "outputs": [
    {
     "data": {
      "text/plain": [
       "'0123456789abcdefghijklmnopqrstuvwxyzABCDEFGHIJKLMNOPQRSTUVWXYZ!\"#$%&\\'()*+,-./:;<=>?@[\\\\]^_`{|}~ \\t\\n\\r\\x0b\\x0c'"
      ]
     },
     "execution_count": 3,
     "metadata": {},
     "output_type": "execute_result"
    }
   ],
   "source": [
    "import string\n",
    "string.printable"
   ]
  },
  {
   "cell_type": "code",
   "execution_count": 5,
   "metadata": {},
   "outputs": [
    {
     "data": {
      "text/plain": [
       "19.2606762"
      ]
     },
     "execution_count": 5,
     "metadata": {},
     "output_type": "execute_result"
    }
   ],
   "source": [
    "@numba.jit\n",
    "def iter_steps(string) -> str:\n",
    "    # deletion\n",
    "    for i in range(len(string)):\n",
    "        yield string[:i] + string[i+1:]\n",
    "        \n",
    "    # insertion\n",
    "    for i in range(len(string)+1):\n",
    "        for c in ascii_lowercase:\n",
    "            yield string[:i] + c + string[i:]\n",
    "        \n",
    "    # replacement\n",
    "    for i in range(len(string)):\n",
    "        for c in ascii_lowercase:\n",
    "            yield string[:i] + c + string[i+1:]\n",
    "\n",
    "@numba.jit\n",
    "def view_all(string):\n",
    "    for d1 in iter_steps(string):\n",
    "        for d2 in iter_steps(d1):\n",
    "            yield d2\n",
    "            \n",
    "from timeit import timeit\n",
    "timeit(lambda: set(view_all('aaaaaaaaaa')), number=1)"
   ]
  }
 ],
 "metadata": {
  "kernelspec": {
   "display_name": "Python 3",
   "language": "python",
   "name": "python3"
  },
  "language_info": {
   "codemirror_mode": {
    "name": "ipython",
    "version": 3
   },
   "file_extension": ".py",
   "mimetype": "text/x-python",
   "name": "python",
   "nbconvert_exporter": "python",
   "pygments_lexer": "ipython3",
   "version": "3.7.3"
  }
 },
 "nbformat": 4,
 "nbformat_minor": 2
}
