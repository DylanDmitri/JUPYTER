{
 "cells": [
  {
   "cell_type": "code",
   "execution_count": 2,
   "metadata": {},
   "outputs": [],
   "source": [
    "source = '''\n",
    "1st\tPhoenix27833\t1h 39m 35s\tPC \t1 month ago\t\n",
    "2nd\tAntiElitz\t1h 42m 43s\tPC \t2 months ago\t\n",
    "3rd\tNefrums\t1h 43m 06s\tPC \t2 days ago\t\n",
    "4th\tfranqly\t1h 45m 38s\tPC \t1 week ago\t\n",
    "5th\tMazmot\t1h 45m 49s\tPC \t1 day ago\t\n",
    "6th\tMakkr\t1h 52m 09s\tPC \t2 months ago\t\n",
    "7th\tXimoltus\t2h 04m 24s\tPC \t3 weeks ago\t\n",
    "8th\tBumbleBeeeRider\t2h 06m 56s\tPC \t1 month ago\t\n",
    "9th\tBrazenSquid\t2h 23m 46s\tPC \t1 month ago\t\n",
    "10th\t10thCircle\t2h 25m 27s\tPC \t1 week ago\t\n",
    "11th\tGoneSerious\t2h 25m 35s\tPC \t3 weeks ago\t\n",
    "12th\ttheElss\t2h 29m 47s\tPC \t1 month ago\t\n",
    "13th\tDorfus\t2h 30m 04s\tPC \t5 days ago\t\n",
    "14th\tseky16\t2h 35m 37s\tPC \t4 weeks ago\t\n",
    "15th\tFlaggi793\t2h 35m 45s\tPC \t1 month ago\t\n",
    "16th\tunique_2\t2h 37m 54s\tPC \t1 month ago\t\n",
    "17th\tCobai\t2h 38m 49s\tPC \t1 week ago\t\n",
    "18th\tErhune\t2h 40m 54s\tPC \t1 month ago\t\n",
    "19th\tardoRic\t2h 41m 05s\tPC \t2 weeks ago\t\n",
    "20th\tBilka\t2h 43m 44s\tPC \t2 months ago\t\n",
    "21st\tXoriun\t2h 44m 16s\tPC \t3 weeks ago\t\n",
    "22nd\tDrMacou\t2h 49m 59s\tPC \t2 months ago\t\n",
    "23rd\tquantumdude836\t2h 53m 30s\tPC \t2 months ago\t\n",
    "24th\tBazz2599\t2h 54m 58s\tPC \tToday\t\n",
    "25th\tSavageman\t2h 57m 31s\tPC \t2 months ago\t\n",
    "26th\tP1tta\t2h 57m 58s\tPC \t2 months ago\t\n",
    "27th\tetothepii\t2h 58m 10s\tPC \t1 month ago\t\n",
    "28th\twhiteleaky\t3h 02m 52s\tPC \t2 weeks ago\t\n",
    "29th\ti3luemotion\t3h 03m 35s\tPC \t3 weeks ago\t\n",
    "30th\tmacros42\t3h 04m 03s\tPC \t3 months ago\t\n",
    "31st\tsankang2004\t3h 05m 00s\tPC \t2 months ago\t\n",
    "32nd\tThue\t3h 09m 14s\tLinux \t2 months ago\t\n",
    "33rd\tPosteule\t3h 18m 35s\tPC \t2 months ago\t\n",
    "34th\tbuffedCookie\t3h 18m 53s\tPC \t2 months ago\t\n",
    "35th\tmgrabmue\t3h 20m 27s\tPC \t1 week ago\t\n",
    "36th\tOctopi89\t3h 22m 19s\tPC \t2 months ago\t\n",
    "37th\t172cm74kg34c\t3h 26m 06s\tPC \t3 months ago\t\n",
    "38th\tBashTheWolf\t3h 26m 39s\tPC \t2 months ago\t\n",
    "39th\tElysium_81\t3h 28m 59s\tPC \t2 months ago\t\n",
    "40th\tanthonyca30\t3h 31m 41s\tPC \t1 month ago\t\n",
    "41st\tOverCraft\t3h 33m 52s\tPC \t1 month ago\t\n",
    "42nd\t_SiDzej_\t3h 37m 24s\tPC \t2 months ago\t\n",
    "43rd\tpar86\t3h 43m 59s\tPC \t2 months ago\t\n",
    "44th\tNiam\t3h 45m 05s\tPC \t1 month ago\t\n",
    "45th\tDonBalls\t3h 50m 34s\tPC \tToday\t\n",
    "46th\tDel_la_vega_\t3h 51m 26s\tPC \t6 days ago\t\n",
    "47th\tPCiT\t3h 57m 02s\tPC \t2 weeks ago\t\n",
    "48th\tZulan\t3h 57m 12s\tPC \t3 months ago\t\n",
    "49th\tChargingTotem\t4h 05m 28s\tPC \t3 months ago\t\n",
    "50th\tdefinitely-kyle\t4h 06m 50s\tPC \t1 month ago\t\n",
    "51st\tIvanK\t4h 12m 40s\tPC \t3 months ago\t\n",
    "52nd\twest_leigh\t4h 17m 11s\tPC \t2 months ago\t\n",
    "53rd\tCountycupid\t4h 37m 04s\tPC \t3 months ago\t\n",
    "54th\tJustJam\t4h 38m 48s\tPC \t1 day ago\t\n",
    "55th\tPentbot\t4h 44m 17s\tPC \t1 month ago\t\n",
    "56th\tyolargg\t4h 49m 35s\tPC \t3 months ago\t\n",
    "57th\tTalosSlowWalks\t5h 14m 43s\tLinux \t3 months ago\t\n",
    "58th\tEirenliel\t5h 17m 50s\tPC \t3 months ago\t\n",
    "59th\tpeet1993\t5h 48m 28s\tLinux \t3 months ago\t\n",
    "60th\tpti_renard\t6h 49m 45s\tPC \t1 month ago\t\n",
    "61st\tYoyobuae\t7h 25m 46s\tLinux \t3 months ago\t\n",
    "62nd\tDedleewicket\t7h 44m 00s\tPC \t6 days ago\t\n",
    "63rd\tLuckyOBrown\t8h 19m 30s\tMac \t2 months ago'''\n",
    "\n"
   ]
  },
  {
   "cell_type": "code",
   "execution_count": 11,
   "metadata": {},
   "outputs": [],
   "source": [
    "import re\n",
    "\n",
    "find = lambda row: re.search('(\\d+)h (\\d+)m (\\d+)s', row)\n",
    "\n",
    "totals = []\n",
    "for line in source.strip().split('\\n'):\n",
    "    hours, minutes, seconds = find(line).groups()\n",
    "    totals.append(sum((\n",
    "        int(hours)*60*60,\n",
    "        int(minutes)*60,\n",
    "        int(seconds)\n",
    "    )))"
   ]
  },
  {
   "cell_type": "code",
   "execution_count": 16,
   "metadata": {},
   "outputs": [
    {
     "data": {
      "text/plain": [
       "<BarContainer object of 30 artists>"
      ]
     },
     "execution_count": 16,
     "metadata": {},
     "output_type": "execute_result"
    },
    {
     "data": {
      "image/png": "[encoded data removed]",
      "text/plain": [
       "<Figure size 432x288 with 1 Axes>"
      ]
     },
     "metadata": {
      "needs_background": "light"
     },
     "output_type": "display_data"
    }
   ],
   "source": [
    "import matplotlib.pyplot as plt\n",
    "import numpy as np\n",
    "\n",
    "graphed = totals[:30]\n",
    "plt.bar(range(len(graphed)), graphed)"
   ]
  }
 ],
 "metadata": {
  "kernelspec": {
   "display_name": "Python 3",
   "language": "python",
   "name": "python3"
  },
  "language_info": {
   "codemirror_mode": {
    "name": "ipython",
    "version": 3
   },
   "file_extension": ".py",
   "mimetype": "text/x-python",
   "name": "python",
   "nbconvert_exporter": "python",
   "pygments_lexer": "ipython3",
   "version": "3.7.3"
  }
 },
 "nbformat": 4,
 "nbformat_minor": 2
}
