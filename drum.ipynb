{
 "cells": [
  {
   "cell_type": "code",
   "execution_count": 159,
   "metadata": {
    "scrolled": true
   },
   "outputs": [],
   "source": [
    "import keyboard\n",
    "from time import clock, perf_counter\n",
    "import matplotlib.pyplot as plt\n",
    "import numpy as np\n",
    "\n",
    "plt.rcParams[\"figure.figsize\"] = (18,1)\n",
    "\n",
    "def run(f):\n",
    "    f()\n",
    "    return f"
   ]
  },
  {
   "cell_type": "code",
   "execution_count": 79,
   "metadata": {
    "scrolled": true
   },
   "outputs": [],
   "source": [
    "pressed = keyboard.is_pressed\n",
    "now = perf_counter"
   ]
  },
  {
   "cell_type": "code",
   "execution_count": 184,
   "metadata": {
    "scrolled": true
   },
   "outputs": [],
   "source": [
    "def showclean():\n",
    "    plt.tick_params(axis='y', which='both', \n",
    "                left=False, right=False, labelleft=False)\n",
    "    plt.show()\n",
    "    \n",
    "\n",
    "def go(scale=1, pattern=10):\n",
    "    hits = []\n",
    "\n",
    "    down = False\n",
    "\n",
    "    count = 0\n",
    "    while True:\n",
    "        if pressed('q'):\n",
    "            break\n",
    "\n",
    "        p = pressed(' ')\n",
    "        if p and down:\n",
    "            continue\n",
    "        elif not p and down:\n",
    "            down = False\n",
    "        elif p and not down:\n",
    "            down = True\n",
    "            hits.append(perf_counter())\n",
    "            count += 1\n",
    "            if count == pattern:\n",
    "                count = 0\n",
    "                break\n",
    "\n",
    "    deltas = [b-a for a,b in zip(hits, hits[1:])]\n",
    "    \n",
    "    deltas = np.array(deltas) / (min(deltas)*scale)\n",
    "    \n",
    "    new = [0]\n",
    "    for skip in deltas:\n",
    "        new.append(new[-1] + skip)\n",
    "\n",
    "    plt.scatter(new, [1]*len(hits))\n",
    "    showclean()\n",
    "    print(' '.join('{:.2f}'.format(d) for d in deltas))\n",
    "\n",
    "    plt.hist(deltas, bins=50)\n",
    "    showclean()\n",
    "    print(' '.join('{:.2f}'.format(d) for d in sorted(deltas)))\n",
    "    \n",
    "    return deltas\n",
    "    "
   ]
  },
  {
   "cell_type": "code",
   "execution_count": 185,
   "metadata": {},
   "outputs": [
    {
     "data": {
      "image/png": "[encoded data removed]",
      "text/plain": [
       "<Figure size 1296x72 with 1 Axes>"
      ]
     },
     "metadata": {
      "needs_background": "light"
     },
     "output_type": "display_data"
    },
    {
     "name": "stdout",
     "output_type": "stream",
     "text": [
      "0.38 0.52 0.45 0.43 0.75 0.32 1.84 1.57 0.33 0.35 0.71 0.71 0.34 0.43 0.75 0.25 0.42 0.75 0.31 0.40 1.26 1.51 0.78 0.65\n"
     ]
    },
    {
     "data": {
      "image/png": "[encoded data removed]",
      "text/plain": [
       "<Figure size 1296x72 with 1 Axes>"
      ]
     },
     "metadata": {
      "needs_background": "light"
     },
     "output_type": "display_data"
    },
    {
     "name": "stdout",
     "output_type": "stream",
     "text": [
      "0.25 0.31 0.32 0.33 0.34 0.35 0.38 0.40 0.42 0.43 0.43 0.45 0.52 0.65 0.71 0.71 0.75 0.75 0.75 0.78 1.26 1.51 1.57 1.84\n"
     ]
    }
   ],
   "source": [
    "d = go(pattern=25, scale=4)"
   ]
  },
  {
   "cell_type": "code",
   "execution_count": 190,
   "metadata": {},
   "outputs": [
    {
     "data": {
      "image/png": "[encoded data removed]",
      "text/plain": [
       "<Figure size 1296x72 with 1 Axes>"
      ]
     },
     "metadata": {
      "needs_background": "light"
     },
     "output_type": "display_data"
    }
   ],
   "source": [
    "plt.hist(d/d.min(), bins=100); showclean()"
   ]
  },
  {
   "cell_type": "code",
   "execution_count": 183,
   "metadata": {
    "scrolled": false
   },
   "outputs": [
    {
     "data": {
      "image/png": "[encoded data removed]",
      "text/plain": [
       "<Figure size 1296x72 with 1 Axes>"
      ]
     },
     "metadata": {
      "needs_background": "light"
     },
     "output_type": "display_data"
    },
    {
     "name": "stdout",
     "output_type": "stream",
     "text": [
      "0.56 0.79 2.82 0.71 0.77 0.67 0.62 0.87 0.25 1.30 1.91 0.60 0.65 1.37 0.66 0.81 1.52 0.54 0.71\n"
     ]
    },
    {
     "data": {
      "image/png": "[encoded data removed]",
      "text/plain": [
       "<Figure size 1296x72 with 1 Axes>"
      ]
     },
     "metadata": {
      "needs_background": "light"
     },
     "output_type": "display_data"
    },
    {
     "name": "stdout",
     "output_type": "stream",
     "text": [
      "0.25 0.54 0.56 0.60 0.62 0.65 0.66 0.67 0.71 0.71 0.77 0.79 0.81 0.87 1.30 1.37 1.52 1.91 2.82\n"
     ]
    }
   ],
   "source": [
    "go(pattern=20, scale=4)"
   ]
  },
  {
   "cell_type": "code",
   "execution_count": 199,
   "metadata": {},
   "outputs": [
    {
     "data": {
      "text/plain": [
       "array([0.58638743, 0.82722513, 2.95287958, 0.7434555 , 0.80628272,\n",
       "       0.70157068, 0.64921466, 0.91099476, 0.2617801 , 1.36125654,\n",
       "       2.        , 0.62827225, 0.68062827, 1.43455497, 0.69109948,\n",
       "       0.84816754, 1.59162304, 0.56544503, 0.7434555 ])"
      ]
     },
     "execution_count": 199,
     "metadata": {},
     "output_type": "execute_result"
    }
   ],
   "source": [
    "d = np.array([0.56, 0.79, 2.82, 0.71, 0.77, 0.67, 0.62, 0.87, 0.25, \n",
    "              1.30, 1.91, 0.60, 0.65, 1.37, 0.66, 0.81, 1.52, 0.54, 0.71])\n",
    "d / .955"
   ]
  },
  {
   "cell_type": "code",
   "execution_count": 212,
   "metadata": {},
   "outputs": [
    {
     "data": {
      "text/plain": [
       "(0.675, 0.6925, 0.8066666666666666)"
      ]
     },
     "execution_count": 212,
     "metadata": {},
     "output_type": "execute_result"
    }
   ],
   "source": [
    "np.mean(d[:2]), np.mean(d[3:7]), np.mean(d[7:10])"
   ]
  },
  {
   "cell_type": "code",
   "execution_count": 227,
   "metadata": {},
   "outputs": [
    {
     "data": {
      "text/plain": [
       "(0.625, 0.7350000000000001, 0.625)"
      ]
     },
     "execution_count": 227,
     "metadata": {},
     "output_type": "execute_result"
    }
   ],
   "source": [
    "np.mean(d[11:13]), np.mean(d[14:16]), np.mean(d[17:20])"
   ]
  },
  {
   "cell_type": "code",
   "execution_count": 229,
   "metadata": {},
   "outputs": [
    {
     "data": {
      "image/png": "[encoded data removed]",
      "text/plain": [
       "<Figure size 1296x72 with 1 Axes>"
      ]
     },
     "metadata": {
      "needs_background": "light"
     },
     "output_type": "display_data"
    },
    {
     "name": "stdout",
     "output_type": "stream",
     "text": [
      "0.42 0.39 0.30 0.39 0.31 0.41 0.35 0.40 0.35 0.37 0.32 0.35 0.34 0.33 0.34 0.36 0.27 0.35 0.34 0.35 0.32 0.33 0.31 0.35 0.30 0.35 0.28 0.33 0.27 0.41 0.25 0.34 0.28 0.35 0.31 0.34 0.34 0.35 0.28 0.37 0.32 0.31 0.28 0.35 0.28 0.31 0.27 0.33 0.28\n"
     ]
    },
    {
     "data": {
      "image/png": "[encoded data removed]",
      "text/plain": [
       "<Figure size 1296x72 with 1 Axes>"
      ]
     },
     "metadata": {
      "needs_background": "light"
     },
     "output_type": "display_data"
    },
    {
     "name": "stdout",
     "output_type": "stream",
     "text": [
      "0.25 0.27 0.27 0.27 0.28 0.28 0.28 0.28 0.28 0.28 0.30 0.30 0.31 0.31 0.31 0.31 0.31 0.32 0.32 0.32 0.33 0.33 0.33 0.33 0.34 0.34 0.34 0.34 0.34 0.34 0.35 0.35 0.35 0.35 0.35 0.35 0.35 0.35 0.35 0.35 0.36 0.37 0.37 0.39 0.39 0.40 0.41 0.41 0.42\n"
     ]
    },
    {
     "data": {
      "text/plain": [
       "array([0.4220652 , 0.38696837, 0.2993347 , 0.39493319, 0.31485461,\n",
       "       0.4115653 , 0.35057254, 0.39733112, 0.35306338, 0.37277745,\n",
       "       0.31620842, 0.35060425, 0.33864534, 0.33069748, 0.33556044,\n",
       "       0.35573266, 0.27415647, 0.34828793, 0.34086581, 0.35263742,\n",
       "       0.32374704, 0.32608057, 0.31396608, 0.35327033, 0.29632402,\n",
       "       0.35267257, 0.27707941, 0.3335484 , 0.27432533, 0.40943356,\n",
       "       0.25      , 0.34348814, 0.27683214, 0.3527205 , 0.31388914,\n",
       "       0.33589766, 0.34074931, 0.34597381, 0.27677389, 0.37279588,\n",
       "       0.31602653, 0.31338724, 0.27531857, 0.35266741, 0.27688867,\n",
       "       0.31420916, 0.27437695, 0.33065226, 0.27937828])"
      ]
     },
     "execution_count": 229,
     "metadata": {},
     "output_type": "execute_result"
    }
   ],
   "source": [
    "go(pattern=50, scale=4)"
   ]
  },
  {
   "cell_type": "code",
   "execution_count": 230,
   "metadata": {},
   "outputs": [
    {
     "data": {
      "image/png": "[encoded data removed]",
      "text/plain": [
       "<Figure size 1296x72 with 1 Axes>"
      ]
     },
     "metadata": {
      "needs_background": "light"
     },
     "output_type": "display_data"
    },
    {
     "name": "stdout",
     "output_type": "stream",
     "text": [
      "0.35 0.43 0.30 0.45 0.39 0.38 0.30 0.39 0.35 0.43 0.35 0.39 0.38 0.42 0.35 0.41 0.37 0.41 0.50 0.30 0.47 0.35 0.35 0.43 0.35 0.45 0.34 0.38 0.33 0.33 0.85 0.41 0.40 0.33 0.39 0.45 0.39 0.33 0.39 0.40 0.42 0.25 0.49 0.43 0.34 0.85 0.39 0.37 0.41\n"
     ]
    },
    {
     "data": {
      "image/png": "[encoded data removed]",
      "text/plain": [
       "<Figure size 1296x72 with 1 Axes>"
      ]
     },
     "metadata": {
      "needs_background": "light"
     },
     "output_type": "display_data"
    },
    {
     "name": "stdout",
     "output_type": "stream",
     "text": [
      "0.25 0.30 0.30 0.30 0.33 0.33 0.33 0.33 0.34 0.34 0.35 0.35 0.35 0.35 0.35 0.35 0.35 0.37 0.37 0.38 0.38 0.38 0.39 0.39 0.39 0.39 0.39 0.39 0.39 0.40 0.40 0.41 0.41 0.41 0.41 0.42 0.42 0.43 0.43 0.43 0.43 0.45 0.45 0.45 0.47 0.49 0.50 0.85 0.85\n"
     ]
    },
    {
     "data": {
      "text/plain": [
       "array([0.35239196, 0.42878055, 0.29687266, 0.44547925, 0.38671142,\n",
       "       0.37572183, 0.29665812, 0.3918062 , 0.35232827, 0.42894698,\n",
       "       0.35250864, 0.39177133, 0.38475849, 0.41506286, 0.34968012,\n",
       "       0.41276685, 0.36592069, 0.41497128, 0.49864327, 0.29911683,\n",
       "       0.46598595, 0.35211257, 0.35471214, 0.42760187, 0.3524145 ,\n",
       "       0.44609753, 0.33569465, 0.38155552, 0.33345141, 0.33389072,\n",
       "       0.84680814, 0.41037299, 0.3982233 , 0.32724768, 0.38902068,\n",
       "       0.44760186, 0.38966058, 0.33337517, 0.39232848, 0.40286715,\n",
       "       0.42463854, 0.25      , 0.48502621, 0.42631069, 0.33624111,\n",
       "       0.85316318, 0.39154401, 0.37322686, 0.40793496])"
      ]
     },
     "execution_count": 230,
     "metadata": {},
     "output_type": "execute_result"
    }
   ],
   "source": [
    "go(pattern=50, scale=4)"
   ]
  },
  {
   "cell_type": "code",
   "execution_count": 231,
   "metadata": {},
   "outputs": [
    {
     "name": "stdout",
     "output_type": "stream",
     "text": [
      "Collecting pydub\n",
      "  Downloading https://files.pythonhosted.org/packages/7b/d1/fbfa79371a8cd9bb15c2e3c480d7e6e340ed5cc55005174e16f48418333a/pydub-0.24.1-py2.py3-none-any.whl\n",
      "Installing collected packages: pydub\n",
      "Successfully installed pydub-0.24.1\n"
     ]
    }
   ],
   "source": [
    "!pip install pydub"
   ]
  }
 ],
 "metadata": {
  "kernelspec": {
   "display_name": "Python 3",
   "language": "python",
   "name": "python3"
  },
  "language_info": {
   "codemirror_mode": {
    "name": "ipython",
    "version": 3
   },
   "file_extension": ".py",
   "mimetype": "text/x-python",
   "name": "python",
   "nbconvert_exporter": "python",
   "pygments_lexer": "ipython3",
   "version": "3.7.3"
  }
 },
 "nbformat": 4,
 "nbformat_minor": 2
}
