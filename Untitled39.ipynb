{
 "cells": [
  {
   "cell_type": "code",
   "execution_count": 42,
   "metadata": {},
   "outputs": [],
   "source": [
    "league = dict(\n",
    "    caitlin=(650, 1300),\n",
    "    seraphine=(525, 1025),\n",
    "    senna=(600, 800),\n",
    "    twitch=(845, 855),\n",
    "    kindred=(500, 750),\n",
    "    jinx=(525, 725),\n",
    "    kogmaw=(500, 710),\n",
    "    tristana=(525, 661),\n",
    "    \n",
    ")\n",
    "\n",
    "baseline=(500, 550)"
   ]
  },
  {
   "cell_type": "code",
   "execution_count": 29,
   "metadata": {},
   "outputs": [
    {
     "data": {
      "text/plain": [
       "<Figure size 320x320 with 0 Axes>"
      ]
     },
     "execution_count": 29,
     "metadata": {},
     "output_type": "execute_result"
    },
    {
     "data": {
      "text/plain": [
       "<Figure size 320x320 with 0 Axes>"
      ]
     },
     "metadata": {},
     "output_type": "display_data"
    }
   ],
   "source": [
    "import matplotlib.pyplot as plt\n",
    "from matplotlib.patches import Rectangle\n",
    "from matplotlib.collections import PatchCollection\n",
    "from matplotlib.pyplot import figure\n",
    "\n",
    "figure(figsize=(4, 4), dpi=80)"
   ]
  },
  {
   "cell_type": "code",
   "execution_count": 50,
   "metadata": {},
   "outputs": [
    {
     "data": {
      "image/png": "[encoded data removed]",
      "text/plain": [
       "<Figure size 576x576 with 1 Axes>"
      ]
     },
     "metadata": {
      "needs_background": "light"
     },
     "output_type": "display_data"
    }
   ],
   "source": [
    "x = 0\n",
    "patches = []\n",
    "buffer = 0.2\n",
    "\n",
    "fig, ax = plt.subplots(figsize=(8, 8))\n",
    "\n",
    "def record(name, short, long):\n",
    "    global x\n",
    "    patches.append(Rectangle(\n",
    "        (x+buffer, short), \n",
    "        1-buffer, long-short))\n",
    "    \n",
    "    ax.text(x+buffer, short-40, name)\n",
    "    x += 1\n",
    "\n",
    "for name in sorted(league, key=league.__getitem__):\n",
    "    short, long = league[name]\n",
    "    record(name, short, long)\n",
    "\n",
    "record('aphelios', 550, 1800)\n",
    "\n",
    "    \n",
    "ax.add_collection(PatchCollection(\n",
    "        patches, facecolor='r', alpha=0.5, edgecolor='None'\n",
    "))\n",
    "\n",
    "axes = plt.gca()\n",
    "axes.set_xlim([0,10])\n",
    "axes.set_ylim([0,2000])\n",
    "\n",
    "plt.show()"
   ]
  }
 ],
 "metadata": {
  "kernelspec": {
   "display_name": "Python 3",
   "language": "python",
   "name": "python3"
  },
  "language_info": {
   "codemirror_mode": {
    "name": "ipython",
    "version": 3
   },
   "file_extension": ".py",
   "mimetype": "text/x-python",
   "name": "python",
   "nbconvert_exporter": "python",
   "pygments_lexer": "ipython3",
   "version": "3.7.3"
  }
 },
 "nbformat": 4,
 "nbformat_minor": 2
}
