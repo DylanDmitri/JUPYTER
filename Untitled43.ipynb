{
 "cells": [
  {
   "cell_type": "code",
   "execution_count": 24,
   "metadata": {},
   "outputs": [],
   "source": [
    "import pandas as pd\n",
    "import os\n",
    "import ast"
   ]
  },
  {
   "cell_type": "code",
   "execution_count": 25,
   "metadata": {},
   "outputs": [],
   "source": [
    "def fields(o):\n",
    "    return [f for f in dir(o) if not f.startswith('__')]"
   ]
  },
  {
   "cell_type": "code",
   "execution_count": 3,
   "metadata": {},
   "outputs": [
    {
     "data": {
      "text/html": [
       "<div>\n",
       "<style scoped>\n",
       "    .dataframe tbody tr th:only-of-type {\n",
       "        vertical-align: middle;\n",
       "    }\n",
       "\n",
       "    .dataframe tbody tr th {\n",
       "        vertical-align: top;\n",
       "    }\n",
       "\n",
       "    .dataframe thead th {\n",
       "        text-align: right;\n",
       "    }\n",
       "</style>\n",
       "<table border=\"1\" class=\"dataframe\">\n",
       "  <thead>\n",
       "    <tr style=\"text-align: right;\">\n",
       "      <th></th>\n",
       "      <th>filepath</th>\n",
       "    </tr>\n",
       "  </thead>\n",
       "  <tbody>\n",
       "    <tr>\n",
       "      <th>0</th>\n",
       "      <td>foo/bar.txt</td>\n",
       "    </tr>\n",
       "    <tr>\n",
       "      <th>1</th>\n",
       "      <td>baz.txt</td>\n",
       "    </tr>\n",
       "  </tbody>\n",
       "</table>\n",
       "</div>"
      ],
      "text/plain": [
       "      filepath\n",
       "0  foo/bar.txt\n",
       "1      baz.txt"
      ]
     },
     "execution_count": 3,
     "metadata": {},
     "output_type": "execute_result"
    }
   ],
   "source": [
    "ticket = pd.DataFrame([\n",
    "    {'filepath': 'foo/bar.txt'},\n",
    "    {'filepath': 'baz.txt'}\n",
    "])\n",
    "ticket"
   ]
  },
  {
   "cell_type": "code",
   "execution_count": 4,
   "metadata": {},
   "outputs": [
    {
     "data": {
      "text/plain": [
       "0    foo/bar.txt\n",
       "1        baz.txt\n",
       "Name: filepath, dtype: object"
      ]
     },
     "execution_count": 4,
     "metadata": {},
     "output_type": "execute_result"
    }
   ],
   "source": [
    "ticket.filepath"
   ]
  },
  {
   "cell_type": "code",
   "execution_count": 6,
   "metadata": {},
   "outputs": [
    {
     "data": {
      "text/plain": [
       "False"
      ]
     },
     "execution_count": 6,
     "metadata": {},
     "output_type": "execute_result"
    }
   ],
   "source": [
    "all(os.path.exists(f) for f in ticket.filepath)"
   ]
  },
  {
   "cell_type": "code",
   "execution_count": 63,
   "metadata": {},
   "outputs": [
    {
     "ename": "SyntaxError",
     "evalue": "invalid syntax (<ipython-input-63-7670e4a08429>, line 6)",
     "output_type": "error",
     "traceback": [
      "\u001b[1;36m  File \u001b[1;32m\"<ipython-input-63-7670e4a08429>\"\u001b[1;36m, line \u001b[1;32m6\u001b[0m\n\u001b[1;33m    def\u001b[0m\n\u001b[1;37m       ^\u001b[0m\n\u001b[1;31mSyntaxError\u001b[0m\u001b[1;31m:\u001b[0m invalid syntax\n"
     ]
    }
   ],
   "source": [
    "\n",
    "import ast\n",
    "import inspect\n",
    "import types\n",
    "\n",
    "class Rewrite(ast.NodeTransformer):\n",
    "    def\n",
    "    def visit_Name(self, node):\n",
    "        if node.id == 'pi':\n",
    "            result = ast.Num(n=3.14159265)\n",
    "            result.lineno = node.lineno\n",
    "            result.col_offset = node.col_offset\n",
    "            return result\n",
    "        return node\n",
    "    \n",
    "    def vist_Node\n",
    "        \n",
    "\n",
    "def transform_ast(f):\n",
    "    source = inspect.getsource(f)\n",
    "    source = '\\n'.join(source.splitlines()[1:]) # remove the decorator first line.\n",
    "    print(source)\n",
    "\n",
    "    old_code_obj = f.__code__\n",
    "    new_ast = Rewrite().visit(ast.parse(source))\n",
    "    new_code_obj = compile(new_ast, old_code_obj.co_filename, 'exec')\n",
    "    new_f = types.FunctionType(new_code_obj.co_consts[0], f.__globals__)\n",
    "    return new_f\n",
    "\n",
    "\n",
    "\n",
    "\n",
    "@transform_ast\n",
    "def tau():\n",
    "    return 2 * pi\n",
    "\n",
    "tau()"
   ]
  },
  {
   "cell_type": "markdown",
   "metadata": {},
   "source": []
  },
  {
   "cell_type": "code",
   "execution_count": null,
   "metadata": {},
   "outputs": [],
   "source": [
    "\n",
    "\n"
   ]
  },
  {
   "cell_type": "code",
   "execution_count": 41,
   "metadata": {},
   "outputs": [
    {
     "data": {
      "text/plain": [
       "['_attributes', '_fields', 'body']"
      ]
     },
     "execution_count": 41,
     "metadata": {},
     "output_type": "execute_result"
    }
   ],
   "source": []
  },
  {
   "cell_type": "code",
   "execution_count": 45,
   "metadata": {},
   "outputs": [
    {
     "name": "stdout",
     "output_type": "stream",
     "text": [
      "(<_ast.FunctionDef object at 0x00000261035556A0>,)\n"
     ]
    },
    {
     "data": {
      "text/plain": [
       "<_ast.FunctionDef at 0x261035556a0>"
      ]
     },
     "execution_count": 45,
     "metadata": {},
     "output_type": "execute_result"
    }
   ],
   "source": [
    "print(tuple(tau.body))\n",
    "tau.body[0]\n",
    "\n",
    "tau.lineno\n"
   ]
  },
  {
   "cell_type": "code",
   "execution_count": 47,
   "metadata": {},
   "outputs": [
    {
     "data": {
      "text/plain": [
       "['_attributes',\n",
       " '_fields',\n",
       " 'args',\n",
       " 'body',\n",
       " 'col_offset',\n",
       " 'decorator_list',\n",
       " 'lineno',\n",
       " 'name',\n",
       " 'returns']"
      ]
     },
     "execution_count": 47,
     "metadata": {},
     "output_type": "execute_result"
    }
   ],
   "source": [
    "fields(tau.body[0])"
   ]
  },
  {
   "cell_type": "code",
   "execution_count": 51,
   "metadata": {},
   "outputs": [
    {
     "data": {
      "text/plain": [
       "1"
      ]
     },
     "execution_count": 51,
     "metadata": {},
     "output_type": "execute_result"
    }
   ],
   "source": [
    "tau.body[0].lineno"
   ]
  },
  {
   "cell_type": "code",
   "execution_count": 31,
   "metadata": {},
   "outputs": [
    {
     "name": "stdout",
     "output_type": "stream",
     "text": [
      "['_attributes', '_fields', 'col_offset', 'lineno', 'value']\n"
     ]
    },
    {
     "data": {
      "text/plain": [
       "<_ast.BinOp at 0x261035481d0>"
      ]
     },
     "execution_count": 31,
     "metadata": {},
     "output_type": "execute_result"
    }
   ],
   "source": [
    "print(fields(o.body[0]))\n",
    "\n",
    "o.body[0].value"
   ]
  },
  {
   "cell_type": "code",
   "execution_count": 72,
   "metadata": {},
   "outputs": [
    {
     "name": "stdout",
     "output_type": "stream",
     "text": [
      ". . .\n",
      ". . .\n",
      ". . .\n"
     ]
    }
   ],
   "source": [
    "from itertools import product\n",
    "\n",
    "# list of tuples -- ((0, 0), (0, 1), ...)\n",
    "idx = tuple(product(range(3), range(3)))\n",
    " \n",
    "# maps to either '.' for empty tiles, or 'x'/'o'\n",
    "board = {i:'.' for i in idx}\n",
    "\n",
    "def show():\n",
    "    tiles = tuple(board.values())\n",
    "    print(*tiles[0:3])\n",
    "    print(*tiles[3:6])\n",
    "    print(*tiles[6:9])\n",
    "\n"
   ]
  }
 ],
 "metadata": {
  "kernelspec": {
   "display_name": "Python 3",
   "language": "python",
   "name": "python3"
  },
  "language_info": {
   "codemirror_mode": {
    "name": "ipython",
    "version": 3
   },
   "file_extension": ".py",
   "mimetype": "text/x-python",
   "name": "python",
   "nbconvert_exporter": "python",
   "pygments_lexer": "ipython3",
   "version": "3.7.3"
  }
 },
 "nbformat": 4,
 "nbformat_minor": 2
}
