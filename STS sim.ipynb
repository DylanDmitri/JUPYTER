{
 "cells": [
  {
   "cell_type": "code",
   "execution_count": 169,
   "metadata": {},
   "outputs": [],
   "source": [
    "from random import randint"
   ]
  },
  {
   "cell_type": "code",
   "execution_count": null,
   "metadata": {},
   "outputs": [],
   "source": []
  },
  {
   "cell_type": "code",
   "execution_count": 4,
   "metadata": {},
   "outputs": [],
   "source": [
    "def attack_used_trigger(event):\n",
    "    \n",
    "\n",
    "class Combat:\n",
    "    def __init__(self):\n",
    "        self.player = None\n",
    "        self.enemies = []\n",
    "        \n",
    "        self.stack = []\n",
    "        self.triggers = []\n",
    "        \n",
    "    def __iter__(self):\n",
    "        return iter([self.player, *self.enemies])\n",
    "\n",
    "    def play(self):\n",
    "        while True:\n",
    "            break\n"
   ]
  },
  {
   "cell_type": "code",
   "execution_count": null,
   "metadata": {},
   "outputs": [],
   "source": [
    "class test:\n",
    "    def move(self, distance, vehicle):\n",
    "        print('moved', distance, 'via', vehicle)\n",
    "        \n",
    "def needs_distance(f):\n",
    "    def inner(cls, distance, vehicle):"
   ]
  },
  {
   "cell_type": "code",
   "execution_count": 3,
   "metadata": {},
   "outputs": [
    {
     "data": {
      "text/plain": [
       "<__main__.Cultist_Strike at 0x267ff2d9a58>"
      ]
     },
     "execution_count": 3,
     "metadata": {},
     "output_type": "execute_result"
    }
   ],
   "source": [
    "\n",
    "class Cultist:\n",
    "    def __init__(self):\n",
    "        self.stats = {}\n",
    "        self.stats['maxhp'] = randint(48, 54)\n",
    "        self.stats['hp'] = self.stats['maxhp']\n",
    "        self.stats['strength'] = 0\n",
    "        \n",
    "        self.first_turn = False\n",
    "        \n",
    "    def cultist_ritual(self, caster, target, battle):\n",
    "        @battle.triggers.add \n",
    "        def trigger(self, event):\n",
    "            if event == ('turn start', caster):\n",
    "                battle.proc('change', caster, 'strength', 3)\n",
    "    \n",
    "    def strike(self, caster, target, battle):\n",
    "        power = 6 + self.strength\n",
    "    \n",
    "    def move(self):\n",
    "        if self.first_turn:\n",
    "            return self.cultist_ritual\n",
    "        else:\n",
    "            return cultist_strike\n",
    "    \n",
    "cultist_strike"
   ]
  },
  {
   "cell_type": "code",
   "execution_count": null,
   "metadata": {},
   "outputs": [],
   "source": [
    "class Louse_Tackle(Stash):\n",
    "    "
   ]
  },
  {
   "cell_type": "code",
   "execution_count": null,
   "metadata": {},
   "outputs": [],
   "source": []
  },
  {
   "cell_type": "code",
   "execution_count": null,
   "metadata": {},
   "outputs": [],
   "source": []
  },
  {
   "cell_type": "code",
   "execution_count": null,
   "metadata": {},
   "outputs": [],
   "source": []
  },
  {
   "cell_type": "code",
   "execution_count": 85,
   "metadata": {},
   "outputs": [],
   "source": []
  },
  {
   "cell_type": "code",
   "execution_count": null,
   "metadata": {},
   "outputs": [],
   "source": [
    "class EnemyAI:\n",
    "    pass"
   ]
  },
  {
   "cell_type": "code",
   "execution_count": 84,
   "metadata": {},
   "outputs": [
    {
     "data": {
      "text/plain": [
       "<__main__.Strike at 0x23d1c4dae10>"
      ]
     },
     "execution_count": 84,
     "metadata": {},
     "output_type": "execute_result"
    }
   ],
   "source": []
  },
  {
   "cell_type": "code",
   "execution_count": null,
   "metadata": {},
   "outputs": [],
   "source": [
    "class Jaw_Worm(Unit):\n",
    "    def __init__(self):\n",
    "        self.hp = randint(40, 44)\n",
    "        \n",
    "        self.ai = EnemyAI(\n",
    "            first = jaw_worm_chomp,\n",
    "            repeat = EnemyAI(\n",
    "                max_consecutive = (\n",
    "                    1, jaw_worm_bellow,\n",
    "                    2, jaw_worm_thrash,\n",
    "                    1, jaw_worm_chomp,\n",
    "                ),\n",
    "                random = (\n",
    "                    45, jaw_worm_bellow,\n",
    "                    30, jaw_worm_thrash,\n",
    "                    25, jaw_worm_chomp,\n",
    "                )))"
   ]
  },
  {
   "cell_type": "code",
   "execution_count": 54,
   "metadata": {},
   "outputs": [
    {
     "ename": "SyntaxError",
     "evalue": "invalid syntax (<ipython-input-54-759e4f7df3a5>, line 9)",
     "output_type": "error",
     "traceback": [
      "\u001b[1;36m  File \u001b[1;32m\"<ipython-input-54-759e4f7df3a5>\"\u001b[1;36m, line \u001b[1;32m9\u001b[0m\n\u001b[1;33m    def\u001b[0m\n\u001b[1;37m        ^\u001b[0m\n\u001b[1;31mSyntaxError\u001b[0m\u001b[1;31m:\u001b[0m invalid syntax\n"
     ]
    }
   ],
   "source": [
    "class Battle:\n",
    "    def __init__(self):\n",
    "        self.player = None\n",
    "        self.monsters = []\n",
    "        \n",
    "        self.stack = []\n",
    "        self.triggers = []\n",
    "        \n",
    "    def proc(self, action, *args):\n",
    "        pass\n",
    "        \n",
    "    def __iter__(self):\n",
    "        return iter([player, *monsters])\n",
    "        \n",
    "class Trigger:\n",
    "    pass"
   ]
  },
  {
   "cell_type": "code",
   "execution_count": null,
   "metadata": {},
   "outputs": [],
   "source": [
    "class JawWormSkill(Stash.new(''))"
   ]
  },
  {
   "cell_type": "code",
   "execution_count": null,
   "metadata": {},
   "outputs": [],
   "source": []
  },
  {
   "cell_type": "code",
   "execution_count": null,
   "metadata": {},
   "outputs": [],
   "source": []
  },
  {
   "cell_type": "code",
   "execution_count": null,
   "metadata": {},
   "outputs": [],
   "source": []
  },
  {
   "cell_type": "code",
   "execution_count": null,
   "metadata": {},
   "outputs": [],
   "source": []
  },
  {
   "cell_type": "code",
   "execution_count": null,
   "metadata": {},
   "outputs": [],
   "source": []
  },
  {
   "cell_type": "code",
   "execution_count": null,
   "metadata": {},
   "outputs": [],
   "source": []
  },
  {
   "cell_type": "code",
   "execution_count": 52,
   "metadata": {},
   "outputs": [],
   "source": [
    "class Unit:\n",
    "    def __init__(self):\n",
    "        self.deck = []\n",
    "        self.hand = []\n",
    "        self.exile = []\n",
    "        \n",
    "        self.hp = 0\n",
    "        self.maxhp = 0\n",
    "        \n",
    "        self.block = 0\n",
    "        \n",
    "        self.strength = 0\n",
    "        self.dexterity = 0\n",
    "        self.vulnerable = 0\n",
    "        self.weak = 0\n",
    "        self.frail = 0\n",
    "        \n",
    "    def change(self, stat, amount):\n",
    "        assert self.hasattr(stat)\n",
    "        \n",
    "        setattr(self, stat, getattr(self, stat)+amount)\n",
    "    \n",
    "    def take_damage(self, amount):\n",
    "        if self.vulnerable:\n",
    "            amount = int(amount*1.5)\n",
    "        \n",
    "        blocked = min(self.block, amount)\n",
    "        self.block -= blocked\n",
    "        amount -= blocked\n",
    "        \n",
    "        if amount > 0:\n",
    "            self.change('hp', -amount)\n",
    "            \n",
    "    def attack(self, amount, other):\n",
    "        amount += self.strength\n",
    "        \n",
    "        other.take_damage(amount)\n",
    "        "
   ]
  },
  {
   "cell_type": "code",
   "execution_count": 50,
   "metadata": {},
   "outputs": [
    {
     "data": {
      "text/plain": [
       "<__main__.Strike at 0x23d1c525a20>"
      ]
     },
     "execution_count": 50,
     "metadata": {},
     "output_type": "execute_result"
    }
   ],
   "source": [
    "class Card(Stash.new(\"cards\")):\n",
    "    pass\n",
    "\n",
    "class Cardkind:\n",
    "    attack = 'attack'\n",
    "    skill = 'skill'\n",
    "    power = 'power'\n",
    "    \n",
    "class Strike(Card):\n",
    "    kind = Cardkind.skill\n",
    "        \n",
    "    def play(self, caster, battle):\n",
    "        pass\n",
    "    \n",
    "cards['Strike']"
   ]
  },
  {
   "cell_type": "code",
   "execution_count": 86,
   "metadata": {},
   "outputs": [
    {
     "ename": "SyntaxError",
     "evalue": "invalid syntax (<ipython-input-86-0e0bdf1ad5c7>, line 7)",
     "output_type": "error",
     "traceback": [
      "\u001b[1;36m  File \u001b[1;32m\"<ipython-input-86-0e0bdf1ad5c7>\"\u001b[1;36m, line \u001b[1;32m7\u001b[0m\n\u001b[1;33m    if card.kind = Cardkind.skill:\u001b[0m\n\u001b[1;37m                 ^\u001b[0m\n\u001b[1;31mSyntaxError\u001b[0m\u001b[1;31m:\u001b[0m invalid syntax\n"
     ]
    }
   ],
   "source": [
    "class KnobSkill(Stash.new('knob_skills')):\n",
    "    pass\n",
    "\n",
    "class Bellow(KnobSkill):\n",
    "    def play(self, caster, battle):\n",
    "        def EnrageTrigger(battle, card):\n",
    "            if card.kind = Cardkind.skill:\n",
    "                caster.strength += 2\n",
    "        \n",
    "        battle.on_card_play.append(EnrageTrigger)\n",
    "\n",
    "class Rush(KnobSkill):\n",
    "    def play(self, caster, battle):\n",
    "        battle.player.take_damage('hp', 14 + self.strength)\n",
    "\n",
    "class SkullBash(KnobSkill):\n",
    "    def play(self, caster, battle):\n",
    "        battle.player.take_damage('hp', 6 + self.strength)\n",
    "        battle.player.change('vulnerable', 2)\n",
    "\n",
    "# -------\n",
    "\n",
    "class GoblinKnob:\n",
    "    def __init__(self):\n",
    "        self.hp = 82\n",
    "        self.maxhp = 82\n",
    "        \n",
    "        self.has_bellowed = False\n",
    "        self.consecutive_rush = 0\n",
    "        \n",
    "    def choose_action(self):\n",
    "        if not self.has_bellowed:\n",
    "            return KnobSkill['Bellow']\n",
    "        \n",
    "        roll = randint(1,3) == 3\n",
    "        needs_to_bash = self.consecutive_rush == 2\n",
    "        \n",
    "        if roll or needs_to_bash:\n",
    "            self.consecutive_rush = 0\n",
    "            return KnobSkill['SkullBash']\n",
    "        \n",
    "        else:\n",
    "            self.consecutive_rush += 1\n",
    "            return KnobSkill['Rush']\n",
    "        \n",
    "        "
   ]
  },
  {
   "cell_type": "code",
   "execution_count": null,
   "metadata": {},
   "outputs": [],
   "source": []
  },
  {
   "cell_type": "code",
   "execution_count": null,
   "metadata": {},
   "outputs": [],
   "source": []
  },
  {
   "cell_type": "code",
   "execution_count": null,
   "metadata": {},
   "outputs": [],
   "source": []
  },
  {
   "cell_type": "code",
   "execution_count": 89,
   "metadata": {},
   "outputs": [],
   "source": [
    "import random"
   ]
  },
  {
   "cell_type": "code",
   "execution_count": 134,
   "metadata": {},
   "outputs": [
    {
     "name": "stdout",
     "output_type": "stream",
     "text": [
      "['A', 'D', 'A', 'S', 'D', 'S', 'A', 'A']\n"
     ]
    }
   ],
   "source": [
    "ATTACK = 'A'\n",
    "SCYTHE = 'S'\n",
    "DEBUFF = 'D'\n",
    "\n",
    "byte2 = ATTACK\n",
    "byte3 = SCYTHE\n",
    "byte4 = DEBUFF\n",
    "\n",
    "\n",
    "\n",
    "class Nemesis:\n",
    "    def __init__(self):\n",
    "        self.scytheCooldown = 0\n",
    "        self.firstMove = True\n",
    "        \n",
    "        self.moves = []\n",
    "        \n",
    "    def lastMove(self, move):\n",
    "        if len(self.moves) < 1:\n",
    "            return False\n",
    "        \n",
    "        return self.moves[-1] == move\n",
    "    \n",
    "    def lasttwomoves(self, move):\n",
    "        if len(self.moves) < 2:\n",
    "            return False\n",
    "        \n",
    "        return self.moves[-1] == move and self.moves[-2] == move\n",
    "    \n",
    "    def use(self, move):\n",
    "        self.moves.append(move)\n",
    "        \n",
    "    def getMove(self):\n",
    "        \n",
    "        self.scytheCooldown -= 1\n",
    "        \n",
    "        if self.firstMove:\n",
    "            self.firstMove = False\n",
    "            if randint(0, 1):\n",
    "                self.use(ATTACK)\n",
    "            else:\n",
    "                self.use(DEBUFF)\n",
    "            return\n",
    "        \n",
    "        \n",
    "        num = random.randint(0, 99)\n",
    "        \n",
    "        if num < 30:\n",
    "            if not self.lastMove(SCYTHE) and self.scytheCooldown <= 0:\n",
    "                self.use(SCYTHE)\n",
    "                self.scytheCooldown = 2\n",
    "            \n",
    "            elif randint(1, 2):\n",
    "                if not self.lasttwomoves(ATTACK):\n",
    "                    self.use(ATTACK)\n",
    "                else:\n",
    "                    self.use(DEBUFF)\n",
    "            \n",
    "            elif not self.lastMove(DEBUFF):\n",
    "                self.use(DEBUFF)\n",
    "            else:\n",
    "                self.use(ATTACK)\n",
    "            \n",
    "        elif num < 65:\n",
    "            if not self.lasttwomoves(ATTACK):\n",
    "                self.use(ATTACK)\n",
    "                \n",
    "            elif randint(0, 1):\n",
    "                if self.scytheCooldown > 0:\n",
    "                    self.use(DEBUFF)\n",
    "                else:\n",
    "                    self.use(SCYTHE)\n",
    "                    self.scytheCooldown = 2\n",
    "            else:\n",
    "                self.use(DEBUFF)\n",
    "            \n",
    "        else:\n",
    "            if not self.lastMove(DEBUFF):\n",
    "                self.use(DEBUFF)\n",
    "            elif randint(0, 1) and self.scytheCooldown <= 0:\n",
    "                self.use(SCYTHE)\n",
    "                self.scytheCooldown = 2\n",
    "            else:\n",
    "                self.use(ATTACK)\n",
    "            \n",
    "            \n",
    "n = Nemesis()\n",
    "for _ in range(8):\n",
    "    n.getMove()\n",
    "\n",
    "print(n.moves)"
   ]
  },
  {
   "cell_type": "code",
   "execution_count": 149,
   "metadata": {},
   "outputs": [
    {
     "name": "stdout",
     "output_type": "stream",
     "text": [
      "3 [('a', 2 [('b', 2 [('c', 1), ('d', 1)])]), ('b', 1 [('c', 1 [('f', 1)])])]\n"
     ]
    }
   ],
   "source": [
    "from collections import defaultdict\n",
    "\n",
    "class Trie:\n",
    "    def __init__(self):\n",
    "        self.count = 0\n",
    "        self.children = defaultdict(lambda: Trie())\n",
    "    \n",
    "    def add(self, seq):\n",
    "        self.count += 1\n",
    "        if not seq:\n",
    "            return\n",
    "        self.children[seq[0]].add(seq[1:])\n",
    "        \n",
    "    def __repr__(self):\n",
    "        if not self.children:\n",
    "            return str(self.count)\n",
    "        else:\n",
    "            kv = tuple(self.children.items())\n",
    "            kv = sorted(kv, key=lambda t: -t[1].count)\n",
    "            return f'{self.count} {kv}'\n",
    "        \n",
    "        \n",
    "root = Trie()\n",
    "\n",
    "root.add('abc')\n",
    "root.add('abd')\n",
    "root.add('bcf')\n",
    "\n",
    "print(root)"
   ]
  },
  {
   "cell_type": "code",
   "execution_count": 168,
   "metadata": {},
   "outputs": [
    {
     "name": "stdout",
     "output_type": "stream",
     "text": [
      "defaultdict(<function Trie.__init__.<locals>.<lambda> at 0x0000023D1C5B0D90>,\n",
      "            {   'A': 35075 [('D', 18359), ('S', 16716)],\n",
      "                'D': 34987 [('A', 18455), ('S', 16532)],\n",
      "                'S': 29938 [('A', 19269), ('D', 10669)]})\n"
     ]
    }
   ],
   "source": [
    "import pprint\n",
    "\n",
    "root = Trie()\n",
    "\n",
    "moves = (\n",
    "    DEBUFF,\n",
    "    ATTACK\n",
    ")\n",
    "\n",
    "for trial in range(100000):\n",
    "    n = Nemesis()\n",
    "    for move in moves:\n",
    "        n.firstMove = False\n",
    "        n.moves.append(move)\n",
    "        \n",
    "    for _ in range(2):\n",
    "        n.getMove()\n",
    "        \n",
    "    root.add(n.moves)\n",
    "    \n",
    "pp = pprint.PrettyPrinter(indent=4)\n",
    "out = root\n",
    "for m in moves:\n",
    "    out = out.children[m]\n",
    "pp.pprint(out.children)"
   ]
  },
  {
   "cell_type": "code",
   "execution_count": 166,
   "metadata": {},
   "outputs": [
    {
     "ename": "SyntaxError",
     "evalue": "invalid syntax (<ipython-input-166-9211d02dbccc>, line 1)",
     "output_type": "error",
     "traceback": [
      "\u001b[1;36m  File \u001b[1;32m\"<ipython-input-166-9211d02dbccc>\"\u001b[1;36m, line \u001b[1;32m1\u001b[0m\n\u001b[1;33m    defaultdict(<function Trie.__init__.<locals>.<lambda> at 0x0000023D1C3D3620>,\u001b[0m\n\u001b[1;37m                ^\u001b[0m\n\u001b[1;31mSyntaxError\u001b[0m\u001b[1;31m:\u001b[0m invalid syntax\n"
     ]
    }
   ],
   "source": [
    "defaultdict(<function Trie.__init__.<locals>.<lambda> at 0x0000023D1C3D3620>,\n",
    "            {   'A': 64894 [('D', 22763), ('A', 22510), ('S', 19621)],\n",
    "                'D': 35106 [('A', 18523), ('S', 16583)]})"
   ]
  }
 ],
 "metadata": {
  "kernelspec": {
   "display_name": "Python 3",
   "language": "python",
   "name": "python3"
  },
  "language_info": {
   "codemirror_mode": {
    "name": "ipython",
    "version": 3
   },
   "file_extension": ".py",
   "mimetype": "text/x-python",
   "name": "python",
   "nbconvert_exporter": "python",
   "pygments_lexer": "ipython3",
   "version": "3.7.3"
  }
 },
 "nbformat": 4,
 "nbformat_minor": 2
}
