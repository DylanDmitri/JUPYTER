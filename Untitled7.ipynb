{
 "cells": [
  {
   "cell_type": "code",
   "execution_count": 54,
   "metadata": {},
   "outputs": [],
   "source": [
    "from random import randint\n",
    "import numpy as np\n",
    "\n",
    "import matplotlib.pyplot as plt"
   ]
  },
  {
   "cell_type": "code",
   "execution_count": 70,
   "metadata": {},
   "outputs": [],
   "source": [
    "def trial():\n",
    "    score = 0\n",
    "    r = 1\n",
    "\n",
    "    while True:\n",
    "        score += 1\n",
    "        xy = np.random.random((2))\n",
    "        d = np.linalg.norm(xy)\n",
    "\n",
    "        if d > r:\n",
    "            return score\n",
    "\n",
    "        # d2 + c2 = r2\n",
    "        c2 = r**2 - d**2\n",
    "        r = np.sqrt(c2)"
   ]
  },
  {
   "cell_type": "code",
   "execution_count": 72,
   "metadata": {},
   "outputs": [
    {
     "data": {
      "text/plain": [
       "(array([3.4576e+04, 1.1363e+04, 3.2540e+03, 6.9000e+02, 1.0300e+02,\n",
       "        1.4000e+01]),\n",
       " array([1.        , 2.16666667, 3.33333333, 4.5       , 5.66666667,\n",
       "        6.83333333, 8.        ]),\n",
       " <a list of 6 Patch objects>)"
      ]
     },
     "execution_count": 72,
     "metadata": {},
     "output_type": "execute_result"
    },
    {
     "data": {
      "image/png": "[encoded data removed]",
      "text/plain": [
       "<Figure size 432x288 with 1 Axes>"
      ]
     },
     "metadata": {
      "needs_background": "light"
     },
     "output_type": "display_data"
    }
   ],
   "source": [
    "s = [trial() for _ in range(50000)]\n",
    "plt.hist(s,bins=6)"
   ]
  },
  {
   "cell_type": "code",
   "execution_count": 74,
   "metadata": {},
   "outputs": [
    {
     "data": {
      "text/plain": [
       "2.19214"
      ]
     },
     "execution_count": 74,
     "metadata": {},
     "output_type": "execute_result"
    }
   ],
   "source": [
    "v, p = np.unique(s, return_counts=True)\n",
    "\n",
    "p = p/ sum(p)\n",
    "\n",
    "sum(v*p)"
   ]
  }
 ],
 "metadata": {
  "kernelspec": {
   "display_name": "Python 3",
   "language": "python",
   "name": "python3"
  },
  "language_info": {
   "codemirror_mode": {
    "name": "ipython",
    "version": 3
   },
   "file_extension": ".py",
   "mimetype": "text/x-python",
   "name": "python",
   "nbconvert_exporter": "python",
   "pygments_lexer": "ipython3",
   "version": "3.7.3"
  }
 },
 "nbformat": 4,
 "nbformat_minor": 2
}
