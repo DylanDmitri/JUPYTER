{
 "cells": [
  {
   "cell_type": "markdown",
   "metadata": {},
   "source": [
    "```\n",
    "number \"multiple\" of:number\n",
    "   mod equals 0\n",
    "eg. 10 multiple of 5 -> True\n",
    "    1 multiple of 1 -> True\n",
    "    20 multiple of 7 -> False\n",
    "```"
   ]
  },
  {
   "cell_type": "markdown",
   "metadata": {},
   "source": [
    "Tokenize and shlap into a definition object.\n",
    "```\n",
    "MoleculeDefinition(\n",
    "   headers=[\n",
    "       Parameter(name=None, type=number),\n",
    "       Name(\"multiple\"),\n",
    "       Parameter(name=\"of\", type=number),\n",
    "   ],\n",
    "   body=[\"mod\", \"equals\", 0],\n",
    "   tests=[...]\n",
    "   )\n",
    "```\n",
    "\n",
    "Boil down (compile) that definition into a named molecule.\n",
    "```\n",
    "multiple = Molecule(\n",
    "   Equals(\n",
    "      0,\n",
    "      Mod(\n",
    "         Parameter(name=None, type=number, side=left),\n",
    "         Parameter(name=of, type=number, side=right),\n",
    "      )\n",
    "   )\n",
    ")\n",
    "```"
   ]
  },
  {
   "cell_type": "code",
   "execution_count": null,
   "metadata": {},
   "outputs": [],
   "source": [
    "def compile(headers, body, tests):\n",
    "    pass\n",
    "    \n",
    "class Molecule:\n",
    "    \"\"\"\n",
    "    The already compiled version.\n",
    "    \"\"\"\n",
    "    def __init__(self):\n",
    "        pass"
   ]
  },
  {
   "cell_type": "code",
   "execution_count": 4,
   "metadata": {},
   "outputs": [],
   "source": [
    "# Existing Molecules\n",
    "\n",
    "def parse_word(word):\n",
    "    \"\"\"\n",
    "    eg `mod` -> molecule mod\n",
    "       `5` -> numeric 5\n",
    "    \"\"\"\n",
    "    \n",
    "    if word.isnumeric():\n",
    "        return int(word)"
   ]
  },
  {
   "cell_type": "markdown",
   "metadata": {},
   "source": []
  },
  {
   "cell_type": "code",
   "execution_count": 3,
   "metadata": {},
   "outputs": [
    {
     "data": {
      "text/plain": [
       "<function str.isnumeric()>"
      ]
     },
     "execution_count": 3,
     "metadata": {},
     "output_type": "execute_result"
    }
   ],
   "source": [
    "class mtype:\n",
    "    number = 1\n",
    "    generic_T = 2\n",
    "    bool = 3\n",
    "\n",
    "Molecule(\n",
    "    names=('mod', 'modulo', 'modulus', '%'),\n",
    "    inputs=[\n",
    "        Parameter(side=left, kind=mtype.number, name='dividend'),\n",
    "        Parameter(side=right, kind=mtype.number, name='divisor'),\n",
    "    ],\n",
    "    outputs=Parameter(kind=mtype.number, name='remainder')\n",
    ")\n",
    "\n",
    "Molecule(\n",
    "    names=('equals', 'equal', '=='),\n",
    "    inputs=[\n",
    "        Parameter(count=2, kind=mtype.generic_T, name='equal_buds')\n",
    "    ],\n",
    "    outputs=Parameter(kind=mtype.bool, name='')\n",
    ")"
   ]
  }
 ],
 "metadata": {
  "kernelspec": {
   "display_name": "Python 3",
   "language": "python",
   "name": "python3"
  },
  "language_info": {
   "codemirror_mode": {
    "name": "ipython",
    "version": 3
   },
   "file_extension": ".py",
   "mimetype": "text/x-python",
   "name": "python",
   "nbconvert_exporter": "python",
   "pygments_lexer": "ipython3",
   "version": "3.7.3"
  }
 },
 "nbformat": 4,
 "nbformat_minor": 2
}
