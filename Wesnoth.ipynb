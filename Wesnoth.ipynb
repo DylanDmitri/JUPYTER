{
 "cells": [
  {
   "cell_type": "code",
   "execution_count": 1,
   "metadata": {},
   "outputs": [],
   "source": [
    "class Kind:\n",
    "    Arcane = 1\n",
    "    Blade = 2\n",
    "    Cold = 3\n",
    "    Fire = 4\n",
    "    Impact = 5\n",
    "    Pierce = 6\n",
    "    \n",
    "class Alignment:\n",
    "    Chaotic = 1\n",
    "    Lawful = 2\n",
    "    Neutral = 3\n",
    "    \n",
    "class Trait:\n",
    "    Fearless = 1\n",
    "    \n",
    "    \n",
    "class Attack:\n",
    "    def __init__(self, swings, dmg, kind, special=None):\n",
    "        self.swings = swings\n",
    "        self.dmg = dmg \n",
    "        self.kind = kind\n",
    "        self.special = special\n",
    "        \n",
    "class UnitKind:\n",
    "    def __init__(self, hp, cost, attacks, resist, alignment, fixedtraits):\n",
    "        self.hp = hp\n",
    "        self.cost = cost\n",
    "        self.attacks = attacks\n",
    "        \n",
    "        self.alignment = alignment\n",
    "        self.fixedtraits = traits\n"
   ]
  },
  {
   "cell_type": "code",
   "execution_count": 2,
   "metadata": {},
   "outputs": [
    {
     "ename": "SyntaxError",
     "evalue": "invalid syntax (<ipython-input-2-7ae9a4ff8567>, line 14)",
     "output_type": "error",
     "traceback": [
      "\u001b[1;36m  File \u001b[1;32m\"<ipython-input-2-7ae9a4ff8567>\"\u001b[1;36m, line \u001b[1;32m14\u001b[0m\n\u001b[1;33m    attacks=[Attack(7, 3, Kind.Blade),\u001b[0m\n\u001b[1;37m          ^\u001b[0m\n\u001b[1;31mSyntaxError\u001b[0m\u001b[1;31m:\u001b[0m invalid syntax\n"
     ]
    }
   ],
   "source": [
    "Ghoul = UnitKind(hp=35, cost=16, \n",
    "                attacks=[Attack(4, 3, Kind.Blade)],\n",
    "                resist={Kind.Arcane: .20,\n",
    "                        Kind.Blade:  .10,\n",
    "                        Kind.Cold:   .40,\n",
    "                        Kind.Fire:   .10,\n",
    "                        Kind.Impact: .00,\n",
    "                        King.Pierce: .30, },\n",
    "                alignment = Alignment.Chaotic,\n",
    "                fixedtraits = Trait.Fearless\n",
    "                )\n",
    "\n",
    "DwarfFighter = UnitKind(hp=38, cost=16\n",
    "                attacks=[Attack(7, 3, Kind.Blade),\n",
    "                         Attack(8, 2, Kind.Impact)],\n",
    "                resist={\n",
    "                    Kind.Arcane: .10,\n",
    "                    Kind.Blade:  .20,\n",
    "                    Kind.Cold:   .10,\n",
    "                    Kind.Fire:   .10,\n",
    "                    Kind.Impact: .20,\n",
    "                    Kind.Pierce: .20, },\n",
    "                alignment = Alignment.Neutral,\n",
    "                )"
   ]
  },
  {
   "cell_type": "code",
   "execution_count": 5,
   "metadata": {},
   "outputs": [
    {
     "data": {
      "text/plain": [
       "5.633333333333334"
      ]
     },
     "execution_count": 5,
     "metadata": {},
     "output_type": "execute_result"
    }
   ],
   "source": [
    "thief = 13/30\n",
    "thief * 13"
   ]
  },
  {
   "cell_type": "code",
   "execution_count": 7,
   "metadata": {},
   "outputs": [
    {
     "data": {
      "text/plain": [
       "8.727272727272727"
      ]
     },
     "execution_count": 7,
     "metadata": {},
     "output_type": "execute_result"
    }
   ],
   "source": [
    "ghoul = 16/33\n",
    "ghoul*18"
   ]
  }
 ],
 "metadata": {
  "kernelspec": {
   "display_name": "Python 3",
   "language": "python",
   "name": "python3"
  },
  "language_info": {
   "codemirror_mode": {
    "name": "ipython",
    "version": 3
   },
   "file_extension": ".py",
   "mimetype": "text/x-python",
   "name": "python",
   "nbconvert_exporter": "python",
   "pygments_lexer": "ipython3",
   "version": "3.7.3"
  }
 },
 "nbformat": 4,
 "nbformat_minor": 2
}
