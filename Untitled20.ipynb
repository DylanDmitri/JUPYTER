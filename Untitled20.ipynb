{
 "cells": [
  {
   "cell_type": "code",
   "execution_count": 3,
   "metadata": {},
   "outputs": [
    {
     "name": "stdout",
     "output_type": "stream",
     "text": [
      "slice(1, 3, None)\n"
     ]
    }
   ],
   "source": [
    "class Table:\n",
    "    def __getitem__(self, args):\n",
    "        print(repr(args))\n",
    "        \n",
    "users = Table()\n",
    "\n",
    "users[1:3]"
   ]
  },
  {
   "cell_type": "code",
   "execution_count": 9,
   "metadata": {},
   "outputs": [
    {
     "name": "stdout",
     "output_type": "stream",
     "text": [
      "(slice('name', '==', None), 'fred', slice('age', '>', 3))\n"
     ]
    }
   ],
   "source": [
    "users['name':'==','fred', 'age':'>':3]"
   ]
  },
  {
   "cell_type": "code",
   "execution_count": 11,
   "metadata": {},
   "outputs": [
    {
     "ename": "SyntaxError",
     "evalue": "invalid syntax (<ipython-input-11-1697c71fa5e0>, line 15)",
     "output_type": "error",
     "traceback": [
      "\u001b[1;36m  File \u001b[1;32m\"<ipython-input-11-1697c71fa5e0>\"\u001b[1;36m, line \u001b[1;32m15\u001b[0m\n\u001b[1;33m    users['fred'] =\u001b[0m\n\u001b[1;37m                    ^\u001b[0m\n\u001b[1;31mSyntaxError\u001b[0m\u001b[1;31m:\u001b[0m invalid syntax\n"
     ]
    }
   ],
   "source": [
    "users = Table(name=text, age=number)\n",
    "\n",
    "# rearrange terms - reuse a where clause or part of one in many queries\n",
    "# pythonic syntax\n",
    "\n",
    "# create read update delete\n",
    "\"insert into users (name, age) values ('fred', 5);\"\n",
    "users.new(name='fred', age=5)\n",
    "\n",
    "# read \n",
    "users.where(\"name = 'fred'\")\n",
    "users.where(\"age > 5\").names\n",
    "\n",
    "# update\n",
    "users['fred'] = \n",
    "\n",
    "# delete\n",
    "\n",
    "\n"
   ]
  },
  {
   "cell_type": "code",
   "execution_count": null,
   "metadata": {},
   "outputs": [],
   "source": [
    "table('')"
   ]
  },
  {
   "cell_type": "markdown",
   "metadata": {},
   "source": [
    "```\n",
    "SELECT \n",
    "    employee.id,\n",
    "    employee.first_name,\n",
    "    employee.last_name,\n",
    "    SUM(DATEDIFF(\"SECOND\", call.start_time, call.end_time)) AS call_duration_sum\n",
    "FROM call\n",
    "INNER JOIN employee ON call.employee_id = employee.id\n",
    "GROUP BY\n",
    "    employee.id,\n",
    "    employee.first_name,\n",
    "    employee.last_name\n",
    "ORDER BY\n",
    "    employee.id ASC;\n",
    "    ```"
   ]
  },
  {
   "cell_type": "code",
   "execution_count": null,
   "metadata": {},
   "outputs": [],
   "source": [
    "call = Table()\n",
    "employee = Table()\n",
    "\n",
    "'''\n",
    "\n",
    "'''\n",
    "\n",
    "nametag = employee.row.fields(['id', 'first_name', 'last_name'])\n",
    "\n",
    "\n",
    "\n"
   ]
  }
 ],
 "metadata": {
  "kernelspec": {
   "display_name": "Python 3",
   "language": "python",
   "name": "python3"
  },
  "language_info": {
   "codemirror_mode": {
    "name": "ipython",
    "version": 3
   },
   "file_extension": ".py",
   "mimetype": "text/x-python",
   "name": "python",
   "nbconvert_exporter": "python",
   "pygments_lexer": "ipython3",
   "version": "3.7.3"
  }
 },
 "nbformat": 4,
 "nbformat_minor": 2
}
