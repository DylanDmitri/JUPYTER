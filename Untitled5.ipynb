{
 "cells": [
  {
   "cell_type": "code",
   "execution_count": 1,
   "metadata": {},
   "outputs": [],
   "source": [
    "import numpy as np"
   ]
  },
  {
   "cell_type": "code",
   "execution_count": 46,
   "metadata": {},
   "outputs": [
    {
     "name": "stdout",
     "output_type": "stream",
     "text": [
      "1684 miss\n",
      "4129 graze\n",
      "3345 hit\n",
      " 842 crit\n"
     ]
    }
   ],
   "source": [
    "def trial(attack, attack_d, defense, defense_d, trials=1000):\n",
    "    a_rolls = np.random.randint(1, attack_d+1, trials)\n",
    "    d_rolls = np.random.randint(1, defense_d+1, trials)\n",
    "    \n",
    "    dif = (a_rolls + attack) - (d_rolls + defense)\n",
    "    \n",
    "    miss = sum(dif <= -3)\n",
    "    graze = sum(dif <= 0) - miss\n",
    "    hit = sum(dif <= 3) - (graze + miss)\n",
    "    crit = len(dif) - (miss + graze + hit)\n",
    "    \n",
    "    print(f'{str(miss).rjust(4)} miss')\n",
    "    print(f'{str(graze).rjust(4)} graze')\n",
    "    print(f'{str(hit).rjust(4)} hit')\n",
    "    print(f'{str(crit).rjust(4)} crit')\n",
    "\n",
    "    \n",
    "def get_class(dif):\n",
    "    if dif <= -3:\n",
    "        return \"miss\"\n",
    "    elif dif <= 0:\n",
    "        return \"graze\"\n",
    "    elif dif <= 3:\n",
    "        return \"hit\"\n",
    "    else:\n",
    "        return \"crit\"\n",
    "    \n",
    "trial(3, 6, 3, 6, 10000)"
   ]
  },
  {
   "cell_type": "code",
   "execution_count": 75,
   "metadata": {},
   "outputs": [
    {
     "name": "stdout",
     "output_type": "stream",
     "text": [
      " 645 miss\n",
      "5633 graze\n",
      "3722 hit\n",
      "   0 crit\n"
     ]
    }
   ],
   "source": [
    "trial(1, 4, 1, 4, 10000)"
   ]
  },
  {
   "cell_type": "code",
   "execution_count": 76,
   "metadata": {},
   "outputs": [
    {
     "data": {
      "text/plain": [
       "3227"
      ]
     },
     "execution_count": 76,
     "metadata": {},
     "output_type": "execute_result"
    }
   ],
   "source": [
    "np.random.randint(1, 10000)"
   ]
  },
  {
   "cell_type": "code",
   "execution_count": 77,
   "metadata": {},
   "outputs": [
    {
     "data": {
      "text/plain": [
       "array([3, 4])"
      ]
     },
     "execution_count": 77,
     "metadata": {},
     "output_type": "execute_result"
    }
   ],
   "source": [
    "np.random.randint(1, 6, 2)"
   ]
  }
 ],
 "metadata": {
  "kernelspec": {
   "display_name": "Python 3",
   "language": "python",
   "name": "python3"
  },
  "language_info": {
   "codemirror_mode": {
    "name": "ipython",
    "version": 3
   },
   "file_extension": ".py",
   "mimetype": "text/x-python",
   "name": "python",
   "nbconvert_exporter": "python",
   "pygments_lexer": "ipython3",
   "version": "3.7.3"
  }
 },
 "nbformat": 4,
 "nbformat_minor": 2
}
