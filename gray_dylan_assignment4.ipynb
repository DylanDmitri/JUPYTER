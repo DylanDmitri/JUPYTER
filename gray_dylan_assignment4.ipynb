{
 "cells": [
  {
   "cell_type": "code",
   "execution_count": 17,
   "metadata": {},
   "outputs": [
    {
     "data": {
      "text/plain": [
       "<function sklearn.datasets.base.load_digits(n_class=10, return_X_y=False)>"
      ]
     },
     "execution_count": 17,
     "metadata": {},
     "output_type": "execute_result"
    }
   ],
   "source": [
    "import numpy as np\n",
    "import matplotlib.pyplot as plt\n",
    "import sklearn.datasets\n",
    "sklearn.datasets.load_digits"
   ]
  },
  {
   "cell_type": "markdown",
   "metadata": {},
   "source": [
    "Implement a \n",
    "- Multi-Layer Perceptron\n",
    "- Single Hidden Layer\n",
    "\n",
    "Takes\n",
    "- data and labels\n",
    "\n",
    "Decide between\n",
    "- binary (single output into sigmoid)\n",
    "- multiclass (multi outputs into softmax)\n",
    "\n",
    "Two weight matrices\n",
    "- Input --w-> Hidden --w-> Output\n",
    "- small initial weights, bias neurons\n",
    "\n",
    "SGD\n",
    "- each iteration: 1 random example\n",
    "- track cross-entropy loss\n"
   ]
  },
  {
   "cell_type": "code",
   "execution_count": 33,
   "metadata": {},
   "outputs": [],
   "source": [
    "# P1.\n",
    "def initializeTheta(in_size, out_size):\n",
    "    return np.random.rand(in_size, out_size)/100"
   ]
  },
  {
   "cell_type": "code",
   "execution_count": 29,
   "metadata": {},
   "outputs": [
    {
     "data": {
      "image/png": "[encoded data removed]",
      "text/plain": [
       "<Figure size 432x288 with 1 Axes>"
      ]
     },
     "metadata": {
      "needs_background": "light"
     },
     "output_type": "display_data"
    }
   ],
   "source": [
    "def show_func(f):\n",
    "    x = np.linspace(-3,3,31)\n",
    "    plt.plot(x, f(x))\n",
    "    plt.show()\n",
    "    return f\n",
    "\n",
    "# P2.\n",
    "@show_func \n",
    "def logistic(z):\n",
    "    return 1/ (1+np.exp(-z))"
   ]
  },
  {
   "cell_type": "code",
   "execution_count": 31,
   "metadata": {},
   "outputs": [
    {
     "data": {
      "image/png": "[encoded data removed]",
      "text/plain": [
       "<Figure size 432x288 with 1 Axes>"
      ]
     },
     "metadata": {
      "needs_background": "light"
     },
     "output_type": "display_data"
    }
   ],
   "source": [
    "# P3.\n",
    "@show_func\n",
    "def relu(z):\n",
    "    return np.maximum(z, 0)"
   ]
  },
  {
   "cell_type": "code",
   "execution_count": 251,
   "metadata": {},
   "outputs": [
    {
     "data": {
      "image/png": "[encoded data removed]",
      "text/plain": [
       "<Figure size 432x288 with 1 Axes>"
      ]
     },
     "metadata": {
      "needs_background": "light"
     },
     "output_type": "display_data"
    }
   ],
   "source": [
    "# P4.\n",
    "@show_func\n",
    "def tanh(z):\n",
    "    return 2 / (1 + np.exp(-2*z)) - 1\n"
   ]
  },
  {
   "cell_type": "code",
   "execution_count": null,
   "metadata": {},
   "outputs": [],
   "source": []
  },
  {
   "cell_type": "code",
   "execution_count": null,
   "metadata": {},
   "outputs": [],
   "source": []
  },
  {
   "cell_type": "code",
   "execution_count": null,
   "metadata": {},
   "outputs": [],
   "source": []
  },
  {
   "cell_type": "code",
   "execution_count": null,
   "metadata": {},
   "outputs": [],
   "source": []
  },
  {
   "cell_type": "code",
   "execution_count": 250,
   "metadata": {},
   "outputs": [
    {
     "name": "stdout",
     "output_type": "stream",
     "text": [
      "[0.10061121 0.10010994 0.09946664 0.09949222 0.09974457 0.10063105\n",
      " 0.09984638 0.10019481 0.10016434 0.09973886]\n",
      "(3, 10)\n",
      "(3,)\n",
      "(10,)\n",
      "(3, 3)\n"
     ]
    }
   ],
   "source": [
    "# P5.\n",
    "\n",
    "def softmax(x):\n",
    "    def repeat(col, target):\n",
    "        return np.c_[(col,)*target.shape[1]]\n",
    "\n",
    "    e_x = np.exp(x - repeat(np.max(x, axis=1), x))    \n",
    "    return e_x / repeat(e_x.sum(axis=1), e_x)\n",
    "\n",
    "def softmax_single_row(x):\n",
    "    e_x = np.exp(x - np.max(x))\n",
    "    return e_x / e_x.sum()\n",
    "\n",
    "def sigmoid_derivative(z):\n",
    "    return z*(1-z)\n",
    "\n",
    "class MLPClassifier:\n",
    "    def __init__(self):\n",
    "        self.Theta1 = NotImplemented\n",
    "        self.Theta2 = NotImplemented\n",
    "\n",
    "        def predict(self, X):\n",
    "            def add_bias(X):\n",
    "                if len(X.shape)==1:\n",
    "                    return np.append(X, 1)\n",
    "                return np.c_[X, np.ones(X.shape[0])]\n",
    "\n",
    "            # add bias terms, then multiply\n",
    "            middle = logistic(add_bias(X) @ self.Theta1)\n",
    "            out = add_bias(middle) @ self.Theta2\n",
    "\n",
    "            if len(out.shape) == 1:\n",
    "                out = softmax_single_row(out)\n",
    "            else:\n",
    "                out = softmax(out)\n",
    "\n",
    "            return out\n",
    "        \n",
    "    \n",
    "    def fit(self, X, Y, \n",
    "            hidden_layer_neurons=2,\n",
    "            activation='logistic', \n",
    "            regularizer=None, alpha=0.0001,\n",
    "            learning_rate='constant', learning_rate_init=0.001,\n",
    "            max_iter=1000, tol=0.0001,\n",
    "            verbose=False,\n",
    "            early_stopping=False, validation_fraction=0.1, n_iter_no_change=10,\n",
    "            **kwargs):\n",
    "        \n",
    "        \n",
    "        output_neurons = 10\n",
    "        \n",
    "        # input size plus bias, hidden_layer\n",
    "        self.Theta1 = initializeTheta(\n",
    "            X.shape[1]+1,\n",
    "            hidden_layer_neurons,\n",
    "        )\n",
    "        \n",
    "        self.Theta2 = initializeTheta(\n",
    "            hidden_layer_neurons+1,\n",
    "            output_neurons\n",
    "        )\n",
    "        \n",
    "        \n",
    "        # SGD\n",
    "        m = X.shape[0]\n",
    "        i = np.random.randint(0, m)\n",
    "        i = 0\n",
    "        \n",
    "        self.iteration(X[i], Y[i])\n",
    "#         self.iteration(X[i], Y[i])\n",
    "    \n",
    "    \n",
    "    def iteration(self, input_row, target):\n",
    "        # add bias, apply Thetas\n",
    "        input_row = np.append(input_row, 1)\n",
    "        \n",
    "        hidden = input_row @ self.Theta1\n",
    "        hidden = np.append(hidden, 1)\n",
    "        \n",
    "        predicted = softmax_single_row(hidden @ self.Theta2)\n",
    "        \n",
    "        # get the deltas\n",
    "        final_error = (target - predicted) \n",
    "        final_delta = final_error * sigmoid_derivative(predicted)  # target?\n",
    "        \n",
    "        next_error = self.Theta2 @ final_delta.reshape(10, 1)\n",
    "        next_delta = next_error * sigmoid_derivative(hidden)\n",
    "\n",
    "        # apply deltas\n",
    "        print(self.Theta2.shape)\n",
    "        print(hidden.shape)\n",
    "        print(final_delta.shape)\n",
    "        self.Theta2 += hidden.reshape(3, 1) @ final_delta.reshape(1,10)\n",
    "        \n",
    "        print(next_delta.shape)\n",
    "#         self.Theta1 += input_row.reshape(, 1) @ next_delta.reshape()\n",
    "\n",
    "        \n",
    "    def predict(self, X):\n",
    "        pass\n",
    "\n",
    "# \n",
    "\n",
    "X = data['data']\n",
    "Y = data['target']\n",
    "one_hot = np.zeros((max(Y.shape), 10))\n",
    "for i, label in enumerate(Y):\n",
    "    one_hot[i][label] = 1\n",
    "# fives = (Y==5).astype(int)\n",
    "    \n",
    "c = MLPClassifier()\n",
    "c.fit(X, one_hot)"
   ]
  },
  {
   "cell_type": "code",
   "execution_count": null,
   "metadata": {},
   "outputs": [],
   "source": []
  },
  {
   "cell_type": "code",
   "execution_count": 237,
   "metadata": {},
   "outputs": [
    {
     "name": "stdout",
     "output_type": "stream",
     "text": [
      "[1.00000000e+000 4.75468662e-105 6.40988985e-113 5.16701283e-108\n",
      " 8.05702681e-107 7.80629594e-105 1.69804607e-111 1.00643475e-099\n",
      " 9.95174906e-106 2.46371414e-107]\n"
     ]
    }
   ],
   "source": [
    "c.iteration(X[0], one_hot[0])"
   ]
  },
  {
   "cell_type": "code",
   "execution_count": 126,
   "metadata": {},
   "outputs": [
    {
     "ename": "TypeError",
     "evalue": "iteration() missing 1 required positional argument: 'target_output'",
     "output_type": "error",
     "traceback": [
      "\u001b[1;31m---------------------------------------------------------------------------\u001b[0m",
      "\u001b[1;31mTypeError\u001b[0m                                 Traceback (most recent call last)",
      "\u001b[1;32m<ipython-input-126-e2dcfa22a8b3>\u001b[0m in \u001b[0;36m<module>\u001b[1;34m\u001b[0m\n\u001b[0;32m      3\u001b[0m \u001b[1;33m\u001b[0m\u001b[0m\n\u001b[0;32m      4\u001b[0m \u001b[0mc\u001b[0m \u001b[1;33m=\u001b[0m \u001b[0mMLPClassifier\u001b[0m\u001b[1;33m(\u001b[0m\u001b[1;33m)\u001b[0m\u001b[1;33m\u001b[0m\u001b[1;33m\u001b[0m\u001b[0m\n\u001b[1;32m----> 5\u001b[1;33m \u001b[0mc\u001b[0m\u001b[1;33m.\u001b[0m\u001b[0miteration\u001b[0m\u001b[1;33m(\u001b[0m\u001b[0mX\u001b[0m\u001b[1;33m[\u001b[0m\u001b[1;36m0\u001b[0m\u001b[1;33m]\u001b[0m\u001b[1;33m)\u001b[0m\u001b[1;33m\u001b[0m\u001b[1;33m\u001b[0m\u001b[0m\n\u001b[0m",
      "\u001b[1;31mTypeError\u001b[0m: iteration() missing 1 required positional argument: 'target_output'"
     ]
    }
   ],
   "source": []
  },
  {
   "cell_type": "code",
   "execution_count": 74,
   "metadata": {},
   "outputs": [
    {
     "data": {
      "text/plain": [
       "999.1652185100907"
      ]
     },
     "execution_count": 74,
     "metadata": {},
     "output_type": "execute_result"
    }
   ],
   "source": [
    "00.5560184855370565907*1797"
   ]
  },
  {
   "cell_type": "code",
   "execution_count": 47,
   "metadata": {},
   "outputs": [
    {
     "name": "stdout",
     "output_type": "stream",
     "text": [
      "label: 0\n"
     ]
    },
    {
     "data": {
      "image/png": "[encoded data removed]",
      "text/plain": [
       "<Figure size 432x288 with 2 Axes>"
      ]
     },
     "metadata": {
      "needs_background": "light"
     },
     "output_type": "display_data"
    }
   ],
   "source": [
    "spec = 10\n",
    "data = sklearn.datasets.load_digits()\n",
    "a = data['data'][spec]\n",
    "\n",
    "import seaborn as sns\n",
    "sns.heatmap(a.reshape((8,8)))\n",
    "\n",
    "print('label:', data['target'][spec])"
   ]
  }
 ],
 "metadata": {
  "kernelspec": {
   "display_name": "Python 3",
   "language": "python",
   "name": "python3"
  },
  "language_info": {
   "codemirror_mode": {
    "name": "ipython",
    "version": 3
   },
   "file_extension": ".py",
   "mimetype": "text/x-python",
   "name": "python",
   "nbconvert_exporter": "python",
   "pygments_lexer": "ipython3",
   "version": "3.7.3"
  }
 },
 "nbformat": 4,
 "nbformat_minor": 2
}
