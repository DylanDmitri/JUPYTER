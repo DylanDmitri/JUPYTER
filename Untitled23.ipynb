{
 "cells": [
  {
   "cell_type": "code",
   "execution_count": 27,
   "metadata": {},
   "outputs": [],
   "source": [
    "\n",
    "\"program\" is type [integers]\n",
    "\"position\" is type integer\n",
    "\n",
    "\"store {value} at {position} [in {program}]\"\n",
    "    set program[position] to value\n",
    "\n",
    "\"value at {position} [in {program}]\"\n",
    "    program[position]\n",
    "        \n",
    "\"run {program}\" \n",
    "    forever [\n",
    "        next integer from program\n",
    "            as \"opcode\" (type in [1, 2, 99])\n",
    "\n",
    "        opcode.99 : exit\n",
    "\n",
    "        next three integers from program\n",
    "            \"inputs\" value at [first, second] position \n",
    "            \"output\" third position\n",
    "\n",
    "        opcode.1 : add inputs \n",
    "        opcode.2 : multiply inputs\n",
    "        store at output\n",
    "    ]\n",
    "   \n",
    "    return value at position 0\n",
    "\n",
    "    \n",
    "    \n",
    "    \n",
    "\n",
    "    \n",
    "    \n",
    "        \n",
    "    \n",
    "    = opcode.99 : exit\n",
    "    = opcode.1  : add\n",
    "\n",
    "\n",
    "    \n",
    "            \n",
    "    \n",
    "    \n",
    "    \n",
    "    \n",
    "\n",
    "\n",
    "        \n",
    "    \n",
    "\n",
    "\n",
    "\n",
    "\n",
    "\n"
   ]
  },
  {
   "cell_type": "code",
   "execution_count": 9,
   "metadata": {},
   "outputs": [
    {
     "data": {
      "text/plain": [
       "6327510"
      ]
     },
     "execution_count": 9,
     "metadata": {},
     "output_type": "execute_result"
    }
   ],
   "source": [
    "\n",
    "def solve(noun, verb):\n",
    "    codes = [1,12,2,3,1,1,2,3,1,3,4,3,1,5,0,3,2,1,10,19,1,6,19,23,1,10,23,27,2,27,13,31,1,31,6,35,2,6,35,39,1,39,5,43,1,6,43,47,2,6,47,51,1,51,5,55,2,55,9,59,1,6,59,63,1,9,63,67,1,67,10,71,2,9,71,75,1,6,75,79,1,5,79,83,2,83,10,87,1,87,5,91,1,91,9,95,1,6,95,99,2,99,10,103,1,103,5,107,2,107,6,111,1,111,5,115,1,9,115,119,2,119,10,123,1,6,123,127,2,13,127,131,1,131,6,135,1,135,10,139,1,13,139,143,1,143,13,147,1,5,147,151,1,151,2,155,1,155,5,0,99,2,0,14,0]\n",
    "\n",
    "    codes[1] = noun\n",
    "    codes[2] = verb\n",
    "    \n",
    "    op_ptr = 0\n",
    "    while True:\n",
    "        op = codes[op_ptr]\n",
    "        if op==99:\n",
    "            break\n",
    "\n",
    "        a_ptr, b_ptr, target_ptr = codes[op_ptr+1 : op_ptr+4]\n",
    "        a, b = codes[a_ptr], codes[b_ptr]\n",
    "\n",
    "        if op == 1:\n",
    "            result = a+b\n",
    "        elif op == 2:\n",
    "            result = a*b\n",
    "        else:\n",
    "            raise Exception(\"Illegal Operation\")\n",
    "\n",
    "        codes[target_ptr] = result\n",
    "\n",
    "        op_ptr += 4\n",
    "        \n",
    "    return codes[0]\n",
    "\n",
    "\n",
    "solve(12, 2)\n",
    "    "
   ]
  },
  {
   "cell_type": "code",
   "execution_count": 11,
   "metadata": {},
   "outputs": [
    {
     "name": "stdout",
     "output_type": "stream",
     "text": [
      "4112\n"
     ]
    }
   ],
   "source": [
    "from itertools import product\n",
    "\n",
    "searchSpace = product(range(100), range(100))\n",
    "target = 19690720\n",
    "\n",
    "for args in searchSpace:\n",
    "    result = solve(*args)\n",
    "    if result == target:\n",
    "        noun, verb = args\n",
    "        print(100*noun + verb)"
   ]
  },
  {
   "cell_type": "markdown",
   "metadata": {},
   "source": [
    "guessed:\n",
    "    \n",
    "    797908"
   ]
  }
 ],
 "metadata": {
  "kernelspec": {
   "display_name": "Python 3",
   "language": "python",
   "name": "python3"
  },
  "language_info": {
   "codemirror_mode": {
    "name": "ipython",
    "version": 3
   },
   "file_extension": ".py",
   "mimetype": "text/x-python",
   "name": "python",
   "nbconvert_exporter": "python",
   "pygments_lexer": "ipython3",
   "version": "3.7.3"
  }
 },
 "nbformat": 4,
 "nbformat_minor": 2
}
