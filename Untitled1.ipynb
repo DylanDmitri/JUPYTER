{
 "cells": [
  {
   "cell_type": "code",
   "execution_count": 6,
   "metadata": {},
   "outputs": [],
   "source": [
    "cards = 4*['burst fire'] + ['reload'] + 3*['ceramic plating'] + ['take aim'] + ['readiness']"
   ]
  },
  {
   "cell_type": "code",
   "execution_count": 7,
   "metadata": {},
   "outputs": [
    {
     "name": "stdout",
     "output_type": "stream",
     "text": [
      "['burst fire', 'ceramic plating', 'take aim', 'burst fire', 'ceramic plating']\n"
     ]
    }
   ],
   "source": [
    "from random import shuffle\n",
    "\n",
    "def hand():\n",
    "    shuffle(cards)\n",
    "    print(cards[:5])\n",
    "    \n",
    "hand()"
   ]
  },
  {
   "cell_type": "code",
   "execution_count": 5,
   "metadata": {},
   "outputs": [
    {
     "name": "stdout",
     "output_type": "stream",
     "text": [
      "(0, 0, 0) good\n",
      "(0, 0, 1) good\n",
      "(0, 1, 0) good\n",
      "(0, 1, 1) good\n",
      "(1, 0, 0) good\n",
      "(1, 0, 1) good\n",
      "(1, 1, 0) good\n",
      "(1, 1, 1) good\n"
     ]
    }
   ],
   "source": [
    "from itertools import product\n",
    "\n",
    "def mut(left, right, s):\n",
    "    if s:\n",
    "        return right\n",
    "    else:\n",
    "        return left\n",
    "\n",
    "def f(x1, x2, x3):\n",
    "    p1 = mut(0, x1, x3)\n",
    "    p2 = mut(0, x2, x3)\n",
    "    \n",
    "    return mut(p1, p2, x2)\n",
    "\n",
    "def okay():\n",
    "    match = (\n",
    "        (1, 0, 1),\n",
    "        (1, 1, 1),\n",
    "        (0, 1, 1),\n",
    "        (1, 1, 1),\n",
    "    )\n",
    "    \n",
    "    for xyz in product((0,1), (0,1), (0,1)):\n",
    "        result = f(*xyz)\n",
    "        \n",
    "        expected = xyz in match\n",
    "        \n",
    "        if result != expected:\n",
    "            print(xyz, 'uh oh sisters')\n",
    "        else:\n",
    "            print(xyz, 'good')\n",
    "        \n",
    "okay()\n",
    "    "
   ]
  },
  {
   "cell_type": "code",
   "execution_count": 18,
   "metadata": {},
   "outputs": [
    {
     "name": "stdout",
     "output_type": "stream",
     "text": [
      "  101\n",
      "  111\n",
      " 1100\n",
      " 1111\n",
      "10001\n",
      "10111\n"
     ]
    }
   ],
   "source": [
    "for i in (5, 7, 12, 15, 17, 23):\n",
    "    print(bin(i)[2:].rjust(5))"
   ]
  }
 ],
 "metadata": {
  "kernelspec": {
   "display_name": "Python 3",
   "language": "python",
   "name": "python3"
  },
  "language_info": {
   "codemirror_mode": {
    "name": "ipython",
    "version": 3
   },
   "file_extension": ".py",
   "mimetype": "text/x-python",
   "name": "python",
   "nbconvert_exporter": "python",
   "pygments_lexer": "ipython3",
   "version": "3.7.3"
  }
 },
 "nbformat": 4,
 "nbformat_minor": 2
}
