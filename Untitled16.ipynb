{
 "cells": [
  {
   "cell_type": "code",
   "execution_count": 1,
   "metadata": {},
   "outputs": [
    {
     "name": "stdout",
     "output_type": "stream",
     "text": [
      "Collecting python-sat\n",
      "  Downloading https://files.pythonhosted.org/packages/10/08/354c547690f50cc14d5661313d8f84f510787d345289960719aa01fb4fd2/python_sat-0.1.6.dev6-cp37-cp37m-win_amd64.whl (730kB)\n",
      "Requirement already satisfied: six in c:\\users\\ddyla\\anaconda3\\lib\\site-packages (from python-sat) (1.12.0)\n",
      "Installing collected packages: python-sat\n",
      "Successfully installed python-sat-0.1.6.dev6\n"
     ]
    }
   ],
   "source": [
    "!pip install python-sat"
   ]
  },
  {
   "cell_type": "code",
   "execution_count": 17,
   "metadata": {},
   "outputs": [],
   "source": [
    "s = '((ATP5D and ATP5A1 and ATP5B and ATP5C1 and ATP5E) or (ATP5A1 and ATP5D and ATP5E and ATP5B and ATP5C1) or (ATP5D and ATP5C1 and ATP5A1 and ATP5E and ATP5B) or (ATP5A1 and ATP5D and ATP5B and ATP5C1 and ATP5E) or (ATP5D and ATP5A1 and ATP5E and ATP5B and ATP5C1) or (ATP5D and ATP5A1 and ATP5B and ATP5C1 and ATP5E) or (ATP5D and ATP5A1 and ATP5E and ATP5B and ATP5C1) or (ATP5D and ATP5A1 and ATP5C1 and ATP5B and ATP5E) or (ATP5A1 and ATP5C1 and ATP5D and ATP5B and ATP5E) or (ATP5D and ATP5A1 and ATP5B and ATP5C1 and ATP5E) or (ATP5D and ATP5E and ATP5B and ATP5C1 and ATP5A1) or (ATP5D and ATP5B and ATP5C1 and ATP5A1 and ATP5E) or (ATP5D and ATP5C1 and ATP5B and ATP5A1 and ATP5E) or (ATP5C1 and ATP5D and ATP5E and ATP5B and ATP5A1) or (ATP5D and ATP5A1 and ATP5C1 and ATP5E and ATP5B) or (ATP5D and ATP5A1 and ATP5E and ATP5B and ATP5C1) or (ATP5D and ATP5C1 and ATP5A1 and ATP5B and ATP5E) or (ATP5D and ATP5B and ATP5C1 and ATP5A1 and ATP5E) or (ATP5C1 and ATP5D and ATP5B and ATP5A1 and ATP5E) or (ATP5D and ATP5E and ATP5B and ATP5C1 and ATP5A1) or (ATP5C1 and ATP5D and ATP5A1 and ATP5B and ATP5E) or (ATP5D and ATP5C1 and ATP5E and ATP5B and ATP5A1) or (ATP5A1 and ATP5C1 and ATP5D and ATP5E and ATP5B) or (ATP5C1 and ATP5D and ATP5A1 and ATP5E and ATP5B)) and ((ATP5L and NSF and ATP5H and ATP5J2 and ATP5J and ATP5G1 and ATP5I and ATP5F1) or (ATP5G3 and NSF and ATP5F1 and ATP5H and ATP5I and ATP5L and ATP5J2 and ATP5J) or (NSF and ATP5F1 and ATP5H and ATP5I and ATP5L and ATP5G2 and ATP5J2 and ATP5J) or (ATP5L and NSF and ATP5H and ATP5J and ATP5J2 and ATP5G3 and ATP5I and ATP5F1) or (NSF and ATP5F1 and ATP5H and ATP5G1 and ATP5I and ATP5L and ATP5J2 and ATP5J) or (ATP5G3 and NSF and ATP5J2 and ATP5F1 and ATP5H and ATP5I and ATP5L and ATP5J) or (ATP5L and NSF and ATP5H and ATP5J2 and ATP5J and ATP5F1 and ATP5G3 and ATP5I) or (ATP5G3 and ATP5L and NSF and ATP5H and ATP5F1 and ATP5J2 and ATP5J and ATP5I) or (ATP5L and NSF and ATP5H and ATP5F1 and ATP5J and ATP5J2 and ATP5G3 and ATP5I) or (NSF and ATP5J2 and ATP5H and ATP5J and ATP5G1 and ATP5I and ATP5F1 and ATP5L) or (ATP5L and ATP5G2 and NSF and ATP5H and ATP5J and ATP5J2 and ATP5I and ATP5F1) or (ATP5L and NSF and ATP5H and ATP5J2 and ATP5F1 and ATP5J and ATP5G3 and ATP5I) or (ATP5L and NSF and ATP5G1 and ATP5J2 and ATP5F1 and ATP5H and ATP5J and ATP5I) or (ATP5L and NSF and ATP5H and ATP5J2 and ATP5G3 and ATP5J and ATP5I and ATP5F1) or (NSF and ATP5H and ATP5I and ATP5F1 and ATP5L and ATP5J2 and ATP5J and ATP5G3) or (NSF and ATP5J2 and ATP5F1 and ATP5H and ATP5G1 and ATP5I and ATP5L and ATP5J) or (ATP5L and NSF and ATP5G1 and ATP5H and ATP5J2 and ATP5J and ATP5I and ATP5F1) or (NSF and ATP5H and ATP5I and ATP5F1 and ATP5L and ATP5J and ATP5G3 and ATP5J2) or (NSF and ATP5J2 and ATP5H and ATP5I and ATP5F1 and ATP5L and ATP5G3 and ATP5J) or (ATP5L and ATP5G2 and NSF and ATP5H and ATP5J2 and ATP5F1 and ATP5J and ATP5I) or (NSF and ATP5H and ATP5J and ATP5I and ATP5F1 and ATP5L and ATP5G3 and ATP5J2) or (NSF and ATP5J and ATP5F1 and ATP5H and ATP5I and ATP5L and ATP5G2 and ATP5J2) or (ATP5L and ATP5G2 and NSF and ATP5H and ATP5J2 and ATP5J and ATP5I and ATP5F1) or (ATP5G3 and NSF and ATP5F1 and ATP5H and ATP5I and ATP5L and ATP5J2 and ATP5J) or (ATP5L and NSF and ATP5H and ATP5F1 and ATP5J and ATP5J2 and ATP5G3 and ATP5I) or (NSF and ATP5J2 and ATP5F1 and ATP5H and ATP5I and ATP5L and ATP5G2 and ATP5J) or (NSF and ATP5H and ATP5G1 and ATP5I and ATP5F1 and ATP5L and ATP5J2 and ATP5J) or (ATP5G3 and ATP5L and NSF and ATP5H and ATP5J2 and ATP5F1 and ATP5J and ATP5I) or (ATP5L and NSF and ATP5G1 and ATP5J2 and ATP5H and ATP5J and ATP5I and ATP5F1) or (NSF and ATP5F1 and ATP5J and ATP5H and ATP5G1 and ATP5I and ATP5L and ATP5J2) or (NSF and ATP5J2 and ATP5F1 and ATP5H and ATP5I and ATP5G3 and ATP5L and ATP5J) or (ATP5L and ATP5G2 and NSF and ATP5H and ATP5J2 and ATP5F1 and ATP5J and ATP5I) or (ATP5L and NSF and ATP5G1 and ATP5F1 and ATP5H and ATP5J2 and ATP5J and ATP5I) or (ATP5L and NSF and ATP5H and ATP5G2 and ATP5F1 and ATP5J and ATP5J2 and ATP5I) or (ATP5L and NSF and ATP5G1 and ATP5H and ATP5J2 and ATP5J and ATP5I and ATP5F1) or (NSF and ATP5H and ATP5I and ATP5G3 and ATP5F1 and ATP5L and ATP5J2 and ATP5J) or (ATP5G2 and NSF and ATP5J2 and ATP5F1 and ATP5H and ATP5I and ATP5L and ATP5J) or (NSF and ATP5J2 and ATP5F1 and ATP5H and ATP5I and ATP5L and ATP5G3 and ATP5J) or (ATP5G3 and ATP5L and NSF and ATP5H and ATP5J2 and ATP5J and ATP5F1 and ATP5I) or (NSF and ATP5F1 and ATP5H and ATP5J and ATP5I and ATP5L and ATP5G3 and ATP5J2) or (ATP5L and NSF and ATP5H and ATP5J and ATP5F1 and ATP5J2 and ATP5G3 and ATP5I) or (NSF and ATP5F1 and ATP5J and ATP5H and ATP5I and ATP5G3 and ATP5L and ATP5J2) or (NSF and ATP5F1 and ATP5H and ATP5I and ATP5G3 and ATP5L and ATP5J2 and ATP5J) or (NSF and ATP5J and ATP5H and ATP5G1 and ATP5I and ATP5F1 and ATP5L and ATP5J2) or (ATP5L and NSF and ATP5G1 and ATP5H and ATP5F1 and ATP5J and ATP5J2 and ATP5I) or (ATP5L and NSF and ATP5H and ATP5F1 and ATP5J and ATP5J2 and ATP5G1 and ATP5I) or (ATP5G3 and NSF and ATP5F1 and ATP5H and ATP5I and ATP5L and ATP5J2 and ATP5J) or (ATP5L and NSF and ATP5H and ATP5J2 and ATP5J and ATP5G1 and ATP5I and ATP5F1) or (ATP5L and NSF and ATP5G1 and ATP5H and ATP5J2 and ATP5J and ATP5F1 and ATP5I) or (ATP5L and NSF and ATP5H and ATP5J2 and ATP5J and ATP5I and ATP5G3 and ATP5F1) or (ATP5L and ATP5G2 and NSF and ATP5H and ATP5F1 and ATP5J and ATP5J2 and ATP5I) or (ATP5L and ATP5G2 and NSF and ATP5H and ATP5J and ATP5J2 and ATP5F1 and ATP5I) or (ATP5L and NSF and ATP5G1 and ATP5J and ATP5F1 and ATP5H and ATP5J2 and ATP5I) or (ATP5L and NSF and ATP5G1 and ATP5H and ATP5F1 and ATP5J and ATP5J2 and ATP5I) or (ATP5L and NSF and ATP5H and ATP5J2 and ATP5G2 and ATP5F1 and ATP5J and ATP5I) or (NSF and ATP5F1 and ATP5H and ATP5I and ATP5L and ATP5J2 and ATP5J and ATP5G3) or (ATP5L and NSF and ATP5G1 and ATP5J2 and ATP5F1 and ATP5H and ATP5J and ATP5I) or (ATP5L and NSF and ATP5H and ATP5F1 and ATP5J and ATP5J2 and ATP5I and ATP5G3) or (ATP5L and NSF and ATP5H and ATP5J2 and ATP5J and ATP5F1 and ATP5G1 and ATP5I) or (NSF and ATP5F1 and ATP5H and ATP5J and ATP5I and ATP5L and ATP5G2 and ATP5J2) or (ATP5G3 and NSF and ATP5F1 and ATP5H and ATP5I and ATP5L and ATP5J and ATP5J2) or (NSF and ATP5H and ATP5I and ATP5F1 and ATP5L and ATP5G2 and ATP5J2 and ATP5J) or (ATP5L and ATP5G2 and NSF and ATP5H and ATP5J2 and ATP5F1 and ATP5J and ATP5I) or (ATP5G2 and NSF and ATP5J2 and ATP5H and ATP5I and ATP5F1 and ATP5L and ATP5J) or (ATP5L and NSF and ATP5H and ATP5J2 and ATP5G2 and ATP5F1 and ATP5J and ATP5I) or (ATP5L and NSF and ATP5H and ATP5F1 and ATP5J2 and ATP5J and ATP5G1 and ATP5I) or (ATP5G3 and ATP5L and NSF and ATP5H and ATP5F1 and ATP5J2 and ATP5J and ATP5I) or (NSF and ATP5J and ATP5F1 and ATP5H and ATP5I and ATP5L and ATP5J2 and ATP5G3) or (ATP5G3 and NSF and ATP5H and ATP5I and ATP5F1 and ATP5L and ATP5J2 and ATP5J) or (ATP5G2 and NSF and ATP5F1 and ATP5H and ATP5I and ATP5L and ATP5J and ATP5J2) or (ATP5L and NSF and ATP5H and ATP5J2 and ATP5F1 and ATP5J and ATP5G1 and ATP5I) or (NSF and ATP5H and ATP5G1 and ATP5I and ATP5F1 and ATP5L and ATP5J and ATP5J2) or (ATP5G3 and NSF and ATP5J2 and ATP5F1 and ATP5H and ATP5I and ATP5L and ATP5J) or (ATP5G2 and NSF and ATP5F1 and ATP5H and ATP5I and ATP5L and ATP5J2 and ATP5J) or (NSF and ATP5F1 and ATP5H and ATP5I and ATP5L and ATP5J2 and ATP5J and ATP5G3) or (ATP5L and NSF and ATP5H and ATP5J2 and ATP5F1 and ATP5J and ATP5I and ATP5G3) or (ATP5G3 and NSF and ATP5J and ATP5H and ATP5I and ATP5F1 and ATP5L and ATP5J2) or (ATP5L and NSF and ATP5H and ATP5F1 and ATP5J2 and ATP5J and ATP5G1 and ATP5I) or (ATP5L and NSF and ATP5H and ATP5J and ATP5J2 and ATP5G2 and ATP5F1 and ATP5I) or (ATP5L and NSF and ATP5G1 and ATP5H and ATP5J2 and ATP5J and ATP5I and ATP5F1) or (NSF and ATP5F1 and ATP5H and ATP5I and ATP5L and ATP5G2 and ATP5J2 and ATP5J) or (NSF and ATP5J2 and ATP5J and ATP5F1 and ATP5H and ATP5G1 and ATP5I and ATP5L) or (NSF and ATP5J and ATP5H and ATP5I and ATP5F1 and ATP5L and ATP5J2 and ATP5G3) or (ATP5G3 and NSF and ATP5J2 and ATP5F1 and ATP5H and ATP5I and ATP5L and ATP5J) or (ATP5L and ATP5G2 and NSF and ATP5H and ATP5J and ATP5J2 and ATP5I and ATP5F1) or (NSF and ATP5J2 and ATP5H and ATP5I and ATP5F1 and ATP5L and ATP5J and ATP5G3) or (ATP5L and NSF and ATP5H and ATP5J2 and ATP5F1 and ATP5J and ATP5G3 and ATP5I) or (ATP5L and NSF and ATP5H and ATP5J2 and ATP5F1 and ATP5J and ATP5G1 and ATP5I) or (ATP5L and ATP5G2 and NSF and ATP5H and ATP5F1 and ATP5J2 and ATP5J and ATP5I) or (ATP5G3 and ATP5L and NSF and ATP5H and ATP5J2 and ATP5F1 and ATP5J and ATP5I) or (ATP5L and NSF and ATP5H and ATP5J and ATP5J2 and ATP5I and ATP5G3 and ATP5F1) or (ATP5G2 and NSF and ATP5H and ATP5J and ATP5I and ATP5F1 and ATP5L and ATP5J2) or (ATP5G2 and NSF and ATP5J2 and ATP5F1 and ATP5J and ATP5H and ATP5I and ATP5L) or (ATP5G3 and NSF and ATP5H and ATP5I and ATP5F1 and ATP5L and ATP5J and ATP5J2) or (NSF and ATP5J and ATP5F1 and ATP5H and ATP5I and ATP5G3 and ATP5L and ATP5J2) or (NSF and ATP5J and ATP5H and ATP5I and ATP5G3 and ATP5F1 and ATP5L and ATP5J2) or (ATP5L and NSF and ATP5H and ATP5J2 and ATP5G3 and ATP5J and ATP5I and ATP5F1) or (ATP5L and NSF and ATP5G1 and ATP5J and ATP5H and ATP5J2 and ATP5I and ATP5F1) or (ATP5L and NSF and ATP5H and ATP5F1 and ATP5J2 and ATP5G1 and ATP5J and ATP5I) or (ATP5L and NSF and ATP5H and ATP5J and ATP5J2 and ATP5I and ATP5G3 and ATP5F1) or (ATP5G3 and ATP5L and NSF and ATP5H and ATP5J2 and ATP5F1 and ATP5J and ATP5I) or (ATP5L and NSF and ATP5G1 and ATP5F1 and ATP5H and ATP5J2 and ATP5J and ATP5I) or (ATP5L and NSF and ATP5H and ATP5J2 and ATP5F1 and ATP5G1 and ATP5J and ATP5I) or (NSF and ATP5J2 and ATP5H and ATP5I and ATP5F1 and ATP5L and ATP5J and ATP5G3) or (NSF and ATP5F1 and ATP5H and ATP5I and ATP5L and ATP5G3 and ATP5J2 and ATP5J) or (ATP5L and ATP5G2 and NSF and ATP5H and ATP5J2 and ATP5J and ATP5I and ATP5F1) or (ATP5L and NSF and ATP5H and ATP5F1 and ATP5J and ATP5J2 and ATP5I and ATP5G3) or (ATP5G3 and NSF and ATP5J2 and ATP5J and ATP5H and ATP5I and ATP5F1 and ATP5L) or (NSF and ATP5F1 and ATP5J and ATP5H and ATP5I and ATP5L and ATP5G3 and ATP5J2) or (ATP5L and NSF and ATP5H and ATP5J2 and ATP5J and ATP5G3 and ATP5I and ATP5F1) or (ATP5G3 and ATP5L and NSF and ATP5H and ATP5F1 and ATP5J2 and ATP5J and ATP5I) or (ATP5L and NSF and ATP5G1 and ATP5H and ATP5J and ATP5J2 and ATP5I and ATP5F1) or (NSF and ATP5J2 and ATP5F1 and ATP5H and ATP5I and ATP5L and ATP5G3 and ATP5J) or (ATP5L and NSF and ATP5H and ATP5F1 and ATP5J2 and ATP5G3 and ATP5J and ATP5I) or (ATP5L and NSF and ATP5H and ATP5J2 and ATP5J and ATP5G3 and ATP5I and ATP5F1) or (ATP5L and NSF and ATP5G1 and ATP5J and ATP5J2 and ATP5H and ATP5I and ATP5F1) or (ATP5G2 and NSF and ATP5F1 and ATP5H and ATP5I and ATP5L and ATP5J2 and ATP5J) or (ATP5L and ATP5G2 and NSF and ATP5H and ATP5J2 and ATP5F1 and ATP5J and ATP5I) or (NSF and ATP5F1 and ATP5H and ATP5I and ATP5L and ATP5G2 and ATP5J2 and ATP5J) or (NSF and ATP5F1 and ATP5H and ATP5I and ATP5G3 and ATP5L and ATP5J and ATP5J2) or (ATP5L and NSF and ATP5H and ATP5J2 and ATP5J and ATP5G1 and ATP5I and ATP5F1) or (ATP5L and NSF and ATP5H and ATP5J2 and ATP5J and ATP5I and ATP5G3 and ATP5F1) or (ATP5L and NSF and ATP5H and ATP5J2 and ATP5G2 and ATP5F1 and ATP5J and ATP5I) or (NSF and ATP5F1 and ATP5H and ATP5I and ATP5G3 and ATP5L and ATP5J2 and ATP5J) or (ATP5L and NSF and ATP5H and ATP5F1 and ATP5J and ATP5J2 and ATP5I and ATP5G3) or (ATP5L and NSF and ATP5G1 and ATP5H and ATP5J2 and ATP5F1 and ATP5J and ATP5I) or (ATP5L and NSF and ATP5H and ATP5J2 and ATP5J and ATP5I and ATP5G3 and ATP5F1) or (ATP5L and NSF and ATP5H and ATP5J2 and ATP5F1 and ATP5G2 and ATP5J and ATP5I) or (NSF and ATP5H and ATP5G1 and ATP5I and ATP5F1 and ATP5L and ATP5J2 and ATP5J) or (ATP5L and ATP5G2 and NSF and ATP5H and ATP5F1 and ATP5J2 and ATP5J and ATP5I) or (ATP5G3 and NSF and ATP5F1 and ATP5H and ATP5J and ATP5I and ATP5L and ATP5J2) or (NSF and ATP5J2 and ATP5F1 and ATP5H and ATP5I and ATP5G3 and ATP5L and ATP5J) or (NSF and ATP5H and ATP5G1 and ATP5I and ATP5F1 and ATP5L and ATP5J2 and ATP5J) or (NSF and ATP5J2 and ATP5F1 and ATP5H and ATP5G1 and ATP5I and ATP5L and ATP5J) or (ATP5L and NSF and ATP5G1 and ATP5H and ATP5J2 and ATP5F1 and ATP5J and ATP5I) or (ATP5L and NSF and ATP5G1 and ATP5H and ATP5F1 and ATP5J and ATP5J2 and ATP5I) or (ATP5G3 and NSF and ATP5J2 and ATP5J and ATP5F1 and ATP5H and ATP5I and ATP5L) or (ATP5L and NSF and ATP5H and ATP5J2 and ATP5J and ATP5I and ATP5G3 and ATP5F1) or (ATP5L and NSF and ATP5G1 and ATP5H and ATP5F1 and ATP5J2 and ATP5J and ATP5I) or (ATP5L and NSF and ATP5H and ATP5F1 and ATP5J2 and ATP5J and ATP5G1 and ATP5I) or (ATP5G3 and ATP5L and NSF and ATP5H and ATP5J2 and ATP5F1 and ATP5J and ATP5I) or (ATP5L and NSF and ATP5H and ATP5F1 and ATP5J2 and ATP5J and ATP5I and ATP5G3) or (NSF and ATP5F1 and ATP5J and ATP5H and ATP5I and ATP5L and ATP5G2 and ATP5J2) or (ATP5G3 and NSF and ATP5F1 and ATP5H and ATP5J and ATP5I and ATP5L and ATP5J2) or (ATP5G2 and NSF and ATP5J2 and ATP5J and ATP5F1 and ATP5H and ATP5I and ATP5L) or (ATP5L and ATP5G2 and NSF and ATP5H and ATP5J and ATP5J2 and ATP5I and ATP5F1) or (NSF and ATP5J2 and ATP5F1 and ATP5H and ATP5I and ATP5G3 and ATP5L and ATP5J) or (ATP5L and NSF and ATP5H and ATP5F1 and ATP5J2 and ATP5J and ATP5G1 and ATP5I) or (ATP5G2 and NSF and ATP5F1 and ATP5H and ATP5I and ATP5L and ATP5J and ATP5J2) or (ATP5L and NSF and ATP5H and ATP5J2 and ATP5F1 and ATP5J and ATP5G1 and ATP5I) or (ATP5L and NSF and ATP5G1 and ATP5H and ATP5J2 and ATP5F1 and ATP5J and ATP5I) or (ATP5L and NSF and ATP5H and ATP5J2 and ATP5G2 and ATP5J and ATP5I and ATP5F1) or (ATP5G3 and NSF and ATP5F1 and ATP5H and ATP5I and ATP5L and ATP5J and ATP5J2) or (ATP5L and NSF and ATP5H and ATP5J2 and ATP5G2 and ATP5J and ATP5I and ATP5F1) or (NSF and ATP5F1 and ATP5H and ATP5G1 and ATP5I and ATP5L and ATP5J2 and ATP5J) or (ATP5L and NSF and ATP5H and ATP5J2 and ATP5F1 and ATP5J and ATP5I and ATP5G3) or (ATP5L and NSF and ATP5H and ATP5J2 and ATP5G2 and ATP5F1 and ATP5J and ATP5I) or (NSF and ATP5H and ATP5J and ATP5I and ATP5F1 and ATP5L and ATP5G2 and ATP5J2) or (ATP5L and ATP5G2 and NSF and ATP5H and ATP5F1 and ATP5J and ATP5J2 and ATP5I) or (ATP5L and NSF and ATP5H and ATP5F1 and ATP5J and ATP5J2 and ATP5I and ATP5G3) or (ATP5L and NSF and ATP5H and ATP5J2 and ATP5G3 and ATP5J and ATP5I and ATP5F1) or (ATP5L and ATP5G2 and NSF and ATP5H and ATP5J and ATP5F1 and ATP5J2 and ATP5I) or (NSF and ATP5F1 and ATP5H and ATP5I and ATP5L and ATP5J and ATP5G3 and ATP5J2) or (ATP5L and NSF and ATP5H and ATP5J and ATP5J2 and ATP5F1 and ATP5I and ATP5G3) or (NSF and ATP5H and ATP5I and ATP5F1 and ATP5L and ATP5G3 and ATP5J2 and ATP5J) or (NSF and ATP5H and ATP5G1 and ATP5I and ATP5F1 and ATP5L and ATP5J and ATP5J2) or (ATP5L and NSF and ATP5H and ATP5F1 and ATP5J and ATP5J2 and ATP5I and ATP5G3) or (ATP5L and NSF and ATP5H and ATP5F1 and ATP5G2 and ATP5J and ATP5J2 and ATP5I) or (ATP5G3 and NSF and ATP5H and ATP5I and ATP5F1 and ATP5L and ATP5J2 and ATP5J) or (ATP5L and NSF and ATP5G1 and ATP5F1 and ATP5H and ATP5J and ATP5J2 and ATP5I) or (ATP5G2 and NSF and ATP5J and ATP5F1 and ATP5H and ATP5I and ATP5L and ATP5J2) or (ATP5L and NSF and ATP5H and ATP5J and ATP5J2 and ATP5G3 and ATP5I and ATP5F1) or (NSF and ATP5F1 and ATP5H and ATP5G1 and ATP5I and ATP5L and ATP5J and ATP5J2) or (ATP5G3 and NSF and ATP5J2 and ATP5F1 and ATP5J and ATP5H and ATP5I and ATP5L) or (ATP5L and NSF and ATP5H and ATP5F1 and ATP5J and ATP5J2 and ATP5G3 and ATP5I) or (ATP5L and NSF and ATP5G1 and ATP5H and ATP5J2 and ATP5J and ATP5I and ATP5F1) or (NSF and ATP5J2 and ATP5F1 and ATP5H and ATP5I and ATP5L and ATP5G2 and ATP5J) or (ATP5L and NSF and ATP5H and ATP5F1 and ATP5J2 and ATP5G2 and ATP5J and ATP5I) or (ATP5L and NSF and ATP5H and ATP5J2 and ATP5F1 and ATP5J and ATP5G1 and ATP5I) or (ATP5L and ATP5G2 and NSF and ATP5H and ATP5J2 and ATP5J and ATP5I and ATP5F1) or (ATP5L and NSF and ATP5G1 and ATP5J2 and ATP5H and ATP5J and ATP5I and ATP5F1) or (NSF and ATP5J and ATP5H and ATP5I and ATP5F1 and ATP5L and ATP5G2 and ATP5J2) or (ATP5L and NSF and ATP5H and ATP5J2 and ATP5G2 and ATP5F1 and ATP5J and ATP5I) or (ATP5G3 and ATP5L and NSF and ATP5H and ATP5F1 and ATP5J and ATP5J2 and ATP5I) or (ATP5L and NSF and ATP5G1 and ATP5F1 and ATP5J and ATP5H and ATP5J2 and ATP5I) or (ATP5L and NSF and ATP5H and ATP5J2 and ATP5G1 and ATP5J and ATP5I and ATP5F1) or (ATP5G3 and ATP5L and NSF and ATP5H and ATP5J2 and ATP5J and ATP5I and ATP5F1) or (NSF and ATP5F1 and ATP5H and ATP5I and ATP5L and ATP5G2 and ATP5J2 and ATP5J) or (ATP5G3 and ATP5L and NSF and ATP5H and ATP5J and ATP5J2 and ATP5I and ATP5F1) or (ATP5L and NSF and ATP5H and ATP5J2 and ATP5G3 and ATP5J and ATP5I and ATP5F1) or (ATP5L and NSF and ATP5H and ATP5F1 and ATP5J2 and ATP5G3 and ATP5J and ATP5I) or (ATP5L and NSF and ATP5H and ATP5J and ATP5J2 and ATP5I and ATP5G3 and ATP5F1) or (ATP5L and NSF and ATP5H and ATP5J2 and ATP5F1 and ATP5J and ATP5I and ATP5G3) or (NSF and ATP5F1 and ATP5H and ATP5I and ATP5L and ATP5J2 and ATP5J and ATP5G3) or (NSF and ATP5J2 and ATP5F1 and ATP5H and ATP5J and ATP5I and ATP5L and ATP5G2) or (ATP5L and NSF and ATP5G1 and ATP5H and ATP5J2 and ATP5J and ATP5I and ATP5F1) or (NSF and ATP5F1 and ATP5H and ATP5J and ATP5G1 and ATP5I and ATP5L and ATP5J2) or (ATP5L and NSF and ATP5G1 and ATP5H and ATP5F1 and ATP5J2 and ATP5J and ATP5I) or (ATP5L and NSF and ATP5H and ATP5J2 and ATP5J and ATP5G2 and ATP5I and ATP5F1) or (ATP5L and NSF and ATP5G1 and ATP5H and ATP5F1 and ATP5J2 and ATP5J and ATP5I) or (NSF and ATP5F1 and ATP5H and ATP5J and ATP5I and ATP5G3 and ATP5L and ATP5J2) or (NSF and ATP5H and ATP5I and ATP5G3 and ATP5F1 and ATP5L and ATP5J2 and ATP5J) or (ATP5L and NSF and ATP5G1 and ATP5H and ATP5J2 and ATP5J and ATP5I and ATP5F1) or (NSF and ATP5F1 and ATP5J and ATP5H and ATP5I and ATP5L and ATP5J2 and ATP5G3) or (ATP5L and NSF and ATP5H and ATP5G2 and ATP5F1 and ATP5J2 and ATP5J and ATP5I) or (NSF and ATP5H and ATP5I and ATP5G3 and ATP5F1 and ATP5L and ATP5J and ATP5J2) or (ATP5L and NSF and ATP5H and ATP5J2 and ATP5F1 and ATP5G3 and ATP5J and ATP5I) or (ATP5G3 and ATP5L and NSF and ATP5H and ATP5J2 and ATP5F1 and ATP5J and ATP5I) or (ATP5L and NSF and ATP5H and ATP5F1 and ATP5J2 and ATP5G3 and ATP5J and ATP5I) or (ATP5G2 and NSF and ATP5J2 and ATP5H and ATP5J and ATP5I and ATP5F1 and ATP5L) or (ATP5L and NSF and ATP5H and ATP5J2 and ATP5F1 and ATP5G3 and ATP5J and ATP5I) or (NSF and ATP5F1 and ATP5H and ATP5I and ATP5G3 and ATP5L and ATP5J2 and ATP5J) or (ATP5G3 and ATP5L and NSF and ATP5H and ATP5J2 and ATP5F1 and ATP5J and ATP5I) or (ATP5L and NSF and ATP5H and ATP5J2 and ATP5J and ATP5G1 and ATP5I and ATP5F1) or (ATP5L and NSF and ATP5H and ATP5J2 and ATP5F1 and ATP5J and ATP5G1 and ATP5I) or (NSF and ATP5F1 and ATP5H and ATP5G1 and ATP5I and ATP5L and ATP5J and ATP5J2) or (ATP5L and NSF and ATP5H and ATP5J2 and ATP5F1 and ATP5J and ATP5G1 and ATP5I) or (ATP5L and ATP5G2 and NSF and ATP5H and ATP5J2 and ATP5J and ATP5I and ATP5F1) or (ATP5L and NSF and ATP5H and ATP5J2 and ATP5G3 and ATP5J and ATP5I and ATP5F1) or (ATP5L and NSF and ATP5H and ATP5J2 and ATP5F1 and ATP5G2 and ATP5J and ATP5I) or (ATP5L and NSF and ATP5H and ATP5J2 and ATP5G2 and ATP5J and ATP5I and ATP5F1) or (ATP5L and NSF and ATP5H and ATP5F1 and ATP5J and ATP5J2 and ATP5G3 and ATP5I) or (ATP5L and ATP5G2 and NSF and ATP5H and ATP5F1 and ATP5J and ATP5J2 and ATP5I) or (ATP5G3 and ATP5L and NSF and ATP5H and ATP5J2 and ATP5F1 and ATP5J and ATP5I) or (ATP5G3 and NSF and ATP5J and ATP5F1 and ATP5H and ATP5I and ATP5L and ATP5J2) or (NSF and ATP5H and ATP5I and ATP5G3 and ATP5F1 and ATP5L and ATP5J2 and ATP5J) or (ATP5G2 and NSF and ATP5F1 and ATP5J and ATP5H and ATP5I and ATP5L and ATP5J2) or (ATP5L and NSF and ATP5G1 and ATP5J2 and ATP5H and ATP5J and ATP5I and ATP5F1) or (ATP5G3 and NSF and ATP5J2 and ATP5F1 and ATP5H and ATP5I and ATP5L and ATP5J) or (NSF and ATP5J2 and ATP5F1 and ATP5H and ATP5I and ATP5L and ATP5G2 and ATP5J) or (ATP5L and NSF and ATP5G1 and ATP5J2 and ATP5F1 and ATP5H and ATP5J and ATP5I) or (ATP5L and NSF and ATP5G1 and ATP5J2 and ATP5F1 and ATP5H and ATP5J and ATP5I) or (ATP5L and NSF and ATP5G1 and ATP5H and ATP5J2 and ATP5F1 and ATP5J and ATP5I) or (ATP5G3 and NSF and ATP5J2 and ATP5H and ATP5I and ATP5F1 and ATP5L and ATP5J) or (ATP5G2 and NSF and ATP5F1 and ATP5J and ATP5H and ATP5I and ATP5L and ATP5J2) or (ATP5G3 and NSF and ATP5F1 and ATP5H and ATP5I and ATP5L and ATP5J2 and ATP5J) or (NSF and ATP5H and ATP5G1 and ATP5I and ATP5F1 and ATP5L and ATP5J2 and ATP5J) or (ATP5L and NSF and ATP5G1 and ATP5F1 and ATP5H and ATP5J2 and ATP5J and ATP5I) or (NSF and ATP5F1 and ATP5H and ATP5I and ATP5L and ATP5G2 and ATP5J and ATP5J2) or (NSF and ATP5H and ATP5I and ATP5G3 and ATP5F1 and ATP5L and ATP5J and ATP5J2) or (ATP5G2 and NSF and ATP5F1 and ATP5H and ATP5I and ATP5L and ATP5J2 and ATP5J) or (NSF and ATP5J2 and ATP5J and ATP5F1 and ATP5H and ATP5I and ATP5L and ATP5G2) or (NSF and ATP5F1 and ATP5H and ATP5G1 and ATP5I and ATP5L and ATP5J2 and ATP5J) or (NSF and ATP5F1 and ATP5H and ATP5I and ATP5L and ATP5J2 and ATP5J and ATP5G3) or (NSF and ATP5J and ATP5H and ATP5G1 and ATP5I and ATP5F1 and ATP5L and ATP5J2) or (ATP5L and NSF and ATP5G1 and ATP5H and ATP5J and ATP5J2 and ATP5I and ATP5F1) or (ATP5L and NSF and ATP5H and ATP5J2 and ATP5F1 and ATP5G3 and ATP5J and ATP5I) or (ATP5L and NSF and ATP5G1 and ATP5H and ATP5J and ATP5F1 and ATP5J2 and ATP5I) or (ATP5L and NSF and ATP5H and ATP5J2 and ATP5F1 and ATP5G2 and ATP5J and ATP5I) or (ATP5G2 and NSF and ATP5F1 and ATP5H and ATP5J and ATP5I and ATP5L and ATP5J2) or (ATP5L and NSF and ATP5G1 and ATP5J2 and ATP5H and ATP5J and ATP5I and ATP5F1) or (ATP5G3 and ATP5L and NSF and ATP5H and ATP5F1 and ATP5J and ATP5J2 and ATP5I) or (ATP5L and NSF and ATP5H and ATP5F1 and ATP5J and ATP5J2 and ATP5G1 and ATP5I) or (ATP5G3 and ATP5L and NSF and ATP5H and ATP5F1 and ATP5J2 and ATP5J and ATP5I) or (ATP5G2 and NSF and ATP5H and ATP5I and ATP5F1 and ATP5L and ATP5J2 and ATP5J) or (ATP5L and NSF and ATP5H and ATP5J and ATP5J2 and ATP5G1 and ATP5I and ATP5F1) or (NSF and ATP5H and ATP5I and ATP5F1 and ATP5L and ATP5J2 and ATP5J and ATP5G3) or (ATP5L and NSF and ATP5H and ATP5J2 and ATP5J and ATP5I and ATP5G3 and ATP5F1) or (ATP5L and ATP5G2 and NSF and ATP5H and ATP5J2 and ATP5F1 and ATP5J and ATP5I) or (ATP5G3 and ATP5L and NSF and ATP5H and ATP5J2 and ATP5J and ATP5I and ATP5F1) or (NSF and ATP5F1 and ATP5H and ATP5J and ATP5G1 and ATP5I and ATP5L and ATP5J2) or (ATP5L and NSF and ATP5H and ATP5F1 and ATP5J2 and ATP5J and ATP5G3 and ATP5I) or (ATP5L and NSF and ATP5G1 and ATP5H and ATP5F1 and ATP5J2 and ATP5J and ATP5I) or (ATP5L and ATP5G2 and NSF and ATP5H and ATP5J2 and ATP5F1 and ATP5J and ATP5I) or (ATP5L and NSF and ATP5H and ATP5J2 and ATP5F1 and ATP5G2 and ATP5J and ATP5I) or (NSF and ATP5J2 and ATP5F1 and ATP5J and ATP5H and ATP5G1 and ATP5I and ATP5L) or (ATP5L and NSF and ATP5G1 and ATP5F1 and ATP5H and ATP5J and ATP5J2 and ATP5I) or (ATP5L and NSF and ATP5H and ATP5F1 and ATP5J2 and ATP5J and ATP5I and ATP5G3) or (ATP5G3 and ATP5L and NSF and ATP5H and ATP5F1 and ATP5J2 and ATP5J and ATP5I) or (ATP5L and NSF and ATP5H and ATP5G2 and ATP5J and ATP5J2 and ATP5I and ATP5F1) or (ATP5L and NSF and ATP5G1 and ATP5J2 and ATP5F1 and ATP5H and ATP5J and ATP5I) or (ATP5L and NSF and ATP5G1 and ATP5J2 and ATP5F1 and ATP5H and ATP5J and ATP5I) or (ATP5L and NSF and ATP5H and ATP5J2 and ATP5G2 and ATP5J and ATP5I and ATP5F1) or (ATP5L and NSF and ATP5H and ATP5J2 and ATP5F1 and ATP5J and ATP5I and ATP5G3) or (ATP5G3 and ATP5L and NSF and ATP5H and ATP5J2 and ATP5J and ATP5I and ATP5F1) or (ATP5G2 and NSF and ATP5F1 and ATP5H and ATP5I and ATP5L and ATP5J and ATP5J2) or (NSF and ATP5J2 and ATP5F1 and ATP5H and ATP5J and ATP5G1 and ATP5I and ATP5L) or (NSF and ATP5J2 and ATP5H and ATP5J and ATP5I and ATP5F1 and ATP5L and ATP5G3) or (ATP5L and NSF and ATP5H and ATP5J2 and ATP5F1 and ATP5J and ATP5I and ATP5G3) or (ATP5L and NSF and ATP5H and ATP5F1 and ATP5J2 and ATP5G2 and ATP5J and ATP5I) or (ATP5L and NSF and ATP5H and ATP5J2 and ATP5J and ATP5G1 and ATP5I and ATP5F1) or (ATP5L and NSF and ATP5H and ATP5J2 and ATP5F1 and ATP5G3 and ATP5J and ATP5I) or (ATP5G3 and ATP5L and NSF and ATP5H and ATP5J and ATP5J2 and ATP5I and ATP5F1) or (ATP5G3 and ATP5L and NSF and ATP5H and ATP5J2 and ATP5F1 and ATP5J and ATP5I) or (ATP5L and ATP5G2 and NSF and ATP5H and ATP5J2 and ATP5J and ATP5I and ATP5F1) or (ATP5G3 and NSF and ATP5F1 and ATP5H and ATP5J and ATP5I and ATP5L and ATP5J2) or (ATP5G3 and NSF and ATP5F1 and ATP5H and ATP5I and ATP5L and ATP5J2 and ATP5J) or (NSF and ATP5J2 and ATP5F1 and ATP5H and ATP5I and ATP5L and ATP5G2 and ATP5J) or (NSF and ATP5F1 and ATP5H and ATP5J and ATP5I and ATP5G3 and ATP5L and ATP5J2) or (ATP5L and NSF and ATP5H and ATP5J2 and ATP5F1 and ATP5J and ATP5I and ATP5G3) or (ATP5L and ATP5G2 and NSF and ATP5H and ATP5J2 and ATP5J and ATP5I and ATP5F1) or (ATP5L and NSF and ATP5H and ATP5F1 and ATP5J2 and ATP5J and ATP5I and ATP5G3) or (NSF and ATP5J2 and ATP5F1 and ATP5H and ATP5J and ATP5G1 and ATP5I and ATP5L) or (ATP5G2 and NSF and ATP5F1 and ATP5H and ATP5J and ATP5I and ATP5L and ATP5J2) or (ATP5L and NSF and ATP5H and ATP5G2 and ATP5J and ATP5J2 and ATP5I and ATP5F1) or (ATP5L and NSF and ATP5G1 and ATP5H and ATP5F1 and ATP5J2 and ATP5J and ATP5I) or (ATP5L and ATP5G2 and NSF and ATP5H and ATP5F1 and ATP5J2 and ATP5J and ATP5I) or (NSF and ATP5J2 and ATP5F1 and ATP5H and ATP5I and ATP5L and ATP5G2 and ATP5J) or (ATP5G3 and NSF and ATP5J and ATP5H and ATP5I and ATP5F1 and ATP5L and ATP5J2) or (ATP5L and NSF and ATP5G1 and ATP5F1 and ATP5H and ATP5J and ATP5J2 and ATP5I) or (ATP5L and NSF and ATP5G1 and ATP5H and ATP5J2 and ATP5F1 and ATP5J and ATP5I) or (ATP5L and NSF and ATP5G1 and ATP5F1 and ATP5J2 and ATP5H and ATP5J and ATP5I) or (ATP5L and NSF and ATP5H and ATP5F1 and ATP5J and ATP5J2 and ATP5G1 and ATP5I) or (ATP5L and NSF and ATP5H and ATP5J2 and ATP5F1 and ATP5J and ATP5I and ATP5G3) or (ATP5G2 and NSF and ATP5J2 and ATP5F1 and ATP5H and ATP5J and ATP5I and ATP5L) or (NSF and ATP5J and ATP5H and ATP5I and ATP5F1 and ATP5L and ATP5G2 and ATP5J2) or (ATP5L and NSF and ATP5G1 and ATP5J2 and ATP5H and ATP5J and ATP5I and ATP5F1) or (ATP5L and NSF and ATP5H and ATP5F1 and ATP5G2 and ATP5J2 and ATP5J and ATP5I) or (ATP5G3 and ATP5L and NSF and ATP5H and ATP5J2 and ATP5F1 and ATP5J and ATP5I) or (NSF and ATP5H and ATP5I and ATP5F1 and ATP5L and ATP5J2 and ATP5G3 and ATP5J) or (ATP5L and ATP5G2 and NSF and ATP5H and ATP5J2 and ATP5J and ATP5I and ATP5F1) or (ATP5G2 and NSF and ATP5F1 and ATP5H and ATP5I and ATP5L and ATP5J2 and ATP5J) or (NSF and ATP5J2 and ATP5F1 and ATP5H and ATP5J and ATP5I and ATP5L and ATP5G3) or (ATP5L and NSF and ATP5H and ATP5F1 and ATP5J2 and ATP5G3 and ATP5J and ATP5I) or (ATP5G2 and NSF and ATP5F1 and ATP5H and ATP5I and ATP5L and ATP5J2 and ATP5J) or (NSF and ATP5J and ATP5H and ATP5I and ATP5G3 and ATP5F1 and ATP5L and ATP5J2) or (ATP5G2 and NSF and ATP5J2 and ATP5J and ATP5H and ATP5I and ATP5F1 and ATP5L) or (NSF and ATP5F1 and ATP5H and ATP5I and ATP5L and ATP5G2 and ATP5J and ATP5J2) or (ATP5L and NSF and ATP5G1 and ATP5H and ATP5J and ATP5J2 and ATP5I and ATP5F1) or (ATP5G2 and NSF and ATP5H and ATP5I and ATP5F1 and ATP5L and ATP5J2 and ATP5J) or (NSF and ATP5F1 and ATP5H and ATP5J and ATP5I and ATP5L and ATP5G3 and ATP5J2) or (NSF and ATP5J2 and ATP5F1 and ATP5J and ATP5H and ATP5I and ATP5L and ATP5G2) or (NSF and ATP5J2 and ATP5H and ATP5J and ATP5I and ATP5F1 and ATP5L and ATP5G2) or (NSF and ATP5H and ATP5J and ATP5G1 and ATP5I and ATP5F1 and ATP5L and ATP5J2) or (ATP5G3 and ATP5L and NSF and ATP5H and ATP5J2 and ATP5F1 and ATP5J and ATP5I) or (ATP5L and NSF and ATP5G1 and ATP5H and ATP5J and ATP5J2 and ATP5I and ATP5F1) or (ATP5L and NSF and ATP5G1 and ATP5J2 and ATP5H and ATP5J and ATP5I and ATP5F1) or (ATP5L and NSF and ATP5H and ATP5J and ATP5G2 and ATP5F1 and ATP5J2 and ATP5I) or (NSF and ATP5J2 and ATP5F1 and ATP5H and ATP5J and ATP5I and ATP5G3 and ATP5L) or (ATP5L and ATP5G2 and NSF and ATP5H and ATP5J2 and ATP5F1 and ATP5J and ATP5I) or (NSF and ATP5J2 and ATP5F1 and ATP5H and ATP5I and ATP5G3 and ATP5L and ATP5J) or (ATP5G2 and NSF and ATP5F1 and ATP5H and ATP5I and ATP5L and ATP5J2 and ATP5J) or (ATP5G3 and NSF and ATP5J2 and ATP5F1 and ATP5H and ATP5I and ATP5L and ATP5J) or (NSF and ATP5H and ATP5J and ATP5I and ATP5G3 and ATP5F1 and ATP5L and ATP5J2) or (NSF and ATP5F1 and ATP5J and ATP5H and ATP5I and ATP5G3 and ATP5L and ATP5J2) or (ATP5L and NSF and ATP5H and ATP5J2 and ATP5F1 and ATP5J and ATP5G1 and ATP5I) or (NSF and ATP5J2 and ATP5F1 and ATP5H and ATP5G1 and ATP5I and ATP5L and ATP5J) or (NSF and ATP5J2 and ATP5F1 and ATP5H and ATP5I and ATP5L and ATP5J and ATP5G3) or (ATP5L and NSF and ATP5H and ATP5J and ATP5G2 and ATP5J2 and ATP5I and ATP5F1) or (ATP5L and NSF and ATP5G1 and ATP5J2 and ATP5F1 and ATP5H and ATP5J and ATP5I) or (ATP5L and ATP5G2 and NSF and ATP5H and ATP5J and ATP5J2 and ATP5I and ATP5F1) or (NSF and ATP5F1 and ATP5H and ATP5J and ATP5I and ATP5L and ATP5G2 and ATP5J2) or (ATP5L and NSF and ATP5H and ATP5J2 and ATP5J and ATP5G2 and ATP5F1 and ATP5I) or (ATP5G3 and NSF and ATP5H and ATP5I and ATP5F1 and ATP5L and ATP5J2 and ATP5J) or (ATP5L and ATP5G2 and NSF and ATP5H and ATP5J2 and ATP5J and ATP5F1 and ATP5I) or (NSF and ATP5F1 and ATP5H and ATP5I and ATP5L and ATP5J2 and ATP5G3 and ATP5J) or (ATP5G2 and NSF and ATP5F1 and ATP5H and ATP5J and ATP5I and ATP5L and ATP5J2) or (ATP5L and NSF and ATP5H and ATP5J2 and ATP5J and ATP5G3 and ATP5I and ATP5F1) or (NSF and ATP5F1 and ATP5H and ATP5I and ATP5L and ATP5J and ATP5G3 and ATP5J2) or (ATP5L and NSF and ATP5H and ATP5J2 and ATP5F1 and ATP5J and ATP5I and ATP5G3) or (ATP5L and NSF and ATP5H and ATP5J2 and ATP5F1 and ATP5J and ATP5I and ATP5G3) or (ATP5G3 and NSF and ATP5F1 and ATP5H and ATP5I and ATP5L and ATP5J and ATP5J2) or (ATP5G3 and ATP5L and NSF and ATP5H and ATP5J2 and ATP5F1 and ATP5J and ATP5I) or (NSF and ATP5F1 and ATP5H and ATP5G1 and ATP5I and ATP5L and ATP5J2 and ATP5J) or (ATP5L and NSF and ATP5H and ATP5J2 and ATP5G3 and ATP5J and ATP5I and ATP5F1) or (NSF and ATP5H and ATP5J and ATP5I and ATP5G3 and ATP5F1 and ATP5L and ATP5J2) or (ATP5L and NSF and ATP5H and ATP5J2 and ATP5F1 and ATP5G3 and ATP5J and ATP5I) or (ATP5L and NSF and ATP5H and ATP5J and ATP5J2 and ATP5I and ATP5G3 and ATP5F1) or (NSF and ATP5F1 and ATP5H and ATP5I and ATP5G3 and ATP5L and ATP5J2 and ATP5J) or (ATP5L and ATP5G2 and NSF and ATP5H and ATP5F1 and ATP5J and ATP5J2 and ATP5I) or (NSF and ATP5J and ATP5F1 and ATP5H and ATP5G1 and ATP5I and ATP5L and ATP5J2) or (ATP5G3 and NSF and ATP5H and ATP5J and ATP5I and ATP5F1 and ATP5L and ATP5J2) or (ATP5L and ATP5G2 and NSF and ATP5H and ATP5J2 and ATP5J and ATP5I and ATP5F1) or (ATP5L and NSF and ATP5H and ATP5F1 and ATP5J2 and ATP5G3 and ATP5J and ATP5I) or (ATP5L and NSF and ATP5H and ATP5J2 and ATP5F1 and ATP5J and ATP5G3 and ATP5I) or (NSF and ATP5F1 and ATP5H and ATP5J and ATP5I and ATP5L and ATP5G2 and ATP5J2) or (ATP5L and NSF and ATP5H and ATP5F1 and ATP5J2 and ATP5G2 and ATP5J and ATP5I) or (ATP5G3 and ATP5L and NSF and ATP5H and ATP5J2 and ATP5J and ATP5I and ATP5F1) or (NSF and ATP5J2 and ATP5H and ATP5I and ATP5F1 and ATP5L and ATP5G2 and ATP5J) or (NSF and ATP5F1 and ATP5H and ATP5J and ATP5G1 and ATP5I and ATP5L and ATP5J2) or (ATP5G2 and NSF and ATP5J2 and ATP5F1 and ATP5H and ATP5I and ATP5L and ATP5J) or (ATP5G3 and ATP5L and NSF and ATP5H and ATP5F1 and ATP5J and ATP5J2 and ATP5I) or (ATP5G3 and ATP5L and NSF and ATP5H and ATP5J2 and ATP5J and ATP5I and ATP5F1) or (ATP5L and NSF and ATP5H and ATP5F1 and ATP5J2 and ATP5G1 and ATP5J and ATP5I) or (ATP5L and NSF and ATP5H and ATP5J2 and ATP5G2 and ATP5F1 and ATP5J and ATP5I) or (ATP5L and NSF and ATP5G1 and ATP5H and ATP5F1 and ATP5J2 and ATP5J and ATP5I) or (ATP5G3 and ATP5L and NSF and ATP5H and ATP5J2 and ATP5F1 and ATP5J and ATP5I) or (ATP5L and NSF and ATP5G1 and ATP5H and ATP5J2 and ATP5F1 and ATP5J and ATP5I) or (ATP5L and NSF and ATP5H and ATP5J2 and ATP5F1 and ATP5J and ATP5G1 and ATP5I) or (ATP5L and NSF and ATP5H and ATP5J2 and ATP5J and ATP5I and ATP5G3 and ATP5F1) or (ATP5G2 and NSF and ATP5F1 and ATP5H and ATP5J and ATP5I and ATP5L and ATP5J2) or (ATP5L and NSF and ATP5G1 and ATP5H and ATP5F1 and ATP5J2 and ATP5J and ATP5I) or (NSF and ATP5J2 and ATP5F1 and ATP5H and ATP5I and ATP5G3 and ATP5L and ATP5J) or (NSF and ATP5F1 and ATP5H and ATP5I and ATP5G3 and ATP5L and ATP5J and ATP5J2) or (ATP5L and NSF and ATP5G1 and ATP5F1 and ATP5H and ATP5J and ATP5J2 and ATP5I) or (ATP5G3 and ATP5L and NSF and ATP5H and ATP5F1 and ATP5J and ATP5J2 and ATP5I) or (ATP5L and NSF and ATP5H and ATP5J2 and ATP5J and ATP5G1 and ATP5I and ATP5F1) or (ATP5L and NSF and ATP5G1 and ATP5F1 and ATP5J2 and ATP5H and ATP5J and ATP5I) or (ATP5G3 and NSF and ATP5J2 and ATP5H and ATP5J and ATP5I and ATP5F1 and ATP5L) or (ATP5L and NSF and ATP5H and ATP5F1 and ATP5J and ATP5J2 and ATP5G3 and ATP5I) or (ATP5L and NSF and ATP5H and ATP5J2 and ATP5J and ATP5G1 and ATP5I and ATP5F1) or (ATP5L and NSF and ATP5H and ATP5F1 and ATP5J2 and ATP5J and ATP5I and ATP5G3) or (ATP5L and NSF and ATP5H and ATP5J2 and ATP5G2 and ATP5J and ATP5I and ATP5F1) or (NSF and ATP5F1 and ATP5H and ATP5I and ATP5L and ATP5G2 and ATP5J2 and ATP5J) or (NSF and ATP5J2 and ATP5F1 and ATP5H and ATP5J and ATP5I and ATP5L and ATP5G3) or (ATP5L and NSF and ATP5H and ATP5F1 and ATP5J2 and ATP5G2 and ATP5J and ATP5I) or (ATP5G2 and NSF and ATP5J2 and ATP5F1 and ATP5H and ATP5J and ATP5I and ATP5L) or (NSF and ATP5J2 and ATP5F1 and ATP5H and ATP5G1 and ATP5I and ATP5L and ATP5J) or (NSF and ATP5J2 and ATP5J and ATP5H and ATP5I and ATP5F1 and ATP5L and ATP5G2) or (ATP5L and NSF and ATP5G1 and ATP5H and ATP5J2 and ATP5J and ATP5I and ATP5F1) or (ATP5L and NSF and ATP5G1 and ATP5H and ATP5J and ATP5J2 and ATP5I and ATP5F1) or (ATP5L and NSF and ATP5H and ATP5J and ATP5J2 and ATP5G1 and ATP5I and ATP5F1) or (ATP5L and NSF and ATP5H and ATP5J2 and ATP5G1 and ATP5J and ATP5I and ATP5F1) or (ATP5L and NSF and ATP5G1 and ATP5H and ATP5J and ATP5J2 and ATP5I and ATP5F1) or (ATP5G2 and NSF and ATP5H and ATP5I and ATP5F1 and ATP5L and ATP5J and ATP5J2) or (ATP5L and NSF and ATP5H and ATP5J2 and ATP5F1 and ATP5G1 and ATP5J and ATP5I) or (NSF and ATP5H and ATP5I and ATP5G3 and ATP5F1 and ATP5L and ATP5J2 and ATP5J) or (ATP5L and NSF and ATP5H and ATP5J2 and ATP5F1 and ATP5J and ATP5G3 and ATP5I) or (ATP5L and ATP5G2 and NSF and ATP5H and ATP5F1 and ATP5J2 and ATP5J and ATP5I) or (ATP5L and NSF and ATP5H and ATP5F1 and ATP5J2 and ATP5J and ATP5G3 and ATP5I) or (ATP5L and NSF and ATP5H and ATP5J and ATP5J2 and ATP5G3 and ATP5I and ATP5F1) or (ATP5L and ATP5G2 and NSF and ATP5H and ATP5J2 and ATP5F1 and ATP5J and ATP5I) or (ATP5G3 and NSF and ATP5J2 and ATP5F1 and ATP5H and ATP5J and ATP5I and ATP5L) or (ATP5L and NSF and ATP5H and ATP5F1 and ATP5J and ATP5J2 and ATP5I and ATP5G3) or (ATP5G3 and NSF and ATP5F1 and ATP5H and ATP5I and ATP5L and ATP5J2 and ATP5J) or (ATP5G3 and ATP5L and NSF and ATP5H and ATP5J2 and ATP5F1 and ATP5J and ATP5I) or (ATP5G2 and NSF and ATP5H and ATP5I and ATP5F1 and ATP5L and ATP5J2 and ATP5J) or (NSF and ATP5F1 and ATP5H and ATP5G1 and ATP5I and ATP5L and ATP5J and ATP5J2) or (NSF and ATP5J2 and ATP5H and ATP5I and ATP5G3 and ATP5F1 and ATP5L and ATP5J) or (ATP5L and NSF and ATP5H and ATP5G2 and ATP5J2 and ATP5J and ATP5I and ATP5F1) or (NSF and ATP5J and ATP5F1 and ATP5H and ATP5I and ATP5L and ATP5G3 and ATP5J2) or (ATP5L and NSF and ATP5H and ATP5F1 and ATP5J and ATP5G2 and ATP5J2 and ATP5I) or (ATP5G3 and ATP5L and NSF and ATP5H and ATP5J2 and ATP5J and ATP5I and ATP5F1) or (ATP5L and NSF and ATP5G1 and ATP5J2 and ATP5F1 and ATP5H and ATP5J and ATP5I) or (ATP5G3 and ATP5L and NSF and ATP5H and ATP5J2 and ATP5J and ATP5I and ATP5F1) or (ATP5G3 and NSF and ATP5J2 and ATP5H and ATP5I and ATP5F1 and ATP5L and ATP5J) or (ATP5L and ATP5G2 and NSF and ATP5H and ATP5F1 and ATP5J2 and ATP5J and ATP5I) or (NSF and ATP5J2 and ATP5H and ATP5I and ATP5G3 and ATP5F1 and ATP5L and ATP5J) or (NSF and ATP5J2 and ATP5H and ATP5G1 and ATP5I and ATP5F1 and ATP5L and ATP5J) or (NSF and ATP5J2 and ATP5H and ATP5G1 and ATP5I and ATP5F1 and ATP5L and ATP5J) or (NSF and ATP5F1 and ATP5H and ATP5I and ATP5L and ATP5J2 and ATP5G3 and ATP5J) or (ATP5L and NSF and ATP5H and ATP5J2 and ATP5J and ATP5F1 and ATP5I and ATP5G3) or (ATP5L and NSF and ATP5H and ATP5J2 and ATP5F1 and ATP5J and ATP5I and ATP5G3) or (ATP5L and NSF and ATP5H and ATP5F1 and ATP5J2 and ATP5J and ATP5I and ATP5G3) or (NSF and ATP5F1 and ATP5H and ATP5G1 and ATP5I and ATP5L and ATP5J2 and ATP5J) or (ATP5L and NSF and ATP5G1 and ATP5H and ATP5F1 and ATP5J and ATP5J2 and ATP5I) or (ATP5G2 and NSF and ATP5J2 and ATP5H and ATP5I and ATP5F1 and ATP5L and ATP5J) or (NSF and ATP5F1 and ATP5H and ATP5I and ATP5G3 and ATP5L and ATP5J2 and ATP5J) or (ATP5L and NSF and ATP5H and ATP5J and ATP5J2 and ATP5F1 and ATP5G1 and ATP5I) or (NSF and ATP5F1 and ATP5H and ATP5J and ATP5I and ATP5G3 and ATP5L and ATP5J2) or (NSF and ATP5H and ATP5I and ATP5F1 and ATP5L and ATP5G2 and ATP5J2 and ATP5J) or (NSF and ATP5J2 and ATP5F1 and ATP5H and ATP5I and ATP5L and ATP5J and ATP5G3) or (ATP5L and ATP5G2 and NSF and ATP5H and ATP5J2 and ATP5J and ATP5I and ATP5F1) or (ATP5L and NSF and ATP5H and ATP5J and ATP5J2 and ATP5G2 and ATP5I and ATP5F1) or (NSF and ATP5F1 and ATP5H and ATP5G1 and ATP5I and ATP5L and ATP5J2 and ATP5J) or (NSF and ATP5J2 and ATP5F1 and ATP5H and ATP5J and ATP5I and ATP5L and ATP5G2) or (ATP5L and NSF and ATP5H and ATP5J2 and ATP5F1 and ATP5G3 and ATP5J and ATP5I) or (ATP5G3 and NSF and ATP5H and ATP5J and ATP5I and ATP5F1 and ATP5L and ATP5J2) or (NSF and ATP5J2 and ATP5F1 and ATP5H and ATP5J and ATP5I and ATP5G3 and ATP5L) or (NSF and ATP5J2 and ATP5H and ATP5I and ATP5F1 and ATP5L and ATP5G2 and ATP5J) or (ATP5L and NSF and ATP5G1 and ATP5J2 and ATP5H and ATP5J and ATP5I and ATP5F1) or (ATP5L and ATP5G2 and NSF and ATP5H and ATP5J2 and ATP5F1 and ATP5J and ATP5I) or (ATP5L and NSF and ATP5H and ATP5F1 and ATP5J2 and ATP5G3 and ATP5J and ATP5I) or (ATP5L and ATP5G2 and NSF and ATP5H and ATP5F1 and ATP5J and ATP5J2 and ATP5I) or (ATP5G3 and NSF and ATP5F1 and ATP5H and ATP5I and ATP5L and ATP5J2 and ATP5J) or (ATP5L and NSF and ATP5G1 and ATP5H and ATP5F1 and ATP5J2 and ATP5J and ATP5I) or (ATP5L and NSF and ATP5G1 and ATP5H and ATP5J2 and ATP5F1 and ATP5J and ATP5I) or (ATP5L and NSF and ATP5G1 and ATP5F1 and ATP5J2 and ATP5H and ATP5J and ATP5I) or (ATP5L and NSF and ATP5H and ATP5F1 and ATP5G2 and ATP5J and ATP5J2 and ATP5I) or (NSF and ATP5F1 and ATP5J and ATP5H and ATP5I and ATP5L and ATP5G2 and ATP5J2) or (ATP5G3 and ATP5L and NSF and ATP5H and ATP5J2 and ATP5J and ATP5I and ATP5F1) or (ATP5G3 and ATP5L and NSF and ATP5H and ATP5F1 and ATP5J2 and ATP5J and ATP5I) or (ATP5L and NSF and ATP5H and ATP5J and ATP5F1 and ATP5J2 and ATP5I and ATP5G3) or (ATP5G2 and NSF and ATP5J and ATP5F1 and ATP5H and ATP5I and ATP5L and ATP5J2) or (NSF and ATP5J2 and ATP5H and ATP5G1 and ATP5I and ATP5F1 and ATP5L and ATP5J) or (ATP5L and NSF and ATP5G1 and ATP5J2 and ATP5J and ATP5F1 and ATP5H and ATP5I) or (NSF and ATP5J and ATP5F1 and ATP5H and ATP5I and ATP5L and ATP5G2 and ATP5J2) or (ATP5L and NSF and ATP5G1 and ATP5H and ATP5J2 and ATP5J and ATP5I and ATP5F1) or (ATP5L and NSF and ATP5H and ATP5J and ATP5F1 and ATP5J2 and ATP5G1 and ATP5I) or (ATP5L and NSF and ATP5G1 and ATP5H and ATP5J2 and ATP5F1 and ATP5J and ATP5I) or (ATP5G3 and ATP5L and NSF and ATP5H and ATP5J2 and ATP5J and ATP5I and ATP5F1) or (ATP5G3 and ATP5L and NSF and ATP5H and ATP5F1 and ATP5J2 and ATP5J and ATP5I) or (ATP5L and NSF and ATP5H and ATP5J and ATP5J2 and ATP5G3 and ATP5I and ATP5F1) or (NSF and ATP5F1 and ATP5H and ATP5I and ATP5G3 and ATP5L and ATP5J2 and ATP5J) or (ATP5L and NSF and ATP5H and ATP5J2 and ATP5G2 and ATP5J and ATP5I and ATP5F1) or (ATP5L and NSF and ATP5G1 and ATP5H and ATP5J2 and ATP5F1 and ATP5J and ATP5I) or (ATP5L and NSF and ATP5G1 and ATP5F1 and ATP5H and ATP5J2 and ATP5J and ATP5I) or (ATP5L and NSF and ATP5H and ATP5J2 and ATP5J and ATP5I and ATP5G3 and ATP5F1) or (ATP5G3 and ATP5L and NSF and ATP5H and ATP5J2 and ATP5J and ATP5I and ATP5F1) or (ATP5G2 and NSF and ATP5J2 and ATP5F1 and ATP5H and ATP5I and ATP5L and ATP5J) or (NSF and ATP5H and ATP5I and ATP5F1 and ATP5L and ATP5G2 and ATP5J and ATP5J2) or (ATP5L and NSF and ATP5H and ATP5J2 and ATP5J and ATP5G1 and ATP5I and ATP5F1) or (ATP5L and NSF and ATP5G1 and ATP5H and ATP5J2 and ATP5J and ATP5I and ATP5F1) or (ATP5L and NSF and ATP5H and ATP5J2 and ATP5J and ATP5I and ATP5G3 and ATP5F1) or (ATP5L and NSF and ATP5H and ATP5G2 and ATP5F1 and ATP5J2 and ATP5J and ATP5I) or (ATP5G3 and NSF and ATP5F1 and ATP5J and ATP5H and ATP5I and ATP5L and ATP5J2) or (ATP5L and NSF and ATP5G1 and ATP5H and ATP5J2 and ATP5J and ATP5I and ATP5F1) or (ATP5G3 and NSF and ATP5F1 and ATP5H and ATP5J and ATP5I and ATP5L and ATP5J2) or (ATP5G2 and NSF and ATP5H and ATP5I and ATP5F1 and ATP5L and ATP5J and ATP5J2) or (ATP5L and NSF and ATP5H and ATP5J2 and ATP5F1 and ATP5J and ATP5I and ATP5G3) or (ATP5L and NSF and ATP5H and ATP5J2 and ATP5G2 and ATP5J and ATP5I and ATP5F1) or (ATP5L and ATP5G2 and NSF and ATP5H and ATP5J2 and ATP5J and ATP5I and ATP5F1) or (ATP5L and NSF and ATP5H and ATP5J2 and ATP5F1 and ATP5J and ATP5G1 and ATP5I) or (NSF and ATP5F1 and ATP5H and ATP5J and ATP5I and ATP5L and ATP5J2 and ATP5G3) or (ATP5L and NSF and ATP5H and ATP5F1 and ATP5J2 and ATP5J and ATP5I and ATP5G3) or (ATP5G2 and NSF and ATP5J and ATP5H and ATP5I and ATP5F1 and ATP5L and ATP5J2) or (NSF and ATP5F1 and ATP5H and ATP5I and ATP5G3 and ATP5L and ATP5J and ATP5J2) or (ATP5L and ATP5G2 and NSF and ATP5H and ATP5F1 and ATP5J2 and ATP5J and ATP5I) or (ATP5L and ATP5G2 and NSF and ATP5H and ATP5J2 and ATP5F1 and ATP5J and ATP5I) or (ATP5L and NSF and ATP5H and ATP5J and ATP5J2 and ATP5G1 and ATP5I and ATP5F1) or (ATP5L and NSF and ATP5G1 and ATP5H and ATP5J2 and ATP5J and ATP5I and ATP5F1) or (ATP5L and NSF and ATP5G1 and ATP5J2 and ATP5F1 and ATP5H and ATP5J and ATP5I) or (NSF and ATP5F1 and ATP5H and ATP5I and ATP5L and ATP5J and ATP5G3 and ATP5J2) or (ATP5L and NSF and ATP5G1 and ATP5H and ATP5J2 and ATP5F1 and ATP5J and ATP5I) or (NSF and ATP5H and ATP5I and ATP5F1 and ATP5L and ATP5G2 and ATP5J and ATP5J2) or (ATP5G3 and ATP5L and NSF and ATP5H and ATP5J and ATP5F1 and ATP5J2 and ATP5I) or (ATP5L and NSF and ATP5G1 and ATP5F1 and ATP5J2 and ATP5H and ATP5J and ATP5I) or (NSF and ATP5F1 and ATP5H and ATP5J and ATP5I and ATP5G3 and ATP5L and ATP5J2) or (NSF and ATP5J and ATP5F1 and ATP5H and ATP5G1 and ATP5I and ATP5L and ATP5J2) or (ATP5L and NSF and ATP5H and ATP5J2 and ATP5F1 and ATP5J and ATP5G2 and ATP5I) or (ATP5L and NSF and ATP5H and ATP5J and ATP5J2 and ATP5F1 and ATP5G3 and ATP5I) or (ATP5L and NSF and ATP5H and ATP5J2 and ATP5F1 and ATP5J and ATP5G3 and ATP5I) or (NSF and ATP5H and ATP5J and ATP5I and ATP5F1 and ATP5L and ATP5J2 and ATP5G3) or (NSF and ATP5J2 and ATP5H and ATP5I and ATP5F1 and ATP5L and ATP5G2 and ATP5J) or (NSF and ATP5J2 and ATP5J and ATP5F1 and ATP5H and ATP5I and ATP5L and ATP5G3) or (NSF and ATP5F1 and ATP5H and ATP5I and ATP5L and ATP5G2 and ATP5J and ATP5J2) or (ATP5G2 and NSF and ATP5J2 and ATP5F1 and ATP5H and ATP5I and ATP5L and ATP5J) or (ATP5G3 and NSF and ATP5F1 and ATP5J and ATP5H and ATP5I and ATP5L and ATP5J2) or (NSF and ATP5F1 and ATP5H and ATP5G1 and ATP5I and ATP5L and ATP5J2 and ATP5J) or (ATP5L and NSF and ATP5H and ATP5F1 and ATP5J and ATP5J2 and ATP5G1 and ATP5I) or (NSF and ATP5F1 and ATP5H and ATP5I and ATP5L and ATP5G2 and ATP5J2 and ATP5J) or (NSF and ATP5J2 and ATP5F1 and ATP5H and ATP5G1 and ATP5I and ATP5L and ATP5J) or (ATP5L and NSF and ATP5H and ATP5J2 and ATP5J and ATP5G3 and ATP5I and ATP5F1) or (NSF and ATP5H and ATP5I and ATP5F1 and ATP5L and ATP5G2 and ATP5J2 and ATP5J) or (ATP5L and NSF and ATP5H and ATP5F1 and ATP5J and ATP5J2 and ATP5G1 and ATP5I) or (ATP5L and NSF and ATP5G1 and ATP5J2 and ATP5F1 and ATP5H and ATP5J and ATP5I) or (NSF and ATP5J2 and ATP5F1 and ATP5H and ATP5I and ATP5L and ATP5J and ATP5G3) or (NSF and ATP5F1 and ATP5H and ATP5G1 and ATP5I and ATP5L and ATP5J2 and ATP5J) or (ATP5L and NSF and ATP5G1 and ATP5J2 and ATP5J and ATP5H and ATP5I and ATP5F1) or (ATP5L and NSF and ATP5H and ATP5F1 and ATP5G2 and ATP5J2 and ATP5J and ATP5I) or (NSF and ATP5F1 and ATP5H and ATP5J and ATP5I and ATP5L and ATP5J2 and ATP5G3) or (ATP5G2 and NSF and ATP5J and ATP5H and ATP5I and ATP5F1 and ATP5L and ATP5J2) or (ATP5L and NSF and ATP5G1 and ATP5J2 and ATP5F1 and ATP5H and ATP5J and ATP5I) or (NSF and ATP5F1 and ATP5H and ATP5I and ATP5G3 and ATP5L and ATP5J2 and ATP5J) or (NSF and ATP5F1 and ATP5H and ATP5G1 and ATP5I and ATP5L and ATP5J and ATP5J2) or (ATP5L and NSF and ATP5H and ATP5J2 and ATP5J and ATP5I and ATP5G3 and ATP5F1) or (ATP5L and NSF and ATP5H and ATP5G2 and ATP5J2 and ATP5J and ATP5I and ATP5F1) or (ATP5L and NSF and ATP5G1 and ATP5H and ATP5J2 and ATP5J and ATP5I and ATP5F1) or (NSF and ATP5F1 and ATP5H and ATP5I and ATP5L and ATP5G2 and ATP5J2 and ATP5J) or (NSF and ATP5J2 and ATP5J and ATP5H and ATP5I and ATP5G3 and ATP5F1 and ATP5L) or (ATP5G3 and NSF and ATP5J and ATP5F1 and ATP5H and ATP5I and ATP5L and ATP5J2) or (NSF and ATP5F1 and ATP5H and ATP5I and ATP5L and ATP5J and ATP5G3 and ATP5J2) or (ATP5G3 and NSF and ATP5H and ATP5I and ATP5F1 and ATP5L and ATP5J and ATP5J2) or (ATP5L and NSF and ATP5G1 and ATP5H and ATP5J2 and ATP5F1 and ATP5J and ATP5I) or (ATP5L and ATP5G2 and NSF and ATP5H and ATP5F1 and ATP5J2 and ATP5J and ATP5I) or (ATP5L and ATP5G2 and NSF and ATP5H and ATP5J2 and ATP5J and ATP5I and ATP5F1) or (ATP5G2 and NSF and ATP5F1 and ATP5H and ATP5I and ATP5L and ATP5J and ATP5J2) or (NSF and ATP5J2 and ATP5J and ATP5H and ATP5G1 and ATP5I and ATP5F1 and ATP5L) or (ATP5L and NSF and ATP5H and ATP5J2 and ATP5J and ATP5G3 and ATP5I and ATP5F1) or (ATP5L and ATP5G2 and NSF and ATP5H and ATP5J2 and ATP5F1 and ATP5J and ATP5I) or (ATP5L and ATP5G2 and NSF and ATP5H and ATP5F1 and ATP5J and ATP5J2 and ATP5I) or (ATP5G3 and ATP5L and NSF and ATP5H and ATP5F1 and ATP5J2 and ATP5J and ATP5I) or (ATP5G3 and NSF and ATP5J2 and ATP5F1 and ATP5H and ATP5I and ATP5L and ATP5J) or (NSF and ATP5F1 and ATP5H and ATP5I and ATP5G3 and ATP5L and ATP5J and ATP5J2) or (NSF and ATP5J and ATP5H and ATP5I and ATP5F1 and ATP5L and ATP5G3 and ATP5J2) or (ATP5G2 and NSF and ATP5H and ATP5J and ATP5I and ATP5F1 and ATP5L and ATP5J2) or (ATP5L and NSF and ATP5H and ATP5J2 and ATP5F1 and ATP5J and ATP5G3 and ATP5I) or (NSF and ATP5J2 and ATP5F1 and ATP5J and ATP5H and ATP5I and ATP5L and ATP5G3) or (NSF and ATP5H and ATP5I and ATP5F1 and ATP5L and ATP5J and ATP5G3 and ATP5J2) or (ATP5L and NSF and ATP5H and ATP5J2 and ATP5F1 and ATP5G1 and ATP5J and ATP5I) or (ATP5G2 and NSF and ATP5J2 and ATP5F1 and ATP5H and ATP5I and ATP5L and ATP5J) or (ATP5L and NSF and ATP5H and ATP5F1 and ATP5J2 and ATP5J and ATP5I and ATP5G3) or (NSF and ATP5J2 and ATP5F1 and ATP5H and ATP5I and ATP5L and ATP5G2 and ATP5J) or (NSF and ATP5F1 and ATP5H and ATP5I and ATP5L and ATP5G3 and ATP5J2 and ATP5J) or (ATP5L and NSF and ATP5H and ATP5J2 and ATP5G2 and ATP5F1 and ATP5J and ATP5I) or (ATP5L and NSF and ATP5H and ATP5J and ATP5J2 and ATP5G1 and ATP5I and ATP5F1) or (ATP5L and NSF and ATP5G1 and ATP5H and ATP5J and ATP5J2 and ATP5F1 and ATP5I) or (NSF and ATP5J2 and ATP5H and ATP5J and ATP5I and ATP5G3 and ATP5F1 and ATP5L) or (ATP5L and NSF and ATP5G1 and ATP5H and ATP5J2 and ATP5F1 and ATP5J and ATP5I) or (ATP5L and NSF and ATP5H and ATP5J2 and ATP5F1 and ATP5J and ATP5I and ATP5G3) or (NSF and ATP5H and ATP5J and ATP5I and ATP5F1 and ATP5L and ATP5G2 and ATP5J2) or (ATP5G2 and NSF and ATP5J2 and ATP5H and ATP5I and ATP5F1 and ATP5L and ATP5J) or (ATP5L and NSF and ATP5G1 and ATP5J2 and ATP5F1 and ATP5H and ATP5J and ATP5I) or (ATP5G3 and NSF and ATP5F1 and ATP5H and ATP5I and ATP5L and ATP5J and ATP5J2) or (ATP5L and NSF and ATP5H and ATP5F1 and ATP5J2 and ATP5J and ATP5I and ATP5G3) or (ATP5L and NSF and ATP5H and ATP5J2 and ATP5G1 and ATP5J and ATP5I and ATP5F1) or (ATP5L and ATP5G2 and NSF and ATP5H and ATP5J2 and ATP5F1 and ATP5J and ATP5I) or (ATP5L and NSF and ATP5H and ATP5J2 and ATP5J and ATP5I and ATP5G3 and ATP5F1) or (ATP5G2 and NSF and ATP5F1 and ATP5H and ATP5I and ATP5L and ATP5J2 and ATP5J) or (ATP5G3 and NSF and ATP5F1 and ATP5H and ATP5I and ATP5L and ATP5J2 and ATP5J) or (ATP5G3 and NSF and ATP5J2 and ATP5H and ATP5I and ATP5F1 and ATP5L and ATP5J) or (ATP5L and NSF and ATP5G1 and ATP5J and ATP5J2 and ATP5F1 and ATP5H and ATP5I) or (ATP5L and NSF and ATP5G1 and ATP5J2 and ATP5H and ATP5J and ATP5I and ATP5F1) or (NSF and ATP5J2 and ATP5J and ATP5F1 and ATP5H and ATP5I and ATP5G3 and ATP5L) or (ATP5L and NSF and ATP5G1 and ATP5H and ATP5F1 and ATP5J and ATP5J2 and ATP5I) or (NSF and ATP5J and ATP5F1 and ATP5H and ATP5I and ATP5G3 and ATP5L and ATP5J2) or (ATP5L and NSF and ATP5H and ATP5G2 and ATP5F1 and ATP5J and ATP5J2 and ATP5I) or (ATP5L and NSF and ATP5H and ATP5J2 and ATP5F1 and ATP5J and ATP5I and ATP5G3) or (ATP5G3 and NSF and ATP5J2 and ATP5F1 and ATP5H and ATP5J and ATP5I and ATP5L) or (NSF and ATP5J2 and ATP5F1 and ATP5J and ATP5H and ATP5I and ATP5G3 and ATP5L) or (ATP5L and NSF and ATP5H and ATP5J2 and ATP5F1 and ATP5J and ATP5G3 and ATP5I) or (ATP5G3 and ATP5L and NSF and ATP5H and ATP5J and ATP5J2 and ATP5I and ATP5F1) or (ATP5L and NSF and ATP5H and ATP5F1 and ATP5J and ATP5J2 and ATP5G1 and ATP5I) or (NSF and ATP5J2 and ATP5F1 and ATP5H and ATP5I and ATP5L and ATP5J and ATP5G3) or (ATP5L and NSF and ATP5G1 and ATP5H and ATP5F1 and ATP5J and ATP5J2 and ATP5I) or (NSF and ATP5F1 and ATP5H and ATP5J and ATP5I and ATP5L and ATP5G2 and ATP5J2) or (NSF and ATP5H and ATP5J and ATP5G1 and ATP5I and ATP5F1 and ATP5L and ATP5J2) or (NSF and ATP5H and ATP5I and ATP5F1 and ATP5L and ATP5G2 and ATP5J2 and ATP5J) or (ATP5G2 and NSF and ATP5F1 and ATP5H and ATP5I and ATP5L and ATP5J2 and ATP5J) or (ATP5G3 and ATP5L and NSF and ATP5H and ATP5J2 and ATP5J and ATP5I and ATP5F1) or (ATP5L and NSF and ATP5G1 and ATP5F1 and ATP5J and ATP5J2 and ATP5H and ATP5I) or (ATP5L and NSF and ATP5G1 and ATP5H and ATP5J2 and ATP5F1 and ATP5J and ATP5I) or (ATP5L and NSF and ATP5H and ATP5F1 and ATP5J and ATP5J2 and ATP5G3 and ATP5I) or (NSF and ATP5F1 and ATP5H and ATP5I and ATP5L and ATP5G2 and ATP5J and ATP5J2) or (ATP5L and NSF and ATP5H and ATP5J2 and ATP5G2 and ATP5J and ATP5I and ATP5F1) or (NSF and ATP5J2 and ATP5F1 and ATP5H and ATP5I and ATP5G3 and ATP5L and ATP5J) or (NSF and ATP5J2 and ATP5H and ATP5I and ATP5G3 and ATP5F1 and ATP5L and ATP5J) or (NSF and ATP5J2 and ATP5J and ATP5H and ATP5I and ATP5F1 and ATP5L and ATP5G3) or (ATP5L and NSF and ATP5H and ATP5F1 and ATP5J and ATP5J2 and ATP5G2 and ATP5I) or (ATP5G3 and NSF and ATP5H and ATP5I and ATP5F1 and ATP5L and ATP5J2 and ATP5J) or (ATP5L and ATP5G2 and NSF and ATP5H and ATP5J2 and ATP5F1 and ATP5J and ATP5I) or (NSF and ATP5F1 and ATP5H and ATP5I and ATP5G3 and ATP5L and ATP5J2 and ATP5J) or (ATP5L and NSF and ATP5H and ATP5J2 and ATP5G2 and ATP5F1 and ATP5J and ATP5I) or (ATP5G3 and ATP5L and NSF and ATP5H and ATP5F1 and ATP5J and ATP5J2 and ATP5I) or (ATP5G3 and ATP5L and NSF and ATP5H and ATP5J and ATP5J2 and ATP5I and ATP5F1) or (ATP5L and NSF and ATP5H and ATP5F1 and ATP5J2 and ATP5J and ATP5G1 and ATP5I) or (NSF and ATP5F1 and ATP5H and ATP5J and ATP5G1 and ATP5I and ATP5L and ATP5J2) or (ATP5G2 and NSF and ATP5H and ATP5I and ATP5F1 and ATP5L and ATP5J2 and ATP5J) or (ATP5G2 and NSF and ATP5J2 and ATP5F1 and ATP5H and ATP5I and ATP5L and ATP5J) or (ATP5L and NSF and ATP5H and ATP5F1 and ATP5J2 and ATP5G1 and ATP5J and ATP5I) or (ATP5L and NSF and ATP5G1 and ATP5J2 and ATP5F1 and ATP5J and ATP5H and ATP5I) or (ATP5G3 and ATP5L and NSF and ATP5H and ATP5J and ATP5J2 and ATP5F1 and ATP5I) or (NSF and ATP5F1 and ATP5H and ATP5I and ATP5L and ATP5G2 and ATP5J2 and ATP5J) or (ATP5G3 and ATP5L and NSF and ATP5H and ATP5F1 and ATP5J and ATP5J2 and ATP5I) or (ATP5L and NSF and ATP5H and ATP5J2 and ATP5J and ATP5I and ATP5G3 and ATP5F1) or (NSF and ATP5F1 and ATP5J and ATP5H and ATP5G1 and ATP5I and ATP5L and ATP5J2) or (ATP5L and NSF and ATP5G1 and ATP5H and ATP5J2 and ATP5J and ATP5I and ATP5F1) or (ATP5L and NSF and ATP5H and ATP5J2 and ATP5F1 and ATP5J and ATP5G1 and ATP5I) or (NSF and ATP5J2 and ATP5F1 and ATP5H and ATP5G1 and ATP5I and ATP5L and ATP5J) or (ATP5L and ATP5G2 and NSF and ATP5H and ATP5F1 and ATP5J2 and ATP5J and ATP5I)) and (ATP5O and ATP5L2 and ATP5S)'"
   ]
  },
  {
   "cell_type": "code",
   "execution_count": 58,
   "metadata": {},
   "outputs": [],
   "source": [
    "\n",
    "def frozenproduct(first, second):\n",
    "   for e1 in first:\n",
    "      for e2 in second:\n",
    "         yield e1.union(e2)\n",
    "\n",
    "class BoolBlock:\n",
    "   ops = ['and', 'or']\n",
    "\n",
    "   def __init__(self):\n",
    "      self.op = None \n",
    "      self.possible = set()\n",
    "\n",
    "   def settype(self, token):\n",
    "      assert token in BoolBlock.ops\n",
    "      if self.op is None:\n",
    "         self.op = token\n",
    "      else:\n",
    "         assert self.op == token\n",
    "   \n",
    "   def add(self, new):\n",
    "      if self.op == 'and':\n",
    "         self.possible = set(frozenproduct(self.possible, new))\n",
    "      else:\n",
    "         self.possible.update(new)\n",
    "\n",
    "\n",
    "def tokenize(string):\n",
    "   buffer = ''\n",
    "   for c in string:\n",
    "      if c in ' ()':\n",
    "         if buffer.strip():\n",
    "            yield buffer.strip()\n",
    "         if c.strip():\n",
    "            yield c \n",
    "         buffer = ''\n",
    "      else:\n",
    "         buffer += c\n",
    "\n",
    "   if buffer.strip():\n",
    "      yield buffer.strip()\n",
    "\n",
    "def recurse(token_stream):\n",
    "   current = BoolBlock()\n",
    "   for token in token_stream:\n",
    "      if token == '(':\n",
    "         current.add(recurse(token_stream).possible)\n",
    "      elif token == ')':\n",
    "         return current\n",
    "      elif token in BoolBlock.ops:\n",
    "         current.settype(token)\n",
    "      else:\n",
    "         gene = {frozenset({token,}), }\n",
    "         current.add(gene)\n",
    "   return current\n",
    "\n",
    "def solve(string):\n",
    "   return recurse(tokenize(string)).possible"
   ]
  },
  {
   "cell_type": "code",
   "execution_count": 53,
   "metadata": {},
   "outputs": [],
   "source": [
    "res = solve('((a and b) or (b and a)) and ((c and d) or (d and c))')"
   ]
  },
  {
   "cell_type": "code",
   "execution_count": 59,
   "metadata": {},
   "outputs": [
    {
     "data": {
      "text/plain": [
       "{frozenset({'ATP5A1',\n",
       "            'ATP5B',\n",
       "            'ATP5C1',\n",
       "            'ATP5D',\n",
       "            'ATP5E',\n",
       "            'ATP5F1',\n",
       "            'ATP5G2',\n",
       "            'ATP5H',\n",
       "            'ATP5I',\n",
       "            'ATP5J',\n",
       "            'ATP5J2',\n",
       "            'ATP5L',\n",
       "            'ATP5L2',\n",
       "            'ATP5O',\n",
       "            'ATP5S',\n",
       "            'NSF'}),\n",
       " frozenset({'ATP5A1',\n",
       "            'ATP5B',\n",
       "            'ATP5C1',\n",
       "            'ATP5D',\n",
       "            'ATP5E',\n",
       "            'ATP5F1',\n",
       "            'ATP5G1',\n",
       "            'ATP5H',\n",
       "            'ATP5I',\n",
       "            'ATP5J',\n",
       "            'ATP5J2',\n",
       "            'ATP5L',\n",
       "            'ATP5L2',\n",
       "            'ATP5O',\n",
       "            'ATP5S',\n",
       "            'NSF'}),\n",
       " frozenset({'ATP5A1',\n",
       "            'ATP5B',\n",
       "            'ATP5C1',\n",
       "            'ATP5D',\n",
       "            'ATP5E',\n",
       "            'ATP5F1',\n",
       "            'ATP5G3',\n",
       "            'ATP5H',\n",
       "            'ATP5I',\n",
       "            'ATP5J',\n",
       "            'ATP5J2',\n",
       "            'ATP5L',\n",
       "            'ATP5L2',\n",
       "            'ATP5O',\n",
       "            'ATP5S',\n",
       "            'NSF'})}"
      ]
     },
     "execution_count": 59,
     "metadata": {},
     "output_type": "execute_result"
    }
   ],
   "source": [
    "res = solve(s)\n",
    "res"
   ]
  },
  {
   "cell_type": "code",
   "execution_count": 48,
   "metadata": {},
   "outputs": [
    {
     "data": {
      "text/plain": [
       "{frozenset({'x'}), frozenset({'z'})}"
      ]
     },
     "execution_count": 48,
     "metadata": {},
     "output_type": "execute_result"
    }
   ],
   "source": [
    "a = set()\n",
    "a.add(frozenset('z'))\n",
    "a.add(frozenset('x'))\n",
    "a"
   ]
  },
  {
   "cell_type": "code",
   "execution_count": 47,
   "metadata": {},
   "outputs": [
    {
     "data": {
      "text/plain": [
       "{frozenset({'a'}), frozenset({'b'})}"
      ]
     },
     "execution_count": 47,
     "metadata": {},
     "output_type": "execute_result"
    }
   ],
   "source": [
    "b = set()\n",
    "b.add(frozenset('a'))\n",
    "b.add(frozenset('b'))\n",
    "b"
   ]
  },
  {
   "cell_type": "code",
   "execution_count": 51,
   "metadata": {},
   "outputs": [
    {
     "name": "stdout",
     "output_type": "stream",
     "text": [
      "frozenset({'a', 'x'})\n",
      "frozenset({'x', 'b'})\n",
      "frozenset({'a', 'z'})\n",
      "frozenset({'z', 'b'})\n"
     ]
    }
   ],
   "source": [
    "for e1 in a:\n",
    "    for e2 in b:\n",
    "        print(e1.union(e2))"
   ]
  },
  {
   "cell_type": "code",
   "execution_count": 46,
   "metadata": {},
   "outputs": [
    {
     "data": {
      "text/plain": [
       "frozenset({'a', 'b', 'c'})"
      ]
     },
     "execution_count": 46,
     "metadata": {},
     "output_type": "execute_result"
    }
   ],
   "source": [
    "a = frozenset('abc')\n",
    "a"
   ]
  },
  {
   "cell_type": "code",
   "execution_count": 16,
   "metadata": {},
   "outputs": [
    {
     "name": "stdout",
     "output_type": "stream",
     "text": [
      "   (d and a and b and c and e) or \n",
      "   (a and d and e and b and c) or \n",
      "   (d and c and a and e and b) or \n",
      "   (a and d and b and c and e) or \n",
      "   (d and a and e and b and c) or \n",
      "   (d and a and b and c and e) or \n",
      "   (d and a and e and b and c) or \n",
      "   (d and a and c and b and e) or \n",
      "   (a and c and d and b and e) or \n",
      "   (d and a and b and c and e) or \n",
      "   (d and e and b and c and a) or \n",
      "   (d and b and c and a and e) or \n",
      "   (d and c and b and a and e) or \n",
      "   (c and d and e and b and a) or \n",
      "   (d and a and c and e and b) or \n",
      "   (d and a and e and b and c) or \n",
      "   (d and c and a and b and e) or \n",
      "   (d and b and c and a and e) or \n",
      "   (c and d and b and a and e) or \n",
      "   (d and e and b and c and a) or \n",
      "   (c and d and a and b and e) or \n",
      "   (d and c and e and b and a) or \n",
      "   (a and c and d and e and b) or \n",
      "   (c and d and a and e and b)\n"
     ]
    }
   ],
   "source": [
    "rs = {\n",
    "    'ATP5A1': 'a',\n",
    "    'ATP5B': 'b',\n",
    "    'ATP5C1': 'c',\n",
    "    'ATP5D': 'd',\n",
    "    'ATP5E': 'e'\n",
    "}\n",
    "\n",
    "new = first\n",
    "for long, short in rs.items():\n",
    "    new = new.replace(long, short)\n",
    "print(new)"
   ]
  }
 ],
 "metadata": {
  "kernelspec": {
   "display_name": "Python 3",
   "language": "python",
   "name": "python3"
  },
  "language_info": {
   "codemirror_mode": {
    "name": "ipython",
    "version": 3
   },
   "file_extension": ".py",
   "mimetype": "text/x-python",
   "name": "python",
   "nbconvert_exporter": "python",
   "pygments_lexer": "ipython3",
   "version": "3.7.3"
  }
 },
 "nbformat": 4,
 "nbformat_minor": 2
}
