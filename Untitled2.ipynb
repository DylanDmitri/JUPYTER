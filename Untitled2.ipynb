{
 "cells": [
  {
   "cell_type": "code",
   "execution_count": 13,
   "metadata": {},
   "outputs": [
    {
     "name": "stdout",
     "output_type": "stream",
     "text": [
      "21 21\n",
      "19 19\n",
      "17 17\n",
      "16 16\n"
     ]
    }
   ],
   "source": [
    "frame = 9\n",
    "stronger_basic_atk = 1\n",
    "\n",
    "rifle = 8      # 24 damage\n",
    "pistol = 3     #  9 damage\n",
    "pistol_scope = 1\n",
    "\n",
    "talons = 2\n",
    "lance = 3\n",
    "\n",
    "hp_ten = 3\n",
    "hp_seven = 2\n",
    "\n",
    "move_one = 1\n",
    "\n",
    "flight_mastery = 2\n",
    "heavy_armor = 2\n",
    "\n",
    "# ----------\n",
    "\n",
    "burner = frame + rifle + hp_ten + stronger_basic_atk\n",
    "print(21, burner)\n",
    "\n",
    "clasher = frame + talons + lance + hp_ten + heavy_armor\n",
    "print(19, clasher)\n",
    "\n",
    "fighter = frame + talons + pistol + move_one + hp_seven\n",
    "print(17, fighter)\n",
    "\n",
    "glider = frame + pistol + pistol_scope + move_one + flight_mastery\n",
    "print(16, glider)\n"
   ]
  },
  {
   "cell_type": "code",
   "execution_count": null,
   "metadata": {},
   "outputs": [],
   "source": [
    "frame = 7\n",
    "\n"
   ]
  }
 ],
 "metadata": {
  "kernelspec": {
   "display_name": "Python 3",
   "language": "python",
   "name": "python3"
  },
  "language_info": {
   "codemirror_mode": {
    "name": "ipython",
    "version": 3
   },
   "file_extension": ".py",
   "mimetype": "text/x-python",
   "name": "python",
   "nbconvert_exporter": "python",
   "pygments_lexer": "ipython3",
   "version": "3.7.3"
  }
 },
 "nbformat": 4,
 "nbformat_minor": 2
}
