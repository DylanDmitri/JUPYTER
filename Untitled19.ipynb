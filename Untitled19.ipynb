{
 "cells": [
  {
   "cell_type": "code",
   "execution_count": null,
   "metadata": {},
   "outputs": [],
   "source": [
    "import requests                                     # Listing 1\n",
    "from urllib import urlencode\n",
    "\n",
    "def find_definition(word):\n",
    "    q = 'define ' + word\n",
    "    url = 'http://api.duckduckgo.com/?'\n",
    "    url += urlencode({'q': q, 'format': 'json'})\n",
    "    response = requests.get(url)                    # I/O\n",
    "    data = response.json()                          # I/O\n",
    "    definition = data[u'Definition']\n",
    "    if definition == 'u'':\n",
    "        raise ValueError('that is not a word')\n",
    "    return definition"
   ]
  },
  {
   "cell_type": "code",
   "execution_count": 20,
   "metadata": {},
   "outputs": [
    {
     "ename": "ImportError",
     "evalue": "cannot import name 'urlencode' from 'urllib' (C:\\Users\\ddyla\\Anaconda3\\lib\\urllib\\__init__.py)",
     "output_type": "error",
     "traceback": [
      "\u001b[1;31m---------------------------------------------------------------------------\u001b[0m",
      "\u001b[1;31mImportError\u001b[0m                               Traceback (most recent call last)",
      "\u001b[1;32m<ipython-input-20-eabad5aad074>\u001b[0m in \u001b[0;36m<module>\u001b[1;34m\u001b[0m\n\u001b[0;32m      1\u001b[0m \u001b[1;32mimport\u001b[0m \u001b[0mrequests\u001b[0m                      \u001b[1;31m# Listing 1\u001b[0m\u001b[1;33m\u001b[0m\u001b[1;33m\u001b[0m\u001b[0m\n\u001b[1;32m----> 2\u001b[1;33m \u001b[1;32mfrom\u001b[0m \u001b[0murllib\u001b[0m \u001b[1;32mimport\u001b[0m \u001b[0murlencode\u001b[0m\u001b[1;33m\u001b[0m\u001b[1;33m\u001b[0m\u001b[0m\n\u001b[0m\u001b[0;32m      3\u001b[0m \u001b[1;33m\u001b[0m\u001b[0m\n\u001b[0;32m      4\u001b[0m \u001b[1;32mdef\u001b[0m \u001b[0mfind_definition\u001b[0m\u001b[1;33m(\u001b[0m\u001b[0mword\u001b[0m\u001b[1;33m)\u001b[0m\u001b[1;33m:\u001b[0m\u001b[1;33m\u001b[0m\u001b[1;33m\u001b[0m\u001b[0m\n\u001b[0;32m      5\u001b[0m     \u001b[0mq\u001b[0m \u001b[1;33m=\u001b[0m \u001b[1;34m'define '\u001b[0m \u001b[1;33m+\u001b[0m \u001b[0mword\u001b[0m\u001b[1;33m\u001b[0m\u001b[1;33m\u001b[0m\u001b[0m\n",
      "\u001b[1;31mImportError\u001b[0m: cannot import name 'urlencode' from 'urllib' (C:\\Users\\ddyla\\Anaconda3\\lib\\urllib\\__init__.py)"
     ]
    }
   ],
   "source": [
    "import requests                                     # Listing 3\n",
    "from urllib import urlencode\n",
    "\n",
    "def find_definition(word):\n",
    "    url = build_url(word)\n",
    "    data = requests.get(url).json                   # I/O\n",
    "    return pluck_definition(data)\n",
    "\n",
    "def build_url(word):\n",
    "    q = 'define ' + word\n",
    "    url = 'http://api.duckduckgo.com/?'\n",
    "    url += urlencode({'q': q, 'format': 'json'})\n",
    "    return url\n",
    "\n",
    "def pluck_definition(data):\n",
    "    definition = data[u'Definition']\n",
    "    if definition = u'':\n",
    "        raise ValueError('that is not a word')\n",
    "    return definition"
   ]
  },
  {
   "cell_type": "markdown",
   "metadata": {},
   "source": []
  },
  {
   "cell_type": "code",
   "execution_count": 34,
   "metadata": {},
   "outputs": [
    {
     "data": {
      "text/plain": [
       "'No definition found.'"
      ]
     },
     "execution_count": 34,
     "metadata": {},
     "output_type": "execute_result"
    }
   ],
   "source": [
    "import requests\n",
    "\n",
    "def lookup_definition(word):\n",
    "    response = requests.get(\n",
    "        'http://api.duckduckgo.com', \n",
    "        {'q': 'define '+word, 'format': 'json'})\n",
    "    \n",
    "    result = response.json().get('definition')\n",
    "    return result or 'No definition found.'\n",
    "    \n",
    "lookup_definition('feline')"
   ]
  },
  {
   "cell_type": "markdown",
   "metadata": {},
   "source": [
    "## Ideal Melody\n",
    "\n",
    "```\n",
    "\"lookup definition {word}\"\n",
    "    GET 'http://api.duckduckgo.com' q=word format='json'\n",
    "    .definition or 'nothing found'\n",
    "```"
   ]
  },
  {
   "cell_type": "code",
   "execution_count": 3,
   "metadata": {},
   "outputs": [
    {
     "data": {
      "text/plain": [
       "{'ImageIsLogo': 0,\n",
       " 'AbstractSource': 'Wikipedia',\n",
       " 'ImageWidth': 0,\n",
       " 'Entity': '',\n",
       " 'Type': 'D',\n",
       " 'DefinitionSource': '',\n",
       " 'Heading': 'Effigy',\n",
       " 'Abstract': '',\n",
       " 'ImageHeight': 0,\n",
       " 'Infobox': '',\n",
       " 'AbstractText': '',\n",
       " 'Image': '',\n",
       " 'Answer': '',\n",
       " 'Results': [],\n",
       " 'AnswerType': '',\n",
       " 'meta': {'src_id': 1,\n",
       "  'id': 'wikipedia_fathead',\n",
       "  'name': 'Wikipedia',\n",
       "  'repo': 'fathead',\n",
       "  'topic': ['productivity'],\n",
       "  'attribution': None,\n",
       "  'created_date': None,\n",
       "  'description': 'Wikipedia',\n",
       "  'designer': None,\n",
       "  'unsafe': 0,\n",
       "  'src_domain': 'en.wikipedia.org',\n",
       "  'perl_module': 'DDG::Fathead::Wikipedia',\n",
       "  'producer': None,\n",
       "  'developer': [{'type': 'ddg',\n",
       "    'url': 'http://www.duckduckhack.com',\n",
       "    'name': 'DDG Team'}],\n",
       "  'example_query': 'nikola tesla',\n",
       "  'is_stackexchange': None,\n",
       "  'live_date': None,\n",
       "  'signal_from': 'wikipedia_fathead',\n",
       "  'js_callback_name': 'wikipedia',\n",
       "  'src_name': 'Wikipedia',\n",
       "  'src_url': None,\n",
       "  'dev_date': None,\n",
       "  'blockgroup': None,\n",
       "  'tab': 'About',\n",
       "  'maintainer': {'github': 'duckduckgo'},\n",
       "  'dev_milestone': 'live',\n",
       "  'status': 'live',\n",
       "  'src_options': {'is_wikipedia': 1,\n",
       "   'skip_abstract': 0,\n",
       "   'directory': '',\n",
       "   'min_abstract_length': '20',\n",
       "   'is_fanon': 0,\n",
       "   'is_mediawiki': 1,\n",
       "   'skip_icon': 0,\n",
       "   'skip_abstract_paren': 0,\n",
       "   'source_skip': '',\n",
       "   'skip_image_name': 0,\n",
       "   'src_info': '',\n",
       "   'language': 'en',\n",
       "   'skip_qr': '',\n",
       "   'skip_end': '0'},\n",
       "  'production_state': 'online'},\n",
       " 'RelatedTopics': [{'Icon': {'Width': '',\n",
       "    'Height': '',\n",
       "    'URL': 'https://duckduckgo.com/i/cc8d1b2a.jpg'},\n",
       "   'FirstURL': 'https://duckduckgo.com/Effigy',\n",
       "   'Result': '<a href=\"https://duckduckgo.com/Effigy\">Effigy</a>A representation of a specific person in the form of sculpture or some other three-dimensional...',\n",
       "   'Text': 'Effigy A representation of a specific person in the form of sculpture or some other three-dimensional...'},\n",
       "  {'Icon': {'URL': 'https://duckduckgo.com/i/www.effigies.com.ico',\n",
       "    'Height': 16,\n",
       "    'Width': 16},\n",
       "   'FirstURL': 'https://duckduckgo.com/The_Effigies',\n",
       "   'Result': '<a href=\"https://duckduckgo.com/The_Effigies\">The Effigies</a>An American punk band from Chicago, Illinois, United States.',\n",
       "   'Text': 'The Effigies An American punk band from Chicago, Illinois, United States.'},\n",
       "  {'Icon': {'URL': '', 'Height': '', 'Width': ''},\n",
       "   'FirstURL': 'https://duckduckgo.com/Effigy_(DC_Comics)',\n",
       "   'Result': '<a href=\"https://duckduckgo.com/Effigy_(DC_Comics)\">Effigy (DC Comics)</a>A DC Comics supervillain who fought against Green Lantern Kyle Rayner using the flame powers...',\n",
       "   'Text': 'Effigy (DC Comics) A DC Comics supervillain who fought against Green Lantern Kyle Rayner using the flame powers...'},\n",
       "  {'Result': '<a href=\"https://duckduckgo.com/Effigy_(Dungeons_%26_Dragons)\">Effigy (Dungeons & Dragons)</a> An undead creature in Dungeons & Dragons.',\n",
       "   'Text': 'Effigy (Dungeons & Dragons) An undead creature in Dungeons & Dragons.',\n",
       "   'Icon': {'Width': '', 'Height': '', 'URL': ''},\n",
       "   'FirstURL': 'https://duckduckgo.com/Effigy_(Dungeons_%26_Dragons)'},\n",
       "  {'Text': 'Effigy (Marvel Comics) A fictional character in the Marvel Comics universe.',\n",
       "   'Result': '<a href=\"https://duckduckgo.com/Effigy_(Marvel_Comics)\">Effigy (Marvel Comics)</a> A fictional character in the Marvel Comics universe.',\n",
       "   'FirstURL': 'https://duckduckgo.com/Effigy_(Marvel_Comics)',\n",
       "   'Icon': {'Height': '', 'URL': '', 'Width': ''}},\n",
       "  {'Result': '<a href=\"https://duckduckgo.com/Effigy_(album)\">Effigy (album)</a>A 2003 album by Nomy Lamm.',\n",
       "   'Text': 'Effigy (album) A 2003 album by Nomy Lamm.',\n",
       "   'Icon': {'Width': '',\n",
       "    'URL': 'https://duckduckgo.com/i/3cd5d817.jpg',\n",
       "    'Height': ''},\n",
       "   'FirstURL': 'https://duckduckgo.com/Effigy_(album)'},\n",
       "  {'Text': 'Tomb effigy A sculpted figure on a tomb monument depicting in effigy the deceased.',\n",
       "   'Result': '<a href=\"https://duckduckgo.com/Tomb_effigy\">Tomb effigy</a>A sculpted figure on a tomb monument depicting in effigy the deceased.',\n",
       "   'FirstURL': 'https://duckduckgo.com/Tomb_effigy',\n",
       "   'Icon': {'URL': '', 'Height': '', 'Width': ''}}],\n",
       " 'Definition': '',\n",
       " 'Redirect': '',\n",
       " 'DefinitionURL': '',\n",
       " 'AbstractURL': 'https://en.wikipedia.org/wiki/Effigy_(disambiguation)'}"
      ]
     },
     "execution_count": 3,
     "metadata": {},
     "output_type": "execute_result"
    }
   ],
   "source": [
    "url = 'http://api.duckduckgo.com'\n",
    "word = 'effigy'\n",
    "requests.get(url, params={'q': word, 'format': 'json'}).json()"
   ]
  }
 ],
 "metadata": {
  "kernelspec": {
   "display_name": "Python 3",
   "language": "python",
   "name": "python3"
  },
  "language_info": {
   "codemirror_mode": {
    "name": "ipython",
    "version": 3
   },
   "file_extension": ".py",
   "mimetype": "text/x-python",
   "name": "python",
   "nbconvert_exporter": "python",
   "pygments_lexer": "ipython3",
   "version": "3.7.3"
  }
 },
 "nbformat": 4,
 "nbformat_minor": 2
}
