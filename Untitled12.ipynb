{
 "cells": [
  {
   "cell_type": "code",
   "execution_count": null,
   "metadata": {},
   "outputs": [],
   "source": [
    "class Card:\n",
    "    strike = 0\n",
    "    defend = 1\n",
    "    bash = 2\n",
    "    asc_bane = 3\n",
    "    second_wind = 4\n",
    "    deep_breath = 5\n",
    "    searing_blow = 6\n",
    "\n",
    "\n",
    "    \n",
    "class Game:\n",
    "    def __init__(self):\n",
    "        self.player_hp = 56\n",
    "        self.player_energy = 0\n",
    "        self.player_block = 0\n",
    "        \n",
    "        self.deck = tuple(sorted(\n",
    "            [Card.strike]*5 + [Card.defend]*4 +\n",
    "            ['bash', 'asc bane', 'second wind', ]\n",
    "        ))\n",
    "        \n",
    "        \n",
    "        self.hp_guardian = 250\n",
    "        \n",
    "        self.energy = 3\n",
    "        self.block = 0\n",
    "        self.deck = tuple(sorted(['strike']*5 + ['block']*5))\n",
    "        self.hand = tuple()\n",
    "        self.discard = tuple()\n",
    "        \n",
    "    def __hash__(self):\n",
    "        assert self.deck == tuple(sorted(self.deck))\n",
    "        assert self.hand == tuple(sorted(self.hand))\n",
    "        if self.discard != tuple(sorted(self.discard)):\n",
    "            print(self.discard)\n",
    "            print(tuple(sorted(self.discard)))\n",
    "            assert self.discard == tuple(sorted(self.discard)) \n",
    "        \n",
    "        return hash((\n",
    "            self.turn, self.cultisthp, self.hplost, self.energy, self.block,\n",
    "            self.deck, self.hand, self.discard\n",
    "        ))\n",
    "    \n",
    "    def __str__(self):\n",
    "        return str(self.__dict__)"
   ]
  },
  {
   "cell_type": "code",
   "execution_count": 1,
   "metadata": {},
   "outputs": [],
   "source": [
    "from random import choice\n",
    "\n",
    "d = [\n",
    "    'block1',\n",
    "    'block1',\n",
    "    'block2 discard1',\n",
    "    'block2 discard1',\n",
    "]\n",
    "\n",
    "f = [\n",
    "    'smash1',\n",
    "]"
   ]
  },
  {
   "cell_type": "code",
   "execution_count": 2,
   "metadata": {},
   "outputs": [
    {
     "name": "stdout",
     "output_type": "stream",
     "text": [
      "uyptfijqifvjcqmstuuo\n"
     ]
    }
   ],
   "source": [
    "from string import ascii_lowercase, ascii_uppercase\n",
    "\n",
    "print(''.join(choice(ascii_lowercase) for _ in range(20)))"
   ]
  }
 ],
 "metadata": {
  "kernelspec": {
   "display_name": "Python 3",
   "language": "python",
   "name": "python3"
  },
  "language_info": {
   "codemirror_mode": {
    "name": "ipython",
    "version": 3
   },
   "file_extension": ".py",
   "mimetype": "text/x-python",
   "name": "python",
   "nbconvert_exporter": "python",
   "pygments_lexer": "ipython3",
   "version": "3.7.3"
  }
 },
 "nbformat": 4,
 "nbformat_minor": 2
}
