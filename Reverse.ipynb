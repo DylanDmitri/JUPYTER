{
 "cells": [
  {
   "cell_type": "code",
   "execution_count": null,
   "metadata": {},
   "outputs": [],
   "source": []
  },
  {
   "cell_type": "code",
   "execution_count": 25,
   "metadata": {},
   "outputs": [
    {
     "name": "stdout",
     "output_type": "stream",
     "text": [
      "(1438, 64) (1438, 10)\n",
      "(359, 64) (359, 10)\n"
     ]
    }
   ],
   "source": [
    "import numpy as np\n",
    "import sklearn.datasets\n",
    "\n",
    "image_size = 8\n",
    "no_of_different_labels = 10\n",
    "image_pixels = image_size * image_size\n",
    "\n",
    "\n",
    "data = sklearn.datasets.load_digits()\n",
    "\n",
    "X = data['data']\n",
    "Y = data['target']\n",
    "one_hot = np.zeros((max(Y.shape), 10))\n",
    "for i, label in enumerate(Y):\n",
    "    one_hot[i][label] = 1\n",
    "    \n",
    "\n",
    "\n",
    "\n",
    "def unison_shuffled_copies(a, b):\n",
    "    assert len(a) == len(b)\n",
    "    p = np.random.permutation(len(a))\n",
    "    return a[p], b[p]\n",
    "\n",
    "X, Y = unison_shuffled_copies(X, one_hot)\n",
    "\n",
    "def partition(X, Y, fraction):\n",
    "    n = int(len(Y)*(1-fraction))\n",
    "    return X[n:], Y[n:], X[:n], Y[:n]\n",
    "\n",
    "x_train, y_train, x_test, y_test = partition(X, Y, 0.8)\n",
    "print(x_train.shape, y_train.shape)\n",
    "print(x_test.shape, y_test.shape)"
   ]
  },
  {
   "cell_type": "code",
   "execution_count": 21,
   "metadata": {},
   "outputs": [
    {
     "data": {
      "text/plain": [
       "<matplotlib.axes._subplots.AxesSubplot at 0x1c894c21518>"
      ]
     },
     "execution_count": 21,
     "metadata": {},
     "output_type": "execute_result"
    },
    {
     "data": {
      "image/png": "[encoded data removed]",
      "text/plain": [
       "<Figure size 432x288 with 1 Axes>"
      ]
     },
     "metadata": {
      "needs_background": "light"
     },
     "output_type": "display_data"
    }
   ],
   "source": [
    "n = NeuralNetwork(64, 10, 32, .0001)\n",
    "n.who.reshape(320)\n",
    "\n",
    "sns.distplot(n.who.reshape(320))"
   ]
  },
  {
   "cell_type": "code",
   "execution_count": 35,
   "metadata": {},
   "outputs": [],
   "source": [
    "import numpy as np\n",
    "\n",
    "@np.vectorize\n",
    "def sigmoid(x):\n",
    "    return 1 / (1 + np.e ** -x)\n",
    "\n",
    "activation_function = sigmoid\n",
    "\n",
    "from scipy.stats import truncnorm\n",
    "\n",
    "def truncated_normal(mean=0, sd=1, low=0, upp=10):\n",
    "    return truncnorm((low - mean) / sd,\n",
    "                     (upp - mean) / sd,\n",
    "                     loc=mean,\n",
    "                     scale=sd)\n",
    "\n",
    "class NeuralNetwork:\n",
    " \n",
    "    def __init__(self, \n",
    "                 no_of_in_nodes, \n",
    "                 no_of_out_nodes, \n",
    "                 no_of_hidden_nodes,\n",
    "                 learning_rate,\n",
    "                 bias=None\n",
    "                ):  \n",
    "\n",
    "        self.no_of_in_nodes = no_of_in_nodes\n",
    "        self.no_of_out_nodes = no_of_out_nodes\n",
    "        \n",
    "        self.no_of_hidden_nodes = no_of_hidden_nodes\n",
    "            \n",
    "        self.learning_rate = learning_rate \n",
    "        self.bias = bias\n",
    "        self.create_weight_matrices()\n",
    "    \n",
    "        \n",
    "    \n",
    "    def create_weight_matrices(self):\n",
    "        \"\"\" \n",
    "        A method to initialize the weight matrices \n",
    "        of the neural network with optional \n",
    "        bias nodes\"\"\"\n",
    "        \n",
    "        bias_node = 1 if self.bias else 0\n",
    "        \n",
    "        rad = 1 / np.sqrt(self.no_of_in_nodes + bias_node)\n",
    "        X = truncated_normal(mean=0, sd=1, low=-rad, upp=rad)\n",
    "        self.wih = X.rvs((self.no_of_hidden_nodes, \n",
    "                          self.no_of_in_nodes + bias_node))\n",
    "\n",
    "        rad = 1 / np.sqrt(self.no_of_hidden_nodes + bias_node)\n",
    "        X = truncated_normal(mean=0, \n",
    "                             sd=1, \n",
    "                             low=-rad, \n",
    "                             upp=rad)\n",
    "        self.who = X.rvs((self.no_of_out_nodes, \n",
    "                          self.no_of_hidden_nodes + bias_node))\n",
    "        \n",
    " \n",
    "    def train_single(self, input_vector, target_vector):\n",
    "        \"\"\"\n",
    "        input_vector and target_vector can be tuple, \n",
    "        list or ndarray\n",
    "        \"\"\"\n",
    "\n",
    "        bias_node = 1 if self.bias else 0\n",
    "        if self.bias:\n",
    "            # adding bias node to the end of the inpuy_vector\n",
    "            input_vector = np.concatenate((input_vector, [self.bias]))\n",
    "        \n",
    "        output_vectors = []\n",
    "        input_vector = np.array(input_vector, ndmin=2).T\n",
    "        target_vector = np.array(target_vector, ndmin=2).T\n",
    "        \n",
    "        output_vector1 = np.dot(self.wih, input_vector)\n",
    "        output_hidden = activation_function(output_vector1)\n",
    "        \n",
    "        if self.bias:\n",
    "            output_hidden = np.concatenate((output_hidden, \n",
    "                                            [[self.bias]]) )\n",
    "        \n",
    "        output_vector2 = np.dot(self.who, output_hidden)\n",
    "        output_network = activation_function(output_vector2)\n",
    "        \n",
    "        output_errors = target_vector - output_network\n",
    "                \n",
    "        # update the weights:\n",
    "        tmp = output_errors * output_network * (1.0 - output_network)          \n",
    "        tmp = self.learning_rate * np.dot(tmp, output_hidden.T) \n",
    "        self.who += tmp\n",
    "\n",
    "        \n",
    "        # calculate hidden errors:\n",
    "        hidden_errors = np.dot(self.who.T, output_errors)\n",
    "        # update the weights:\n",
    "        tmp = hidden_errors * output_hidden * (1.0 - output_hidden)\n",
    "#         print(hidden_errors.shape)\n",
    "#         print((output_hidden * (1.0 - output_hidden)).shape)\n",
    "#         print(input_vector.shape) # (64,1)\n",
    "#         print(tmp.shape) # (7,1)\n",
    "        if self.bias:\n",
    "            x = np.dot(tmp, input_vector.T)[:-1,:] \n",
    "        else:\n",
    "            x = np.dot(tmp, input_vector.T)\n",
    "        self.wih += self.learning_rate * x\n",
    "        \n",
    "\n",
    "    def train(self, data_array, \n",
    "              labels_one_hot_array,\n",
    "              epochs=1,\n",
    "              intermediate_results=False):\n",
    "        \n",
    "        intermediate_weights = []\n",
    "        for epoch in range(epochs):  \n",
    "            for i in range(len(data_array)):\n",
    "                self.train_single(data_array[i], \n",
    "                                  labels_one_hot_array[i])\n",
    "                \n",
    "            if intermediate_results:\n",
    "                intermediate_weights.append((self.wih.copy(), \n",
    "                                             self.who.copy()))\n",
    "        return intermediate_weights      \n",
    "        \n",
    "    \n",
    "    def run(self, input_vector):\n",
    "        # input_vector can be tuple, list or ndarray\n",
    "        \n",
    "        if self.bias:\n",
    "            # adding bias node to the end of the inpuy_vector\n",
    "            input_vector = np.concatenate( (input_vector, \n",
    "                                            [self.bias]) )\n",
    "        input_vector = np.array(input_vector, ndmin=2).T\n",
    "\n",
    "        output_vector = np.dot(self.wih, \n",
    "                               input_vector)\n",
    "        output_vector = activation_function(output_vector)\n",
    "        \n",
    "        if self.bias:\n",
    "            output_vector = np.concatenate( (output_vector, \n",
    "                                             [[self.bias]]) )\n",
    "\n",
    "        output_vector = np.dot(self.who, output_vector)\n",
    "        output_vector = activation_function(output_vector)\n",
    "    \n",
    "        return output_vector\n",
    "    \n",
    "    \n",
    "    def evaluate(self, data, labels):\n",
    "        corrects, wrongs = 0, 0\n",
    "        for i in range(len(data)):\n",
    "            res = self.run(data[i])\n",
    "            res_max = res.argmax()\n",
    "            if labels[i][res_max]:\n",
    "                corrects += 1\n",
    "            else:\n",
    "                wrongs += 1\n",
    "        return corrects, wrongs"
   ]
  },
  {
   "cell_type": "code",
   "execution_count": null,
   "metadata": {},
   "outputs": [],
   "source": []
  },
  {
   "cell_type": "code",
   "execution_count": 39,
   "metadata": {},
   "outputs": [
    {
     "name": "stdout",
     "output_type": "stream",
     "text": [
      "epoch\ttrain\t\t\ttest\n",
      "0\t0.1404728789986092\t0.1309192200557103\n",
      "1\t0.1564673157162726\t0.13649025069637882\n",
      "2\t0.13630041724617525\t0.11420612813370473\n",
      "3\t0.1376912378303199\t0.116991643454039\n",
      "4\t0.1383866481223922\t0.11977715877437325\n",
      "5\t0.1474269819193324\t0.12813370473537605\n",
      "6\t0.1627260083449235\t0.14763231197771587\n",
      "7\t0.1835883171070932\t0.17827298050139276\n",
      "8\t0.20166898470097358\t0.19220055710306408\n",
      "9\t0.21835883171070933\t0.2116991643454039\n",
      "10\t0.2329624478442281\t0.2200557103064067\n",
      "11\t0.24965229485396384\t0.2479108635097493\n",
      "12\t0.26495132127955495\t0.25348189415041783\n",
      "13\t0.28442280945758\t0.2785515320334262\n",
      "14\t0.30598052851182195\t0.28969359331476324\n",
      "15\t0.3282336578581363\t0.31197771587743733\n",
      "16\t0.347009735744089\t0.3342618384401114\n",
      "17\t0.3678720445062587\t0.3342618384401114\n",
      "18\t0.3991655076495132\t0.3565459610027855\n",
      "19\t0.4207232267037552\t0.37604456824512533\n",
      "20\t0.44019471488178025\t0.3816155988857939\n",
      "21\t0.4513212795549374\t0.38997214484679665\n",
      "22\t0.456884561891516\t0.39275766016713093\n",
      "23\t0.4631432545201669\t0.3983286908077994\n",
      "24\t0.4659248956884562\t0.403899721448468\n",
      "25\t0.46801112656467314\t0.40668523676880225\n",
      "26\t0.46870653685674546\t0.415041782729805\n",
      "27\t0.47009735744089015\t0.415041782729805\n",
      "28\t0.47009735744089015\t0.415041782729805\n",
      "29\t0.4721835883171071\t0.4206128133704735\n",
      "30\t0.47357440890125174\t0.4178272980501393\n",
      "31\t0.47913769123783034\t0.4233983286908078\n",
      "32\t0.4819193324061196\t0.42618384401114207\n",
      "33\t0.4847009735744089\t0.42618384401114207\n",
      "34\t0.49235048678720444\t0.4233983286908078\n",
      "35\t0.4951321279554937\t0.42618384401114207\n",
      "36\t0.4993045897079277\t0.43454038997214484\n",
      "37\t0.5006954102920723\t0.4401114206128134\n",
      "38\t0.5034770514603616\t0.44846796657381616\n",
      "39\t0.5222531293463143\t0.4596100278551532\n",
      "40\t0.5458970792767733\t0.467966573816156\n",
      "41\t0.5618915159944368\t0.48467966573816157\n",
      "42\t0.5716272600834492\t0.5069637883008357\n",
      "43\t0.5806675938803895\t0.5153203342618384\n",
      "44\t0.5931849791376912\t0.5376044568245125\n",
      "45\t0.6008344923504868\t0.5459610027855153\n",
      "46\t0.60778859527121\t0.5598885793871866\n",
      "47\t0.6168289290681502\t0.5682451253481894\n",
      "48\t0.6216968011126565\t0.5766016713091922\n",
      "49\t0.6279554937413073\t0.5793871866295265\n",
      "50\t0.6328233657858137\t0.5905292479108635\n",
      "51\t0.6363004172461753\t0.5933147632311978\n",
      "52\t0.6390820584144645\t0.5933147632311978\n",
      "53\t0.6397774687065368\t0.596100278551532\n",
      "54\t0.6432545201668984\t0.5988857938718662\n",
      "55\t0.6460361613351877\t0.6016713091922006\n",
      "56\t0.6467315716272601\t0.6072423398328691\n",
      "57\t0.6460361613351877\t0.6100278551532033\n",
      "58\t0.6467315716272601\t0.6128133704735376\n",
      "59\t0.6481223922114048\t0.6155988857938719\n",
      "60\t0.650904033379694\t0.6155988857938719\n",
      "61\t0.650904033379694\t0.6155988857938719\n",
      "62\t0.6515994436717664\t0.6155988857938719\n",
      "63\t0.6543810848400556\t0.6183844011142061\n",
      "64\t0.6557719054242003\t0.6211699164345403\n",
      "65\t0.6564673157162726\t0.6211699164345403\n",
      "66\t0.6599443671766342\t0.6239554317548747\n",
      "67\t0.6606397774687065\t0.6239554317548747\n",
      "68\t0.6613351877607788\t0.6295264623955432\n",
      "69\t0.6606397774687065\t0.6323119777158774\n",
      "70\t0.6620305980528511\t0.6323119777158774\n",
      "71\t0.6648122392211405\t0.6350974930362117\n",
      "72\t0.6662030598052852\t0.6434540389972145\n",
      "73\t0.6682892906815021\t0.6434540389972145\n",
      "74\t0.6717663421418637\t0.6434540389972145\n",
      "75\t0.672461752433936\t0.6434540389972145\n",
      "76\t0.6773296244784422\t0.6462395543175488\n",
      "77\t0.6766342141863699\t0.6462395543175488\n",
      "78\t0.6773296244784422\t0.649025069637883\n",
      "79\t0.6801112656467315\t0.6545961002785515\n",
      "80\t0.6815020862308763\t0.6545961002785515\n",
      "81\t0.6821974965229486\t0.6573816155988857\n",
      "82\t0.6863699582753825\t0.6629526462395543\n",
      "83\t0.6877607788595271\t0.6657381615598886\n",
      "84\t0.6898470097357441\t0.6685236768802229\n",
      "85\t0.6905424200278164\t0.6685236768802229\n",
      "86\t0.6933240611961057\t0.6685236768802229\n",
      "87\t0.6933240611961057\t0.6713091922005571\n",
      "88\t0.696105702364395\t0.6713091922005571\n",
      "89\t0.6954102920723226\t0.6768802228412256\n",
      "90\t0.696105702364395\t0.6824512534818942\n",
      "91\t0.6988873435326843\t0.6824512534818942\n",
      "92\t0.6988873435326843\t0.6824512534818942\n",
      "93\t0.700278164116829\t0.6852367688022284\n",
      "94\t0.7016689847009736\t0.6908077994428969\n",
      "95\t0.7037552155771906\t0.6908077994428969\n",
      "96\t0.7044506258692629\t0.6908077994428969\n",
      "97\t0.7065368567454798\t0.6908077994428969\n",
      "98\t0.7072322670375522\t0.6935933147632312\n",
      "99\t0.7086230876216968\t0.6963788300835655\n",
      "100\t0.7114047287899861\t0.6963788300835655\n",
      "101\t0.713490959666203\t0.6963788300835655\n",
      "102\t0.7148817802503477\t0.6963788300835655\n",
      "103\t0.7169680111265647\t0.6963788300835655\n",
      "104\t0.7183588317107094\t0.6963788300835655\n",
      "105\t0.7190542420027817\t0.6991643454038997\n",
      "106\t0.719749652294854\t0.6991643454038997\n",
      "107\t0.7239221140472879\t0.7047353760445683\n",
      "108\t0.7253129346314325\t0.7075208913649025\n",
      "109\t0.7260083449235049\t0.7075208913649025\n",
      "110\t0.7273991655076495\t0.7103064066852368\n",
      "111\t0.7287899860917941\t0.7103064066852368\n",
      "112\t0.7308762169680111\t0.713091922005571\n",
      "113\t0.7336578581363005\t0.713091922005571\n",
      "114\t0.7371349095966621\t0.713091922005571\n",
      "115\t0.7399165507649513\t0.7158774373259053\n",
      "116\t0.741307371349096\t0.7158774373259053\n",
      "117\t0.7440890125173852\t0.7186629526462396\n",
      "118\t0.7468706536856745\t0.7214484679665738\n",
      "119\t0.7503477051460362\t0.724233983286908\n",
      "120\t0.7510431154381085\t0.7214484679665738\n",
      "121\t0.7545201668984701\t0.7270194986072424\n",
      "122\t0.7573018080667594\t0.7270194986072424\n",
      "123\t0.760778859527121\t0.7298050139275766\n",
      "124\t0.7628650904033379\t0.7298050139275766\n",
      "125\t0.7635605006954103\t0.7325905292479109\n",
      "126\t0.7663421418636995\t0.7325905292479109\n",
      "127\t0.7684283727399166\t0.7381615598885793\n",
      "128\t0.7712100139082059\t0.7409470752089137\n",
      "129\t0.7739916550764951\t0.7409470752089137\n",
      "130\t0.7774687065368567\t0.7409470752089137\n",
      "131\t0.780250347705146\t0.7409470752089137\n",
      "132\t0.7816411682892906\t0.7409470752089137\n",
      "133\t0.7830319888734353\t0.7437325905292479\n",
      "134\t0.7837273991655076\t0.7437325905292479\n",
      "135\t0.786509040333797\t0.7437325905292479\n",
      "136\t0.7906815020862309\t0.7465181058495822\n",
      "137\t0.7934631432545202\t0.7465181058495822\n",
      "138\t0.7948539638386648\t0.7493036211699164\n",
      "139\t0.7969401947148818\t0.7520891364902507\n",
      "140\t0.7976356050069541\t0.754874651810585\n",
      "141\t0.7976356050069541\t0.7576601671309192\n",
      "142\t0.7990264255910987\t0.7576601671309192\n",
      "143\t0.8025034770514604\t0.7576601671309192\n",
      "144\t0.8031988873435327\t0.7576601671309192\n",
      "145\t0.803894297635605\t0.7576601671309192\n",
      "146\t0.808066759388039\t0.7604456824512534\n",
      "147\t0.8087621696801113\t0.7604456824512534\n",
      "148\t0.8122392211404729\t0.766016713091922\n",
      "149\t0.8157162726008345\t0.7688022284122563\n"
     ]
    }
   ],
   "source": [
    "epochs = 150\n",
    "\n",
    "network = NeuralNetwork(no_of_in_nodes=image_pixels, \n",
    "                        no_of_out_nodes=10, \n",
    "                        no_of_hidden_nodes=32,\n",
    "                        learning_rate=0.0001,\n",
    "                        bias=1)\n",
    "\n",
    "weights = network.train(x_train, \n",
    "                        y_train, \n",
    "                        epochs=epochs, \n",
    "                        intermediate_results=True) \n",
    "\n",
    "\n",
    "print('epoch\\ttrain\\t\\t\\ttest')\n",
    "for epoch in range(epochs):  \n",
    "    print(epoch, end='\\t')\n",
    "    network.wih = weights[epoch][0]\n",
    "    network.who = weights[epoch][1]\n",
    "    \n",
    "    corrects, wrongs = network.evaluate(x_train, y_train) \n",
    "    print(corrects / ( corrects + wrongs), end='\\t')\n",
    "    \n",
    "    corrects, wrongs = network.evaluate(x_test, y_test)\n",
    "    print(corrects / ( corrects + wrongs))\n",
    "    "
   ]
  },
  {
   "cell_type": "code",
   "execution_count": 31,
   "metadata": {},
   "outputs": [
    {
     "data": {
      "text/plain": [
       "True"
      ]
     },
     "execution_count": 31,
     "metadata": {},
     "output_type": "execute_result"
    }
   ],
   "source": [
    "y_train[0][0] ==1 "
   ]
  },
  {
   "cell_type": "code",
   "execution_count": 10,
   "metadata": {},
   "outputs": [
    {
     "data": {
      "text/plain": [
       "<matplotlib.axes._subplots.AxesSubplot at 0x1c894867940>"
      ]
     },
     "execution_count": 10,
     "metadata": {},
     "output_type": "execute_result"
    },
    {
     "data": {
      "image/png": "[encoded data removed]",
      "text/plain": [
       "<Figure size 432x288 with 2 Axes>"
      ]
     },
     "metadata": {
      "needs_background": "light"
     },
     "output_type": "display_data"
    }
   ],
   "source": [
    "import seaborn as sns\n",
    "sns.heatmap(X[1].reshape(8,8))"
   ]
  },
  {
   "cell_type": "code",
   "execution_count": null,
   "metadata": {},
   "outputs": [],
   "source": []
  },
  {
   "cell_type": "code",
   "execution_count": 47,
   "metadata": {},
   "outputs": [],
   "source": [
    "inputs = X.T\n",
    "outputs = Y.T\n",
    "\n",
    "shape = [64, 2, 10]\n",
    "\n",
    "weights = generate_network(shape)\n",
    "training_rate = 0.01\n",
    "weights = train_network_main(inputs, outputs, training_rate, shape, weights)\n"
   ]
  },
  {
   "cell_type": "code",
   "execution_count": 40,
   "metadata": {},
   "outputs": [
    {
     "ename": "NameError",
     "evalue": "name 'run_network' is not defined",
     "output_type": "error",
     "traceback": [
      "\u001b[1;31m---------------------------------------------------------------------------\u001b[0m",
      "\u001b[1;31mNameError\u001b[0m                                 Traceback (most recent call last)",
      "\u001b[1;32m<ipython-input-40-a264e5f47b6e>\u001b[0m in \u001b[0;36m<module>\u001b[1;34m\u001b[0m\n\u001b[0;32m      2\u001b[0m \u001b[0mtest_input\u001b[0m \u001b[1;33m=\u001b[0m \u001b[0mnp\u001b[0m\u001b[1;33m.\u001b[0m\u001b[0marray\u001b[0m\u001b[1;33m(\u001b[0m\u001b[1;33m[\u001b[0m\u001b[0mX\u001b[0m\u001b[1;33m[\u001b[0m\u001b[1;36m2\u001b[0m\u001b[1;33m]\u001b[0m\u001b[1;33m]\u001b[0m\u001b[1;33m)\u001b[0m\u001b[1;33m.\u001b[0m\u001b[0mT\u001b[0m\u001b[1;33m\u001b[0m\u001b[1;33m\u001b[0m\u001b[0m\n\u001b[0;32m      3\u001b[0m \u001b[1;33m\u001b[0m\u001b[0m\n\u001b[1;32m----> 4\u001b[1;33m \u001b[0mrun_network\u001b[0m\u001b[1;33m(\u001b[0m\u001b[0mtest_input\u001b[0m\u001b[1;33m,\u001b[0m \u001b[0mshape\u001b[0m\u001b[1;33m,\u001b[0m \u001b[0mweights\u001b[0m\u001b[1;33m)\u001b[0m\u001b[1;33m\u001b[0m\u001b[1;33m\u001b[0m\u001b[0m\n\u001b[0m",
      "\u001b[1;31mNameError\u001b[0m: name 'run_network' is not defined"
     ]
    }
   ],
   "source": [
    "# test_input = np.array([[0, 0, 1, 1]]).T\n",
    "test_input = np.array([X[2]]).T\n",
    "\n",
    "run_network(test_input, shape, weights)"
   ]
  },
  {
   "cell_type": "code",
   "execution_count": null,
   "metadata": {},
   "outputs": [],
   "source": []
  },
  {
   "cell_type": "code",
   "execution_count": 41,
   "metadata": {},
   "outputs": [
    {
     "data": {
      "text/plain": [
       "array([[1, 2],\n",
       "       [3, 4]])"
      ]
     },
     "execution_count": 41,
     "metadata": {},
     "output_type": "execute_result"
    }
   ],
   "source": [
    "np.array([[1,2], [3,4]])"
   ]
  },
  {
   "cell_type": "code",
   "execution_count": null,
   "metadata": {},
   "outputs": [],
   "source": [
    "if learning_rate == 'constant':\n",
    "    learning_rate_current = learning_rate_init\n",
    "if learning_rate == 'adaptive':\n",
    "    learning_rate_current = learning_rate_init * (.8)**epoch"
   ]
  }
 ],
 "metadata": {
  "kernelspec": {
   "display_name": "Python 3",
   "language": "python",
   "name": "python3"
  },
  "language_info": {
   "codemirror_mode": {
    "name": "ipython",
    "version": 3
   },
   "file_extension": ".py",
   "mimetype": "text/x-python",
   "name": "python",
   "nbconvert_exporter": "python",
   "pygments_lexer": "ipython3",
   "version": "3.7.3"
  }
 },
 "nbformat": 4,
 "nbformat_minor": 2
}
