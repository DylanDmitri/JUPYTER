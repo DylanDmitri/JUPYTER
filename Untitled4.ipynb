{
 "cells": [
  {
   "cell_type": "code",
   "execution_count": 32,
   "metadata": {},
   "outputs": [],
   "source": [
    "def mul(s, a, b):\n",
    "    return [a, b][s]\n",
    "\n",
    "def block(mapping):    \n",
    "    def inner(w):\n",
    "        v = [w[i] for i in mapping]\n",
    "        v = [NotImplemented] + v\n",
    "        \n",
    "        return int(mul(\n",
    "            v[1] or v[2],\n",
    "            mul(v[3], v[4], v[5]),\n",
    "            mul(v[6], v[7], v[8]),\n",
    "        ))\n",
    "    return inner"
   ]
  },
  {
   "cell_type": "code",
   "execution_count": 26,
   "metadata": {},
   "outputs": [],
   "source": [
    "from itertools import product\n",
    "\n",
    "bit = [0, 1]\n",
    "\n",
    "def equals(f1, f2):\n",
    "    for w in product(bit, bit, bit):\n",
    "        if f1(w) != f2(w):\n",
    "            return False\n",
    "    return True"
   ]
  },
  {
   "cell_type": "code",
   "execution_count": 27,
   "metadata": {},
   "outputs": [
    {
     "data": {
      "text/plain": [
       "True"
      ]
     },
     "execution_count": 27,
     "metadata": {},
     "output_type": "execute_result"
    }
   ],
   "source": [
    "def target(w):\n",
    "    w1, w2, w3 = w\n",
    "    \n",
    "    return int(any((\n",
    "        w2 and (not w3),\n",
    "        w1 and w3,\n",
    "        (not w2) and w3,\n",
    "    )))\n",
    "\n",
    "equals(target, target)"
   ]
  },
  {
   "cell_type": "code",
   "execution_count": 33,
   "metadata": {},
   "outputs": [
    {
     "name": "stdout",
     "output_type": "stream",
     "text": [
      "(0, 1, 0, 2, 0, 2, 1, 0)\n",
      "(0, 1, 0, 2, 1, 2, 1, 0)\n",
      "(0, 1, 0, 2, 2, 2, 1, 0)\n",
      "(0, 1, 1, 2, 0, 2, 1, 0)\n",
      "(0, 1, 1, 2, 1, 2, 1, 0)\n",
      "(0, 1, 1, 2, 2, 2, 1, 0)\n",
      "(0, 1, 2, 0, 2, 2, 1, 0)\n",
      "(0, 1, 2, 1, 2, 2, 1, 0)\n",
      "(0, 1, 2, 2, 2, 2, 1, 0)\n",
      "(0, 2, 0, 1, 0, 1, 2, 0)\n",
      "(0, 2, 0, 1, 1, 1, 2, 0)\n",
      "(0, 2, 0, 1, 2, 1, 2, 0)\n",
      "(0, 2, 1, 0, 1, 1, 2, 0)\n",
      "(0, 2, 1, 1, 1, 1, 2, 0)\n",
      "(0, 2, 1, 2, 1, 1, 2, 0)\n",
      "(0, 2, 2, 1, 0, 1, 2, 0)\n",
      "(0, 2, 2, 1, 1, 1, 2, 0)\n",
      "(0, 2, 2, 1, 2, 1, 2, 0)\n",
      "(1, 0, 0, 2, 0, 2, 1, 0)\n",
      "(1, 0, 0, 2, 1, 2, 1, 0)\n",
      "(1, 0, 0, 2, 2, 2, 1, 0)\n",
      "(1, 0, 1, 2, 0, 2, 1, 0)\n",
      "(1, 0, 1, 2, 1, 2, 1, 0)\n",
      "(1, 0, 1, 2, 2, 2, 1, 0)\n",
      "(1, 0, 2, 0, 2, 2, 1, 0)\n",
      "(1, 0, 2, 1, 2, 2, 1, 0)\n",
      "(1, 0, 2, 2, 2, 2, 1, 0)\n",
      "(1, 1, 0, 2, 2, 2, 1, 0)\n",
      "(1, 1, 1, 2, 0, 2, 1, 0)\n",
      "(1, 1, 1, 2, 1, 2, 1, 0)\n",
      "(1, 1, 1, 2, 2, 2, 1, 0)\n",
      "(1, 1, 2, 1, 2, 2, 1, 0)\n",
      "(1, 1, 2, 2, 2, 2, 1, 0)\n",
      "(2, 0, 0, 1, 0, 1, 2, 0)\n",
      "(2, 0, 0, 1, 1, 1, 2, 0)\n",
      "(2, 0, 0, 1, 2, 1, 2, 0)\n",
      "(2, 0, 1, 0, 1, 1, 2, 0)\n",
      "(2, 0, 1, 1, 1, 1, 2, 0)\n",
      "(2, 0, 1, 2, 1, 1, 2, 0)\n",
      "(2, 0, 2, 1, 0, 1, 2, 0)\n",
      "(2, 0, 2, 1, 1, 1, 2, 0)\n",
      "(2, 0, 2, 1, 2, 1, 2, 0)\n",
      "(2, 2, 0, 1, 1, 1, 2, 0)\n",
      "(2, 2, 1, 1, 1, 1, 2, 0)\n",
      "(2, 2, 1, 2, 1, 1, 2, 0)\n",
      "(2, 2, 2, 1, 0, 1, 2, 0)\n",
      "(2, 2, 2, 1, 1, 1, 2, 0)\n",
      "(2, 2, 2, 1, 2, 1, 2, 0)\n",
      "0\n"
     ]
    }
   ],
   "source": [
    "count = 0\n",
    "for mapping in product(*([(0, 1, 2)]*8)):\n",
    "    if equals(target, block(mapping)):\n",
    "        print(mapping)\n",
    "\n",
    "print(count)"
   ]
  },
  {
   "cell_type": "code",
   "execution_count": 36,
   "metadata": {},
   "outputs": [
    {
     "name": "stdout",
     "output_type": "stream",
     "text": [
      "0 0\n",
      "1 1\n",
      "1 1\n",
      "0 0\n",
      "0 0\n",
      "1 1\n",
      "1 1\n",
      "1 1\n"
     ]
    }
   ],
   "source": [
    "def sol(w):\n",
    "    w1, w2, w3 = w\n",
    "    \n",
    "    return mul(\n",
    "        w2,\n",
    "        mul(w3, 0, w3),\n",
    "        mul(w3, 1, w1),\n",
    "    )\n",
    "\n",
    "for w in product(bit, bit, bit):\n",
    "\n",
    "    print(sol(w), target(w))"
   ]
  }
 ],
 "metadata": {
  "kernelspec": {
   "display_name": "Python 3",
   "language": "python",
   "name": "python3"
  },
  "language_info": {
   "codemirror_mode": {
    "name": "ipython",
    "version": 3
   },
   "file_extension": ".py",
   "mimetype": "text/x-python",
   "name": "python",
   "nbconvert_exporter": "python",
   "pygments_lexer": "ipython3",
   "version": "3.7.3"
  }
 },
 "nbformat": 4,
 "nbformat_minor": 2
}
