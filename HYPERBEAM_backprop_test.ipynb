{
 "cells": [
  {
   "cell_type": "markdown",
   "metadata": {},
   "source": [
    "## simple game\n",
    "\n",
    " - deck of four cards, numbered 1/2/3/4\n",
    " - each turn draw two cards at random with replacement\n",
    " - each round a random number shows on screen\n",
    " - if you play a matching card twice, you win the game\n",
    " - if you play a non-matching card, you lose\n",
    " \n",
    "#### properties\n",
    " - alternating choices and determenistic blocks\n",
    " - long tail (possible for infinite games at optimal play)"
   ]
  },
  {
   "cell_type": "code",
   "execution_count": 40,
   "metadata": {},
   "outputs": [
    {
     "name": "stdout",
     "output_type": "stream",
     "text": [
      "{'hand': (), 'todraw': 2, 'target': 'one', 'matches': 0, 'result': None, 'turn': 1}\n",
      "{'hand': ('one',), 'todraw': 1, 'target': 'one', 'matches': 0, 'result': None, 'turn': 1}\n",
      "{'hand': ('one', 'one'), 'todraw': 0, 'target': 'one', 'matches': 0, 'result': None, 'turn': 1}\n",
      "{'hand': ('one', 'one'), 'todraw': 0, 'target': 'one', 'matches': 1, 'result': None, 'turn': 1}\n",
      "{'hand': ('one', 'one'), 'todraw': 0, 'target': 'one', 'matches': 2, 'result': True, 'turn': 1}\n"
     ]
    }
   ],
   "source": [
    "from copy import copy\n",
    "\n",
    "CARDS = tuple(('one', 'two', 'three', 'four'))\n",
    "\n",
    "class Game:\n",
    "    def __init__(self):\n",
    "        self.hand = tuple()\n",
    "        self.todraw = 2\n",
    "\n",
    "        self.target = None\n",
    "        \n",
    "        self.matches = 0\n",
    "        self.result = None\n",
    "        self.turn = 0\n",
    "        \n",
    "    def __str__(self):\n",
    "        return str(self.__dict__)\n",
    "        \n",
    "def draw_one(self):\n",
    "    def add_card_to_hand(game, x):\n",
    "        game.hand = tuple(sorted(game.hand + (CARDS[x],)))\n",
    "        return game\n",
    "\n",
    "    return tuple(\n",
    "        add_card_to_hand(copy(self), x)\n",
    "        for x in range(len(CARDS)))\n",
    "\n",
    "\n",
    "def next_turn(self):\n",
    "    def set_target(game, x):\n",
    "        game.target = x\n",
    "        return game\n",
    "    \n",
    "    self = copy(self)\n",
    "    self.hand = tuple()\n",
    "    self.todraw = 2\n",
    "    self.turn += 1\n",
    "    \n",
    "    return tuple(\n",
    "        set_target(copy(self), x)\n",
    "        for x in CARDS)\n",
    "\n",
    "\n",
    "def play_card(self, x):\n",
    "    self = copy(self)\n",
    "    \n",
    "    if self.hand[x] != self.target:\n",
    "        self.result = False\n",
    "        return self\n",
    "    \n",
    "    self.matches += 1\n",
    "    if self.matches >= 2:\n",
    "        self.result = True\n",
    "    return self\n",
    "        \n",
    "\n",
    "def PATHS(self):\n",
    "    if self.result:\n",
    "        return tuple()\n",
    "    \n",
    "    if self.turn > 2:\n",
    "        self = copy(self)\n",
    "        self.result = False\n",
    "        return 'rails', (self,)\n",
    "    \n",
    "    if self.todraw:\n",
    "        self = copy(self)\n",
    "        self.todraw -= 1\n",
    "        return 'rails', draw_one(self)\n",
    "    \n",
    "    return 'choice', (play_card(self, 0), play_card(self, 1), next_turn(self))\n",
    "    \n",
    "g = next_turn(Game())\n",
    "print(g[0])\n",
    "g = PATHS(g[0])[1]\n",
    "print(g[0])\n",
    "g = PATHS(g[0])[1]\n",
    "print(g[0])\n",
    "g = PATHS(g[0])[1]\n",
    "print(g[0])\n",
    "g = PATHS(g[0])[1]\n",
    "print(g[0])"
   ]
  },
  {
   "cell_type": "code",
   "execution_count": 45,
   "metadata": {},
   "outputs": [
    {
     "name": "stdout",
     "output_type": "stream",
     "text": [
      "{'hand': ('one',), 'todraw': 1, 'target': None, 'matches': 0, 'result': None, 'turn': 0}\n",
      "{'hand': ('one', 'one'), 'todraw': 0, 'target': None, 'matches': 0, 'result': None, 'turn': 0}\n",
      "{'hand': ('one', 'two'), 'todraw': 0, 'target': None, 'matches': 0, 'result': None, 'turn': 0}\n",
      "{'hand': ('one', 'three'), 'todraw': 0, 'target': None, 'matches': 0, 'result': None, 'turn': 0}\n",
      "{'hand': ('four', 'one'), 'todraw': 0, 'target': None, 'matches': 0, 'result': None, 'turn': 0}\n"
     ]
    }
   ],
   "source": [
    "root = Game()\n",
    "current = 'rails'\n",
    "\n",
    "mode, children = PATHS(root)\n",
    "for child in children:\n",
    "    \n"
   ]
  }
 ],
 "metadata": {
  "kernelspec": {
   "display_name": "Python 3",
   "language": "python",
   "name": "python3"
  },
  "language_info": {
   "codemirror_mode": {
    "name": "ipython",
    "version": 3
   },
   "file_extension": ".py",
   "mimetype": "text/x-python",
   "name": "python",
   "nbconvert_exporter": "python",
   "pygments_lexer": "ipython3",
   "version": "3.7.3"
  }
 },
 "nbformat": 4,
 "nbformat_minor": 2
}
