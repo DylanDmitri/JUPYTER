{
 "cells": [
  {
   "cell_type": "code",
   "execution_count": 30,
   "metadata": {},
   "outputs": [
    {
     "name": "stdout",
     "output_type": "stream",
     "text": [
      "sides 500000.0\n",
      "top 249999.5\n",
      "bot 250000.5\n"
     ]
    }
   ],
   "source": [
    "def splort(n):\n",
    "    side = (n-1)/2\n",
    "    print('sides', side)\n",
    "    \n",
    "    top = (side-1)/2\n",
    "    print('top', top)\n",
    "    bot = side - top\n",
    "    print('bot', bot)\n",
    "    \n",
    "splort(1000001 )\n",
    "# splort(7)"
   ]
  },
  {
   "cell_type": "code",
   "execution_count": 75,
   "metadata": {},
   "outputs": [],
   "source": [
    "from itertools import combinations, permutations"
   ]
  },
  {
   "cell_type": "code",
   "execution_count": 47,
   "metadata": {},
   "outputs": [
    {
     "name": "stdout",
     "output_type": "stream",
     "text": [
      "('1', '2')\n",
      "('1', '3')\n",
      "('1', '4')\n",
      "('1', '5')\n",
      "('1', '6')\n",
      "('1', '7')\n",
      "('1', '8')\n",
      "('1', '9')\n",
      "('2', '3')\n",
      "('2', '4')\n",
      "('2', '5')\n",
      "('2', '6')\n",
      "('2', '7')\n",
      "('2', '8')\n",
      "('2', '9')\n",
      "('3', '4')\n",
      "('3', '5')\n",
      "('3', '6')\n",
      "('3', '7')\n",
      "('3', '8')\n",
      "('3', '9')\n",
      "('4', '5')\n",
      "('4', '6')\n",
      "('4', '7')\n",
      "('4', '8')\n",
      "('4', '9')\n",
      "('5', '6')\n",
      "('5', '7')\n",
      "('5', '8')\n",
      "('5', '9')\n",
      "('6', '7')\n",
      "('6', '8')\n",
      "('6', '9')\n",
      "('7', '8')\n",
      "('7', '9')\n",
      "('8', '9')\n"
     ]
    }
   ],
   "source": [
    "for c in combinations('123456789', 2):\n",
    "    print(c)"
   ]
  },
  {
   "cell_type": "code",
   "execution_count": 80,
   "metadata": {},
   "outputs": [
    {
     "name": "stdout",
     "output_type": "stream",
     "text": [
      "12 483 5796\n",
      "18 297 5346\n",
      "27 198 5346\n",
      "28 157 4396\n",
      "39 186 7254\n",
      "4 1738 6952\n",
      "4 1963 7852\n",
      "42 138 5796\n",
      "48 159 7632\n",
      "45228\n",
      "0.1437358856201172 seconds\n"
     ]
    }
   ],
   "source": [
    "from time import time\n",
    "start = time()\n",
    "\n",
    "digits = '123456789'\n",
    "target = sorted(digits)\n",
    "\n",
    "products = set()\n",
    "\n",
    "for m in permutations(digits, 5):\n",
    "#     products.add(int(''.join(m)))\n",
    "    m = ''.join(m)\n",
    "\n",
    "    \n",
    "    a,b = int(m[0]), int(m[1:])\n",
    "    c = a*b\n",
    "    if sorted(f'{a}{b}{c}') == target:\n",
    "        print(a,b,c)\n",
    "        products.add(c)\n",
    "    \n",
    "    a,b = int(m[:2]), int(m[2:])\n",
    "    c = a*b\n",
    "        \n",
    "    if sorted(f'{a}{b}{c}') == target:\n",
    "        print(a,b,c)\n",
    "        products.add(c)\n",
    "\n",
    "\n",
    "print(sum(products))\n",
    "\n",
    "print(time() - start, 'seconds')"
   ]
  },
  {
   "cell_type": "code",
   "execution_count": null,
   "metadata": {},
   "outputs": [],
   "source": [
    "# 45228"
   ]
  },
  {
   "cell_type": "code",
   "execution_count": 17,
   "metadata": {},
   "outputs": [
    {
     "data": {
      "text/plain": [
       "9801"
      ]
     },
     "execution_count": 17,
     "metadata": {},
     "output_type": "execute_result"
    }
   ],
   "source": [
    "99*99  # 2 2 4  BAD"
   ]
  },
  {
   "cell_type": "code",
   "execution_count": 22,
   "metadata": {},
   "outputs": [
    {
     "data": {
      "text/plain": [
       "10000"
      ]
     },
     "execution_count": 22,
     "metadata": {},
     "output_type": "execute_result"
    }
   ],
   "source": [
    "100*100"
   ]
  },
  {
   "cell_type": "code",
   "execution_count": 11,
   "metadata": {},
   "outputs": [
    {
     "data": {
      "text/plain": [
       "0.16168"
      ]
     },
     "execution_count": 11,
     "metadata": {},
     "output_type": "execute_result"
    }
   ],
   "source": [
    "80840 / 500000"
   ]
  },
  {
   "cell_type": "code",
   "execution_count": 12,
   "metadata": {},
   "outputs": [
    {
     "data": {
      "text/plain": [
       "0.18181818181818182"
      ]
     },
     "execution_count": 12,
     "metadata": {},
     "output_type": "execute_result"
    }
   ],
   "source": [
    "2/11"
   ]
  }
 ],
 "metadata": {
  "kernelspec": {
   "display_name": "Python 3",
   "language": "python",
   "name": "python3"
  },
  "language_info": {
   "codemirror_mode": {
    "name": "ipython",
    "version": 3
   },
   "file_extension": ".py",
   "mimetype": "text/x-python",
   "name": "python",
   "nbconvert_exporter": "python",
   "pygments_lexer": "ipython3",
   "version": "3.7.3"
  }
 },
 "nbformat": 4,
 "nbformat_minor": 2
}
