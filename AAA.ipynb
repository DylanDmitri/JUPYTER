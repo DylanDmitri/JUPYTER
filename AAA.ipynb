{
 "cells": [
  {
   "cell_type": "code",
   "execution_count": 1,
   "metadata": {},
   "outputs": [],
   "source": [
    "import sympy as sp"
   ]
  },
  {
   "cell_type": "code",
   "execution_count": 30,
   "metadata": {},
   "outputs": [],
   "source": [
    "x = sp.Symbol('x')\n",
    "exp = sp.exp\n",
    "sin = sp.sin\n",
    "cos = sp.cos\n",
    "diff = sp.diff\n",
    "solve = sp.solve"
   ]
  },
  {
   "cell_type": "code",
   "execution_count": 16,
   "metadata": {},
   "outputs": [],
   "source": [
    "gpp = exp(sin(x))*(cos(x)*cos(x) - sin(x))"
   ]
  },
  {
   "cell_type": "code",
   "execution_count": 17,
   "metadata": {},
   "outputs": [
    {
     "data": {
      "text/latex": [
       "$\\displaystyle e^{\\sin{\\left(x \\right)}} \\cos{\\left(x \\right)}$"
      ],
      "text/plain": [
       "exp(sin(x))*cos(x)"
      ]
     },
     "execution_count": 17,
     "metadata": {},
     "output_type": "execute_result"
    }
   ],
   "source": [
    "sp.integrate(gpp)"
   ]
  },
  {
   "cell_type": "code",
   "execution_count": 21,
   "metadata": {},
   "outputs": [
    {
     "data": {
      "text/latex": [
       "$\\displaystyle e^{\\sin{\\left(x \\right)}}$"
      ],
      "text/plain": [
       "exp(sin(x))"
      ]
     },
     "execution_count": 21,
     "metadata": {},
     "output_type": "execute_result"
    }
   ],
   "source": [
    "sp.integrate(exp(sin(x))*cos(x))"
   ]
  },
  {
   "cell_type": "code",
   "execution_count": 23,
   "metadata": {},
   "outputs": [
    {
     "data": {
      "text/latex": [
       "$\\displaystyle e^{\\sin{\\left(x \\right)}} \\cos{\\left(x \\right)}$"
      ],
      "text/plain": [
       "exp(sin(x))*cos(x)"
      ]
     },
     "execution_count": 23,
     "metadata": {},
     "output_type": "execute_result"
    }
   ],
   "source": [
    "g = exp(sin(x))\n",
    "sp.diff(g)"
   ]
  },
  {
   "cell_type": "code",
   "execution_count": 32,
   "metadata": {},
   "outputs": [
    {
     "data": {
      "text/plain": [
       "[-2*atan(-1/2 + sqrt(5)/2 + sqrt(2)*sqrt(1 - sqrt(5))/2),\n",
       " 2*atan(1/2 + sqrt(5)/2 + sqrt(2)*sqrt(1 + sqrt(5))/2),\n",
       " 2*atan(-sqrt(5)/2 + 1/2 + sqrt(2)*sqrt(1 - sqrt(5))/2),\n",
       " 2*atan(-sqrt(2)*sqrt(1 + sqrt(5))/2 + 1/2 + sqrt(5)/2)]"
      ]
     },
     "execution_count": 32,
     "metadata": {},
     "output_type": "execute_result"
    }
   ],
   "source": [
    "g = exp(sin(x))\n",
    "solve(diff(diff(g)))"
   ]
  },
  {
   "cell_type": "code",
   "execution_count": 36,
   "metadata": {},
   "outputs": [
    {
     "name": "stdout",
     "output_type": "stream",
     "text": [
      "0.6662394324925153\n"
     ]
    }
   ],
   "source": [
    "from math import sqrt, atan\n",
    "\n",
    "for line in [\n",
    "#     '-2*atan(-1/2 + sqrt(5)/2 + sqrt(2)*sqrt(1 - sqrt(5))/2)',\n",
    "#     '2*atan(1/2 + sqrt(5)/2 + sqrt(2)*sqrt(1 + sqrt(5))/2)',\n",
    "#     '2*atan(-sqrt(5)/2 + 1/2 + sqrt(2)*sqrt(1 - sqrt(5))/2)',\n",
    "    '2*atan(-sqrt(2)*sqrt(1 + sqrt(5))/2 + 1/2 + sqrt(5)/2)']:\n",
    "    print(eval(line))"
   ]
  }
 ],
 "metadata": {
  "kernelspec": {
   "display_name": "Python 3",
   "language": "python",
   "name": "python3"
  },
  "language_info": {
   "codemirror_mode": {
    "name": "ipython",
    "version": 3
   },
   "file_extension": ".py",
   "mimetype": "text/x-python",
   "name": "python",
   "nbconvert_exporter": "python",
   "pygments_lexer": "ipython3",
   "version": "3.7.3"
  }
 },
 "nbformat": 4,
 "nbformat_minor": 2
}
