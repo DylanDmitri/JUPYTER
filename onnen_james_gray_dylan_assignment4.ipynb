{
 "cells": [
  {
   "cell_type": "code",
   "execution_count": 1,
   "metadata": {
    "ExecuteTime": {
     "end_time": "2019-12-05T01:56:16.360221Z",
     "start_time": "2019-12-05T01:56:15.335734Z"
    }
   },
   "outputs": [],
   "source": [
    "import numpy as np\n",
    "import matplotlib.pyplot as plt\n",
    "import seaborn as sns\n",
    "import pandas as pd\n",
    "import warnings\n",
    "from collections import Counter\n",
    "from itertools import product\n",
    "import itertools\n",
    "import math\n",
    "import random"
   ]
  },
  {
   "cell_type": "markdown",
   "metadata": {},
   "source": [
    "Implement the following functions for the MLPClassifier model class. Implement\n",
    "additional functions as needed.\n",
    "\n",
    "#### 1. Implement the following function that creates a weight matrix and initializes it with small random real numbers."
   ]
  },
  {
   "cell_type": "code",
   "execution_count": 204,
   "metadata": {
    "ExecuteTime": {
     "end_time": "2019-12-05T05:48:03.354243Z",
     "start_time": "2019-12-05T05:48:02.989320Z"
    }
   },
   "outputs": [
    {
     "data": {
      "image/png": "[encoded data removed]",
      "text/plain": [
       "<Figure size 432x288 with 1 Axes>"
      ]
     },
     "metadata": {
      "needs_background": "light"
     },
     "output_type": "display_data"
    },
    {
     "data": {
      "image/png": "[encoded data removed]",
      "text/plain": [
       "<Figure size 432x288 with 1 Axes>"
      ]
     },
     "metadata": {
      "needs_background": "light"
     },
     "output_type": "display_data"
    }
   ],
   "source": [
    "def initializeTheta(_in, out):\n",
    "    \"\"\"\n",
    "    params:\n",
    "        in : int\n",
    "            number of input neurons/features.\n",
    "        out : int\n",
    "            number of output neurons/features.\n",
    "\n",
    "    returns:\n",
    "        Theta : ndarray\n",
    "            The weight matrix initialized by small random number\n",
    "    \"\"\"\n",
    "    \n",
    "    fan_avg = (_in + out)/2\n",
    "    \n",
    "    return np.random.randn(_in, out)*np.sqrt(1/fan_avg)\n",
    "\n",
    "plt.title(\"64 -> 32\")\n",
    "sns.distplot(initializeTheta(64, 32).reshape((64*32,)))\n",
    "plt.show()\n",
    "\n",
    "plt.title(\"64 -> 7\")\n",
    "sns.distplot(initializeTheta(64, 7).reshape((64*7,)))\n",
    "plt.show()"
   ]
  },
  {
   "cell_type": "markdown",
   "metadata": {},
   "source": [
    "#### 2. Implement the logistic sigmoid activation function. "
   ]
  },
  {
   "cell_type": "code",
   "execution_count": 166,
   "metadata": {
    "ExecuteTime": {
     "end_time": "2019-12-05T05:34:11.909993Z",
     "start_time": "2019-12-05T05:34:11.901178Z"
    }
   },
   "outputs": [
    {
     "data": {
      "text/plain": [
       "array([0.73105858, 0.88079708, 0.95257413, 0.00669285, 0.04742587,\n",
       "       0.5       ])"
      ]
     },
     "execution_count": 166,
     "metadata": {},
     "output_type": "execute_result"
    }
   ],
   "source": [
    "def logistic(z):\n",
    "    \"\"\"\n",
    "    params:\n",
    "        z : ndarray\n",
    "\n",
    "    returns:\n",
    "        An ndarray containing the logistic sigmoid values of the input.\n",
    "    \"\"\"\n",
    "    \n",
    "    return 1/(1 + np.exp(-z))\n",
    "\n",
    "logistic(np.array([1, 2, 3, -5, -3, 0]))"
   ]
  },
  {
   "cell_type": "code",
   "execution_count": 169,
   "metadata": {
    "ExecuteTime": {
     "end_time": "2019-12-05T05:35:53.969486Z",
     "start_time": "2019-12-05T05:35:53.961415Z"
    }
   },
   "outputs": [
    {
     "data": {
      "text/plain": [
       "array([0.19661193, 0.10499359, 0.04517666, 0.00664806, 0.04517666,\n",
       "       0.25      ])"
      ]
     },
     "execution_count": 169,
     "metadata": {},
     "output_type": "execute_result"
    }
   ],
   "source": [
    "def logistic_derivative(z):\n",
    "    activated = logistic(z)\n",
    "    return activated*(1 - activated) \n",
    "\n",
    "logistic_derivative(np.array([1, 2, 3, -5, -3, 0]))"
   ]
  },
  {
   "cell_type": "markdown",
   "metadata": {},
   "source": [
    "#### 3. Implement the ReLU (rectified linear unit) activation function. [3 pts] "
   ]
  },
  {
   "cell_type": "code",
   "execution_count": 22,
   "metadata": {
    "ExecuteTime": {
     "end_time": "2019-12-05T02:20:29.061523Z",
     "start_time": "2019-12-05T02:20:29.049950Z"
    }
   },
   "outputs": [
    {
     "data": {
      "text/plain": [
       "array([1, 2, 3, 0, 0, 0])"
      ]
     },
     "execution_count": 22,
     "metadata": {},
     "output_type": "execute_result"
    }
   ],
   "source": [
    "def relu(z):\n",
    "    \"\"\"\n",
    "    params:\n",
    "        z : ndarray\n",
    "\n",
    "    returns:\n",
    "        An ndarray containing the relu output values of the input.\n",
    "    \"\"\"\n",
    "    \n",
    "    return np.maximum(0, z)\n",
    "\n",
    "relu(np.array([1, 2, 3, -5, -3, 0]))"
   ]
  },
  {
   "cell_type": "code",
   "execution_count": 23,
   "metadata": {
    "ExecuteTime": {
     "end_time": "2019-12-05T02:20:30.617033Z",
     "start_time": "2019-12-05T02:20:30.609465Z"
    }
   },
   "outputs": [
    {
     "data": {
      "text/plain": [
       "array([0, 1, 1, 0, 0, 0])"
      ]
     },
     "execution_count": 23,
     "metadata": {},
     "output_type": "execute_result"
    }
   ],
   "source": [
    "def relu_derivative(z):\n",
    "    return (z > 1).astype(int)\n",
    "\n",
    "relu_derivative(np.array([1, 2, 3, -5, -3, 0]))"
   ]
  },
  {
   "cell_type": "markdown",
   "metadata": {},
   "source": [
    "#### 4. Implement the tanh (hyperbolic tangent) activation function. [3 pts]"
   ]
  },
  {
   "cell_type": "code",
   "execution_count": 24,
   "metadata": {
    "ExecuteTime": {
     "end_time": "2019-12-05T02:20:31.768488Z",
     "start_time": "2019-12-05T02:20:31.759617Z"
    }
   },
   "outputs": [
    {
     "data": {
      "text/plain": [
       "array([ 0.76159416,  0.96402758,  0.99505475, -0.9999092 , -0.99505475,\n",
       "        0.        ])"
      ]
     },
     "execution_count": 24,
     "metadata": {},
     "output_type": "execute_result"
    }
   ],
   "source": [
    "def tanh(z):\n",
    "    \"\"\"\n",
    "    params:\n",
    "        z: ndarray\n",
    "\n",
    "    returns:\n",
    "        An ndarray containing the tanh output values of the input.\n",
    "    \"\"\"\n",
    "    \n",
    "    return np.tanh(z)\n",
    "\n",
    "tanh(np.array([1, 2, 3, -5, -3, 0]))"
   ]
  },
  {
   "cell_type": "code",
   "execution_count": 25,
   "metadata": {
    "ExecuteTime": {
     "end_time": "2019-12-05T02:20:33.430394Z",
     "start_time": "2019-12-05T02:20:33.421254Z"
    }
   },
   "outputs": [
    {
     "data": {
      "text/plain": [
       "array([4.19974342e-01, 7.06508249e-02, 9.86603717e-03, 1.81583231e-04,\n",
       "       9.86603717e-03, 1.00000000e+00])"
      ]
     },
     "execution_count": 25,
     "metadata": {},
     "output_type": "execute_result"
    }
   ],
   "source": [
    "def tanh_derivative(z):\n",
    "    return 1 - np.tanh(z)**2\n",
    "\n",
    "tanh_derivative(np.array([1, 2, 3, -5, -3, 0]))"
   ]
  },
  {
   "cell_type": "markdown",
   "metadata": {},
   "source": [
    "##### 5. Implement a MLPClassifier model class. \n",
    "It has a single hidden layer. It should\n",
    "have the following three methods. The model uses the backpropagation\n",
    "algorithm for learning the weights of the features/neurons. Note the that “fit”\n",
    "method should implement the Stochastic Gradient Descent algorithm for\n",
    "optimizing the weight update process\n",
    "\n",
    "Multi-Layer Perceptron Classifier"
   ]
  },
  {
   "cell_type": "code",
   "execution_count": 26,
   "metadata": {
    "ExecuteTime": {
     "end_time": "2019-12-05T02:20:35.001293Z",
     "start_time": "2019-12-05T02:20:34.992288Z"
    }
   },
   "outputs": [],
   "source": [
    "def one_hot_labels(Y):\n",
    "    \"\"\"\n",
    "    params\n",
    "        Y : ndarray\n",
    "            1D array containing data with “int” type that represents class indices/labels\n",
    "        \n",
    "    rets\n",
    "        Y_one_hot : ndarray\n",
    "            2d array, one row for each entry in y, one col for each class in y\n",
    "            \n",
    "    \"\"\"\n",
    "    \n",
    "    unique = np.unique(Y)\n",
    "    lookup = {c:i for i,c in enumerate(unique)}\n",
    "    Y_one_hot = np.zeros((len(Y), len(unique)))\n",
    "    \n",
    "    for i, val in enumerate(Y):\n",
    "        Y_one_hot[i][lookup[val]] = 1\n",
    "        \n",
    "    return Y_one_hot, unique"
   ]
  },
  {
   "cell_type": "code",
   "execution_count": 27,
   "metadata": {
    "ExecuteTime": {
     "end_time": "2019-12-05T02:20:36.084491Z",
     "start_time": "2019-12-05T02:20:36.075631Z"
    }
   },
   "outputs": [
    {
     "data": {
      "text/plain": [
       "array([0.26894142, 0.73105858])"
      ]
     },
     "execution_count": 27,
     "metadata": {},
     "output_type": "execute_result"
    }
   ],
   "source": [
    "def softmax(score):\n",
    "    \"\"\"\n",
    "    params\n",
    "        score : ndarry\n",
    "            Score of sample belonging to various classes\n",
    "            \n",
    "    returns\n",
    "        Y_proba : ndarray\n",
    "            Probability of sample belonging to various classes\n",
    "    \"\"\"\n",
    "    \n",
    "    score = np.exp(score)\n",
    "    return score/np.sum(score)\n",
    "    \n",
    "softmax([1, 2])"
   ]
  },
  {
   "cell_type": "code",
   "execution_count": 28,
   "metadata": {
    "ExecuteTime": {
     "end_time": "2019-12-05T02:20:37.721620Z",
     "start_time": "2019-12-05T02:20:37.715488Z"
    }
   },
   "outputs": [],
   "source": [
    "def cross_entropy_loss(Y_one_hot, Y_proba):\n",
    "    \"\"\"\n",
    "    params\n",
    "        Y_one_hot : ndarray\n",
    "            A matrix containing a one-hot vector of class indices/labels for each instance.\n",
    "        Y_proba : ndarray\n",
    "            Probability of a sample belonging to various classes.\n",
    "            \n",
    "    returns\n",
    "        cost : float\n",
    "    \"\"\"\n",
    "    \n",
    "    cost = np.sum(Y_one_hot * np.log(Y_proba))\n",
    "    if str(cost)=='nan':\n",
    "        print('yikes')\n",
    "        print(Y_proba)\n",
    "    return cost\n",
    "    "
   ]
  },
  {
   "cell_type": "code",
   "execution_count": 234,
   "metadata": {
    "ExecuteTime": {
     "end_time": "2019-12-05T06:17:09.664479Z",
     "start_time": "2019-12-05T06:17:09.657635Z"
    }
   },
   "outputs": [],
   "source": [
    "def unison_shuffled_copies(a, b):\n",
    "    assert len(a) == len(b)\n",
    "    p = np.random.permutation(len(a))\n",
    "    return a[p], b[p]"
   ]
  },
  {
   "cell_type": "code",
   "execution_count": 233,
   "metadata": {
    "ExecuteTime": {
     "end_time": "2019-12-05T06:17:09.655705Z",
     "start_time": "2019-12-05T06:17:09.649142Z"
    }
   },
   "outputs": [],
   "source": [
    "def partition(X, Y, fraction):\n",
    "    n = int(len(Y)*(1-fraction))\n",
    "    return X[n:], Y[n:], X[:n], Y[:n]"
   ]
  },
  {
   "cell_type": "code",
   "execution_count": 96,
   "metadata": {
    "ExecuteTime": {
     "end_time": "2019-12-05T05:01:48.998709Z",
     "start_time": "2019-12-05T05:01:48.986310Z"
    }
   },
   "outputs": [
    {
     "name": "stdout",
     "output_type": "stream",
     "text": [
      "(1438, 65)\n",
      "[[1.     0.     0.     ... 0.1875 0.     0.    ]\n",
      " [1.     0.     0.     ... 0.5    0.     0.    ]\n",
      " [1.     0.     0.     ... 0.0625 0.     0.    ]\n",
      " ...\n",
      " [1.     0.     0.     ... 0.9375 0.25   0.    ]\n",
      " [1.     0.     0.     ... 1.     0.625  0.    ]\n",
      " [1.     0.     0.125  ... 0.9375 0.1875 0.    ]]\n"
     ]
    }
   ],
   "source": [
    "def add_bias_term_to_start(np_array, array=None):\n",
    "    if array is None:\n",
    "        ones = np.ones(len(np_array))\n",
    "        ones = ones.reshape((ones.shape[0],1))\n",
    "    else:\n",
    "        ones = array\n",
    "    \n",
    "    assert(ones.shape[0] == len(np_array))\n",
    "    \n",
    "    biased = np.hstack((ones, np_array))\n",
    "    return biased\n",
    "\n",
    "result = add_bias_term_to_start(x_train)\n",
    "print(result.shape)\n",
    "print(result)"
   ]
  },
  {
   "cell_type": "code",
   "execution_count": 243,
   "metadata": {
    "ExecuteTime": {
     "end_time": "2019-12-05T06:22:52.269230Z",
     "start_time": "2019-12-05T06:22:51.956323Z"
    }
   },
   "outputs": [
    {
     "name": "stdout",
     "output_type": "stream",
     "text": [
      "(1294, 65)\n",
      "Early Stopping because the validation score change etween two consecutive epochs is less than 0.0001 over the last value of 10) iterations.\n",
      "[0 1 2 3 4 5 6 7 8 9]\n",
      "[2 7 9 ... 7 2 3]\n",
      "[2 7 8 ... 4 0 1]\n",
      "Train accuracy 0.3344923504867872\n",
      "Test accuracy 0.28690807799442897\n"
     ]
    },
    {
     "data": {
      "image/png": "[encoded data removed]",
      "text/plain": [
       "<Figure size 432x288 with 1 Axes>"
      ]
     },
     "metadata": {
      "needs_background": "light"
     },
     "output_type": "display_data"
    }
   ],
   "source": [
    "class MLPClassifier():        \n",
    "    def fit(self, X, Y, hidden_layer_neurons = 2, activation = 'logistic', regularizer = None,\n",
    "        alpha = 0.0001, learning_rate = 'constant', learning_rate_init = 0.001,\n",
    "        max_iter = 1000, tol = 0.0001, verbose = False, early_stopping = False,\n",
    "        validation_fraction = 0.1, n_iter_no_change = 10, **kwargs):\n",
    "        \"\"\"\n",
    "        params:\n",
    "            X : ndarray\n",
    "                A numpy array with rows representing data samples and columns representing features.\n",
    "                \n",
    "            Y : ndarray\n",
    "                A 1D numpy array with labels corresponding to each row of the feature matrix X.\n",
    "                \n",
    "            hidden_layer_neurons : int\n",
    "                It provides the number of neurons in the hidden layer (excluding the bias unit).\n",
    "                \n",
    "            activation : string (default ‘logistic’)\n",
    "                Activation function for the hidden layer.\n",
    "                    - 'logistic', the logistic sigmoid function, returns f(x) = 1 / (1 + exp(-x)).\n",
    "                    - 'tanh', the hyperbolic tan function, returns f(x) = tanh(x).\n",
    "                    - 'relu', the rectified linear unit function, returns f(x) = max(0, x)\n",
    "                    \n",
    "            regularizer : string\n",
    "                The string value could be one of the following: \n",
    "                    l2, None.\n",
    "                If it’s set to None, the cost function without the regularization term will be used for computing the\n",
    "                gradient and updating the weight vector. However, if it’s set to l2, the appropriate regularized cost \n",
    "                function needs to be used for computing the gradient and updating the weight vector.\n",
    " \n",
    "\n",
    "                Note: you may define a helper function for computing the\n",
    "                regularized cost using “l2” regularizer.\n",
    "            \n",
    "            alpha : float\n",
    "                It provides the regularization coefficient. It is used only when the “regularizer” is set to l2.\n",
    "            \n",
    "            learning_rate : string (default ‘constant’)\n",
    "                Learning rate schedule for weight updates.\n",
    "                    - 'constant': a constant learning rate given by 'learning_rate_init'.\n",
    "                    - 'adaptive': gradually decreases the learning rate based on a schedule or some heuristic. \n",
    "                        Write a function that would be used if learning_rate is set to ‘adaptive’. \n",
    "                        [Extra Credit for 478 and Mandatory for 878] [10 pts]\n",
    "\n",
    "                Note on defining the “adaptive” learning_rate function:\n",
    "                    There are different heuristics to write an adapting learning rate function. \n",
    "                    You are encouraged to explore existing functions in the literature, or try a \n",
    "                    new one. Here are some suggestions for you.\n",
    "                        - Decrease learning rate gradually during each epoch:\n",
    "                        Learning rate = a/(epoche+b)\n",
    "                        where a and b are two constants that\n",
    "                        you need to determine empirically. Choose constant a and b\n",
    "                        such that initially the learning rate is large enough.\n",
    "                        - Divide the initial learning rate by some constant: This will\n",
    "                        require validation data (you need to implement ‘early\n",
    "                        stopping’). The function keeps the learning rate constant to\n",
    "                        ‘learning_rate_init’ as long as validation loss keeps decreasing.\n",
    "                        Each time two consecutive epochs, within ‘n_iter_no_change’\n",
    "                        number of epochs, fail to decrease validation loss by at least\n",
    "                        tol, or fail to increase validation score by at least tol, the\n",
    "                        current learning rate is divided by a constant (e.g., 2).\n",
    "            \n",
    "            learning_rate_init : double\n",
    "                The initial learning rate used. It controls the step-size in updating\n",
    "                the weights.\n",
    "\n",
    "            max_iter : int\n",
    "                Maximum number of iterations. The solver iterates until\n",
    "                convergence (determined by ‘tol’) or this number of iterations. For\n",
    "                Stochastic Gradient Descent, note that this determines the number of\n",
    "                epochs (how many times each data point will be used), not the number of\n",
    "                gradient steps.\n",
    "\n",
    "            tol : float\n",
    "                Tolerance for the optimization. When the loss or score is not\n",
    "                improving by at least tol for n_iter_no_change consecutive iterations,\n",
    "                unless learning_rate is set to ‘adaptive’, convergence is considered to be\n",
    "                reached and training stops.\n",
    "                \n",
    "            verbose : bool\n",
    "                Whether to print the following progress messages at each epoch to\n",
    "                stdout.\n",
    "                    - Epoch number, Training loss, validation loss, validation score,\n",
    "                    and step size (eta).\n",
    "                    - Note that the validation loss and validation score is reported if\n",
    "                    early_stopping is set to True.\n",
    "                \n",
    "            early_stopping : bool\n",
    "                Whether to use early stopping to terminate training when\n",
    "                validation score is not improving. If set to true, it will automatically set\n",
    "                aside a percentage of training data (set by validation_fraction) as\n",
    "                validation and terminate training when validation score is not improving\n",
    "                by at least tol for n_iter_no_change consecutive epochs.\n",
    "                \n",
    "                If the program terminates early, then it should display the\n",
    "                following message: Early Stopping because the validation score change\n",
    "                between two consecutive epochs is less than (value of “tol”) over the last\n",
    "                (value of “n_iter_no_change”) iterations.\n",
    "            \n",
    "            validation_fraction : float\n",
    "                The proportion of training data to set aside as validation set for\n",
    "                early stopping. Must be between 0 and 1. Only used if early_stopping is\n",
    "                True.\n",
    "               \n",
    "            n_iter_no_change : int\n",
    "                Maximum number of epochs to not meet tol improvement. \n",
    "        \"\"\"\n",
    "        \n",
    "        assert(type(X) is np.ndarray)\n",
    "        assert(type(Y) is np.ndarray)\n",
    "        \n",
    "        self.activation = activation\n",
    "        \n",
    "        \n",
    "        all_y_one_hot, unique = one_hot_labels(Y)\n",
    "        self.classes = unique\n",
    "        num_classes = all_y_one_hot.shape[1]\n",
    "        \n",
    "        X_with_bias = add_bias_term_to_start(X)\n",
    "        \n",
    "        # Setup early stopping\n",
    "        X_with_bias_validate = None\n",
    "        y_one_hot_validate = None\n",
    "        if early_stopping:\n",
    "            X_with_bias_validate, y_one_hot_validate, X_with_bias, all_y_one_hot = partition(X_with_bias, all_y_one_hot, fraction=validation_fraction)\n",
    "            \n",
    "        # Setup weight matrixes\n",
    "        input_to_hidden_matrix = initializeTheta(X_with_bias.shape[1], hidden_layer_neurons)\n",
    "        hidden_to_output_weight_matrix = initializeTheta(hidden_layer_neurons + 1, num_classes)\n",
    "                \n",
    "        # Stochastic gradient descent\n",
    "        avg_training_loss = []\n",
    "        validation_scores = []\n",
    "        iterations_without_change = 0\n",
    "        \n",
    "        for epoch in range(max_iter):\n",
    "            epoch_losses = []\n",
    "            \n",
    "            for i in range(len(X_with_bias)):\n",
    "                index = random.randint(0, len(X_with_bias)-1)\n",
    "                x_row = X_with_bias[index:index+1] # batch with just one!\n",
    "                y_row = all_y_one_hot[index:index+1] # batch with just one!\n",
    "                                \n",
    "                # NOTE: layer0_activation = x_row :D\n",
    "                \n",
    "                z2 = np.matmul(x_row, input_to_hidden_matrix) # recalcualted rip\n",
    "                z2 = add_bias_term_to_start(z2)\n",
    "                \n",
    "                # Forward\n",
    "                layer1_activation, layer2_activation = self.forward(input_to_hidden_matrix, hidden_to_output_weight_matrix, x_row)\n",
    "                \n",
    "                # Backwards\n",
    "                # Compute w2\n",
    "                new_hidden_to_output_weight_matrix = hidden_to_output_weight_matrix - (learning_rate_init*(layer2_activation - y_row).T @ layer1_activation).T\n",
    "                \n",
    "                assert(new_hidden_to_output_weight_matrix.shape == hidden_to_output_weight_matrix.shape)\n",
    "                \n",
    "                # Compute w1\n",
    "                output_errors = y_row - layer2_activation\n",
    "                hidden_errors = np.dot(new_hidden_to_output_weight_matrix, output_errors.T)\n",
    "                \n",
    "                temp = hidden_errors*(self.layer1_gradient(z2).T)\n",
    "                x = np.dot(temp, x_row)\n",
    "                x = x[1:,:] # strip out the bias term ;)\n",
    "                x = x.T # flip this bad boy\n",
    "               \n",
    "                # bopp it\n",
    "                input_to_hidden_matrix += learning_rate_init*x\n",
    "                hidden_to_output_weight_matrix = new_hidden_to_output_weight_matrix\n",
    "                \n",
    "                # training loss\n",
    "                epoch_losses.append(-cross_entropy_loss(y_row, softmax(layer2_activation)))\n",
    "                \n",
    "            avg_training_loss.append(np.mean(epoch_losses))\n",
    "            \n",
    "            if early_stopping:                \n",
    "                layer1_activation, layer2_activation = self.forward(input_to_hidden_matrix, hidden_to_output_weight_matrix, X_with_bias_validate)\n",
    "                \n",
    "                score = -cross_entropy_loss(y_row, softmax(layer2_activation))\n",
    "                # Apply softmax to layere2\n",
    "                for row in range(len(layer2_activation)):\n",
    "                    layer2_activation[row] = softmax(layer2_activation[row])\n",
    "                \n",
    "                accuracy = np.mean(predicted == )\n",
    "                validation_scores.append(accuracy)\n",
    "                i\n",
    "                if iterations_without_change > n_iter_no_change:\n",
    "                    print(f\"Early Stopping because the validation score change etween two consecutive epochs is less than {tol} over the last value of {n_iter_no_change}) iterations.\")\n",
    "                    break\n",
    "        \n",
    "        self.theta1 = input_to_hidden_matrix\n",
    "        self.theta2 = hidden_to_output_weight_matrix\n",
    "        self.avg_training_loss = avg_training_loss\n",
    "        self,validation_scores = validation_scores\n",
    "#     def train(self, row_x_with_bias, row_y):\n",
    "#         layer1_activation = row_x_with_bias\n",
    "#         print(row_x_with_bias.shape, row_y.shape)\n",
    "        \n",
    "        \n",
    "    def activate_layer1(self, layer1):\n",
    "        if self.activation == \"logistic\":\n",
    "            return logistic(layer1)\n",
    "        elif self.activation == \"tanh\":\n",
    "            return tanh(layer1)\n",
    "        elif self.activation == \"relu\":\n",
    "            return relu(layer1)\n",
    "        else:\n",
    "            raise Exception(\"Bad activation method\")\n",
    "    \n",
    "    def layer1_gradient(self, layer1):\n",
    "        if self.activation == \"logistic\":\n",
    "            return logistic_derivative(layer1)\n",
    "        elif self.activation == \"tanh\":\n",
    "            return tanh_derivative(layer1)\n",
    "        elif self.activation == \"relu\":\n",
    "            return relu_derivative(layer1)\n",
    "        else:\n",
    "            raise Exception(\"Bad activation method\")\n",
    "\n",
    "    def forward(self, theta1, theta2, X_with_bias):\n",
    "        # Layer1\n",
    "        layer1 = np.matmul(X_with_bias, theta1)\n",
    "        layer1 = self.activate_layer1(layer1)\n",
    "        layer1 = add_bias_term_to_start(layer1)\n",
    "        \n",
    "        # Layer2\n",
    "        layer2 = np.matmul(layer1, theta2)\n",
    "        \n",
    "        # Note: Softmax is applied after, not as part of layer\n",
    "        \n",
    "        return layer1, layer2\n",
    "    \n",
    "    def predict(self, X):\n",
    "        X_with_bias = add_bias_term_to_start(X)\n",
    "\n",
    "        layer1_activation, layer2_activation = self.forward(self.theta1, self.theta2, X_with_bias)\n",
    "        \n",
    "        # Apply softmax to layere2\n",
    "        for row in range(len(layer2_activation)):\n",
    "            layer2_activation[row] = softmax(layer2_activation[row])\n",
    "        \n",
    "        return self.classes[np.argmax(layer2_activation, axis=1)]\n",
    "\n",
    "# np.random.seed(133735334)\n",
    "# random.seed(133735334)\n",
    "\n",
    "c = MLPClassifier()\n",
    "c.fit(x_train, y_train, \n",
    "      hidden_layer_neurons=32, max_iter=1000, learning_rate_init=0.001,\n",
    "      activation='logistic', early_stopping=True, validation_fraction=0.1)\n",
    "print(c.classes)\n",
    "\n",
    "predictions = c.predict(x_train)\n",
    "print(predictions)\n",
    "print(y_train)\n",
    "print(\"Train accuracy\", np.mean(predictions == y_train))\n",
    "\n",
    "test_predictions = c.predict(x_test)\n",
    "print(\"Test accuracy\", np.mean(test_predictions == y_test))\n",
    "\n",
    "plt.title(\"Training Loss\")\n",
    "plt.plot(c.avg_training_loss, label=\"Training Loss\")\n",
    "plt.plot(c.validation_scores, label=\"Validation Score\")\n",
    "plt.legend()\n",
    "plt.show()"
   ]
  },
  {
   "cell_type": "code",
   "execution_count": null,
   "metadata": {},
   "outputs": [],
   "source": []
  },
  {
   "cell_type": "markdown",
   "metadata": {},
   "source": [
    "## Multi-Class Classification using MLPClassifier"
   ]
  },
  {
   "cell_type": "markdown",
   "metadata": {},
   "source": [
    "#### 6. Read the handwritten digits dataset using the sklearn.datasets.load_digits function for performing multi-class classification."
   ]
  },
  {
   "cell_type": "code",
   "execution_count": 160,
   "metadata": {
    "ExecuteTime": {
     "end_time": "2019-12-05T05:31:27.252106Z",
     "start_time": "2019-12-05T05:31:27.172987Z"
    }
   },
   "outputs": [
    {
     "name": "stdout",
     "output_type": "stream",
     "text": [
      "(1797, 64) (1797,)\n"
     ]
    }
   ],
   "source": [
    "import sklearn.datasets\n",
    "X, Y = sklearn.datasets.load_digits(return_X_y=True)\n",
    "print(X.shape, Y.shape)"
   ]
  },
  {
   "cell_type": "markdown",
   "metadata": {},
   "source": [
    "#### 7. Standardize the features. [1pt]"
   ]
  },
  {
   "cell_type": "code",
   "execution_count": 159,
   "metadata": {
    "ExecuteTime": {
     "end_time": "2019-12-05T05:31:24.836644Z",
     "start_time": "2019-12-05T05:31:24.832529Z"
    }
   },
   "outputs": [],
   "source": [
    "# def normalize(data):\n",
    "#     assert(type(data) is np.ndarray)\n",
    "\n",
    "#     if len(data.shape) == 1:\n",
    "#         data = data - np.min(data)\n",
    "#         _max = np.max(data)\n",
    "#         return np.divide(data, _max, where=(data != 0))\n",
    "#     elif len(data.shape) == 2:\n",
    "#         _min = np.min(data, axis=0)\n",
    "#         data = data - _min\n",
    "#         _max = np.max(data, axis=0)\n",
    "#         return np.divide(data, _max, where=(data != 0))\n",
    "#     else:\n",
    "#         raise Exception(\"Bad shape\")\n",
    "        \n",
    "# X = normalize(X)"
   ]
  },
  {
   "cell_type": "markdown",
   "metadata": {},
   "source": [
    "#### 8. Partition the data into train and test set. Use the “Partition” function from your previous assignment. [2 pts]"
   ]
  },
  {
   "cell_type": "code",
   "execution_count": 232,
   "metadata": {
    "ExecuteTime": {
     "end_time": "2019-12-05T06:17:09.646261Z",
     "start_time": "2019-12-05T06:17:09.634459Z"
    }
   },
   "outputs": [
    {
     "name": "stdout",
     "output_type": "stream",
     "text": [
      "(1438, 64) (1438,)\n",
      "(359, 64) (359,)\n"
     ]
    }
   ],
   "source": [
    "X, Y = unison_shuffled_copies(X, Y)\n",
    "x_train, y_train, x_test, y_test = partition(X, Y, 0.8)\n",
    "print(x_train.shape, y_train.shape)\n",
    "print(x_test.shape, y_test.shape)"
   ]
  },
  {
   "cell_type": "code",
   "execution_count": 162,
   "metadata": {
    "ExecuteTime": {
     "end_time": "2019-12-05T05:31:29.927612Z",
     "start_time": "2019-12-05T05:31:29.434468Z"
    }
   },
   "outputs": [
    {
     "data": {
      "image/png": "[encoded data removed]",
      "text/plain": [
       "<Figure size 432x288 with 2 Axes>"
      ]
     },
     "metadata": {
      "needs_background": "light"
     },
     "output_type": "display_data"
    },
    {
     "data": {
      "image/png": "[encoded data removed]",
      "text/plain": [
       "<Figure size 432x288 with 2 Axes>"
      ]
     },
     "metadata": {
      "needs_background": "light"
     },
     "output_type": "display_data"
    }
   ],
   "source": [
    "sns.heatmap(x_train[1].reshape((8, 8)))\n",
    "plt.show()\n",
    "\n",
    "sns.heatmap(X[1].reshape((8, 8)))\n",
    "plt.show()"
   ]
  },
  {
   "cell_type": "markdown",
   "metadata": {},
   "source": [
    "#### 9. You don’t need to report hyperparameter tuning. \n",
    "Note that unlike previous assignments, hyperparameter tuning is time-consuming for the MLP model. You\n",
    "may want to perform an educated tuning of the hyperparameters.\n",
    "\n",
    "You need to report the optimal values of the hyperparameters that you used for\n",
    "training. For hyperparameter tuning, the following parameters should have\n",
    "following fixed setting. [16 pts]\n",
    "\n",
    "- regularizer=“l2”\n",
    "- verbose=True\n",
    "- early_stopping=True\n",
    "- validation_fraction=0.1\n",
    "\n",
    "\n",
    "Find the optimal values for the following hyperparameters.\n",
    "\n",
    "- hidden_layer_neurons\n",
    "- activation\n",
    "- alpha\n",
    "- learning_rate\n",
    "- learning_rate_init\n",
    "- max_iter\n",
    "- tol\n",
    "- n_iter_no_change"
   ]
  },
  {
   "cell_type": "code",
   "execution_count": null,
   "metadata": {},
   "outputs": [],
   "source": []
  },
  {
   "cell_type": "markdown",
   "metadata": {},
   "source": [
    "#### 10. Your jupyter notebook should display the following items. \n",
    "**You will not get any credit if your jupyter notebook doesn’t have these items displayed during your\n",
    "submission.**\n",
    "\n",
    "Additionally, submit a PDF file containing the following items. [2 + 6 + 10 + 10 = 28 pts]"
   ]
  },
  {
   "attachments": {
    "image.png": {
     "image/png": "[encoded data removed]"
    }
   },
   "cell_type": "markdown",
   "metadata": {},
   "source": [
    "##### a) Epoch number, Training loss, validation loss, validation score, and step size (eta). \n",
    "This should be displayed as a single row, as follows. There should be max_iter number of rows, one for each epoch\n",
    "\n",
    "![image.png](attachment:image.png)\n",
    "\n",
    "If the program terminates early, then it should display the following message:\n",
    "Early stopping because the validation score change between two consecutive epochs is less\n",
    "than (value of “tol”) over the last (value of “n_iter_no_change”) epochs."
   ]
  },
  {
   "attachments": {
    "image.png": {
     "image/png": "[encoded data removed]"
    }
   },
   "cell_type": "markdown",
   "metadata": {},
   "source": [
    "##### b) Two graphs:\n",
    "- First graph plots both training loss and validation loss against epochs.\n",
    "- Second graph plots validation score vs epochs\n",
    "\n",
    "![image.png](attachment:image.png)"
   ]
  },
  {
   "cell_type": "markdown",
   "metadata": {},
   "source": [
    "##### c) For training data: accuracy, no. of correct predictions, confusion matrix, precision, recall, f1 score for each class."
   ]
  },
  {
   "cell_type": "code",
   "execution_count": null,
   "metadata": {},
   "outputs": [],
   "source": []
  },
  {
   "attachments": {
    "image.png": {
     "image/png": "[encoded data removed]"
    }
   },
   "cell_type": "markdown",
   "metadata": {},
   "source": [
    "##### d) For test data: accuracy, no. of correct predictions, confusion matrix, precision, recall, f1 score for each class.\n",
    "\n",
    "![image.png](attachment:image.png)"
   ]
  },
  {
   "cell_type": "code",
   "execution_count": null,
   "metadata": {},
   "outputs": [],
   "source": []
  },
  {
   "cell_type": "markdown",
   "metadata": {
    "ExecuteTime": {
     "end_time": "2019-12-02T22:16:31.538692Z",
     "start_time": "2019-12-02T22:16:31.527095Z"
    }
   },
   "source": [
    "# NOTE\n",
    "\n",
    "Note that if your test accuracy is less than 90% you will lose 10% of the\n",
    "total obtained points. If your test accuracy is less than 80% you will lose 30%\n",
    "of the total obtained points."
   ]
  },
  {
   "cell_type": "markdown",
   "metadata": {},
   "source": [
    "## Binary Classification using MLPClassifier"
   ]
  },
  {
   "cell_type": "markdown",
   "metadata": {},
   "source": [
    "#### 11. [Extra Credit for 478 & mandatory for 878] Using the MLPClassifier perform  binary classification on the handwritten digits dataset to recognize the digits “5” and “not-5”. Report steps (9) and (10). [30 pts] "
   ]
  },
  {
   "cell_type": "code",
   "execution_count": null,
   "metadata": {},
   "outputs": [],
   "source": []
  },
  {
   "cell_type": "markdown",
   "metadata": {},
   "source": [
    "#### 12. [Extra Credit for both 478 & 878] Implement a Multi-Layer Perceptron regressor (a MLPRegressor class) with a single hidden layer.  [20 pts]\n",
    "The model implements the backpropagation algorithm. To optimize the process of updating\n",
    "the weight matrices, it uses the Stochastic Gradient Descent (SGD) algorithm.\n",
    "Report steps (9) and (10). Use the red wine quality dataset from:\n",
    "http://archive.ics.uci.edu/ml/datasets/Wine+Quality\n",
    " "
   ]
  },
  {
   "cell_type": "code",
   "execution_count": null,
   "metadata": {},
   "outputs": [],
   "source": []
  }
 ],
 "metadata": {
  "kernelspec": {
   "display_name": "Python 3",
   "language": "python",
   "name": "python3"
  },
  "language_info": {
   "codemirror_mode": {
    "name": "ipython",
    "version": 3
   },
   "file_extension": ".py",
   "mimetype": "text/x-python",
   "name": "python",
   "nbconvert_exporter": "python",
   "pygments_lexer": "ipython3",
   "version": "3.7.3"
  }
 },
 "nbformat": 4,
 "nbformat_minor": 2
}
