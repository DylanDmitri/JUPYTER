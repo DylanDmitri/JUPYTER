{
 "cells": [
  {
   "cell_type": "code",
   "execution_count": 2,
   "metadata": {},
   "outputs": [],
   "source": [
    "# states\n",
    "# each state transfer to two others: on 0 or on 1\n",
    "# each transfer has an output\n",
    "\n",
    "def stringify(a):\n",
    "    return ''.join([str(i) for i in a])\n",
    "\n",
    "class FSM_Mealy:\n",
    "    def __init__(self, data):\n",
    "        \"\"\"\n",
    "        data has many rows each\n",
    "        (transfer_on_0, out_on_0), (transfer_on_1, output_on_1)\n",
    "        \"\"\"\n",
    "        self.data = data\n",
    "        \n",
    "    def run(self, sequence):\n",
    "        state = 0\n",
    "        sequence = [int(c) for c in sequence]\n",
    "        result = []\n",
    "        \n",
    "        for c in sequence:\n",
    "            state, output = self.data[state][c]\n",
    "            result.append(output)\n",
    "        \n",
    "        return stringify(result)\n",
    "    \n",
    "\n",
    "class SequenceDetector:\n",
    "    def __init__(self, targets):\n",
    "        self.t = targets\n",
    "        \n",
    "    def run(self, sequence):\n",
    "        result = []\n",
    "        \n",
    "        for i in range(1, 1+len(sequence)):\n",
    "            for t in self.t:\n",
    "                if i < len(t):\n",
    "                    continue\n",
    "                \n",
    "                if sequence[i-len(t):i] == t:\n",
    "                    result.append(1)\n",
    "                    break\n",
    "            else:\n",
    "                result.append(0)\n",
    "        \n",
    "        return stringify(result)\n",
    "        \n",
    "\n",
    "expected = SequenceDetector(['1011', '1101'])\n",
    "# expected = SequenceDetector(['1011'])\n",
    "        \n",
    "test = FSM_Mealy([\n",
    "    ((0,0), (1,0)), # 0: -\n",
    "    ((2,0), (4,0)), # 1: 1\n",
    "    ((0,0), (3,0)), # 2: 10\n",
    "    ((2,0), (4,1)), # 3: 101\n",
    "    \n",
    "    ((5,0), (4,0)), # 4: 11\n",
    "    ((0,0), (3,1)), # 5: 110\n",
    "])\n",
    "\n",
    "test_only_last_bit_overlap = FSM_Mealy([\n",
    "    ((0,0), (1,0)), # 0: -\n",
    "    ((2,0), (4,0)), # 1: 1\n",
    "    ((0,0), (3,0)), # 2: 10\n",
    "    ((2,0), (1,1)), # 3: 101\n",
    "    \n",
    "    ((5,0), (4,0)), # 4: 11\n",
    "    ((0,0), (1,1)), # 5: 110\n",
    "])\n",
    "\n"
   ]
  },
  {
   "cell_type": "code",
   "execution_count": 3,
   "metadata": {},
   "outputs": [
    {
     "name": "stdout",
     "output_type": "stream",
     "text": [
      "all good!\n"
     ]
    }
   ],
   "source": [
    "import numpy as np\n",
    "\n",
    "def generate_input(length):\n",
    "    return stringify(np.random.randint(0, 2, length))\n",
    "\n",
    "def check(model1, model2):\n",
    "    for trial in range(20):\n",
    "        s = generate_input(50)\n",
    "        if model1.run(s) != model2.run(s):\n",
    "            print('error')\n",
    "            print(s, ' -- input')\n",
    "            print(model1.run(s), ' -- model1')\n",
    "            print(model2.run(s), ' -- model2')\n",
    "            break\n",
    "    else:\n",
    "        print('all good!')\n",
    "        \n",
    "def check_auto(model1, model2):\n",
    "    for trial in range(50):\n",
    "        s = generate_input(20)\n",
    "        if model1.run(s) != model2.run(s):\n",
    "            return False\n",
    "    return True\n",
    "\n",
    "check(test, expected)"
   ]
  },
  {
   "cell_type": "code",
   "execution_count": 14,
   "metadata": {},
   "outputs": [
    {
     "name": "stdout",
     "output_type": "stream",
     "text": [
      "100.00%\n",
      "200.00%\n",
      "300.00%\n",
      "400.00%\n",
      "500.00%\n",
      "600.00%\n",
      "700.00%\n",
      "800.00%\n",
      "900.00%\n",
      "1000.00%\n",
      "1100.00%\n",
      "1200.00%\n",
      "1300.00%\n",
      "1400.00%\n",
      "1500.00%\n",
      "1600.00%\n",
      "1700.00%\n",
      "1800.00%\n",
      "1900.00%\n",
      "2000.00%\n",
      "2100.00%\n",
      "2200.00%\n",
      "2300.00%\n",
      "2400.00%\n",
      "2500.00%\n",
      "2600.00%\n",
      "2700.00%\n"
     ]
    },
    {
     "ename": "KeyboardInterrupt",
     "evalue": "",
     "output_type": "error",
     "traceback": [
      "\u001b[1;31m---------------------------------------------------------------------------\u001b[0m",
      "\u001b[1;31mKeyboardInterrupt\u001b[0m                         Traceback (most recent call last)",
      "\u001b[1;32m<ipython-input-14-40c26115111b>\u001b[0m in \u001b[0;36m<module>\u001b[1;34m\u001b[0m\n\u001b[0;32m     21\u001b[0m         ))\n\u001b[0;32m     22\u001b[0m \u001b[1;33m\u001b[0m\u001b[0m\n\u001b[1;32m---> 23\u001b[1;33m         \u001b[0mok\u001b[0m \u001b[1;33m=\u001b[0m \u001b[0mcheck_auto\u001b[0m\u001b[1;33m(\u001b[0m\u001b[0mFSM_Mealy\u001b[0m\u001b[1;33m(\u001b[0m\u001b[0mgrid\u001b[0m\u001b[1;33m)\u001b[0m\u001b[1;33m,\u001b[0m \u001b[0mexpected\u001b[0m\u001b[1;33m)\u001b[0m\u001b[1;33m\u001b[0m\u001b[1;33m\u001b[0m\u001b[0m\n\u001b[0m\u001b[0;32m     24\u001b[0m         \u001b[1;32mif\u001b[0m \u001b[0mok\u001b[0m\u001b[1;33m:\u001b[0m\u001b[1;33m\u001b[0m\u001b[1;33m\u001b[0m\u001b[0m\n\u001b[0;32m     25\u001b[0m             \u001b[0mprint\u001b[0m\u001b[1;33m(\u001b[0m\u001b[0mgrid\u001b[0m\u001b[1;33m)\u001b[0m\u001b[1;33m\u001b[0m\u001b[1;33m\u001b[0m\u001b[0m\n",
      "\u001b[1;32m<ipython-input-3-31ccf662a3e3>\u001b[0m in \u001b[0;36mcheck_auto\u001b[1;34m(model1, model2)\u001b[0m\n\u001b[0;32m     18\u001b[0m \u001b[1;32mdef\u001b[0m \u001b[0mcheck_auto\u001b[0m\u001b[1;33m(\u001b[0m\u001b[0mmodel1\u001b[0m\u001b[1;33m,\u001b[0m \u001b[0mmodel2\u001b[0m\u001b[1;33m)\u001b[0m\u001b[1;33m:\u001b[0m\u001b[1;33m\u001b[0m\u001b[1;33m\u001b[0m\u001b[0m\n\u001b[0;32m     19\u001b[0m     \u001b[1;32mfor\u001b[0m \u001b[0mtrial\u001b[0m \u001b[1;32min\u001b[0m \u001b[0mrange\u001b[0m\u001b[1;33m(\u001b[0m\u001b[1;36m50\u001b[0m\u001b[1;33m)\u001b[0m\u001b[1;33m:\u001b[0m\u001b[1;33m\u001b[0m\u001b[1;33m\u001b[0m\u001b[0m\n\u001b[1;32m---> 20\u001b[1;33m         \u001b[0ms\u001b[0m \u001b[1;33m=\u001b[0m \u001b[0mgenerate_input\u001b[0m\u001b[1;33m(\u001b[0m\u001b[1;36m20\u001b[0m\u001b[1;33m)\u001b[0m\u001b[1;33m\u001b[0m\u001b[1;33m\u001b[0m\u001b[0m\n\u001b[0m\u001b[0;32m     21\u001b[0m         \u001b[1;32mif\u001b[0m \u001b[0mmodel1\u001b[0m\u001b[1;33m.\u001b[0m\u001b[0mrun\u001b[0m\u001b[1;33m(\u001b[0m\u001b[0ms\u001b[0m\u001b[1;33m)\u001b[0m \u001b[1;33m!=\u001b[0m \u001b[0mmodel2\u001b[0m\u001b[1;33m.\u001b[0m\u001b[0mrun\u001b[0m\u001b[1;33m(\u001b[0m\u001b[0ms\u001b[0m\u001b[1;33m)\u001b[0m\u001b[1;33m:\u001b[0m\u001b[1;33m\u001b[0m\u001b[1;33m\u001b[0m\u001b[0m\n\u001b[0;32m     22\u001b[0m             \u001b[1;32mreturn\u001b[0m \u001b[1;32mFalse\u001b[0m\u001b[1;33m\u001b[0m\u001b[1;33m\u001b[0m\u001b[0m\n",
      "\u001b[1;32m<ipython-input-3-31ccf662a3e3>\u001b[0m in \u001b[0;36mgenerate_input\u001b[1;34m(length)\u001b[0m\n\u001b[0;32m      2\u001b[0m \u001b[1;33m\u001b[0m\u001b[0m\n\u001b[0;32m      3\u001b[0m \u001b[1;32mdef\u001b[0m \u001b[0mgenerate_input\u001b[0m\u001b[1;33m(\u001b[0m\u001b[0mlength\u001b[0m\u001b[1;33m)\u001b[0m\u001b[1;33m:\u001b[0m\u001b[1;33m\u001b[0m\u001b[1;33m\u001b[0m\u001b[0m\n\u001b[1;32m----> 4\u001b[1;33m     \u001b[1;32mreturn\u001b[0m \u001b[0mstringify\u001b[0m\u001b[1;33m(\u001b[0m\u001b[0mnp\u001b[0m\u001b[1;33m.\u001b[0m\u001b[0mrandom\u001b[0m\u001b[1;33m.\u001b[0m\u001b[0mrandint\u001b[0m\u001b[1;33m(\u001b[0m\u001b[1;36m0\u001b[0m\u001b[1;33m,\u001b[0m \u001b[1;36m2\u001b[0m\u001b[1;33m,\u001b[0m \u001b[0mlength\u001b[0m\u001b[1;33m)\u001b[0m\u001b[1;33m)\u001b[0m\u001b[1;33m\u001b[0m\u001b[1;33m\u001b[0m\u001b[0m\n\u001b[0m\u001b[0;32m      5\u001b[0m \u001b[1;33m\u001b[0m\u001b[0m\n\u001b[0;32m      6\u001b[0m \u001b[1;32mdef\u001b[0m \u001b[0mcheck\u001b[0m\u001b[1;33m(\u001b[0m\u001b[0mmodel1\u001b[0m\u001b[1;33m,\u001b[0m \u001b[0mmodel2\u001b[0m\u001b[1;33m)\u001b[0m\u001b[1;33m:\u001b[0m\u001b[1;33m\u001b[0m\u001b[1;33m\u001b[0m\u001b[0m\n",
      "\u001b[1;31mKeyboardInterrupt\u001b[0m: "
     ]
    }
   ],
   "source": [
    "# four numbers per row, 4 rows\n",
    "# sixteen numbers\n",
    "\n",
    "# 8 numbers are links, need to be 0,1,2,3\n",
    "# 8 numbers are outputs either 0 or 1\n",
    "\n",
    "from itertools import product\n",
    "\n",
    "expected = test_only_last_bit_overlap\n",
    "\n",
    "N = 5\n",
    "nodes = tuple(range(N)) # = (0,1,2,3)\n",
    "outs = (0,1)\n",
    "\n",
    "tries = 0\n",
    "for n in product(*(N*2)*[nodes]):\n",
    "    for o in product(*(N*2)*[outs]):\n",
    "        grid = tuple((\n",
    "            ((n[i*2], o[i*2]), (n[i*2+1], o[i*2+1]))\n",
    "            for i in range(N)\n",
    "        ))\n",
    "        \n",
    "        ok = check_auto(FSM_Mealy(grid), expected)\n",
    "        if ok: \n",
    "            print(grid)\n",
    "        \n",
    "        tries += 1\n",
    "        if not tries%16777216:\n",
    "            print('{:.2f}%'.format(tries/167772.16))\n",
    "\n",
    "print('100% !!')\n"
   ]
  },
  {
   "cell_type": "code",
   "execution_count": 5,
   "metadata": {},
   "outputs": [
    {
     "data": {
      "text/plain": [
       "16777216"
      ]
     },
     "execution_count": 5,
     "metadata": {},
     "output_type": "execute_result"
    }
   ],
   "source": [
    "4**8 * 2**8"
   ]
  },
  {
   "cell_type": "code",
   "execution_count": 8,
   "metadata": {},
   "outputs": [
    {
     "data": {
      "text/plain": [
       "596.0464477539062"
      ]
     },
     "execution_count": 8,
     "metadata": {},
     "output_type": "execute_result"
    }
   ],
   "source": [
    "(5**10 * 2**10) / (16777216)"
   ]
  },
  {
   "cell_type": "code",
   "execution_count": 15,
   "metadata": {},
   "outputs": [
    {
     "data": {
      "text/plain": [
       "(('a', 'a', 'a'),\n",
       " ('a', 'a', 'b'),\n",
       " ('a', 'a', 'b'),\n",
       " ('a', 'a', 'b'),\n",
       " ('a', 'a', 'b'),\n",
       " ('a', 'b', 'b'),\n",
       " ('a', 'a', 'b'),\n",
       " ('a', 'a', 'b'),\n",
       " ('a', 'b', 'b'),\n",
       " ('a', 'b', 'b'))"
      ]
     },
     "execution_count": 15,
     "metadata": {},
     "output_type": "execute_result"
    }
   ],
   "source": [
    "from itertools import combinations\n",
    "\n",
    "tuple(combinations('aaabb', 3))"
   ]
  },
  {
   "cell_type": "code",
   "execution_count": 22,
   "metadata": {},
   "outputs": [
    {
     "name": "stdout",
     "output_type": "stream",
     "text": [
      "force x 0; force clk 0; run 50; force clk 1; run 50\n",
      "force x 0; force clk 0; run 50; force clk 1; run 50\n",
      "force x 1; force clk 0; run 50; force clk 1; run 50\n",
      "force x 1; force clk 0; run 50; force clk 1; run 50\n",
      "force x 0; force clk 0; run 50; force clk 1; run 50\n",
      "force x 1; force clk 0; run 50; force clk 1; run 50\n",
      "force x 1; force clk 0; run 50; force clk 1; run 50\n",
      "force x 0; force clk 0; run 50; force clk 1; run 50\n",
      "force x 1; force clk 0; run 50; force clk 1; run 50\n",
      "force x 0; force clk 0; run 50; force clk 1; run 50\n",
      "force x 0; force clk 0; run 50; force clk 1; run 50\n",
      "force x 1; force clk 0; run 50; force clk 1; run 50\n",
      "force x 0; force clk 0; run 50; force clk 1; run 50\n",
      "force x 1; force clk 0; run 50; force clk 1; run 50\n",
      "force x 1; force clk 0; run 50; force clk 1; run 50\n"
     ]
    }
   ],
   "source": [
    "def script_for(seq):\n",
    "    for bit in seq:\n",
    "        print('; '.join((\n",
    "            f'force x {bit}',\n",
    "            'force clk 0',\n",
    "            'run 50',\n",
    "            'force clk 1',\n",
    "            'run 50'\n",
    "        )))\n",
    "        \n",
    "s = '110100110111011'\n",
    "s = '001101101001011'\n",
    "script_for(s)"
   ]
  },
  {
   "cell_type": "code",
   "execution_count": 21,
   "metadata": {},
   "outputs": [
    {
     "data": {
      "text/plain": [
       "'000100000100010'"
      ]
     },
     "execution_count": 21,
     "metadata": {},
     "output_type": "execute_result"
    }
   ],
   "source": [
    "test_only_last_bit_overlap.run(s)"
   ]
  },
  {
   "cell_type": "code",
   "execution_count": null,
   "metadata": {},
   "outputs": [],
   "source": []
  },
  {
   "cell_type": "code",
   "execution_count": null,
   "metadata": {},
   "outputs": [],
   "source": []
  },
  {
   "cell_type": "code",
   "execution_count": null,
   "metadata": {},
   "outputs": [],
   "source": []
  },
  {
   "cell_type": "code",
   "execution_count": null,
   "metadata": {},
   "outputs": [],
   "source": []
  },
  {
   "cell_type": "code",
   "execution_count": null,
   "metadata": {},
   "outputs": [],
   "source": []
  }
 ],
 "metadata": {
  "kernelspec": {
   "display_name": "Python 3",
   "language": "python",
   "name": "python3"
  },
  "language_info": {
   "codemirror_mode": {
    "name": "ipython",
    "version": 3
   },
   "file_extension": ".py",
   "mimetype": "text/x-python",
   "name": "python",
   "nbconvert_exporter": "python",
   "pygments_lexer": "ipython3",
   "version": "3.7.3"
  }
 },
 "nbformat": 4,
 "nbformat_minor": 2
}
