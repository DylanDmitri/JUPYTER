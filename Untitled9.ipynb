{
 "cells": [
  {
   "cell_type": "code",
   "execution_count": 3,
   "metadata": {},
   "outputs": [
    {
     "name": "stdout",
     "output_type": "stream",
     "text": [
      "hi\n"
     ]
    }
   ],
   "source": [
    "with open('Untitled1.ipynb') as one, open('Untitled2.ipynb') as two:\n",
    "    print('hi')"
   ]
  },
  {
   "cell_type": "code",
   "execution_count": 5,
   "metadata": {},
   "outputs": [
    {
     "ename": "AttributeError",
     "evalue": "__enter__",
     "output_type": "error",
     "traceback": [
      "\u001b[1;31m---------------------------------------------------------------------------\u001b[0m",
      "\u001b[1;31mAttributeError\u001b[0m                            Traceback (most recent call last)",
      "\u001b[1;32m<ipython-input-5-4b15d6e41640>\u001b[0m in \u001b[0;36m<module>\u001b[1;34m\u001b[0m\n\u001b[0;32m      1\u001b[0m \u001b[0mfs\u001b[0m \u001b[1;33m=\u001b[0m \u001b[0mopen\u001b[0m\u001b[1;33m(\u001b[0m\u001b[1;34m'Untitled1.ipynb'\u001b[0m\u001b[1;33m)\u001b[0m\u001b[1;33m,\u001b[0m \u001b[0mopen\u001b[0m\u001b[1;33m(\u001b[0m\u001b[1;34m'Untitled2.ipynb'\u001b[0m\u001b[1;33m)\u001b[0m\u001b[1;33m\u001b[0m\u001b[1;33m\u001b[0m\u001b[0m\n\u001b[1;32m----> 2\u001b[1;33m \u001b[1;32mwith\u001b[0m \u001b[0mfs\u001b[0m \u001b[1;32mas\u001b[0m \u001b[1;33m(\u001b[0m\u001b[0mone\u001b[0m\u001b[1;33m,\u001b[0m \u001b[0mtwo\u001b[0m\u001b[1;33m)\u001b[0m\u001b[1;33m:\u001b[0m\u001b[1;33m\u001b[0m\u001b[1;33m\u001b[0m\u001b[0m\n\u001b[0m\u001b[0;32m      3\u001b[0m     \u001b[0mprint\u001b[0m\u001b[1;33m(\u001b[0m\u001b[1;34m'hi'\u001b[0m\u001b[1;33m)\u001b[0m\u001b[1;33m\u001b[0m\u001b[1;33m\u001b[0m\u001b[0m\n",
      "\u001b[1;31mAttributeError\u001b[0m: __enter__"
     ]
    }
   ],
   "source": [
    "fs = open('Untitled1.ipynb'), open('Untitled2.ipynb')\n",
    "with fs as (one, two):\n",
    "    print('hi')"
   ]
  },
  {
   "cell_type": "code",
   "execution_count": 56,
   "metadata": {},
   "outputs": [],
   "source": [
    "import random\n",
    "import matplotlib.pyplot as plt\n",
    "import seaborn as sns\n",
    "from random import randint, shuffle\n",
    "from collections import defaultdict\n",
    "\n",
    "class CardStore(dict):\n",
    "    def __getitem__(self, key):\n",
    "        return super().__getitem__(key)()\n",
    "new = CardStore()\n",
    "class Card:\n",
    "    def __init_subclass__(cls):\n",
    "        new[cls.__name__] = cls\n",
    "    \n",
    "class Strike(Card):\n",
    "    def __init__(self):       \n",
    "        self.energy = 1\n",
    "        \n",
    "    def cast(self, player, enemy_group):\n",
    "        player.attack(player.choice(enemy_group), damage=6)\n",
    "            \n",
    "            \n",
    "class Defend(Card):\n",
    "    def __init__(self):\n",
    "        self.energy = 1\n",
    "        \n",
    "    def cast(self, player, enemy_group):\n",
    "        player.block += 6\n",
    "        \n",
    "        \n",
    "class Bash(Card):\n",
    "    def __init__(self):\n",
    "        self.energy = 2\n",
    "        \n",
    "    def cast(self, player, enemy_group):\n",
    "        target = player.choice(enemy_group)\n",
    "        player.attack(target, damage=8)\n",
    "        target.effects['vulnerable'] += 2\n",
    "    "
   ]
  },
  {
   "cell_type": "code",
   "execution_count": 4,
   "metadata": {},
   "outputs": [],
   "source": [
    "class Unit:\n",
    "    def __init__(self):\n",
    "        self.hp = NotImplemented\n",
    "        self.block = 0\n",
    "        self.effects = defaultdict(lambda: 0)\n",
    "        \n",
    "        \n",
    "    def attack(self, target, damage):\n",
    "        damage += self.effects.get('strength', 0)\n",
    "        \n",
    "        if target.effects.get('vulnerable', 0) > 0:\n",
    "            damage = int(damage*1.5)\n",
    "        \n",
    "        block = min(damage, target.block)\n",
    "        target.block -= block\n",
    "        damage -= block\n",
    "        \n",
    "        target.hp -= damage\n",
    "\n",
    "class Player(Unit):\n",
    "    def __init__(self):\n",
    "        super().__init__()\n",
    "        self.cards = []\n",
    "        \n",
    "        self.hand = []\n",
    "        self.draw_pile = []\n",
    "        self.discard = []\n",
    "    \n",
    "    def begin_battle(self):\n",
    "        self.draw_pile = self.cards[:]\n",
    "        shuffle(self.draw_pile)\n",
    "            \n",
    "    def draw(self):\n",
    "        if len(self.draw_pile) == 0:\n",
    "            self.draw_pile = self.discard\n",
    "            self.discard = []\n",
    "            shuffle(self.draw_pile)\n",
    "        \n",
    "        if len(self.draw_pile) > 0:\n",
    "            self.hand.append(self.draw_pile.pop())\n",
    "    \n",
    "    def turn(self, player, enemy_group):\n",
    "        self.energy = 3\n",
    "        \n",
    "        while len(self.hand) < 5:\n",
    "            self.draw()\n",
    "        \n",
    "        while True:\n",
    "            valid = [card for i,card in enumerate(self.hand) \n",
    "                     if card.energy <= self.energy]\n",
    "            c = self.choice(['End Turn'] + [c for c in self.hand if c.energy <= self.energy])\n",
    "            \n",
    "            if c == 'End Turn':\n",
    "                break\n",
    "                \n",
    "            self.energy -= c.energy\n",
    "            temp = self.hand.pop(self.hand.index(c))\n",
    "            c.cast(self, enemy_group)\n",
    "            self.discard.append(temp)\n",
    "            \n",
    "\n",
    "    \n",
    "class HumanChoices():\n",
    "    def choice(self, options):\n",
    "        if len(options) == 1:\n",
    "            return options[0]\n",
    "        \n",
    "        for i,o in enumerate(options):\n",
    "            print(f'{i} :: {o}')\n",
    "        \n",
    "        while True:\n",
    "            c = input()\n",
    "            if not c.isdigit():\n",
    "                continue\n",
    "            c = int(c)\n",
    "            if c not in range(len(options)):\n",
    "                continue\n",
    "            break\n",
    "        \n",
    "        return options[c]\n",
    "\n",
    "\n",
    "class Ironclad(Player, HumanChoices):\n",
    "    def __init__(self):\n",
    "        super().__init__()\n",
    "        \n",
    "        self.hp = 80\n",
    "        self.cards = 5*[new['Strike']] + 4*[new['Defend']] + [new['Bash']]\n",
    "        \n",
    "        \n",
    "\n",
    "        \n",
    "class Cultist(Unit):\n",
    "    def __init__(self):\n",
    "        super().__init__()\n",
    "        self.hp = randint(48, 54)\n",
    "        self.effects['strength'] = 0\n",
    "        \n",
    "    def act(self, player, enemy_group):\n",
    "        if 'ritual' not in self.effects:\n",
    "            self.effects['ritual'] = 3\n",
    "        else:\n",
    "            self.attack(player, damage=6)\n",
    "            self.effects['strength'] += 3\n",
    "    \n",
    "        \n",
    "# unit\n",
    "# card + target\n",
    "# battle?\n",
    "\n"
   ]
  },
  {
   "cell_type": "code",
   "execution_count": 5,
   "metadata": {},
   "outputs": [],
   "source": []
  },
  {
   "cell_type": "code",
   "execution_count": 63,
   "metadata": {},
   "outputs": [],
   "source": [
    "def trial(algo):\n",
    "    h = Ironclad()\n",
    "    h.choice = algo\n",
    "    c = Cultist()\n",
    "\n",
    "    h.begin_battle()\n",
    "    battle = h, (c,)\n",
    "\n",
    "    while True:\n",
    "\n",
    "        h.turn(*battle)\n",
    "        c.act(*battle)\n",
    "\n",
    "        if h.hp <= 0:\n",
    "            break\n",
    "        if c.hp <= 0:\n",
    "            break\n",
    "\n",
    "    delta = 80 - max(0, h.hp)\n",
    "    return delta\n",
    "\n",
    "def run_experiment(algo, trials):\n",
    "    n = [trial(algo) for _ in range(trials)]\n",
    "\n",
    "    sns.distplot(n, bins=20)\n",
    "    plt.show()\n",
    "    print(sum(n)/len(n), 'avg hp loss')"
   ]
  },
  {
   "cell_type": "code",
   "execution_count": 66,
   "metadata": {},
   "outputs": [
    {
     "name": "stdout",
     "output_type": "stream",
     "text": [
      "-4\n",
      "-4\n",
      "-4\n",
      "-4\n",
      "-4\n",
      "-4\n",
      "-4\n"
     ]
    },
    {
     "name": "stderr",
     "output_type": "stream",
     "text": [
      "C:\\Users\\ddyla\\Anaconda3\\lib\\site-packages\\numpy\\core\\_methods.py:140: RuntimeWarning: Degrees of freedom <= 0 for slice\n",
      "  keepdims=keepdims)\n",
      "C:\\Users\\ddyla\\Anaconda3\\lib\\site-packages\\numpy\\core\\_methods.py:132: RuntimeWarning: invalid value encountered in double_scalars\n",
      "  ret = ret.dtype.type(ret / rcount)\n"
     ]
    },
    {
     "data": {
      "image/png": "[encoded data removed]",
      "text/plain": [
       "<Figure size 432x288 with 1 Axes>"
      ]
     },
     "metadata": {
      "needs_background": "light"
     },
     "output_type": "display_data"
    },
    {
     "name": "stdout",
     "output_type": "stream",
     "text": [
      "80.0 avg hp loss\n"
     ]
    }
   ],
   "source": [
    "def basic_approach(options):\n",
    "    print(h.hp)\n",
    "    return options[0]\n",
    "\n",
    "run_experiment(basic_approach, 1)"
   ]
  }
 ],
 "metadata": {
  "kernelspec": {
   "display_name": "Python 3",
   "language": "python",
   "name": "python3"
  },
  "language_info": {
   "codemirror_mode": {
    "name": "ipython",
    "version": 3
   },
   "file_extension": ".py",
   "mimetype": "text/x-python",
   "name": "python",
   "nbconvert_exporter": "python",
   "pygments_lexer": "ipython3",
   "version": "3.7.3"
  }
 },
 "nbformat": 4,
 "nbformat_minor": 2
}
